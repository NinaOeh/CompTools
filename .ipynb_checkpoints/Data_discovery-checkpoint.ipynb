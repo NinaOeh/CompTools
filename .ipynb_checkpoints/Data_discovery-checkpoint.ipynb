{
 "cells": [
  {
   "cell_type": "markdown",
   "metadata": {
    "cell_id": "6cd958fcd0a5443298ac8c10d8eec733",
    "deepnote_cell_type": "text-cell-h2",
    "formattedRanges": [],
    "is_collapsed": false,
    "pycharm": {
     "name": "#%% md\n"
    },
    "tags": []
   },
   "source": [
    "## Data"
   ]
  },
  {
   "cell_type": "markdown",
   "metadata": {
    "cell_id": "24d9104f88f8415a9d554b460376a805",
    "deepnote_cell_type": "markdown",
    "pycharm": {
     "name": "#%% md\n"
    },
    "tags": []
   },
   "source": [
    "Where does the data come from? -> provide source and background of data"
   ]
  },
  {
   "cell_type": "markdown",
   "metadata": {
    "cell_id": "ccbca39049d84b07b7d9ccd43afe96e9",
    "deepnote_cell_type": "text-cell-h3",
    "formattedRanges": [],
    "is_collapsed": false,
    "pycharm": {
     "name": "#%% md\n"
    },
    "tags": []
   },
   "source": [
    "### Data discovery"
   ]
  },
  {
   "cell_type": "markdown",
   "metadata": {
    "cell_id": "00af2e73d834483ba9cfe1d4528a3104",
    "deepnote_cell_type": "markdown",
    "pycharm": {
     "name": "#%% md\n"
    },
    "tags": []
   },
   "source": [
    "Before the analysis and preprocessing of the data, the data is $/textit{discovered}$ in order to obtain an overview over what data is available at all."
   ]
  },
  {
   "cell_type": "markdown",
   "metadata": {
    "cell_id": "9b1c03d677484482be767cd8ccb3e450",
    "deepnote_cell_type": "markdown",
    "pycharm": {
     "name": "#%% md\n"
    },
    "tags": []
   },
   "source": [
    "Integration of necessary libraries and datasets into the notebook."
   ]
  },
  {
   "cell_type": "code",
   "execution_count": null,
   "metadata": {
    "collapsed": false,
    "jupyter": {
     "outputs_hidden": false
    },
    "pycharm": {
     "name": "#%%\n"
    }
   },
   "outputs": [],
   "source": [
    "!pip3 install pyspark\n",
    "!pip3 install pandas\n",
    "!pip3 install matplotlib\n",
    "!pip3 install -U scikit-learn\n",
    "!pip3 install implicit"
   ]
  },
  {
   "cell_type": "code",
   "execution_count": 1,
   "metadata": {
    "cell_id": "a7c26160915d44d5a9315c3d703e94f3",
    "deepnote_cell_type": "code",
    "deepnote_to_be_reexecuted": false,
    "execution_millis": 1125,
    "execution_start": 1667316404873,
    "pycharm": {
     "name": "#%%\n"
    },
    "source_hash": "f86d1653",
    "tags": []
   },
   "outputs": [],
   "source": [
    "#!ls /datasets/computational-tools-for-dataanalysis-data\n",
    "import pandas as pd\n",
    "import matplotlib.pyplot as plt\n",
    "import numpy as np\n",
    "import scipy.spatial.distance as distance\n",
    "from scipy import sparse\n",
    "from sklearn.datasets import make_sparse_spd_matrix\n",
    "from sklearn.preprocessing import LabelEncoder\n",
    "from tqdm import tqdm\n",
    "import warnings\n",
    "warnings.filterwarnings(\"ignore\", category=RuntimeWarning)\n",
    "import pickle"
   ]
  },
  {
   "cell_type": "markdown",
   "metadata": {
    "cell_id": "70aa48eee11f4f30bcdc87eb21a86af3",
    "deepnote_cell_type": "markdown",
    "pycharm": {
     "name": "#%% md\n"
    },
    "tags": []
   },
   "source": [
    "#### Review data"
   ]
  },
  {
   "cell_type": "markdown",
   "metadata": {
    "cell_id": "3a31071d754842bfa7e869470c1e1311",
    "deepnote_cell_type": "markdown",
    "pycharm": {
     "name": "#%% md\n"
    },
    "tags": []
   },
   "source": [
    "The first dataset contains the review data of the books, matching a user with a book and providing a rating that the user gave the book (from 1-5), as well a review description. The dataset contains 3 million book ratings."
   ]
  },
  {
   "cell_type": "code",
   "execution_count": 2,
   "metadata": {
    "cell_id": "2121cf658b1749f2831a4ca3b12879e0",
    "deepnote_cell_type": "code",
    "deepnote_to_be_reexecuted": false,
    "execution_millis": 121281,
    "execution_start": 1667316444593,
    "pycharm": {
     "name": "#%%\n"
    },
    "source_hash": "6d99dbaa",
    "tags": []
   },
   "outputs": [
    {
     "data": {
      "text/html": [
       "<div>\n",
       "<style scoped>\n",
       "    .dataframe tbody tr th:only-of-type {\n",
       "        vertical-align: middle;\n",
       "    }\n",
       "\n",
       "    .dataframe tbody tr th {\n",
       "        vertical-align: top;\n",
       "    }\n",
       "\n",
       "    .dataframe thead th {\n",
       "        text-align: right;\n",
       "    }\n",
       "</style>\n",
       "<table border=\"1\" class=\"dataframe\">\n",
       "  <thead>\n",
       "    <tr style=\"text-align: right;\">\n",
       "      <th></th>\n",
       "      <th>Id</th>\n",
       "      <th>Title</th>\n",
       "      <th>Price</th>\n",
       "      <th>User_id</th>\n",
       "      <th>profileName</th>\n",
       "      <th>review/helpfulness</th>\n",
       "      <th>review/score</th>\n",
       "      <th>review/time</th>\n",
       "      <th>review/summary</th>\n",
       "      <th>review/text</th>\n",
       "    </tr>\n",
       "  </thead>\n",
       "  <tbody>\n",
       "    <tr>\n",
       "      <th>0</th>\n",
       "      <td>1882931173</td>\n",
       "      <td>Its Only Art If Its Well Hung!</td>\n",
       "      <td>NaN</td>\n",
       "      <td>AVCGYZL8FQQTD</td>\n",
       "      <td>Jim of Oz \"jim-of-oz\"</td>\n",
       "      <td>7/7</td>\n",
       "      <td>4.0</td>\n",
       "      <td>940636800</td>\n",
       "      <td>Nice collection of Julie Strain images</td>\n",
       "      <td>This is only for Julie Strain fans. It's a col...</td>\n",
       "    </tr>\n",
       "    <tr>\n",
       "      <th>1</th>\n",
       "      <td>0826414346</td>\n",
       "      <td>Dr. Seuss: American Icon</td>\n",
       "      <td>NaN</td>\n",
       "      <td>A30TK6U7DNS82R</td>\n",
       "      <td>Kevin Killian</td>\n",
       "      <td>10/10</td>\n",
       "      <td>5.0</td>\n",
       "      <td>1095724800</td>\n",
       "      <td>Really Enjoyed It</td>\n",
       "      <td>I don't care much for Dr. Seuss but after read...</td>\n",
       "    </tr>\n",
       "    <tr>\n",
       "      <th>2</th>\n",
       "      <td>0826414346</td>\n",
       "      <td>Dr. Seuss: American Icon</td>\n",
       "      <td>NaN</td>\n",
       "      <td>A3UH4UZ4RSVO82</td>\n",
       "      <td>John Granger</td>\n",
       "      <td>10/11</td>\n",
       "      <td>5.0</td>\n",
       "      <td>1078790400</td>\n",
       "      <td>Essential for every personal and Public Library</td>\n",
       "      <td>If people become the books they read and if \"t...</td>\n",
       "    </tr>\n",
       "    <tr>\n",
       "      <th>3</th>\n",
       "      <td>0826414346</td>\n",
       "      <td>Dr. Seuss: American Icon</td>\n",
       "      <td>NaN</td>\n",
       "      <td>A2MVUWT453QH61</td>\n",
       "      <td>Roy E. Perry \"amateur philosopher\"</td>\n",
       "      <td>7/7</td>\n",
       "      <td>4.0</td>\n",
       "      <td>1090713600</td>\n",
       "      <td>Phlip Nel gives silly Seuss a serious treatment</td>\n",
       "      <td>Theodore Seuss Geisel (1904-1991), aka &amp;quot;D...</td>\n",
       "    </tr>\n",
       "    <tr>\n",
       "      <th>4</th>\n",
       "      <td>0826414346</td>\n",
       "      <td>Dr. Seuss: American Icon</td>\n",
       "      <td>NaN</td>\n",
       "      <td>A22X4XUPKF66MR</td>\n",
       "      <td>D. H. Richards \"ninthwavestore\"</td>\n",
       "      <td>3/3</td>\n",
       "      <td>4.0</td>\n",
       "      <td>1107993600</td>\n",
       "      <td>Good academic overview</td>\n",
       "      <td>Philip Nel - Dr. Seuss: American IconThis is b...</td>\n",
       "    </tr>\n",
       "  </tbody>\n",
       "</table>\n",
       "</div>"
      ],
      "text/plain": [
       "           Id                           Title  Price         User_id  \\\n",
       "0  1882931173  Its Only Art If Its Well Hung!    NaN   AVCGYZL8FQQTD   \n",
       "1  0826414346        Dr. Seuss: American Icon    NaN  A30TK6U7DNS82R   \n",
       "2  0826414346        Dr. Seuss: American Icon    NaN  A3UH4UZ4RSVO82   \n",
       "3  0826414346        Dr. Seuss: American Icon    NaN  A2MVUWT453QH61   \n",
       "4  0826414346        Dr. Seuss: American Icon    NaN  A22X4XUPKF66MR   \n",
       "\n",
       "                          profileName review/helpfulness  review/score  \\\n",
       "0               Jim of Oz \"jim-of-oz\"                7/7           4.0   \n",
       "1                       Kevin Killian              10/10           5.0   \n",
       "2                        John Granger              10/11           5.0   \n",
       "3  Roy E. Perry \"amateur philosopher\"                7/7           4.0   \n",
       "4     D. H. Richards \"ninthwavestore\"                3/3           4.0   \n",
       "\n",
       "   review/time                                   review/summary  \\\n",
       "0    940636800           Nice collection of Julie Strain images   \n",
       "1   1095724800                                Really Enjoyed It   \n",
       "2   1078790400  Essential for every personal and Public Library   \n",
       "3   1090713600  Phlip Nel gives silly Seuss a serious treatment   \n",
       "4   1107993600                           Good academic overview   \n",
       "\n",
       "                                         review/text  \n",
       "0  This is only for Julie Strain fans. It's a col...  \n",
       "1  I don't care much for Dr. Seuss but after read...  \n",
       "2  If people become the books they read and if \"t...  \n",
       "3  Theodore Seuss Geisel (1904-1991), aka &quot;D...  \n",
       "4  Philip Nel - Dr. Seuss: American IconThis is b...  "
      ]
     },
     "execution_count": 2,
     "metadata": {},
     "output_type": "execute_result"
    }
   ],
   "source": [
    "#review_data = pd.read_csv(\"/datasets/computational-tools-for-dataanalysis-data/Books_rating.csv\")\n",
    "review_data = pd.read_csv(\"C:/Users/paulw/OneDrive - Danmarks Tekniske Universitet/02807 - Computational Tools for Data Science/project/Books_rating.csv\")\n",
    "review_data.head()"
   ]
  },
  {
   "cell_type": "code",
   "execution_count": 3,
   "metadata": {
    "cell_id": "5ef40b11d7f64ebd89de4a885685da79",
    "deepnote_cell_type": "code",
    "deepnote_to_be_reexecuted": false,
    "execution_millis": 209,
    "execution_start": 1667316266774,
    "pycharm": {
     "name": "#%%\n"
    },
    "source_hash": "e8bb6bb2",
    "tags": []
   },
   "outputs": [
    {
     "name": "stdout",
     "output_type": "stream",
     "text": [
      "(3000000, 10)\n",
      "Index(['Id', 'Title', 'Price', 'User_id', 'profileName', 'review/helpfulness',\n",
      "       'review/score', 'review/time', 'review/summary', 'review/text'],\n",
      "      dtype='object')\n"
     ]
    }
   ],
   "source": [
    "#shape of the review dataset\n",
    "print(review_data.shape)\n",
    "#columns available in the review dataset\n",
    "print(review_data.columns)\n",
    "#remove unnecessary columns from dataset\n",
    "keep_columns = ['Id', 'Title', 'User_id', 'review/score', 'review/text']\n",
    "review_data = review_data[keep_columns]"
   ]
  },
  {
   "cell_type": "code",
   "execution_count": 4,
   "metadata": {
    "cell_id": "ef2977dea52b4e8eb93aa22c6305c7d5",
    "deepnote_cell_type": "code",
    "deepnote_to_be_reexecuted": false,
    "execution_millis": 7226,
    "execution_start": 1667316267035,
    "pycharm": {
     "name": "#%%\n"
    },
    "source_hash": "4582e2ff",
    "tags": []
   },
   "outputs": [
    {
     "name": "stdout",
     "output_type": "stream",
     "text": [
      "Number of individual users, 1008972\n",
      "Maximal number of reviews that a single user submitted, 5795\n",
      "Number of people that have rated more than 1000 books, 10\n",
      "Number of people that have rated more than 200 books, 336\n",
      "Number of people that have rated only one book, 693716\n",
      "Number of people that have rated more than 5 books, 82795\n"
     ]
    },
    {
     "name": "stderr",
     "output_type": "stream",
     "text": [
      "C:\\Users\\paulw\\AppData\\Local\\Temp\\ipykernel_282884\\866211739.py:22: UserWarning: Matplotlib is currently using module://matplotlib_inline.backend_inline, which is a non-GUI backend, so cannot show the figure.\n",
      "  fig.show()\n"
     ]
    },
    {
     "data": {
      "image/png": "[encoded data removed]",
      "text/plain": [
       "<Figure size 432x288 with 1 Axes>"
      ]
     },
     "metadata": {
      "needs_background": "light"
     },
     "output_type": "display_data"
    }
   ],
   "source": [
    "grouped_reviews = review_data.groupby(['User_id']).count()\n",
    "print(f\"Number of individual users, {grouped_reviews.shape[0]}\")\n",
    "#check the maximal number of books a person has rated\n",
    "print(f\"Maximal number of reviews that a single user submitted, {max(grouped_reviews['Id'])}\")\n",
    "#check how many people have rated more than 1000 books\n",
    "print(f\"Number of people that have rated more than 1000 books, {grouped_reviews[grouped_reviews['Id']>=1000].shape[0]}\")\n",
    "#check how many people have rated more than 200 books\n",
    "print(f\"Number of people that have rated more than 200 books, {grouped_reviews[grouped_reviews['Id']>=200].shape[0]}\")\n",
    "#remove people that have judged more than 1000 books \n",
    "grouped_reviews = grouped_reviews[grouped_reviews['Id']<=1000]\n",
    "review_data=review_data[review_data['User_id'].isin(grouped_reviews.index)]\n",
    "#check number of people that rated only one book\n",
    "print(f\"Number of people that have rated only one book, {grouped_reviews[grouped_reviews['Id']==1].shape[0]}\")\n",
    "#check number of people that rated more than five books\n",
    "print(f\"Number of people that have rated more than 5 books, {grouped_reviews[grouped_reviews['Id']>=5].shape[0]}\")\n",
    "#show the distribution of rated books\n",
    "fig, ax = plt.subplots()\n",
    "ax.hist(grouped_reviews['Id'], log=True, bins=200)\n",
    "ax.set_ylabel('frequency')\n",
    "ax.set_xlabel('ratings per user')\n",
    "ax.set_title('Distribution of user ratings')\n",
    "fig.show()"
   ]
  },
  {
   "cell_type": "markdown",
   "metadata": {
    "cell_id": "7ba2567c1bd44a739d0c5a716da09181",
    "deepnote_cell_type": "markdown",
    "pycharm": {
     "name": "#%% md\n"
    },
    "tags": []
   },
   "source": [
    "The dataset contains 1008972 unique users of which every user has rated 2.97 books in average. However, the majority of the users has only rated one book (68.75%), and only few users (8.21%) have rated more than 5 books. 10 users have rated more than 1000 books. These users were removed from the dataset as outliers, because it is assumed that their rating behaviour will not be valuable to make predictions to for other users."
   ]
  },
  {
   "cell_type": "code",
   "execution_count": 5,
   "metadata": {
    "cell_id": "3b1776d8ec9b4d82b2ee43cb51e0e84c",
    "deepnote_cell_type": "code",
    "deepnote_to_be_reexecuted": false,
    "execution_millis": 2302,
    "execution_start": 1667316274392,
    "pycharm": {
     "name": "#%%\n"
    },
    "source_hash": "f0afaaa3",
    "tags": []
   },
   "outputs": [
    {
     "name": "stdout",
     "output_type": "stream",
     "text": [
      "Number of rated books, 205047\n",
      "Number of books that have been rated once, 69558\n",
      "Book with most ratings is 'The Hobbit' with 18059 ratings.\n"
     ]
    },
    {
     "name": "stderr",
     "output_type": "stream",
     "text": [
      "C:\\Users\\paulw\\AppData\\Local\\Temp\\ipykernel_282884\\4293095678.py:10: UserWarning: Matplotlib is currently using module://matplotlib_inline.backend_inline, which is a non-GUI backend, so cannot show the figure.\n",
      "  fig.show()\n"
     ]
    },
    {
     "data": {
      "image/png": "[encoded data removed]",
      "text/plain": [
       "<Figure size 432x288 with 1 Axes>"
      ]
     },
     "metadata": {
      "needs_background": "light"
     },
     "output_type": "display_data"
    }
   ],
   "source": [
    "grouped_books = review_data.groupby(['Title']).count()\n",
    "print(f\"Number of rated books, {grouped_books.shape[0]}\")\n",
    "print(f\"Number of books that have been rated once, {grouped_books[grouped_books['Id']==1].shape[0]}\")\n",
    "print(f\"Book with most ratings is '{review_data[review_data['Title']==grouped_books[grouped_books['Id']==max(grouped_books['Id'])].index[0]]['Title'].reset_index(drop=True)[0]}' with {max(grouped_books['Id'])} ratings.\")\n",
    "fig, ax = plt.subplots()\n",
    "ax.hist(grouped_books['Id'], log=True, bins=200)\n",
    "ax.set_ylabel('frequency')\n",
    "ax.set_xlabel('ratings per book')\n",
    "ax.set_title('Distribution of book ratings')\n",
    "fig.show()"
   ]
  },
  {
   "cell_type": "markdown",
   "metadata": {
    "cell_id": "40c61daeb86e4a4cb50d4464fab0169a",
    "deepnote_cell_type": "markdown",
    "pycharm": {
     "name": "#%% md\n"
    },
    "tags": []
   },
   "source": [
    "In total 205047 books have been rated, of which 33.92% have been rated once. The book with the most ratings is 'The Hobbit' with 18059 ratings."
   ]
  },
  {
   "cell_type": "code",
   "execution_count": 6,
   "metadata": {
    "cell_id": "15049f70807340c29265a26b894d013b",
    "deepnote_cell_type": "code",
    "deepnote_to_be_reexecuted": false,
    "execution_millis": 1088,
    "execution_start": 1667316276797,
    "pycharm": {
     "name": "#%%\n"
    },
    "source_hash": "b415e973",
    "tags": []
   },
   "outputs": [
    {
     "name": "stdout",
     "output_type": "stream",
     "text": [
      "                 Id                                              Title  \\\n",
      "86547    B000NWU3I4  The Hobbitt, or there and back again; illustra...   \n",
      "86548    B000NWU3I4  The Hobbitt, or there and back again; illustra...   \n",
      "86549    B000NWU3I4  The Hobbitt, or there and back again; illustra...   \n",
      "86550    B000NWU3I4  The Hobbitt, or there and back again; illustra...   \n",
      "86551    B000NWU3I4  The Hobbitt, or there and back again; illustra...   \n",
      "...             ...                                                ...   \n",
      "2978151  B000Q032UY                 The Hobbit or There and Back Again   \n",
      "2978152  B000Q032UY                 The Hobbit or There and Back Again   \n",
      "2978153  B000Q032UY                 The Hobbit or There and Back Again   \n",
      "2978154  B000Q032UY                 The Hobbit or There and Back Again   \n",
      "2978155  B000Q032UY                 The Hobbit or There and Back Again   \n",
      "\n",
      "                User_id  review/score  \\\n",
      "86547     AXX9R9P27CFFS           5.0   \n",
      "86548    A3VKLBHDXSJADC           5.0   \n",
      "86549    A3MZ7U03T9VQA4           5.0   \n",
      "86550    A2YSSBKYXXSM6W           5.0   \n",
      "86551    A317EU0ROFG09T           5.0   \n",
      "...                 ...           ...   \n",
      "2978151  A279AQACCA2L0K           4.0   \n",
      "2978152  A1BHMR3GPOODJR           4.0   \n",
      "2978153  A224BVW6YQS3VF           5.0   \n",
      "2978154   AXAOSQ8N0CM0M           5.0   \n",
      "2978155   A373U8EOPLTMJ           5.0   \n",
      "\n",
      "                                               review/text  \n",
      "86547    Beautiful book. Cover and art are incredible. ...  \n",
      "86548    This book is very reasonably priced. It will b...  \n",
      "86549    I bought the audio CD's about 5 years ago from...  \n",
      "86550    I read this book years ago, but never bought a...  \n",
      "86551    I bought this as a gift for someone and I am t...  \n",
      "...                                                    ...  \n",
      "2978151  The Hobbit is wonderful. It describes a lot. I...  \n",
      "2978152  I like the book, it is easy to read and makes ...  \n",
      "2978153  The Hobbit will always be a classic and this e...  \n",
      "2978154  It is easy to be swept away by the writings of...  \n",
      "2978155  It was a very adventurous book. I plan on read...  \n",
      "\n",
      "[32597 rows x 5 columns]\n"
     ]
    }
   ],
   "source": [
    "print(review_data[review_data['Title'].str.contains('Hobbit',na=False)])"
   ]
  },
  {
   "cell_type": "markdown",
   "metadata": {
    "cell_id": "9c6e94e37aa94620afc5d3c95ea15e1a",
    "deepnote_cell_type": "markdown",
    "pycharm": {
     "name": "#%% md\n"
    },
    "tags": []
   },
   "source": [
    "#### Book data"
   ]
  },
  {
   "cell_type": "markdown",
   "metadata": {
    "cell_id": "3fd1d1666b414b18973dc41b03cacc2c",
    "deepnote_cell_type": "markdown",
    "pycharm": {
     "name": "#%% md\n"
    },
    "tags": []
   },
   "source": [
    "The second dataset contains information about the books themselves. Including the book title and Id, the author a description of the book and a book category. Furthermore, the book dataset contains a column with the average user rating."
   ]
  },
  {
   "cell_type": "code",
   "execution_count": 7,
   "metadata": {
    "cell_id": "511cc70fbdc94ce99e1015aaefae5a3e",
    "deepnote_cell_type": "code",
    "deepnote_to_be_reexecuted": false,
    "execution_millis": 7815,
    "execution_start": 1667316277929,
    "pycharm": {
     "name": "#%%\n"
    },
    "source_hash": "3154b504",
    "tags": []
   },
   "outputs": [
    {
     "data": {
      "text/plain": [
       "<bound method NDFrame.head of                                                     Title  \\\n",
       "0                          Its Only Art If Its Well Hung!   \n",
       "1                                Dr. Seuss: American Icon   \n",
       "2                   Wonderful Worship in Smaller Churches   \n",
       "3                           Whispers of the Wicked Saints   \n",
       "4       Nation Dance: Religion, Identity and Cultural ...   \n",
       "...                                                   ...   \n",
       "212399  The Orphan Of Ellis Island (Time Travel Advent...   \n",
       "212400                            Red Boots for Christmas   \n",
       "212401                                              Mamaw   \n",
       "212402                                  The Autograph Man   \n",
       "212403  Student's Solutions Manual for Johnson/Mowry's...   \n",
       "\n",
       "                                              description  \\\n",
       "0                                                     NaN   \n",
       "1       Philip Nel takes a fascinating look into the k...   \n",
       "2       This resource includes twelve principles in un...   \n",
       "3       Julia Thomas finds her life spinning out of co...   \n",
       "4                                                     NaN   \n",
       "...                                                   ...   \n",
       "212399  During a school trip to Ellis Island, Dominick...   \n",
       "212400  Everyone in the village of Friedensdorf is hap...   \n",
       "212401  Give your Mamaw a useful, beautiful and though...   \n",
       "212402  Alex-Li Tandem sells autographs. His business ...   \n",
       "212403  Discover the many ways mathematics is relevant...   \n",
       "\n",
       "                                        authors  \\\n",
       "0                              ['Julie Strain']   \n",
       "1                                ['Philip Nel']   \n",
       "2                              ['David R. Ray']   \n",
       "3                           ['Veronica Haddon']   \n",
       "4                               ['Edward Long']   \n",
       "...                                         ...   \n",
       "212399                      ['Elvira Woodruff']   \n",
       "212400                                      NaN   \n",
       "212401                    ['Wild Wild Cabbage']   \n",
       "212402                          ['Zadie Smith']   \n",
       "212403  ['David B. Johnson', 'Thomas A. Mowry']   \n",
       "\n",
       "                                                    image  \\\n",
       "0       http://books.google.com/books/content?id=DykPA...   \n",
       "1       http://books.google.com/books/content?id=IjvHQ...   \n",
       "2       http://books.google.com/books/content?id=2tsDA...   \n",
       "3       http://books.google.com/books/content?id=aRSIg...   \n",
       "4                                                     NaN   \n",
       "...                                                   ...   \n",
       "212399  http://books.google.com/books/content?id=J7M-N...   \n",
       "212400  http://books.google.com/books/content?id=3n8k6...   \n",
       "212401                                                NaN   \n",
       "212402  http://books.google.com/books/content?id=JM6YV...   \n",
       "212403  http://books.google.com/books/content?id=dehfP...   \n",
       "\n",
       "                                              previewLink  \\\n",
       "0       http://books.google.nl/books?id=DykPAAAACAAJ&d...   \n",
       "1       http://books.google.nl/books?id=IjvHQsCn_pgC&p...   \n",
       "2       http://books.google.nl/books?id=2tsDAAAACAAJ&d...   \n",
       "3       http://books.google.nl/books?id=aRSIgJlq6JwC&d...   \n",
       "4       http://books.google.nl/books?id=399SPgAACAAJ&d...   \n",
       "...                                                   ...   \n",
       "212399  http://books.google.com/books?id=J7M-NwAACAAJ&...   \n",
       "212400  http://books.google.com/books?id=3n8k6wl4BbYC&...   \n",
       "212401  http://books.google.com/books?id=zytVswEACAAJ&...   \n",
       "212402  http://books.google.com/books?id=JM6YVPx_clMC&...   \n",
       "212403  http://books.google.com/books?id=dehfPgAACAAJ&...   \n",
       "\n",
       "                             publisher publishedDate  \\\n",
       "0                                  NaN          1996   \n",
       "1                            A&C Black    2005-01-01   \n",
       "2                                  NaN          2000   \n",
       "3                            iUniverse       2005-02   \n",
       "4                                  NaN    2003-03-01   \n",
       "...                                ...           ...   \n",
       "212399           Scholastic Paperbacks    2000-06-01   \n",
       "212400                             NaN          1995   \n",
       "212401                             NaN    2018-01-17   \n",
       "212402                         Vintage    2003-08-12   \n",
       "212403  Brooks/Cole Publishing Company    1998-01-01   \n",
       "\n",
       "                                                 infoLink  \\\n",
       "0       http://books.google.nl/books?id=DykPAAAACAAJ&d...   \n",
       "1       http://books.google.nl/books?id=IjvHQsCn_pgC&d...   \n",
       "2       http://books.google.nl/books?id=2tsDAAAACAAJ&d...   \n",
       "3       http://books.google.nl/books?id=aRSIgJlq6JwC&d...   \n",
       "4       http://books.google.nl/books?id=399SPgAACAAJ&d...   \n",
       "...                                                   ...   \n",
       "212399  http://books.google.com/books?id=J7M-NwAACAAJ&...   \n",
       "212400  http://books.google.com/books?id=3n8k6wl4BbYC&...   \n",
       "212401  http://books.google.com/books?id=zytVswEACAAJ&...   \n",
       "212402  https://play.google.com/store/books/details?id...   \n",
       "212403  http://books.google.com/books?id=dehfPgAACAAJ&...   \n",
       "\n",
       "                           categories  ratingsCount  \n",
       "0         ['Comics & Graphic Novels']           NaN  \n",
       "1       ['Biography & Autobiography']           NaN  \n",
       "2                        ['Religion']           NaN  \n",
       "3                         ['Fiction']           NaN  \n",
       "4                                 NaN           NaN  \n",
       "...                               ...           ...  \n",
       "212399           ['Juvenile Fiction']           2.0  \n",
       "212400           ['Juvenile Fiction']           NaN  \n",
       "212401                            NaN           NaN  \n",
       "212402                    ['Fiction']          19.0  \n",
       "212403                            NaN           NaN  \n",
       "\n",
       "[212404 rows x 10 columns]>"
      ]
     },
     "execution_count": 7,
     "metadata": {},
     "output_type": "execute_result"
    }
   ],
   "source": [
    "#books_data = pd.read_csv(\"/datasets/computational-tools-for-dataanalysis-data/books_data.csv\")\n",
    "books_data = pd.read_csv(\"C:/Users/paulw/OneDrive - Danmarks Tekniske Universitet/02807 - Computational Tools for Data Science/project/books_data.csv\")\n",
    "#books_data.head()"
   ]
  },
  {
   "cell_type": "code",
   "execution_count": 8,
   "metadata": {
    "cell_id": "fc68483d7d0c45f7a29f2cc12b1a034f",
    "deepnote_cell_type": "code",
    "deepnote_to_be_reexecuted": false,
    "execution_millis": 5,
    "execution_start": 1667316285756,
    "pycharm": {
     "name": "#%%\n"
    },
    "source_hash": "1ca3d0ff",
    "tags": []
   },
   "outputs": [
    {
     "name": "stdout",
     "output_type": "stream",
     "text": [
      "(212404, 10)\n",
      "Index(['Title', 'description', 'authors', 'image', 'previewLink', 'publisher',\n",
      "       'publishedDate', 'infoLink', 'categories', 'ratingsCount'],\n",
      "      dtype='object')\n"
     ]
    }
   ],
   "source": [
    "#shape of the book dataset\n",
    "print(books_data.shape)\n",
    "#columns available in the review dataset\n",
    "print(books_data.columns)\n",
    "#remove unnecessary columns from dataset\n",
    "keep_columns = ['Title', 'description', 'authors', 'categories', 'ratingsCount']\n",
    "books_data = books_data[keep_columns]"
   ]
  },
  {
   "cell_type": "code",
   "execution_count": 9,
   "metadata": {
    "cell_id": "b83ca25bae0e4c1f9930ff3db9ac1ccd",
    "deepnote_cell_type": "code",
    "deepnote_to_be_reexecuted": false,
    "execution_millis": 384,
    "execution_start": 1667316285809,
    "pycharm": {
     "name": "#%%\n"
    },
    "source_hash": "c8f5456c",
    "tags": []
   },
   "outputs": [
    {
     "name": "stdout",
     "output_type": "stream",
     "text": [
      "Number of books that have a ratings count in this dataset, 49752\n",
      "                                                    Title  \\\n",
      "5970    The Hobbitt, or there and back again; illustra...   \n",
      "29057                                          The Hobbit   \n",
      "64705   The Lord of the Rings and The Hobbit (Cliffs N...   \n",
      "86754   Hobbits, Elves and Wizards: The Wonders and Wo...   \n",
      "89208   Hobbit and The Lord of the Rings, The (Barron'...   \n",
      "89771                The Hobbit; Or, There and Back Again   \n",
      "130707                 The Hobbit or There and Back Again   \n",
      "159000                    The Hobbit There and Back Again   \n",
      "176456                              Poems from The Hobbit   \n",
      "188737                              Poems from the Hobbit   \n",
      "189955  The Individuated Hobbit: Jung, Tolkien and the...   \n",
      "\n",
      "                                              description  \\\n",
      "5970    Bilbo Baggins, a respectable, well-to-do hobbi...   \n",
      "29057   Celebrating 75 years of one of the world's mos...   \n",
      "64705   Join the journey through Middle-earth in the s...   \n",
      "86754                                                 NaN   \n",
      "89208                                                 NaN   \n",
      "89771                                                 NaN   \n",
      "130707  Celebrating 75 years of one of the world's mos...   \n",
      "159000  The adventures of the well-to-do hobbit, Bilbo...   \n",
      "176456                                                NaN   \n",
      "188737  A collection of J.R.R. Tolkien's Hobbit poems ...   \n",
      "189955  Shows that the Lord of the Rings can be read i...   \n",
      "\n",
      "                              authors  \\\n",
      "5970             ['J. R. R. Tolkien']   \n",
      "29057            ['J. R. R. Tolkien']   \n",
      "64705                ['Gene B Hardy']   \n",
      "86754                             NaN   \n",
      "89208                             NaN   \n",
      "89771                             NaN   \n",
      "130707           ['J. R. R. Tolkien']   \n",
      "159000  ['John Ronald Reuel Tolkien']   \n",
      "176456                            NaN   \n",
      "188737              ['J R R Tolkien']   \n",
      "189955         [\"Timothy R. O'Neill\"]   \n",
      "\n",
      "                                       categories  ratingsCount  \n",
      "5970                                  ['Fiction']           NaN  \n",
      "29057                        ['Juvenile Fiction']        2580.0  \n",
      "64705                      ['Literary Criticism']           NaN  \n",
      "86754                                         NaN           NaN  \n",
      "89208                                         NaN           NaN  \n",
      "89771                                         NaN           NaN  \n",
      "130707                       ['Juvenile Fiction']        2580.0  \n",
      "159000                      ['Adventure stories']         139.0  \n",
      "176456                                        NaN           NaN  \n",
      "188737                ['Fantasy poetry, English']           NaN  \n",
      "189955  ['Archetype (Psychology) in literature.']           NaN  \n"
     ]
    },
    {
     "data": {
      "text/html": [
       "<div>\n",
       "<style scoped>\n",
       "    .dataframe tbody tr th:only-of-type {\n",
       "        vertical-align: middle;\n",
       "    }\n",
       "\n",
       "    .dataframe tbody tr th {\n",
       "        vertical-align: top;\n",
       "    }\n",
       "\n",
       "    .dataframe thead th {\n",
       "        text-align: right;\n",
       "    }\n",
       "</style>\n",
       "<table border=\"1\" class=\"dataframe\">\n",
       "  <thead>\n",
       "    <tr style=\"text-align: right;\">\n",
       "      <th></th>\n",
       "      <th>Title</th>\n",
       "      <th>description</th>\n",
       "      <th>categories</th>\n",
       "      <th>ratingsCount</th>\n",
       "    </tr>\n",
       "    <tr>\n",
       "      <th>authors</th>\n",
       "      <th></th>\n",
       "      <th></th>\n",
       "      <th></th>\n",
       "      <th></th>\n",
       "    </tr>\n",
       "  </thead>\n",
       "  <tbody>\n",
       "    <tr>\n",
       "      <th>[\"America's Test Kitchen\"]</th>\n",
       "      <td>7</td>\n",
       "      <td>7</td>\n",
       "      <td>7</td>\n",
       "      <td>3</td>\n",
       "    </tr>\n",
       "    <tr>\n",
       "      <th>[\"Bathroom Readers' Institute\"]</th>\n",
       "      <td>5</td>\n",
       "      <td>5</td>\n",
       "      <td>5</td>\n",
       "      <td>5</td>\n",
       "    </tr>\n",
       "    <tr>\n",
       "      <th>[\"Eugene O'Neill\"]</th>\n",
       "      <td>12</td>\n",
       "      <td>8</td>\n",
       "      <td>11</td>\n",
       "      <td>4</td>\n",
       "    </tr>\n",
       "    <tr>\n",
       "      <th>[\"Fodor's Travel Guides\"]</th>\n",
       "      <td>5</td>\n",
       "      <td>5</td>\n",
       "      <td>5</td>\n",
       "      <td>0</td>\n",
       "    </tr>\n",
       "    <tr>\n",
       "      <th>[\"Fodor's Travel Publications, Inc. Staff\"]</th>\n",
       "      <td>5</td>\n",
       "      <td>5</td>\n",
       "      <td>5</td>\n",
       "      <td>0</td>\n",
       "    </tr>\n",
       "    <tr>\n",
       "      <th>...</th>\n",
       "      <td>...</td>\n",
       "      <td>...</td>\n",
       "      <td>...</td>\n",
       "      <td>...</td>\n",
       "    </tr>\n",
       "    <tr>\n",
       "      <th>['Zondervan,']</th>\n",
       "      <td>20</td>\n",
       "      <td>20</td>\n",
       "      <td>20</td>\n",
       "      <td>15</td>\n",
       "    </tr>\n",
       "    <tr>\n",
       "      <th>['Zora Neale Hurston']</th>\n",
       "      <td>10</td>\n",
       "      <td>10</td>\n",
       "      <td>10</td>\n",
       "      <td>5</td>\n",
       "    </tr>\n",
       "    <tr>\n",
       "      <th>['bell hooks']</th>\n",
       "      <td>16</td>\n",
       "      <td>16</td>\n",
       "      <td>16</td>\n",
       "      <td>10</td>\n",
       "    </tr>\n",
       "    <tr>\n",
       "      <th>['graf Leo Tolstoy']</th>\n",
       "      <td>5</td>\n",
       "      <td>3</td>\n",
       "      <td>4</td>\n",
       "      <td>1</td>\n",
       "    </tr>\n",
       "    <tr>\n",
       "      <th>['ʻAbduʼl-Bahá']</th>\n",
       "      <td>5</td>\n",
       "      <td>0</td>\n",
       "      <td>4</td>\n",
       "      <td>4</td>\n",
       "    </tr>\n",
       "  </tbody>\n",
       "</table>\n",
       "<p>3102 rows × 4 columns</p>\n",
       "</div>"
      ],
      "text/plain": [
       "                                             Title  description  categories  \\\n",
       "authors                                                                       \n",
       "[\"America's Test Kitchen\"]                       7            7           7   \n",
       "[\"Bathroom Readers' Institute\"]                  5            5           5   \n",
       "[\"Eugene O'Neill\"]                              12            8          11   \n",
       "[\"Fodor's Travel Guides\"]                        5            5           5   \n",
       "[\"Fodor's Travel Publications, Inc. Staff\"]      5            5           5   \n",
       "...                                            ...          ...         ...   \n",
       "['Zondervan,']                                  20           20          20   \n",
       "['Zora Neale Hurston']                          10           10          10   \n",
       "['bell hooks']                                  16           16          16   \n",
       "['graf Leo Tolstoy']                             5            3           4   \n",
       "['ʻAbduʼl-Bahá']                                 5            0           4   \n",
       "\n",
       "                                             ratingsCount  \n",
       "authors                                                    \n",
       "[\"America's Test Kitchen\"]                              3  \n",
       "[\"Bathroom Readers' Institute\"]                         5  \n",
       "[\"Eugene O'Neill\"]                                      4  \n",
       "[\"Fodor's Travel Guides\"]                               0  \n",
       "[\"Fodor's Travel Publications, Inc. Staff\"]             0  \n",
       "...                                                   ...  \n",
       "['Zondervan,']                                         15  \n",
       "['Zora Neale Hurston']                                  5  \n",
       "['bell hooks']                                         10  \n",
       "['graf Leo Tolstoy']                                    1  \n",
       "['ʻAbduʼl-Bahá']                                        4  \n",
       "\n",
       "[3102 rows x 4 columns]"
      ]
     },
     "execution_count": 9,
     "metadata": {},
     "output_type": "execute_result"
    }
   ],
   "source": [
    "print(f\"Number of books that have a ratings count in this dataset, {books_data[books_data['ratingsCount']>0].shape[0]}\")\n",
    "print(books_data[books_data['Title'].str.contains('Hobbit',na=False)])\n",
    "\n",
    "grouped_books = books_data.groupby(['authors']).count()\n",
    "grouped_books[grouped_books['Title']>=5]"
   ]
  },
  {
   "cell_type": "code",
   "execution_count": 10,
   "metadata": {
    "cell_id": "e8fa2053695a474f986d9aca58cf3175",
    "deepnote_cell_type": "code",
    "deepnote_to_be_reexecuted": false,
    "execution_millis": 743,
    "execution_start": 1667316286198,
    "pycharm": {
     "name": "#%%\n"
    },
    "source_hash": "c38f66d9",
    "tags": []
   },
   "outputs": [
    {
     "name": "stdout",
     "output_type": "stream",
     "text": [
      "(2415682, 9)\n"
     ]
    },
    {
     "data": {
      "text/html": [
       "<div>\n",
       "<style scoped>\n",
       "    .dataframe tbody tr th:only-of-type {\n",
       "        vertical-align: middle;\n",
       "    }\n",
       "\n",
       "    .dataframe tbody tr th {\n",
       "        vertical-align: top;\n",
       "    }\n",
       "\n",
       "    .dataframe thead th {\n",
       "        text-align: right;\n",
       "    }\n",
       "</style>\n",
       "<table border=\"1\" class=\"dataframe\">\n",
       "  <thead>\n",
       "    <tr style=\"text-align: right;\">\n",
       "      <th></th>\n",
       "      <th>Id</th>\n",
       "      <th>Title</th>\n",
       "      <th>User_id</th>\n",
       "      <th>review/score</th>\n",
       "      <th>review/text</th>\n",
       "      <th>description</th>\n",
       "      <th>authors</th>\n",
       "      <th>categories</th>\n",
       "      <th>ratingsCount</th>\n",
       "    </tr>\n",
       "  </thead>\n",
       "  <tbody>\n",
       "    <tr>\n",
       "      <th>0</th>\n",
       "      <td>1882931173</td>\n",
       "      <td>Its Only Art If Its Well Hung!</td>\n",
       "      <td>AVCGYZL8FQQTD</td>\n",
       "      <td>4.0</td>\n",
       "      <td>This is only for Julie Strain fans. It's a col...</td>\n",
       "      <td>NaN</td>\n",
       "      <td>['Julie Strain']</td>\n",
       "      <td>['Comics &amp; Graphic Novels']</td>\n",
       "      <td>NaN</td>\n",
       "    </tr>\n",
       "    <tr>\n",
       "      <th>1</th>\n",
       "      <td>0826414346</td>\n",
       "      <td>Dr. Seuss: American Icon</td>\n",
       "      <td>A30TK6U7DNS82R</td>\n",
       "      <td>5.0</td>\n",
       "      <td>I don't care much for Dr. Seuss but after read...</td>\n",
       "      <td>Philip Nel takes a fascinating look into the k...</td>\n",
       "      <td>['Philip Nel']</td>\n",
       "      <td>['Biography &amp; Autobiography']</td>\n",
       "      <td>NaN</td>\n",
       "    </tr>\n",
       "    <tr>\n",
       "      <th>2</th>\n",
       "      <td>0826414346</td>\n",
       "      <td>Dr. Seuss: American Icon</td>\n",
       "      <td>A3UH4UZ4RSVO82</td>\n",
       "      <td>5.0</td>\n",
       "      <td>If people become the books they read and if \"t...</td>\n",
       "      <td>Philip Nel takes a fascinating look into the k...</td>\n",
       "      <td>['Philip Nel']</td>\n",
       "      <td>['Biography &amp; Autobiography']</td>\n",
       "      <td>NaN</td>\n",
       "    </tr>\n",
       "    <tr>\n",
       "      <th>3</th>\n",
       "      <td>0826414346</td>\n",
       "      <td>Dr. Seuss: American Icon</td>\n",
       "      <td>A2MVUWT453QH61</td>\n",
       "      <td>4.0</td>\n",
       "      <td>Theodore Seuss Geisel (1904-1991), aka &amp;quot;D...</td>\n",
       "      <td>Philip Nel takes a fascinating look into the k...</td>\n",
       "      <td>['Philip Nel']</td>\n",
       "      <td>['Biography &amp; Autobiography']</td>\n",
       "      <td>NaN</td>\n",
       "    </tr>\n",
       "    <tr>\n",
       "      <th>4</th>\n",
       "      <td>0826414346</td>\n",
       "      <td>Dr. Seuss: American Icon</td>\n",
       "      <td>A22X4XUPKF66MR</td>\n",
       "      <td>4.0</td>\n",
       "      <td>Philip Nel - Dr. Seuss: American IconThis is b...</td>\n",
       "      <td>Philip Nel takes a fascinating look into the k...</td>\n",
       "      <td>['Philip Nel']</td>\n",
       "      <td>['Biography &amp; Autobiography']</td>\n",
       "      <td>NaN</td>\n",
       "    </tr>\n",
       "  </tbody>\n",
       "</table>\n",
       "</div>"
      ],
      "text/plain": [
       "           Id                           Title         User_id  review/score  \\\n",
       "0  1882931173  Its Only Art If Its Well Hung!   AVCGYZL8FQQTD           4.0   \n",
       "1  0826414346        Dr. Seuss: American Icon  A30TK6U7DNS82R           5.0   \n",
       "2  0826414346        Dr. Seuss: American Icon  A3UH4UZ4RSVO82           5.0   \n",
       "3  0826414346        Dr. Seuss: American Icon  A2MVUWT453QH61           4.0   \n",
       "4  0826414346        Dr. Seuss: American Icon  A22X4XUPKF66MR           4.0   \n",
       "\n",
       "                                         review/text  \\\n",
       "0  This is only for Julie Strain fans. It's a col...   \n",
       "1  I don't care much for Dr. Seuss but after read...   \n",
       "2  If people become the books they read and if \"t...   \n",
       "3  Theodore Seuss Geisel (1904-1991), aka &quot;D...   \n",
       "4  Philip Nel - Dr. Seuss: American IconThis is b...   \n",
       "\n",
       "                                         description           authors  \\\n",
       "0                                                NaN  ['Julie Strain']   \n",
       "1  Philip Nel takes a fascinating look into the k...    ['Philip Nel']   \n",
       "2  Philip Nel takes a fascinating look into the k...    ['Philip Nel']   \n",
       "3  Philip Nel takes a fascinating look into the k...    ['Philip Nel']   \n",
       "4  Philip Nel takes a fascinating look into the k...    ['Philip Nel']   \n",
       "\n",
       "                      categories  ratingsCount  \n",
       "0    ['Comics & Graphic Novels']           NaN  \n",
       "1  ['Biography & Autobiography']           NaN  \n",
       "2  ['Biography & Autobiography']           NaN  \n",
       "3  ['Biography & Autobiography']           NaN  \n",
       "4  ['Biography & Autobiography']           NaN  "
      ]
     },
     "execution_count": 10,
     "metadata": {},
     "output_type": "execute_result"
    }
   ],
   "source": [
    "#check how many of the reviewed books are available in the book dataset by Title\n",
    "merged_df = pd.merge(review_data, books_data, how='inner', on=['Title'])\n",
    "print(merged_df.shape)\n",
    "merged_df.head()"
   ]
  },
  {
   "cell_type": "markdown",
   "metadata": {
    "cell_id": "d1c81f11574a4c0f80bf618010e4c5e3",
    "deepnote_cell_type": "markdown",
    "pycharm": {
     "name": "#%% md\n"
    },
    "tags": []
   },
   "source": [
    "### Creating an item profile \n",
    "In order to create an item profile, the authors and category are put into a "
   ]
  },
  {
   "cell_type": "markdown",
   "metadata": {
    "cell_id": "a373da38480c45498e382100f8f7fb44",
    "deepnote_cell_type": "markdown",
    "pycharm": {
     "name": "#%% md\n"
    },
    "tags": []
   },
   "source": [
    "Calculate the cosine distance between two matrices"
   ]
  },
  {
   "cell_type": "code",
   "execution_count": 11,
   "metadata": {
    "collapsed": false,
    "jupyter": {
     "outputs_hidden": false
    },
    "pycharm": {
     "name": "#%%\n"
    }
   },
   "outputs": [],
   "source": []
  },
  {
   "cell_type": "markdown",
   "metadata": {
    "pycharm": {
     "name": "#%% md\n"
    }
   },
   "source": [
    "### Creating the normalized utility matrix\n",
    "If we had more than our local machines available, it would make sense to use distributed machines with map-reduce in order to handle this problem.\n",
    "The utility matrix already gets fairly big if we want to process it in a dense format."
   ]
  },
  {
   "cell_type": "code",
   "execution_count": 12,
   "metadata": {
    "collapsed": false,
    "jupyter": {
     "outputs_hidden": false
    },
    "pycharm": {
     "name": "#%%\n"
    }
   },
   "outputs": [],
   "source": [
    "# Calculating the average rating of each user\n",
    "avg_rating = (merged_df[[\"User_id\", \"review/score\"]].\n",
    "groupby(\"User_id\").mean())"
   ]
  },
  {
   "cell_type": "code",
   "execution_count": 13,
   "metadata": {
    "collapsed": false,
    "jupyter": {
     "outputs_hidden": false
    },
    "pycharm": {
     "name": "#%%\n"
    }
   },
   "outputs": [
    {
     "name": "stdout",
     "output_type": "stream",
     "text": [
      "Number of books in the merged dataset 205048\n",
      "Number of users in the merged dataset 1008962\n"
     ]
    }
   ],
   "source": [
    "print(f\"Number of books in the merged dataset {len(merged_df['Title'].drop_duplicates())}\")\n",
    "print(f\"Number of users in the merged dataset {len(merged_df['User_id'].drop_duplicates())}\")"
   ]
  },
  {
   "cell_type": "markdown",
   "metadata": {
    "pycharm": {
     "name": "#%% md\n"
    }
   },
   "source": [
    "This means our utility matrix will end up being 1008962x205048 - a very large matrix.\n",
    "In order to handle a matrix of this size, we need to look at sparse matrices (most entries will be empty anyways)"
   ]
  },
  {
   "cell_type": "code",
   "execution_count": 14,
   "metadata": {
    "collapsed": false,
    "jupyter": {
     "outputs_hidden": false
    },
    "pycharm": {
     "name": "#%%\n"
    }
   },
   "outputs": [
    {
     "data": {
      "text/html": [
       "<div>\n",
       "<style scoped>\n",
       "    .dataframe tbody tr th:only-of-type {\n",
       "        vertical-align: middle;\n",
       "    }\n",
       "\n",
       "    .dataframe tbody tr th {\n",
       "        vertical-align: top;\n",
       "    }\n",
       "\n",
       "    .dataframe thead th {\n",
       "        text-align: right;\n",
       "    }\n",
       "</style>\n",
       "<table border=\"1\" class=\"dataframe\">\n",
       "  <thead>\n",
       "    <tr style=\"text-align: right;\">\n",
       "      <th></th>\n",
       "      <th>Title</th>\n",
       "      <th>User_id</th>\n",
       "      <th>review/score</th>\n",
       "    </tr>\n",
       "  </thead>\n",
       "  <tbody>\n",
       "    <tr>\n",
       "      <th>1530761</th>\n",
       "      <td>This Calder Range (Calder Saga's)</td>\n",
       "      <td>A00109803PZJ91RLT7DPN</td>\n",
       "      <td>5.0</td>\n",
       "    </tr>\n",
       "    <tr>\n",
       "      <th>1125585</th>\n",
       "      <td>The Queen of Harlem: A Novel</td>\n",
       "      <td>A00117421L76WVWG4UX95</td>\n",
       "      <td>5.0</td>\n",
       "    </tr>\n",
       "    <tr>\n",
       "      <th>1510574</th>\n",
       "      <td>ATTITUDE 101</td>\n",
       "      <td>A0015610VMNR0JC9XVL1</td>\n",
       "      <td>3.0</td>\n",
       "    </tr>\n",
       "    <tr>\n",
       "      <th>750686</th>\n",
       "      <td>The Richest Man in Babylon</td>\n",
       "      <td>A0015610VMNR0JC9XVL1</td>\n",
       "      <td>5.0</td>\n",
       "    </tr>\n",
       "    <tr>\n",
       "      <th>1357681</th>\n",
       "      <td>The richest man in Babylon</td>\n",
       "      <td>A0015610VMNR0JC9XVL1</td>\n",
       "      <td>5.0</td>\n",
       "    </tr>\n",
       "    <tr>\n",
       "      <th>...</th>\n",
       "      <td>...</td>\n",
       "      <td>...</td>\n",
       "      <td>...</td>\n",
       "    </tr>\n",
       "    <tr>\n",
       "      <th>1281294</th>\n",
       "      <td>Tactics of the Crescent Moon: Militant Muslim ...</td>\n",
       "      <td>AZZZT14MS21I6</td>\n",
       "      <td>5.0</td>\n",
       "    </tr>\n",
       "    <tr>\n",
       "      <th>1279708</th>\n",
       "      <td>The Tiger's Way: A U.S. Private's Best Chance ...</td>\n",
       "      <td>AZZZT14MS21I6</td>\n",
       "      <td>5.0</td>\n",
       "    </tr>\n",
       "    <tr>\n",
       "      <th>1895267</th>\n",
       "      <td>Out</td>\n",
       "      <td>AZZZYCR4NZADZ</td>\n",
       "      <td>5.0</td>\n",
       "    </tr>\n",
       "    <tr>\n",
       "      <th>1895413</th>\n",
       "      <td>Out</td>\n",
       "      <td>AZZZYCR4NZADZ</td>\n",
       "      <td>5.0</td>\n",
       "    </tr>\n",
       "    <tr>\n",
       "      <th>1288044</th>\n",
       "      <td>The Unofficial Guideto Starting a Small Busine...</td>\n",
       "      <td>AZZZZW74AAX75</td>\n",
       "      <td>5.0</td>\n",
       "    </tr>\n",
       "  </tbody>\n",
       "</table>\n",
       "<p>2415682 rows × 3 columns</p>\n",
       "</div>"
      ],
      "text/plain": [
       "                                                     Title  \\\n",
       "1530761                  This Calder Range (Calder Saga's)   \n",
       "1125585                       The Queen of Harlem: A Novel   \n",
       "1510574                                       ATTITUDE 101   \n",
       "750686                          The Richest Man in Babylon   \n",
       "1357681                         The richest man in Babylon   \n",
       "...                                                    ...   \n",
       "1281294  Tactics of the Crescent Moon: Militant Muslim ...   \n",
       "1279708  The Tiger's Way: A U.S. Private's Best Chance ...   \n",
       "1895267                                                Out   \n",
       "1895413                                                Out   \n",
       "1288044  The Unofficial Guideto Starting a Small Busine...   \n",
       "\n",
       "                       User_id  review/score  \n",
       "1530761  A00109803PZJ91RLT7DPN           5.0  \n",
       "1125585  A00117421L76WVWG4UX95           5.0  \n",
       "1510574   A0015610VMNR0JC9XVL1           3.0  \n",
       "750686    A0015610VMNR0JC9XVL1           5.0  \n",
       "1357681   A0015610VMNR0JC9XVL1           5.0  \n",
       "...                        ...           ...  \n",
       "1281294          AZZZT14MS21I6           5.0  \n",
       "1279708          AZZZT14MS21I6           5.0  \n",
       "1895267          AZZZYCR4NZADZ           5.0  \n",
       "1895413          AZZZYCR4NZADZ           5.0  \n",
       "1288044          AZZZZW74AAX75           5.0  \n",
       "\n",
       "[2415682 rows x 3 columns]"
      ]
     },
     "execution_count": 14,
     "metadata": {},
     "output_type": "execute_result"
    }
   ],
   "source": [
    "merged_df[[\"Title\", \"User_id\", \"review/score\"]].sort_values([\"User_id\", \"Title\"])\n",
    "# looking at this it looks as if some users rated the same book twice (the title only varies slightly)\n",
    "# look at id 750686 & 1357681]"
   ]
  },
  {
   "cell_type": "code",
   "execution_count": 15,
   "metadata": {
    "collapsed": false,
    "jupyter": {
     "outputs_hidden": false
    },
    "pycharm": {
     "name": "#%%\n"
    }
   },
   "outputs": [
    {
     "data": {
      "text/html": [
       "<div>\n",
       "<style scoped>\n",
       "    .dataframe tbody tr th:only-of-type {\n",
       "        vertical-align: middle;\n",
       "    }\n",
       "\n",
       "    .dataframe tbody tr th {\n",
       "        vertical-align: top;\n",
       "    }\n",
       "\n",
       "    .dataframe thead th {\n",
       "        text-align: right;\n",
       "    }\n",
       "</style>\n",
       "<table border=\"1\" class=\"dataframe\">\n",
       "  <thead>\n",
       "    <tr style=\"text-align: right;\">\n",
       "      <th></th>\n",
       "      <th>Id</th>\n",
       "      <th>Title</th>\n",
       "      <th>User_id</th>\n",
       "      <th>review/score</th>\n",
       "      <th>review/text</th>\n",
       "      <th>description</th>\n",
       "      <th>authors</th>\n",
       "      <th>categories</th>\n",
       "      <th>ratingsCount</th>\n",
       "    </tr>\n",
       "  </thead>\n",
       "  <tbody>\n",
       "    <tr>\n",
       "      <th>17063</th>\n",
       "      <td>B00005XZDV</td>\n",
       "      <td>NaN</td>\n",
       "      <td>AY44TQ8XGQ7RR</td>\n",
       "      <td>5.0</td>\n",
       "      <td>In an era of other prolific writers such as Ja...</td>\n",
       "      <td>NaN</td>\n",
       "      <td>['Maharshi Ramana']</td>\n",
       "      <td>NaN</td>\n",
       "      <td>1.0</td>\n",
       "    </tr>\n",
       "    <tr>\n",
       "      <th>17064</th>\n",
       "      <td>0801841119</td>\n",
       "      <td>NaN</td>\n",
       "      <td>A3F19JZZ07PDX0</td>\n",
       "      <td>1.0</td>\n",
       "      <td>You can't even really call this a translation;...</td>\n",
       "      <td>NaN</td>\n",
       "      <td>['Maharshi Ramana']</td>\n",
       "      <td>NaN</td>\n",
       "      <td>1.0</td>\n",
       "    </tr>\n",
       "    <tr>\n",
       "      <th>17065</th>\n",
       "      <td>0801841119</td>\n",
       "      <td>NaN</td>\n",
       "      <td>A1JO4MQFLXGYVS</td>\n",
       "      <td>5.0</td>\n",
       "      <td>Slavitt's translation of Virgil's Eclogues and...</td>\n",
       "      <td>NaN</td>\n",
       "      <td>['Maharshi Ramana']</td>\n",
       "      <td>NaN</td>\n",
       "      <td>1.0</td>\n",
       "    </tr>\n",
       "    <tr>\n",
       "      <th>17066</th>\n",
       "      <td>0595241034</td>\n",
       "      <td>NaN</td>\n",
       "      <td>A1ASFZRH6ZLCOE</td>\n",
       "      <td>4.0</td>\n",
       "      <td>I can definitely relate to the story line in D...</td>\n",
       "      <td>NaN</td>\n",
       "      <td>['Maharshi Ramana']</td>\n",
       "      <td>NaN</td>\n",
       "      <td>1.0</td>\n",
       "    </tr>\n",
       "    <tr>\n",
       "      <th>17067</th>\n",
       "      <td>0595241034</td>\n",
       "      <td>NaN</td>\n",
       "      <td>AIY736C2LYMMB</td>\n",
       "      <td>3.0</td>\n",
       "      <td>This new author has taken on a very sensitive ...</td>\n",
       "      <td>NaN</td>\n",
       "      <td>['Maharshi Ramana']</td>\n",
       "      <td>NaN</td>\n",
       "      <td>1.0</td>\n",
       "    </tr>\n",
       "    <tr>\n",
       "      <th>...</th>\n",
       "      <td>...</td>\n",
       "      <td>...</td>\n",
       "      <td>...</td>\n",
       "      <td>...</td>\n",
       "      <td>...</td>\n",
       "      <td>...</td>\n",
       "      <td>...</td>\n",
       "      <td>...</td>\n",
       "      <td>...</td>\n",
       "    </tr>\n",
       "    <tr>\n",
       "      <th>17253</th>\n",
       "      <td>059528812X</td>\n",
       "      <td>NaN</td>\n",
       "      <td>A6SZZSMX7DQG1</td>\n",
       "      <td>5.0</td>\n",
       "      <td>This is a great book about friendship, loyalty...</td>\n",
       "      <td>NaN</td>\n",
       "      <td>['Maharshi Ramana']</td>\n",
       "      <td>NaN</td>\n",
       "      <td>1.0</td>\n",
       "    </tr>\n",
       "    <tr>\n",
       "      <th>17254</th>\n",
       "      <td>059528812X</td>\n",
       "      <td>NaN</td>\n",
       "      <td>A352HZ1YURWGVL</td>\n",
       "      <td>1.0</td>\n",
       "      <td>I saw this title in my local library on the do...</td>\n",
       "      <td>NaN</td>\n",
       "      <td>['Maharshi Ramana']</td>\n",
       "      <td>NaN</td>\n",
       "      <td>1.0</td>\n",
       "    </tr>\n",
       "    <tr>\n",
       "      <th>17255</th>\n",
       "      <td>059528812X</td>\n",
       "      <td>NaN</td>\n",
       "      <td>A2VPLBU4M5NUXV</td>\n",
       "      <td>5.0</td>\n",
       "      <td>Justify The Means offers bone-deep emotional t...</td>\n",
       "      <td>NaN</td>\n",
       "      <td>['Maharshi Ramana']</td>\n",
       "      <td>NaN</td>\n",
       "      <td>1.0</td>\n",
       "    </tr>\n",
       "    <tr>\n",
       "      <th>17256</th>\n",
       "      <td>059528812X</td>\n",
       "      <td>NaN</td>\n",
       "      <td>AVDFWLRZRBTMI</td>\n",
       "      <td>5.0</td>\n",
       "      <td>With keen prose and an extraordinary eye, Madi...</td>\n",
       "      <td>NaN</td>\n",
       "      <td>['Maharshi Ramana']</td>\n",
       "      <td>NaN</td>\n",
       "      <td>1.0</td>\n",
       "    </tr>\n",
       "    <tr>\n",
       "      <th>17257</th>\n",
       "      <td>059528812X</td>\n",
       "      <td>NaN</td>\n",
       "      <td>APQYJLNR0V4IT</td>\n",
       "      <td>1.0</td>\n",
       "      <td>This book is a total piece of trash written by...</td>\n",
       "      <td>NaN</td>\n",
       "      <td>['Maharshi Ramana']</td>\n",
       "      <td>NaN</td>\n",
       "      <td>1.0</td>\n",
       "    </tr>\n",
       "  </tbody>\n",
       "</table>\n",
       "<p>195 rows × 9 columns</p>\n",
       "</div>"
      ],
      "text/plain": [
       "               Id Title         User_id  review/score  \\\n",
       "17063  B00005XZDV   NaN   AY44TQ8XGQ7RR           5.0   \n",
       "17064  0801841119   NaN  A3F19JZZ07PDX0           1.0   \n",
       "17065  0801841119   NaN  A1JO4MQFLXGYVS           5.0   \n",
       "17066  0595241034   NaN  A1ASFZRH6ZLCOE           4.0   \n",
       "17067  0595241034   NaN   AIY736C2LYMMB           3.0   \n",
       "...           ...   ...             ...           ...   \n",
       "17253  059528812X   NaN   A6SZZSMX7DQG1           5.0   \n",
       "17254  059528812X   NaN  A352HZ1YURWGVL           1.0   \n",
       "17255  059528812X   NaN  A2VPLBU4M5NUXV           5.0   \n",
       "17256  059528812X   NaN   AVDFWLRZRBTMI           5.0   \n",
       "17257  059528812X   NaN   APQYJLNR0V4IT           1.0   \n",
       "\n",
       "                                             review/text description  \\\n",
       "17063  In an era of other prolific writers such as Ja...         NaN   \n",
       "17064  You can't even really call this a translation;...         NaN   \n",
       "17065  Slavitt's translation of Virgil's Eclogues and...         NaN   \n",
       "17066  I can definitely relate to the story line in D...         NaN   \n",
       "17067  This new author has taken on a very sensitive ...         NaN   \n",
       "...                                                  ...         ...   \n",
       "17253  This is a great book about friendship, loyalty...         NaN   \n",
       "17254  I saw this title in my local library on the do...         NaN   \n",
       "17255  Justify The Means offers bone-deep emotional t...         NaN   \n",
       "17256  With keen prose and an extraordinary eye, Madi...         NaN   \n",
       "17257  This book is a total piece of trash written by...         NaN   \n",
       "\n",
       "                   authors categories  ratingsCount  \n",
       "17063  ['Maharshi Ramana']        NaN           1.0  \n",
       "17064  ['Maharshi Ramana']        NaN           1.0  \n",
       "17065  ['Maharshi Ramana']        NaN           1.0  \n",
       "17066  ['Maharshi Ramana']        NaN           1.0  \n",
       "17067  ['Maharshi Ramana']        NaN           1.0  \n",
       "...                    ...        ...           ...  \n",
       "17253  ['Maharshi Ramana']        NaN           1.0  \n",
       "17254  ['Maharshi Ramana']        NaN           1.0  \n",
       "17255  ['Maharshi Ramana']        NaN           1.0  \n",
       "17256  ['Maharshi Ramana']        NaN           1.0  \n",
       "17257  ['Maharshi Ramana']        NaN           1.0  \n",
       "\n",
       "[195 rows x 9 columns]"
      ]
     },
     "execution_count": 15,
     "metadata": {},
     "output_type": "execute_result"
    }
   ],
   "source": [
    "(merged_df[~merged_df[\"Title\"]\n",
    "    .apply(lambda x:isinstance(x, str))])"
   ]
  },
  {
   "cell_type": "code",
   "execution_count": 16,
   "metadata": {
    "collapsed": false,
    "jupyter": {
     "outputs_hidden": false
    },
    "pycharm": {
     "name": "#%%\n"
    }
   },
   "outputs": [],
   "source": [
    "# Drop NaN values and cast the title to lower case\n",
    "merged_df = merged_df.drop(merged_df[~merged_df[\"Title\"].apply(lambda x:isinstance(x, str))].index)\n",
    "merged_df[\"Title\"] = merged_df[\"Title\"].apply(lambda x:x.lower())"
   ]
  },
  {
   "cell_type": "code",
   "execution_count": 17,
   "metadata": {
    "collapsed": false,
    "jupyter": {
     "outputs_hidden": false
    },
    "pycharm": {
     "name": "#%%\n"
    }
   },
   "outputs": [
    {
     "name": "stdout",
     "output_type": "stream",
     "text": [
      "Unique reviews in the dataset considering Title and score per user: 2032945\n",
      "Unique reviews in the dataset considering only Title: 2030641\n"
     ]
    }
   ],
   "source": [
    "print(f\"Unique reviews in the dataset considering Title and score per user: {merged_df[['Title', 'User_id', 'review/score']].drop_duplicates().shape[0]}\")\n",
    "print(f\"Unique reviews in the dataset considering only Title: {merged_df[['Title', 'User_id']].drop_duplicates().shape[0]}\")\n",
    "\n",
    "# We can see that approx. 2000 people have rated a book twice and given it a different rating"
   ]
  },
  {
   "cell_type": "markdown",
   "metadata": {
    "pycharm": {
     "name": "#%% md\n"
    }
   },
   "source": [
    "If we normalize the ratings by the average rating given from a user, we will essentially get rid of all the people that have only voted once, and people that have only given the same rating across multiple books. This is an assumption we work with for now."
   ]
  },
  {
   "cell_type": "code",
   "execution_count": 18,
   "metadata": {
    "collapsed": false,
    "jupyter": {
     "outputs_hidden": false
    },
    "pycharm": {
     "name": "#%%\n"
    }
   },
   "outputs": [],
   "source": [
    "#https://towardsdatascience.com/working-with-sparse-data-sets-in-pandas-and-sklearn-d26c1cfbe067\n",
    "#ut_mat = pd.get_dummies(merged_df[['Title', 'User_id', 'review/score']], columns=[\"Title\", \"User_id\"], sparse=True)"
   ]
  },
  {
   "cell_type": "markdown",
   "metadata": {
    "pycharm": {
     "name": "#%% md\n"
    }
   },
   "source": [
    "Using an Encoder for the string variables saves a lot of memory for computations. We can always go invert the mapping to get to the original values."
   ]
  },
  {
   "cell_type": "code",
   "execution_count": 19,
   "metadata": {
    "collapsed": false,
    "jupyter": {
     "outputs_hidden": false
    },
    "pycharm": {
     "name": "#%%\n"
    }
   },
   "outputs": [],
   "source": [
    "# Encode the User_id and Title\n",
    "le = LabelEncoder()\n",
    "merged_df[\"User_id\"] = le.fit_transform(merged_df[\"User_id\"])\n",
    "#merged_df[\"User_id\"] = merged_df[\"User_id\"].astype(\"category\")"
   ]
  },
  {
   "cell_type": "code",
   "execution_count": 20,
   "metadata": {
    "collapsed": false,
    "jupyter": {
     "outputs_hidden": false
    },
    "pycharm": {
     "name": "#%%\n"
    }
   },
   "outputs": [],
   "source": [
    "le2 = LabelEncoder()\n",
    "merged_df[\"Title\"] = le2.fit_transform(merged_df[\"Title\"])\n",
    "#merged_df[\"Title\"] = merged_df[\"Title\"].astype(\"category\")"
   ]
  },
  {
   "cell_type": "code",
   "execution_count": 21,
   "metadata": {
    "collapsed": false,
    "jupyter": {
     "outputs_hidden": false
    },
    "pycharm": {
     "name": "#%%\n"
    }
   },
   "outputs": [
    {
     "data": {
      "text/html": [
       "<div>\n",
       "<style scoped>\n",
       "    .dataframe tbody tr th:only-of-type {\n",
       "        vertical-align: middle;\n",
       "    }\n",
       "\n",
       "    .dataframe tbody tr th {\n",
       "        vertical-align: top;\n",
       "    }\n",
       "\n",
       "    .dataframe thead th {\n",
       "        text-align: right;\n",
       "    }\n",
       "</style>\n",
       "<table border=\"1\" class=\"dataframe\">\n",
       "  <thead>\n",
       "    <tr style=\"text-align: right;\">\n",
       "      <th></th>\n",
       "      <th>Id</th>\n",
       "      <th>Title</th>\n",
       "      <th>User_id</th>\n",
       "      <th>review/score</th>\n",
       "      <th>review/text</th>\n",
       "      <th>description</th>\n",
       "      <th>authors</th>\n",
       "      <th>categories</th>\n",
       "      <th>ratingsCount</th>\n",
       "    </tr>\n",
       "  </thead>\n",
       "  <tbody>\n",
       "    <tr>\n",
       "      <th>0</th>\n",
       "      <td>1882931173</td>\n",
       "      <td>79922</td>\n",
       "      <td>974347</td>\n",
       "      <td>4.0</td>\n",
       "      <td>This is only for Julie Strain fans. It's a col...</td>\n",
       "      <td>NaN</td>\n",
       "      <td>['Julie Strain']</td>\n",
       "      <td>['Comics &amp; Graphic Novels']</td>\n",
       "      <td>NaN</td>\n",
       "    </tr>\n",
       "    <tr>\n",
       "      <th>1</th>\n",
       "      <td>0826414346</td>\n",
       "      <td>45723</td>\n",
       "      <td>538921</td>\n",
       "      <td>5.0</td>\n",
       "      <td>I don't care much for Dr. Seuss but after read...</td>\n",
       "      <td>Philip Nel takes a fascinating look into the k...</td>\n",
       "      <td>['Philip Nel']</td>\n",
       "      <td>['Biography &amp; Autobiography']</td>\n",
       "      <td>NaN</td>\n",
       "    </tr>\n",
       "    <tr>\n",
       "      <th>2</th>\n",
       "      <td>0826414346</td>\n",
       "      <td>45723</td>\n",
       "      <td>758556</td>\n",
       "      <td>5.0</td>\n",
       "      <td>If people become the books they read and if \"t...</td>\n",
       "      <td>Philip Nel takes a fascinating look into the k...</td>\n",
       "      <td>['Philip Nel']</td>\n",
       "      <td>['Biography &amp; Autobiography']</td>\n",
       "      <td>NaN</td>\n",
       "    </tr>\n",
       "    <tr>\n",
       "      <th>3</th>\n",
       "      <td>0826414346</td>\n",
       "      <td>45723</td>\n",
       "      <td>436234</td>\n",
       "      <td>4.0</td>\n",
       "      <td>Theodore Seuss Geisel (1904-1991), aka &amp;quot;D...</td>\n",
       "      <td>Philip Nel takes a fascinating look into the k...</td>\n",
       "      <td>['Philip Nel']</td>\n",
       "      <td>['Biography &amp; Autobiography']</td>\n",
       "      <td>NaN</td>\n",
       "    </tr>\n",
       "    <tr>\n",
       "      <th>4</th>\n",
       "      <td>0826414346</td>\n",
       "      <td>45723</td>\n",
       "      <td>288496</td>\n",
       "      <td>4.0</td>\n",
       "      <td>Philip Nel - Dr. Seuss: American IconThis is b...</td>\n",
       "      <td>Philip Nel takes a fascinating look into the k...</td>\n",
       "      <td>['Philip Nel']</td>\n",
       "      <td>['Biography &amp; Autobiography']</td>\n",
       "      <td>NaN</td>\n",
       "    </tr>\n",
       "  </tbody>\n",
       "</table>\n",
       "</div>"
      ],
      "text/plain": [
       "           Id  Title  User_id  review/score  \\\n",
       "0  1882931173  79922   974347           4.0   \n",
       "1  0826414346  45723   538921           5.0   \n",
       "2  0826414346  45723   758556           5.0   \n",
       "3  0826414346  45723   436234           4.0   \n",
       "4  0826414346  45723   288496           4.0   \n",
       "\n",
       "                                         review/text  \\\n",
       "0  This is only for Julie Strain fans. It's a col...   \n",
       "1  I don't care much for Dr. Seuss but after read...   \n",
       "2  If people become the books they read and if \"t...   \n",
       "3  Theodore Seuss Geisel (1904-1991), aka &quot;D...   \n",
       "4  Philip Nel - Dr. Seuss: American IconThis is b...   \n",
       "\n",
       "                                         description           authors  \\\n",
       "0                                                NaN  ['Julie Strain']   \n",
       "1  Philip Nel takes a fascinating look into the k...    ['Philip Nel']   \n",
       "2  Philip Nel takes a fascinating look into the k...    ['Philip Nel']   \n",
       "3  Philip Nel takes a fascinating look into the k...    ['Philip Nel']   \n",
       "4  Philip Nel takes a fascinating look into the k...    ['Philip Nel']   \n",
       "\n",
       "                      categories  ratingsCount  \n",
       "0    ['Comics & Graphic Novels']           NaN  \n",
       "1  ['Biography & Autobiography']           NaN  \n",
       "2  ['Biography & Autobiography']           NaN  \n",
       "3  ['Biography & Autobiography']           NaN  \n",
       "4  ['Biography & Autobiography']           NaN  "
      ]
     },
     "execution_count": 21,
     "metadata": {},
     "output_type": "execute_result"
    }
   ],
   "source": [
    "merged_df.head()"
   ]
  },
  {
   "cell_type": "code",
   "execution_count": 428,
   "metadata": {},
   "outputs": [
    {
     "data": {
      "text/plain": [
       "array(['A3PPO4VVZKW9FI', 'A912C7977MO6O', 'A11A8C6N19GDJK',\n",
       "       'A11M98R135HMSY', 'A13CLRLO9ZB9IA', 'A148XTAANYLCFN',\n",
       "       'A161DK06JJMCYF', 'A16LP6AB6C5LMZ', 'A1DSNQY41WVN4J',\n",
       "       'A1EVKGF2TNSI4'], dtype=object)"
      ]
     },
     "execution_count": 428,
     "metadata": {},
     "output_type": "execute_result"
    }
   ],
   "source": [
    "le.inverse_transform([723042,809105,9833,12345,25196,31922,45024,49235,102437,110425])"
   ]
  },
  {
   "cell_type": "code",
   "execution_count": 22,
   "metadata": {
    "collapsed": false,
    "jupyter": {
     "outputs_hidden": false
    },
    "pycharm": {
     "name": "#%%\n"
    }
   },
   "outputs": [],
   "source": [
    "ratings_unique = merged_df[[\"Title\", \"User_id\", \"review/score\"]].groupby([\"Title\", \"User_id\"]).mean().reset_index()"
   ]
  },
  {
   "cell_type": "code",
   "execution_count": 23,
   "metadata": {
    "collapsed": false,
    "jupyter": {
     "outputs_hidden": false
    },
    "pycharm": {
     "name": "#%%\n"
    }
   },
   "outputs": [],
   "source": [
    "# Calculating the average rating of each user\n",
    "avg_rating = (ratings_unique[[\"User_id\", \"review/score\"]].\n",
    "groupby(\"User_id\").mean())"
   ]
  },
  {
   "cell_type": "code",
   "execution_count": 24,
   "metadata": {
    "collapsed": false,
    "jupyter": {
     "outputs_hidden": false
    },
    "pycharm": {
     "name": "#%%\n"
    }
   },
   "outputs": [],
   "source": [
    "ratings_ = pd.merge(ratings_unique[[\"review/score\", \"User_id\", \"Title\"]], avg_rating, how=\"outer\", left_on=\"User_id\", right_index=True)"
   ]
  },
  {
   "cell_type": "code",
   "execution_count": 25,
   "metadata": {
    "collapsed": false,
    "jupyter": {
     "outputs_hidden": false
    },
    "pycharm": {
     "name": "#%%\n"
    }
   },
   "outputs": [],
   "source": [
    "avg_rtng = (ratings_.iloc[:,0]-ratings_.iloc[:,3]).values"
   ]
  },
  {
   "cell_type": "code",
   "execution_count": 27,
   "metadata": {
    "collapsed": false,
    "jupyter": {
     "outputs_hidden": false
    },
    "pycharm": {
     "name": "#%%\n"
    }
   },
   "outputs": [],
   "source": [
    "ratings_[\"avg\"] = ratings_.iloc[:,0]-ratings_.iloc[:,3]"
   ]
  },
  {
   "cell_type": "code",
   "execution_count": 29,
   "metadata": {
    "collapsed": false,
    "jupyter": {
     "outputs_hidden": false
    },
    "pycharm": {
     "name": "#%%\n"
    }
   },
   "outputs": [],
   "source": [
    "sparse_matrix = sparse.csc_matrix((avg_rtng, (ratings_unique[\"User_id\"].values, ratings_unique[\"Title\"].values)), shape=(ratings_unique[\"User_id\"].nunique(), ratings_unique[\"Title\"].nunique()))"
   ]
  },
  {
   "cell_type": "code",
   "execution_count": 30,
   "metadata": {
    "collapsed": false,
    "jupyter": {
     "outputs_hidden": false
    },
    "pycharm": {
     "name": "#%%\n"
    }
   },
   "outputs": [
    {
     "data": {
      "text/plain": [
       "<1008951x202226 sparse matrix of type '<class 'numpy.float64'>'\n",
       "\twith 2030641 stored elements in Compressed Sparse Column format>"
      ]
     },
     "execution_count": 30,
     "metadata": {},
     "output_type": "execute_result"
    }
   ],
   "source": [
    "sparse_matrix"
   ]
  },
  {
   "cell_type": "code",
   "execution_count": null,
   "metadata": {},
   "outputs": [],
   "source": []
  },
  {
   "cell_type": "markdown",
   "metadata": {
    "pycharm": {
     "name": "#%% md\n"
    }
   },
   "source": [
    "### Get rid of all explicitly stored zeros to reduce the size of the matrix"
   ]
  },
  {
   "cell_type": "code",
   "execution_count": 31,
   "metadata": {
    "collapsed": false,
    "jupyter": {
     "outputs_hidden": false
    },
    "pycharm": {
     "name": "#%%\n"
    }
   },
   "outputs": [],
   "source": [
    "import copy"
   ]
  },
  {
   "cell_type": "code",
   "execution_count": 32,
   "metadata": {
    "collapsed": false,
    "jupyter": {
     "outputs_hidden": false
    },
    "pycharm": {
     "name": "#%%\n"
    }
   },
   "outputs": [],
   "source": [
    "sm_c = copy.deepcopy(sparse_matrix)"
   ]
  },
  {
   "cell_type": "code",
   "execution_count": 33,
   "metadata": {
    "collapsed": false,
    "jupyter": {
     "outputs_hidden": false
    },
    "pycharm": {
     "name": "#%%\n"
    }
   },
   "outputs": [],
   "source": [
    "sm_c.eliminate_zeros()"
   ]
  },
  {
   "cell_type": "code",
   "execution_count": 34,
   "metadata": {
    "collapsed": false,
    "jupyter": {
     "outputs_hidden": false
    },
    "pycharm": {
     "name": "#%%\n"
    }
   },
   "outputs": [
    {
     "data": {
      "text/plain": [
       "<1008951x202226 sparse matrix of type '<class 'numpy.float64'>'\n",
       "\twith 818395 stored elements in Compressed Sparse Column format>"
      ]
     },
     "execution_count": 34,
     "metadata": {},
     "output_type": "execute_result"
    }
   ],
   "source": [
    "sm_c"
   ]
  },
  {
   "cell_type": "markdown",
   "metadata": {
    "pycharm": {
     "name": "#%% md\n"
    }
   },
   "source": [
    "Unfortunately the distance metrics in scipy can't work with sparse matrices, so we need to find an alternative\n",
    "https://docs.scipy.org/doc/scipy/reference/cluster.hierarchy.html#module-scipy.cluster.hierarchy"
   ]
  },
  {
   "cell_type": "code",
   "execution_count": 35,
   "metadata": {
    "collapsed": false,
    "jupyter": {
     "outputs_hidden": false
    },
    "pycharm": {
     "name": "#%%\n"
    }
   },
   "outputs": [],
   "source": [
    "from sklearn.cluster import KMeans"
   ]
  },
  {
   "cell_type": "markdown",
   "metadata": {
    "pycharm": {
     "name": "#%% md\n"
    }
   },
   "source": [
    "If we try to cluster our utility matrix, we run into an impass. The runtime will be way to long on any of our machines to get meaningful results.\n",
    "Thus, we need to try another approach."
   ]
  },
  {
   "cell_type": "markdown",
   "metadata": {
    "pycharm": {
     "name": "#%% md\n"
    }
   },
   "source": [
    "I get rid of all entries which have a rating of 0 after normalizing, since we will not be able to infer anything for them and they are stored explicitly, thus creating a lot of additional entries\n",
    "In order to create a sparse matrix the ids need to be in consecutive order"
   ]
  },
  {
   "cell_type": "code",
   "execution_count": 36,
   "metadata": {
    "collapsed": false,
    "jupyter": {
     "outputs_hidden": false
    },
    "pycharm": {
     "name": "#%%\n"
    }
   },
   "outputs": [],
   "source": [
    "ruc = copy.deepcopy(ratings_unique)"
   ]
  },
  {
   "cell_type": "code",
   "execution_count": 37,
   "metadata": {
    "collapsed": false,
    "jupyter": {
     "outputs_hidden": false
    },
    "pycharm": {
     "name": "#%%\n"
    }
   },
   "outputs": [],
   "source": [
    "ruc = ruc.reindex(index=ratings_.reset_index()[\"index\"])\n",
    "ruc[\"avg\"] = avg_rtng"
   ]
  },
  {
   "cell_type": "code",
   "execution_count": 38,
   "metadata": {
    "collapsed": false,
    "jupyter": {
     "outputs_hidden": false
    },
    "pycharm": {
     "name": "#%%\n"
    }
   },
   "outputs": [],
   "source": [
    "#ratings_unique_small = ratings_unique[avg_rtng!=0]\n",
    "ratings_unique_small = ruc[avg_rtng!=0]"
   ]
  },
  {
   "cell_type": "code",
   "execution_count": 41,
   "metadata": {
    "collapsed": false,
    "jupyter": {
     "outputs_hidden": false
    },
    "pycharm": {
     "name": "#%%\n"
    }
   },
   "outputs": [],
   "source": [
    "#https://datagy.io/python-create-dictionary-from-two-lists/\n",
    "# In order to use the csc_sparse_matrix the values need to be continuous, thus I need to remap all the values _again_\n",
    "dict_users = dict(zip(ratings_unique_small[\"User_id\"].unique(),range(ratings_unique_small[\"User_id\"].nunique())))"
   ]
  },
  {
   "cell_type": "code",
   "execution_count": 788,
   "metadata": {},
   "outputs": [
    {
     "data": {
      "text/plain": [
       "0"
      ]
     },
     "execution_count": 788,
     "metadata": {},
     "output_type": "execute_result"
    }
   ],
   "source": [
    "list(dict_users.values())[0]"
   ]
  },
  {
   "cell_type": "code",
   "execution_count": 790,
   "metadata": {},
   "outputs": [],
   "source": [
    "dict_users_inv = {}\n",
    "for iterInd, kv in enumerate(dict_users.keys()):\n",
    "    #dict_users_inv[dict_users]\n",
    "    dict_users_inv[list(dict_users.values())[iterInd]]=kv\n",
    "    #print(list(dict_users.values())[iterInd], kv)"
   ]
  },
  {
   "cell_type": "code",
   "execution_count": 42,
   "metadata": {
    "collapsed": false,
    "jupyter": {
     "outputs_hidden": false
    },
    "pycharm": {
     "name": "#%%\n"
    }
   },
   "outputs": [
    {
     "name": "stderr",
     "output_type": "stream",
     "text": [
      "C:\\Users\\paulw\\AppData\\Local\\Temp\\ipykernel_282884\\4257312846.py:1: SettingWithCopyWarning: \n",
      "A value is trying to be set on a copy of a slice from a DataFrame.\n",
      "Try using .loc[row_indexer,col_indexer] = value instead\n",
      "\n",
      "See the caveats in the documentation: https://pandas.pydata.org/pandas-docs/stable/user_guide/indexing.html#returning-a-view-versus-a-copy\n",
      "  ratings_unique_small[\"User_map\"] = ratings_unique_small[\"User_id\"].map(dict_users)\n"
     ]
    }
   ],
   "source": [
    "ratings_unique_small[\"User_map\"] = ratings_unique_small[\"User_id\"].map(dict_users)"
   ]
  },
  {
   "cell_type": "code",
   "execution_count": 43,
   "metadata": {
    "collapsed": false,
    "jupyter": {
     "outputs_hidden": false
    },
    "pycharm": {
     "name": "#%%\n"
    }
   },
   "outputs": [
    {
     "name": "stderr",
     "output_type": "stream",
     "text": [
      "C:\\Users\\paulw\\AppData\\Local\\Temp\\ipykernel_282884\\3245019326.py:2: SettingWithCopyWarning: \n",
      "A value is trying to be set on a copy of a slice from a DataFrame.\n",
      "Try using .loc[row_indexer,col_indexer] = value instead\n",
      "\n",
      "See the caveats in the documentation: https://pandas.pydata.org/pandas-docs/stable/user_guide/indexing.html#returning-a-view-versus-a-copy\n",
      "  ratings_unique_small[\"Title_map\"] = ratings_unique_small[\"Title\"].map(dict_titles)\n"
     ]
    }
   ],
   "source": [
    "dict_titles = dict(zip(ratings_unique_small[\"Title\"].unique(),range(ratings_unique_small[\"Title\"].nunique())))\n",
    "ratings_unique_small[\"Title_map\"] = ratings_unique_small[\"Title\"].map(dict_titles)"
   ]
  },
  {
   "cell_type": "code",
   "execution_count": 792,
   "metadata": {},
   "outputs": [],
   "source": [
    "dict_titles_inv = {}\n",
    "for iterInd, kv in enumerate(dict_titles.keys()):\n",
    "    dict_titles_inv[list(dict_titles.values())[iterInd]]=kv"
   ]
  },
  {
   "cell_type": "code",
   "execution_count": 44,
   "metadata": {
    "collapsed": false,
    "jupyter": {
     "outputs_hidden": false
    },
    "pycharm": {
     "name": "#%%\n"
    }
   },
   "outputs": [],
   "source": [
    "reduced_sparse = sparse.csc_matrix((avg_rtng[avg_rtng!=0], (ratings_unique_small[\"User_map\"].values, ratings_unique_small[\"Title_map\"].values)), shape=(ratings_unique_small[\"User_map\"].nunique(), ratings_unique_small[\"Title_map\"].nunique()))"
   ]
  },
  {
   "cell_type": "code",
   "execution_count": 45,
   "metadata": {
    "collapsed": false,
    "jupyter": {
     "outputs_hidden": false
    },
    "pycharm": {
     "name": "#%%\n"
    }
   },
   "outputs": [
    {
     "data": {
      "text/plain": [
       "<115157x134758 sparse matrix of type '<class 'numpy.float64'>'\n",
       "\twith 818395 stored elements in Compressed Sparse Column format>"
      ]
     },
     "execution_count": 45,
     "metadata": {},
     "output_type": "execute_result"
    }
   ],
   "source": [
    "reduced_sparse"
   ]
  },
  {
   "cell_type": "markdown",
   "metadata": {
    "pycharm": {
     "name": "#%% md\n"
    }
   },
   "source": [
    "After getting rid of all the 0 values in our sparse matrix, we reduced the number of entries to 1/4 of the original sparse matrix"
   ]
  },
  {
   "cell_type": "markdown",
   "metadata": {},
   "source": [
    "### Cluster the users together in order to find similar users"
   ]
  },
  {
   "cell_type": "code",
   "execution_count": 46,
   "metadata": {
    "collapsed": false,
    "jupyter": {
     "outputs_hidden": false
    },
    "pycharm": {
     "name": "#%%\n"
    }
   },
   "outputs": [],
   "source": [
    "num_clust =[int(np.floor(100000/j)) for j in reversed(range(2,10))]"
   ]
  },
  {
   "cell_type": "code",
   "execution_count": 48,
   "metadata": {
    "collapsed": false,
    "jupyter": {
     "outputs_hidden": false
    },
    "pycharm": {
     "name": "#%%\n"
    }
   },
   "outputs": [],
   "source": [
    "#distortions = []\n",
    "#for i in range(1,11):\n",
    "#    km = KMeans(n_clusters=i,\n",
    "#                init='k-means++', # this can be left out, as it is the default\n",
    "#                n_init=10,\n",
    "#                max_iter=300,\n",
    "#                random_state=0)\n",
    "#    km.fit(reduced_sparse)\n",
    "#    distortions.append(km.inertia_)\n",
    "#plt.plot(range(1,11), distortions , marker='o')\n",
    "#plt.xlabel('Number of clusters')\n",
    "#plt.ylabel('Distortion')\n",
    "#plt.tight_layout()\n",
    "##plt.savefig('28156/elbow.png', dpi=300)\n",
    "#plt.show()\n",
    "#*/"
   ]
  },
  {
   "cell_type": "code",
   "execution_count": 254,
   "metadata": {
    "collapsed": false,
    "jupyter": {
     "outputs_hidden": false
    },
    "pycharm": {
     "name": "#%%\n"
    }
   },
   "outputs": [
    {
     "data": {
      "text/html": [
       "<style>#sk-container-id-1 {color: black;background-color: white;}#sk-container-id-1 pre{padding: 0;}#sk-container-id-1 div.sk-toggleable {background-color: white;}#sk-container-id-1 label.sk-toggleable__label {cursor: pointer;display: block;width: 100%;margin-bottom: 0;padding: 0.3em;box-sizing: border-box;text-align: center;}#sk-container-id-1 label.sk-toggleable__label-arrow:before {content: \"▸\";float: left;margin-right: 0.25em;color: #696969;}#sk-container-id-1 label.sk-toggleable__label-arrow:hover:before {color: black;}#sk-container-id-1 div.sk-estimator:hover label.sk-toggleable__label-arrow:before {color: black;}#sk-container-id-1 div.sk-toggleable__content {max-height: 0;max-width: 0;overflow: hidden;text-align: left;background-color: #f0f8ff;}#sk-container-id-1 div.sk-toggleable__content pre {margin: 0.2em;color: black;border-radius: 0.25em;background-color: #f0f8ff;}#sk-container-id-1 input.sk-toggleable__control:checked~div.sk-toggleable__content {max-height: 200px;max-width: 100%;overflow: auto;}#sk-container-id-1 input.sk-toggleable__control:checked~label.sk-toggleable__label-arrow:before {content: \"▾\";}#sk-container-id-1 div.sk-estimator input.sk-toggleable__control:checked~label.sk-toggleable__label {background-color: #d4ebff;}#sk-container-id-1 div.sk-label input.sk-toggleable__control:checked~label.sk-toggleable__label {background-color: #d4ebff;}#sk-container-id-1 input.sk-hidden--visually {border: 0;clip: rect(1px 1px 1px 1px);clip: rect(1px, 1px, 1px, 1px);height: 1px;margin: -1px;overflow: hidden;padding: 0;position: absolute;width: 1px;}#sk-container-id-1 div.sk-estimator {font-family: monospace;background-color: #f0f8ff;border: 1px dotted black;border-radius: 0.25em;box-sizing: border-box;margin-bottom: 0.5em;}#sk-container-id-1 div.sk-estimator:hover {background-color: #d4ebff;}#sk-container-id-1 div.sk-parallel-item::after {content: \"\";width: 100%;border-bottom: 1px solid gray;flex-grow: 1;}#sk-container-id-1 div.sk-label:hover label.sk-toggleable__label {background-color: #d4ebff;}#sk-container-id-1 div.sk-serial::before {content: \"\";position: absolute;border-left: 1px solid gray;box-sizing: border-box;top: 0;bottom: 0;left: 50%;z-index: 0;}#sk-container-id-1 div.sk-serial {display: flex;flex-direction: column;align-items: center;background-color: white;padding-right: 0.2em;padding-left: 0.2em;position: relative;}#sk-container-id-1 div.sk-item {position: relative;z-index: 1;}#sk-container-id-1 div.sk-parallel {display: flex;align-items: stretch;justify-content: center;background-color: white;position: relative;}#sk-container-id-1 div.sk-item::before, #sk-container-id-1 div.sk-parallel-item::before {content: \"\";position: absolute;border-left: 1px solid gray;box-sizing: border-box;top: 0;bottom: 0;left: 50%;z-index: -1;}#sk-container-id-1 div.sk-parallel-item {display: flex;flex-direction: column;z-index: 1;position: relative;background-color: white;}#sk-container-id-1 div.sk-parallel-item:first-child::after {align-self: flex-end;width: 50%;}#sk-container-id-1 div.sk-parallel-item:last-child::after {align-self: flex-start;width: 50%;}#sk-container-id-1 div.sk-parallel-item:only-child::after {width: 0;}#sk-container-id-1 div.sk-dashed-wrapped {border: 1px dashed gray;margin: 0 0.4em 0.5em 0.4em;box-sizing: border-box;padding-bottom: 0.4em;background-color: white;}#sk-container-id-1 div.sk-label label {font-family: monospace;font-weight: bold;display: inline-block;line-height: 1.2em;}#sk-container-id-1 div.sk-label-container {text-align: center;}#sk-container-id-1 div.sk-container {/* jupyter's `normalize.less` sets `[hidden] { display: none; }` but bootstrap.min.css set `[hidden] { display: none !important; }` so we also need the `!important` here to be able to override the default hidden behavior on the sphinx rendered scikit-learn.org. See: https://github.com/scikit-learn/scikit-learn/issues/21755 */display: inline-block !important;position: relative;}#sk-container-id-1 div.sk-text-repr-fallback {display: none;}</style><div id=\"sk-container-id-1\" class=\"sk-top-container\"><div class=\"sk-text-repr-fallback\"><pre>KMeans(n_clusters=1000, random_state=0)</pre><b>In a Jupyter environment, please rerun this cell to show the HTML representation or trust the notebook. <br />On GitHub, the HTML representation is unable to render, please try loading this page with nbviewer.org.</b></div><div class=\"sk-container\" hidden><div class=\"sk-item\"><div class=\"sk-estimator sk-toggleable\"><input class=\"sk-toggleable__control sk-hidden--visually\" id=\"sk-estimator-id-1\" type=\"checkbox\" checked><label for=\"sk-estimator-id-1\" class=\"sk-toggleable__label sk-toggleable__label-arrow\">KMeans</label><div class=\"sk-toggleable__content\"><pre>KMeans(n_clusters=1000, random_state=0)</pre></div></div></div></div></div>"
      ],
      "text/plain": [
       "KMeans(n_clusters=1000, random_state=0)"
      ]
     },
     "execution_count": 254,
     "metadata": {},
     "output_type": "execute_result"
    }
   ],
   "source": [
    "km_fit = KMeans(n_clusters=1000,\n",
    "                init='k-means++', # this can be left out, as it is the default\n",
    "                n_init=10,\n",
    "                max_iter=300,\n",
    "                random_state=0)\n",
    "km_fit.fit(reduced_sparse)"
   ]
  },
  {
   "cell_type": "code",
   "execution_count": 266,
   "metadata": {},
   "outputs": [],
   "source": [
    "#np.savetxt(\"labels.txt\", km_fit.labels_)\n",
    "#file.write(str(km_fit.labels_))\n",
    "#file.close()\n",
    "#np.save(\"labels1000.csv\",km_fit.labels_)"
   ]
  },
  {
   "cell_type": "code",
   "execution_count": 685,
   "metadata": {},
   "outputs": [],
   "source": [
    "# Saving the labels of KMeans with 1000 clusters\n",
    "#pickle.dump(km_fit.labels_, open(\"labels1000.p\", \"wb\"))"
   ]
  },
  {
   "cell_type": "markdown",
   "metadata": {
    "pycharm": {
     "name": "#%% md\n"
    }
   },
   "source": [
    "### Looking at matrix factorization or UV-Decomposition\n",
    "I couldn't find any direct suggested value for choosing d, so I will just run with one and then see how it goes\n",
    "\n",
    "the standard deviation of our ratings is approx. 1, so I just randomly initialize u and v with normally distributed random variables"
   ]
  },
  {
   "cell_type": "code",
   "execution_count": 698,
   "metadata": {},
   "outputs": [],
   "source": [
    "#np.random.seed(2807)"
   ]
  },
  {
   "cell_type": "code",
   "execution_count": 274,
   "metadata": {
    "collapsed": false,
    "jupyter": {
     "outputs_hidden": false
    },
    "pycharm": {
     "name": "#%%\n"
    }
   },
   "outputs": [],
   "source": [
    "## Initializing u and V\n",
    "#u = np.random.default_rng().normal(0,.5,(reduced_sparse.shape[0],50))\n",
    "#v = np.random.default_rng().normal(0,.5,(50, reduced_sparse.shape[1]))\n",
    "#\n",
    "#pickle.dump(u, open(\"u_slow.p\", \"wb\"))\n",
    "#pickle.dump(v, open(\"v_slow.p\", \"wb\"))"
   ]
  },
  {
   "cell_type": "code",
   "execution_count": 703,
   "metadata": {},
   "outputs": [],
   "source": [
    "u = pickle.load(open(\"u_slow.p\", \"rb\"))\n",
    "v = pickle.load(open(\"v_slow.p\", \"rb\"))"
   ]
  },
  {
   "cell_type": "code",
   "execution_count": 47,
   "metadata": {
    "collapsed": false,
    "jupyter": {
     "outputs_hidden": false
    },
    "pycharm": {
     "name": "#%%\n"
    }
   },
   "outputs": [],
   "source": [
    "ratings_unqi = ratings_unique_small[[\"User_map\", \"Title_map\"]].set_index(\"User_map\")"
   ]
  },
  {
   "cell_type": "code",
   "execution_count": 49,
   "metadata": {
    "collapsed": false,
    "jupyter": {
     "outputs_hidden": false
    },
    "pycharm": {
     "name": "#%%\n"
    }
   },
   "outputs": [],
   "source": [
    "def predict(df, user_index, u, v):\n",
    "    \"\"\"Computes dot product of the two matrices u and v\"\"\"\n",
    "    y_hat = np.dot(u[user_index,:],v[:,reduced_sparse.getrow(user_index).indices])\n",
    "    return y_hat"
   ]
  },
  {
   "cell_type": "code",
   "execution_count": 500,
   "metadata": {
    "collapsed": false,
    "jupyter": {
     "outputs_hidden": false
    },
    "pycharm": {
     "name": "#%%\n"
    }
   },
   "outputs": [],
   "source": [
    "def cost(df, index, u, v):\n",
    "    ### Get the number of entries for this specific user index\n",
    "    ### and calculate dot-product of the two embedding vectors\n",
    "    ### transform result into a sparse matrix to calculate sum of squares\n",
    "    num_ratings_user = len(ratings_unqi.loc[index].reset_index()[\"User_map\"].values)\n",
    "    #print(num_ratings_user)\n",
    "    y_hat_sparse = sparse.csc_matrix((predict(0,index,u,v),\n",
    "                    (np.zeros(num_ratings_user), reduced_sparse.getrow(index).indices)),\n",
    "                    shape=(1, ratings_unique_small[\"Title_map\"].nunique()))\n",
    "    # calculate MSE for embeddings\n",
    "    return [(reduced_sparse[index]-y_hat_sparse),((reduced_sparse[index]-y_hat_sparse).power(2).sum()/num_ratings_user)]\n",
    "    #return np.abs(reduced_sparse[index]-y_hat_sparse)"
   ]
  },
  {
   "cell_type": "code",
   "execution_count": 506,
   "metadata": {
    "collapsed": false,
    "jupyter": {
     "outputs_hidden": false
    },
    "pycharm": {
     "name": "#%%\n"
    }
   },
   "outputs": [],
   "source": [
    "def gradient(df, index,u,v, learning_rate=0.001, lmbda=0.005):\n",
    "    \"\"\"Calculates the gradients for u and v and iteratively updated it for the given index\"\"\"\n",
    "    residuals,rmse = cost(df, index, u, v)\n",
    "    df.append(rmse)\n",
    "    \n",
    "    l = len(reduced_sparse.getrow(index).indices)\n",
    "    #np.multiply(residuals.data.reshape(1,l).T,np.array([u[index] for ik in range(l)])).T\n",
    "    #v[:,reduced_sparse.getrow(index).indices] += learning_rate*((np.multiply(residuals.data,u[reduced_sparse.getrow(index).indices].T) - lmbda*v[:,reduced_sparse.getrow(index).indices]))\n",
    "    v[:,reduced_sparse.getrow(index).indices] += learning_rate*((np.multiply(residuals.data.reshape(1,l).T,np.array([u[index] for ik in range(l)])).T) - lmbda*v[:,reduced_sparse.getrow(index).indices])\n",
    "    #u[reduced_sparse.getrow(index).indices,:] += learning_rate*((np.multiply(residuals.data,v[:,reduced_sparse.getrow(index).indices]).T - lmbda*u[reduced_sparse.getrow(index).indices,:]))\n",
    "    u[index,:] += learning_rate*((np.multiply(residuals.data,v[:,reduced_sparse.getrow(index).indices]).T - lmbda*u[index,:])).mean(axis=0)\n",
    "                                \n",
    "    return u,v"
   ]
  },
  {
   "cell_type": "code",
   "execution_count": 629,
   "metadata": {},
   "outputs": [],
   "source": [
    "def gradient_descent(u_,v_,n_iter):\n",
    "    num_user = reduced_sparse.shape[0]\n",
    "    \n",
    "    u = copy.deepcopy(u_)\n",
    "    v = copy.deepcopy(v_)\n",
    "    df=[]\n",
    "    \n",
    "    for ni in range(n_iter):\n",
    "        for nu in tqdm(range(num_user), desc=\"Users...\"):\n",
    "            u,v = gradient(df,nu,u,v, 0.1, 3)\n",
    "            \n",
    "    return u,v"
   ]
  },
  {
   "cell_type": "code",
   "execution_count": 606,
   "metadata": {},
   "outputs": [],
   "source": [
    "def gradient_user(u_,v_,n_iter, index, lr=0.1, lmbd = 3):\n",
    "    num_user = reduced_sparse.shape[0]\n",
    "    \n",
    "    df = []\n",
    "    \n",
    "    u = copy.deepcopy(u_)\n",
    "    v = copy.deepcopy(v_)\n",
    "    \n",
    "    #for ni in tqdm(range(n_iter),desc=\"Loading...\"):\n",
    "    for ni in tqdm(range(n_iter), desc=\"Iterations...\"):\n",
    "            u,v = gradient(df,index,u,v, lr, lmbd)\n",
    "    #print(ni)\n",
    "    plt.plot(range(n_iter),df)\n",
    "    plt.title(\"RMSE\")\n",
    "    plt.xlabel(\"Iteration\")\n",
    "    plt.ylabel(\"RMSE\")\n",
    "    plt.show()\n",
    "            \n",
    "    return u[index,:],v, df"
   ]
  },
  {
   "cell_type": "code",
   "execution_count": 552,
   "metadata": {},
   "outputs": [],
   "source": []
  },
  {
   "cell_type": "code",
   "execution_count": 630,
   "metadata": {
    "tags": []
   },
   "outputs": [],
   "source": [
    "u2,v2 = gradient_descent(u,v,4)\n",
    "# run with high lamda and learning rate\n",
    "# 0.1 and 3"
   ]
  },
  {
   "cell_type": "code",
   "execution_count": 699,
   "metadata": {
    "tags": []
   },
   "outputs": [],
   "source": [
    "#pickle.dump(u2, open(\"u2.p\", \"wb\"))\n",
    "#pickle.dump(v2, open(\"v2.p\", \"wb\"))"
   ]
  },
  {
   "cell_type": "code",
   "execution_count": null,
   "metadata": {},
   "outputs": [],
   "source": [
    "u2 = pickle.load(open(\"u_slow.p\", \"rb\"))\n",
    "v2 = pickle.load(open(\"v_slow.p\", \"rb\"))"
   ]
  },
  {
   "cell_type": "code",
   "execution_count": 622,
   "metadata": {},
   "outputs": [
    {
     "name": "stderr",
     "output_type": "stream",
     "text": [
      "Iterations...: 100%|██████████| 5/5 [00:00<00:00, 11.52it/s]\n"
     ]
    },
    {
     "data": {
      "image/png": "[encoded data removed]",
      "text/plain": [
       "<Figure size 432x288 with 1 Axes>"
      ]
     },
     "metadata": {
      "needs_background": "light"
     },
     "output_type": "display_data"
    }
   ],
   "source": [
    "u_single, v_single,rmse_single = gradient_user(u,v,5, 0)"
   ]
  },
  {
   "cell_type": "markdown",
   "metadata": {},
   "source": [
    "It looks like the RMSE increases after the second iteration again.  \n",
    "Hopefully that prevents overfitting, since we still have a _very_ low RMSE with below 0.25"
   ]
  },
  {
   "cell_type": "markdown",
   "metadata": {},
   "source": [
    "Making predictions for the users (check that the movies are not some that they have already watched!)"
   ]
  },
  {
   "cell_type": "code",
   "execution_count": 815,
   "metadata": {},
   "outputs": [],
   "source": [
    "def get_predictions(u_, v_, ind_, sparse_ = reduced_sparse, n_top = 10):\n",
    "    \"\"\"Returns the top n predictions\"\"\"\n",
    "    if u_.shape[0]>50:\n",
    "        #print(\"large\")\n",
    "        pred_ = np.dot(u_[ind_],v_)\n",
    "    else:\n",
    "        #print(\"small\")\n",
    "        pred_ = np.dot(u_, v_)\n",
    "    pred_ = np.ma.array(pred_, mask=False)#.mask[0] = True\n",
    "    pred_.mask[sparse_.getrow(ind_).indices] = True\n",
    "    num_read = len(reduced_sparse.getrow(ind_).indices)\n",
    "    return [np.sort(pred_)[-(n_top+num_read):].data[:n_top], np.argsort(pred_)[-(n_top+num_read):][:n_top]]"
   ]
  },
  {
   "cell_type": "code",
   "execution_count": 803,
   "metadata": {},
   "outputs": [],
   "source": [
    "pu2, pv2 = get_predictions(u2, v2, 0)"
   ]
  },
  {
   "cell_type": "code",
   "execution_count": 801,
   "metadata": {},
   "outputs": [],
   "source": [
    "pu, pv = get_predictions(u, v, 0)"
   ]
  },
  {
   "cell_type": "code",
   "execution_count": 814,
   "metadata": {},
   "outputs": [
    {
     "name": "stdout",
     "output_type": "stream",
     "text": [
      "small\n"
     ]
    }
   ],
   "source": [
    "pus, pvs = get_predictions(u_single, v_single, 0)"
   ]
  },
  {
   "cell_type": "code",
   "execution_count": 800,
   "metadata": {},
   "outputs": [],
   "source": [
    "def map_to_title(titles_encoded):\n",
    "    \"\"\"Returns the original Title of a movie.\n",
    "        Parameters:\n",
    "            titles_encoded: A list containing all encoded titles to transform.\n",
    "        Returns\n",
    "    \"\"\"\n",
    "    tit_dec = [dict_titles_inv.get(ti) for ti in titles_encoded]\n",
    "\n",
    "        \n",
    "    return le2.inverse_transform(tit_dec)"
   ]
  },
  {
   "cell_type": "code",
   "execution_count": null,
   "metadata": {},
   "outputs": [],
   "source": []
  },
  {
   "cell_type": "code",
   "execution_count": 828,
   "metadata": {},
   "outputs": [],
   "source": [
    "def real_ratings(ratings_, id_):\n",
    "    \n",
    "    return ratings_ + avg_rating.iloc[dict_users_inv[id_]].values"
   ]
  },
  {
   "cell_type": "code",
   "execution_count": 802,
   "metadata": {},
   "outputs": [
    {
     "data": {
      "text/plain": [
       "array(['the great planes.',\n",
       "       'facts about the presidents: from washington to johnson',\n",
       "       'the complete guide to offshore money havens, revised and updated 3rd edition: how to make millions, protect your privacy, and legally avoid taxes',\n",
       "       'agent a to agent z',\n",
       "       'a book on c: programming in c (4th (fourth) edition)',\n",
       "       'journal of albion moonlight.', 'mr.tompkins in paperback',\n",
       "       'plants of the western boreal forest and aspen parkland', 'bubbly',\n",
       "       'early work 1970-1979 (signed limited edition in slipcase)'],\n",
       "      dtype=object)"
      ]
     },
     "execution_count": 802,
     "metadata": {},
     "output_type": "execute_result"
    }
   ],
   "source": [
    "map_to_title(pv)"
   ]
  },
  {
   "cell_type": "code",
   "execution_count": 804,
   "metadata": {},
   "outputs": [
    {
     "data": {
      "text/plain": [
       "array(['agent a to agent z', 'gourmet & specialty shops',\n",
       "       'the dollar and the vatican',\n",
       "       'plants of the western boreal forest and aspen parkland',\n",
       "       'screamplays',\n",
       "       \"the view from nashville: on the record with country music's greatest stars\",\n",
       "       'the september apocalypse: an eyewitness account of the september 11th disaster',\n",
       "       'jezebel and the goddesses',\n",
       "       'globalisation of poverty: the impacts of imf and world bank reforms',\n",
       "       'boyd: archibald and abraham l. boyd of missouri and illinois'],\n",
       "      dtype=object)"
      ]
     },
     "execution_count": 804,
     "metadata": {},
     "output_type": "execute_result"
    }
   ],
   "source": [
    "map_to_title(pv2)"
   ]
  },
  {
   "cell_type": "code",
   "execution_count": 861,
   "metadata": {},
   "outputs": [
    {
     "data": {
      "text/plain": [
       "array([ 4.24520392,  4.25136113,  4.25527404,  4.27499594,  4.27551351,\n",
       "        4.29139539,  4.31937637,  4.32305942,  4.52166278, 16.78862079])"
      ]
     },
     "execution_count": 861,
     "metadata": {},
     "output_type": "execute_result"
    }
   ],
   "source": [
    "real_ratings(pu2, 0)"
   ]
  },
  {
   "cell_type": "code",
   "execution_count": 810,
   "metadata": {},
   "outputs": [
    {
     "data": {
      "text/plain": [
       "array(['the great planes.',\n",
       "       'facts about the presidents: from washington to johnson',\n",
       "       'a book on c: programming in c (4th (fourth) edition)',\n",
       "       'the complete guide to offshore money havens, revised and updated 3rd edition: how to make millions, protect your privacy, and legally avoid taxes',\n",
       "       'macromedia dreamweaver mx killer tips (voices that matter)',\n",
       "       'agent a to agent z', 'mr.tompkins in paperback',\n",
       "       'early work 1970-1979 (signed limited edition in slipcase)',\n",
       "       'bubbly', 'plants of the western boreal forest and aspen parkland'],\n",
       "      dtype=object)"
      ]
     },
     "execution_count": 810,
     "metadata": {},
     "output_type": "execute_result"
    }
   ],
   "source": [
    "map_to_title(pvs)"
   ]
  },
  {
   "cell_type": "markdown",
   "metadata": {},
   "source": [
    "## Comparing against efficient library (using slightly different algorithm)"
   ]
  },
  {
   "cell_type": "markdown",
   "metadata": {},
   "source": [
    "### Array of user indices\n",
    "[0,2,3,4,5,6,7,8,12,14]"
   ]
  },
  {
   "cell_type": "code",
   "execution_count": null,
   "metadata": {
    "collapsed": false,
    "jupyter": {
     "outputs_hidden": false
    },
    "pycharm": {
     "name": "#%%\n"
    }
   },
   "outputs": [],
   "source": [
    "#https://towardsdatascience.com/alternating-least-square-for-implicit-dataset-with-code-8e7999277f4b\n",
    "import implicit"
   ]
  },
  {
   "cell_type": "code",
   "execution_count": 443,
   "metadata": {
    "collapsed": false,
    "jupyter": {
     "outputs_hidden": false
    },
    "pycharm": {
     "name": "#%%\n"
    }
   },
   "outputs": [
    {
     "name": "stderr",
     "output_type": "stream",
     "text": [
      "C:\\Users\\paulw\\anaconda3\\lib\\site-packages\\implicit\\utils.py:138: ParameterWarning: Method expects CSR input, and was passed csc_matrix instead. Converting to CSR took 0.030007123947143555 seconds\n",
      "  warnings.warn(\n"
     ]
    },
    {
     "data": {
      "application/vnd.jupyter.widget-view+json": {
       "model_id": "86705737ad45452eafd95e98240a0a40",
       "version_major": 2,
       "version_minor": 0
      },
      "text/plain": [
       "  0%|          | 0/100 [00:00<?, ?it/s]"
      ]
     },
     "metadata": {},
     "output_type": "display_data"
    }
   ],
   "source": [
    "model = implicit.als.AlternatingLeastSquares(factors=100, regularization=0.05, iterations=100, alpha=40.0)\n",
    "alpha_val = 40\n",
    "#data_conf = (reduced_sparse).astype('double')\n",
    "model.fit(reduced_sparse)"
   ]
  },
  {
   "cell_type": "code",
   "execution_count": 474,
   "metadata": {
    "collapsed": false,
    "jupyter": {
     "outputs_hidden": false
    },
    "pycharm": {
     "name": "#%%\n"
    }
   },
   "outputs": [],
   "source": [
    "reduced_sparse_T = sparse.csc_matrix((avg_rtng[avg_rtng!=0], (ratings_unique_small[\"Title_map\"].values, ratings_unique_small[\"User_map\"].values)), shape=(ratings_unique_small[\"Title_map\"].nunique(), ratings_unique_small[\"User_map\"].nunique()))"
   ]
  },
  {
   "cell_type": "code",
   "execution_count": 805,
   "metadata": {
    "collapsed": false,
    "jupyter": {
     "outputs_hidden": false
    },
    "pycharm": {
     "name": "#%%\n"
    }
   },
   "outputs": [],
   "source": [
    "pmr, pmv = model.recommend(0, reduced_sparse.tocsr().getrow(0))"
   ]
  },
  {
   "cell_type": "code",
   "execution_count": 808,
   "metadata": {},
   "outputs": [
    {
     "data": {
      "text/plain": [
       "array(['\" film technique, \" and, \" film acting \"', 'damnation alley',\n",
       "       'dna for beginners', 'film technique and film acting',\n",
       "       'official secrets: the use and abuse of the act',\n",
       "       'on the psychology of military incompetence',\n",
       "       'platoon & salvador, no. v629',\n",
       "       'selling politics: accompanies the tv series we have ways of making you think',\n",
       "       'the age of innocence : a portrait of the film based on the novel by edith wharton',\n",
       "       'the eye of the beholder ; the queen of the night ; the ice maiden (a black box thriller)',\n",
       "       'the first casualty: from the crimea to vietnam : the war correspondent as hero, propagandist, and myth maker (harvest book ; hb 343)',\n",
       "       'the making of dune', 'the parallax view',\n",
       "       'the shawshank redemption: the shooting script (newmarket shooting script series)',\n",
       "       'the silent conspiracy'], dtype=object)"
      ]
     },
     "execution_count": 808,
     "metadata": {},
     "output_type": "execute_result"
    }
   ],
   "source": [
    "map_to_title(reduced_sparse.tocsr().getrow(0).indices)"
   ]
  },
  {
   "cell_type": "code",
   "execution_count": 806,
   "metadata": {},
   "outputs": [
    {
     "data": {
      "text/plain": [
       "array(['sunshine', 'the count of monte cristo: golden picture classic',\n",
       "       'the count of monte cristo, abridged', 'the count of monte cristo',\n",
       "       'monte cristo,', 'count of monte cristo',\n",
       "       'the count of monte cristo, (the rittenhouse classics)',\n",
       "       'the count of monte cristo (the novels of alexandre dumas)',\n",
       "       'i, robot', 'crucible, the'], dtype=object)"
      ]
     },
     "execution_count": 806,
     "metadata": {},
     "output_type": "execute_result"
    }
   ],
   "source": [
    "map_to_title(pmr)"
   ]
  },
  {
   "cell_type": "code",
   "execution_count": 858,
   "metadata": {},
   "outputs": [
    {
     "data": {
      "text/plain": [
       "array([4.00747203, 3.98107012, 3.98107012, 3.98107012, 3.98107012,\n",
       "       3.98107012, 3.98107012, 3.98107011, 3.97575965, 3.96753496])"
      ]
     },
     "execution_count": 860,
     "metadata": {},
     "output_type": "execute_result"
    }
   ],
   "source": [
    "real_ratings(pmr, 0)"
   ]
  },
  {
   "cell_type": "code",
   "execution_count": 655,
   "metadata": {
    "collapsed": true,
    "jupyter": {
     "outputs_hidden": true
    },
    "tags": []
   },
   "outputs": [
    {
     "name": "stdout",
     "output_type": "stream",
     "text": [
      "Collecting scikit-surprise\n",
      "  Using cached scikit-surprise-1.1.3.tar.gz (771 kB)\n",
      "  Preparing metadata (setup.py): started\n",
      "  Preparing metadata (setup.py): finished with status 'done'\n",
      "Requirement already satisfied: joblib>=1.0.0 in c:\\users\\paulw\\anaconda3\\lib\\site-packages (from scikit-surprise) (1.1.0)\n",
      "Requirement already satisfied: numpy>=1.17.3 in c:\\users\\paulw\\anaconda3\\lib\\site-packages (from scikit-surprise) (1.21.5)\n",
      "Requirement already satisfied: scipy>=1.3.2 in c:\\users\\paulw\\anaconda3\\lib\\site-packages (from scikit-surprise) (1.7.3)\n",
      "Building wheels for collected packages: scikit-surprise\n",
      "  Building wheel for scikit-surprise (setup.py): started\n",
      "  Building wheel for scikit-surprise (setup.py): finished with status 'error'\n",
      "  Running setup.py clean for scikit-surprise\n",
      "Failed to build scikit-surprise\n",
      "Installing collected packages: scikit-surprise\n",
      "  Running setup.py install for scikit-surprise: started\n",
      "  Running setup.py install for scikit-surprise: finished with status 'error'\n"
     ]
    },
    {
     "name": "stderr",
     "output_type": "stream",
     "text": [
      "  error: subprocess-exited-with-error\n",
      "  \n",
      "  python setup.py bdist_wheel did not run successfully.\n",
      "  exit code: 1\n",
      "  \n",
      "  [76 lines of output]\n",
      "  running bdist_wheel\n",
      "  running build\n",
      "  running build_py\n",
      "  creating build\n",
      "  creating build\\lib.win-amd64-cpython-38\n",
      "  creating build\\lib.win-amd64-cpython-38\\surprise\n",
      "  copying surprise\\accuracy.py -> build\\lib.win-amd64-cpython-38\\surprise\n",
      "  copying surprise\\builtin_datasets.py -> build\\lib.win-amd64-cpython-38\\surprise\n",
      "  copying surprise\\dataset.py -> build\\lib.win-amd64-cpython-38\\surprise\n",
      "  copying surprise\\dump.py -> build\\lib.win-amd64-cpython-38\\surprise\n",
      "  copying surprise\\reader.py -> build\\lib.win-amd64-cpython-38\\surprise\n",
      "  copying surprise\\trainset.py -> build\\lib.win-amd64-cpython-38\\surprise\n",
      "  copying surprise\\utils.py -> build\\lib.win-amd64-cpython-38\\surprise\n",
      "  copying surprise\\__init__.py -> build\\lib.win-amd64-cpython-38\\surprise\n",
      "  copying surprise\\__main__.py -> build\\lib.win-amd64-cpython-38\\surprise\n",
      "  creating build\\lib.win-amd64-cpython-38\\surprise\\model_selection\n",
      "  copying surprise\\model_selection\\search.py -> build\\lib.win-amd64-cpython-38\\surprise\\model_selection\n",
      "  copying surprise\\model_selection\\split.py -> build\\lib.win-amd64-cpython-38\\surprise\\model_selection\n",
      "  copying surprise\\model_selection\\validation.py -> build\\lib.win-amd64-cpython-38\\surprise\\model_selection\n",
      "  copying surprise\\model_selection\\__init__.py -> build\\lib.win-amd64-cpython-38\\surprise\\model_selection\n",
      "  creating build\\lib.win-amd64-cpython-38\\surprise\\prediction_algorithms\n",
      "  copying surprise\\prediction_algorithms\\algo_base.py -> build\\lib.win-amd64-cpython-38\\surprise\\prediction_algorithms\n",
      "  copying surprise\\prediction_algorithms\\baseline_only.py -> build\\lib.win-amd64-cpython-38\\surprise\\prediction_algorithms\n",
      "  copying surprise\\prediction_algorithms\\knns.py -> build\\lib.win-amd64-cpython-38\\surprise\\prediction_algorithms\n",
      "  copying surprise\\prediction_algorithms\\predictions.py -> build\\lib.win-amd64-cpython-38\\surprise\\prediction_algorithms\n",
      "  copying surprise\\prediction_algorithms\\random_pred.py -> build\\lib.win-amd64-cpython-38\\surprise\\prediction_algorithms\n",
      "  copying surprise\\prediction_algorithms\\__init__.py -> build\\lib.win-amd64-cpython-38\\surprise\\prediction_algorithms\n",
      "  running egg_info\n",
      "  writing scikit_surprise.egg-info\\PKG-INFO\n",
      "  writing dependency_links to scikit_surprise.egg-info\\dependency_links.txt\n",
      "  writing entry points to scikit_surprise.egg-info\\entry_points.txt\n",
      "  writing requirements to scikit_surprise.egg-info\\requires.txt\n",
      "  writing top-level names to scikit_surprise.egg-info\\top_level.txt\n",
      "  reading manifest file 'scikit_surprise.egg-info\\SOURCES.txt'\n",
      "  reading manifest template 'MANIFEST.in'\n",
      "  adding license file 'LICENSE.md'\n",
      "  writing manifest file 'scikit_surprise.egg-info\\SOURCES.txt'\n",
      "  C:\\Users\\paulw\\anaconda3\\lib\\site-packages\\setuptools\\command\\build_py.py:202: SetuptoolsDeprecationWarning:     Installing 'surprise.prediction_algorithms' as data is deprecated, please list it in `packages`.\n",
      "      !!\n",
      "  \n",
      "  \n",
      "      ############################\n",
      "      # Package would be ignored #\n",
      "      ############################\n",
      "      Python recognizes 'surprise.prediction_algorithms' as an importable package,\n",
      "      but it is not listed in the `packages` configuration of setuptools.\n",
      "  \n",
      "      'surprise.prediction_algorithms' has been automatically added to the distribution only\n",
      "      because it may contain data files, but this behavior is likely to change\n",
      "      in future versions of setuptools (and therefore is considered deprecated).\n",
      "  \n",
      "      Please make sure that 'surprise.prediction_algorithms' is included as a package by using\n",
      "      the `packages` configuration field or the proper discovery methods\n",
      "      (for example by using `find_namespace_packages(...)`/`find_namespace:`\n",
      "      instead of `find_packages(...)`/`find:`).\n",
      "  \n",
      "      You can read more about \"package discovery\" and \"data files\" on setuptools\n",
      "      documentation page.\n",
      "  \n",
      "  \n",
      "  !!\n",
      "  \n",
      "    check.warn(importable)\n",
      "  copying surprise\\similarities.c -> build\\lib.win-amd64-cpython-38\\surprise\n",
      "  copying surprise\\similarities.pyx -> build\\lib.win-amd64-cpython-38\\surprise\n",
      "  copying surprise\\prediction_algorithms\\co_clustering.c -> build\\lib.win-amd64-cpython-38\\surprise\\prediction_algorithms\n",
      "  copying surprise\\prediction_algorithms\\matrix_factorization.c -> build\\lib.win-amd64-cpython-38\\surprise\\prediction_algorithms\n",
      "  copying surprise\\prediction_algorithms\\optimize_baselines.c -> build\\lib.win-amd64-cpython-38\\surprise\\prediction_algorithms\n",
      "  copying surprise\\prediction_algorithms\\slope_one.c -> build\\lib.win-amd64-cpython-38\\surprise\\prediction_algorithms\n",
      "  copying surprise\\prediction_algorithms\\co_clustering.pyx -> build\\lib.win-amd64-cpython-38\\surprise\\prediction_algorithms\n",
      "  copying surprise\\prediction_algorithms\\matrix_factorization.pyx -> build\\lib.win-amd64-cpython-38\\surprise\\prediction_algorithms\n",
      "  copying surprise\\prediction_algorithms\\optimize_baselines.pyx -> build\\lib.win-amd64-cpython-38\\surprise\\prediction_algorithms\n",
      "  copying surprise\\prediction_algorithms\\slope_one.pyx -> build\\lib.win-amd64-cpython-38\\surprise\\prediction_algorithms\n",
      "  running build_ext\n",
      "  building 'surprise.similarities' extension\n",
      "  error: Microsoft Visual C++ 14.0 or greater is required. Get it with \"Microsoft C++ Build Tools\": https://visualstudio.microsoft.com/visual-cpp-build-tools/\n",
      "  [end of output]\n",
      "  \n",
      "  note: This error originates from a subprocess, and is likely not a problem with pip.\n",
      "  ERROR: Failed building wheel for scikit-surprise\n",
      "  error: subprocess-exited-with-error\n",
      "  \n",
      "  Running setup.py install for scikit-surprise did not run successfully.\n",
      "  exit code: 1\n",
      "  \n",
      "  [78 lines of output]\n",
      "  running install\n",
      "  C:\\Users\\paulw\\anaconda3\\lib\\site-packages\\setuptools\\command\\install.py:34: SetuptoolsDeprecationWarning: setup.py install is deprecated. Use build and pip and other standards-based tools.\n",
      "    warnings.warn(\n",
      "  running build\n",
      "  running build_py\n",
      "  creating build\n",
      "  creating build\\lib.win-amd64-cpython-38\n",
      "  creating build\\lib.win-amd64-cpython-38\\surprise\n",
      "  copying surprise\\accuracy.py -> build\\lib.win-amd64-cpython-38\\surprise\n",
      "  copying surprise\\builtin_datasets.py -> build\\lib.win-amd64-cpython-38\\surprise\n",
      "  copying surprise\\dataset.py -> build\\lib.win-amd64-cpython-38\\surprise\n",
      "  copying surprise\\dump.py -> build\\lib.win-amd64-cpython-38\\surprise\n",
      "  copying surprise\\reader.py -> build\\lib.win-amd64-cpython-38\\surprise\n",
      "  copying surprise\\trainset.py -> build\\lib.win-amd64-cpython-38\\surprise\n",
      "  copying surprise\\utils.py -> build\\lib.win-amd64-cpython-38\\surprise\n",
      "  copying surprise\\__init__.py -> build\\lib.win-amd64-cpython-38\\surprise\n",
      "  copying surprise\\__main__.py -> build\\lib.win-amd64-cpython-38\\surprise\n",
      "  creating build\\lib.win-amd64-cpython-38\\surprise\\model_selection\n",
      "  copying surprise\\model_selection\\search.py -> build\\lib.win-amd64-cpython-38\\surprise\\model_selection\n",
      "  copying surprise\\model_selection\\split.py -> build\\lib.win-amd64-cpython-38\\surprise\\model_selection\n",
      "  copying surprise\\model_selection\\validation.py -> build\\lib.win-amd64-cpython-38\\surprise\\model_selection\n",
      "  copying surprise\\model_selection\\__init__.py -> build\\lib.win-amd64-cpython-38\\surprise\\model_selection\n",
      "  creating build\\lib.win-amd64-cpython-38\\surprise\\prediction_algorithms\n",
      "  copying surprise\\prediction_algorithms\\algo_base.py -> build\\lib.win-amd64-cpython-38\\surprise\\prediction_algorithms\n",
      "  copying surprise\\prediction_algorithms\\baseline_only.py -> build\\lib.win-amd64-cpython-38\\surprise\\prediction_algorithms\n",
      "  copying surprise\\prediction_algorithms\\knns.py -> build\\lib.win-amd64-cpython-38\\surprise\\prediction_algorithms\n",
      "  copying surprise\\prediction_algorithms\\predictions.py -> build\\lib.win-amd64-cpython-38\\surprise\\prediction_algorithms\n",
      "  copying surprise\\prediction_algorithms\\random_pred.py -> build\\lib.win-amd64-cpython-38\\surprise\\prediction_algorithms\n",
      "  copying surprise\\prediction_algorithms\\__init__.py -> build\\lib.win-amd64-cpython-38\\surprise\\prediction_algorithms\n",
      "  running egg_info\n",
      "  writing scikit_surprise.egg-info\\PKG-INFO\n",
      "  writing dependency_links to scikit_surprise.egg-info\\dependency_links.txt\n",
      "  writing entry points to scikit_surprise.egg-info\\entry_points.txt\n",
      "  writing requirements to scikit_surprise.egg-info\\requires.txt\n",
      "  writing top-level names to scikit_surprise.egg-info\\top_level.txt\n",
      "  reading manifest file 'scikit_surprise.egg-info\\SOURCES.txt'\n",
      "  reading manifest template 'MANIFEST.in'\n",
      "  adding license file 'LICENSE.md'\n",
      "  writing manifest file 'scikit_surprise.egg-info\\SOURCES.txt'\n",
      "  C:\\Users\\paulw\\anaconda3\\lib\\site-packages\\setuptools\\command\\build_py.py:202: SetuptoolsDeprecationWarning:     Installing 'surprise.prediction_algorithms' as data is deprecated, please list it in `packages`.\n",
      "      !!\n",
      "  \n",
      "  \n",
      "      ############################\n",
      "      # Package would be ignored #\n",
      "      ############################\n",
      "      Python recognizes 'surprise.prediction_algorithms' as an importable package,\n",
      "      but it is not listed in the `packages` configuration of setuptools.\n",
      "  \n",
      "      'surprise.prediction_algorithms' has been automatically added to the distribution only\n",
      "      because it may contain data files, but this behavior is likely to change\n",
      "      in future versions of setuptools (and therefore is considered deprecated).\n",
      "  \n",
      "      Please make sure that 'surprise.prediction_algorithms' is included as a package by using\n",
      "      the `packages` configuration field or the proper discovery methods\n",
      "      (for example by using `find_namespace_packages(...)`/`find_namespace:`\n",
      "      instead of `find_packages(...)`/`find:`).\n",
      "  \n",
      "      You can read more about \"package discovery\" and \"data files\" on setuptools\n",
      "      documentation page.\n",
      "  \n",
      "  \n",
      "  !!\n",
      "  \n",
      "    check.warn(importable)\n",
      "  copying surprise\\similarities.c -> build\\lib.win-amd64-cpython-38\\surprise\n",
      "  copying surprise\\similarities.pyx -> build\\lib.win-amd64-cpython-38\\surprise\n",
      "  copying surprise\\prediction_algorithms\\co_clustering.c -> build\\lib.win-amd64-cpython-38\\surprise\\prediction_algorithms\n",
      "  copying surprise\\prediction_algorithms\\matrix_factorization.c -> build\\lib.win-amd64-cpython-38\\surprise\\prediction_algorithms\n",
      "  copying surprise\\prediction_algorithms\\optimize_baselines.c -> build\\lib.win-amd64-cpython-38\\surprise\\prediction_algorithms\n",
      "  copying surprise\\prediction_algorithms\\slope_one.c -> build\\lib.win-amd64-cpython-38\\surprise\\prediction_algorithms\n",
      "  copying surprise\\prediction_algorithms\\co_clustering.pyx -> build\\lib.win-amd64-cpython-38\\surprise\\prediction_algorithms\n",
      "  copying surprise\\prediction_algorithms\\matrix_factorization.pyx -> build\\lib.win-amd64-cpython-38\\surprise\\prediction_algorithms\n",
      "  copying surprise\\prediction_algorithms\\optimize_baselines.pyx -> build\\lib.win-amd64-cpython-38\\surprise\\prediction_algorithms\n",
      "  copying surprise\\prediction_algorithms\\slope_one.pyx -> build\\lib.win-amd64-cpython-38\\surprise\\prediction_algorithms\n",
      "  running build_ext\n",
      "  building 'surprise.similarities' extension\n",
      "  error: Microsoft Visual C++ 14.0 or greater is required. Get it with \"Microsoft C++ Build Tools\": https://visualstudio.microsoft.com/visual-cpp-build-tools/\n",
      "  [end of output]\n",
      "  \n",
      "  note: This error originates from a subprocess, and is likely not a problem with pip.\n",
      "error: legacy-install-failure\n",
      "\n",
      "Encountered error while trying to install package.\n",
      "\n",
      "scikit-surprise\n",
      "\n",
      "note: This is an issue with the package mentioned above, not pip.\n",
      "hint: See above for output from the failure.\n"
     ]
    }
   ],
   "source": [
    "!pip3 install scikit-surprise"
   ]
  },
  {
   "cell_type": "code",
   "execution_count": null,
   "metadata": {},
   "outputs": [],
   "source": []
  }
 ],
 "metadata": {
  "deepnote": {
   "is_reactive": false
  },
  "deepnote_execution_queue": [],
  "deepnote_notebook_id": "09ac567bbc314a9c8a9cd448fd06574d",
  "kernelspec": {
   "display_name": "Python 3 (ipykernel)",
   "language": "python",
   "name": "python3"
  },
  "language_info": {
   "codemirror_mode": {
    "name": "ipython",
    "version": 3
   },
   "file_extension": ".py",
   "mimetype": "text/x-python",
   "name": "python",
   "nbconvert_exporter": "python",
   "pygments_lexer": "ipython3",
   "version": "3.8.5"
  }
 },
 "nbformat": 4,
 "nbformat_minor": 4
}

{
 "cells": [
  {
   "cell_type": "markdown",
   "metadata": {
    "cell_id": "4d5a19a1fbe441b9b88cb5491cb17021",
    "deepnote_cell_type": "markdown",
    "tags": []
   },
   "source": [
    "Setting up the utility matrix for collaborative filtering by rounting the user ratings to 1, if the item was rated 3,4 or 5 and to 0 if the item was rated 1 or 2."
   ]
  },
  {
   "cell_type": "code",
   "execution_count": 3,
   "metadata": {},
   "outputs": [
    {
     "name": "stdout",
     "output_type": "stream",
     "text": [
      "Collecting nbimporter\n",
      "  Using cached nbimporter-0.3.4-py3-none-any.whl (4.9 kB)\n",
      "Installing collected packages: nbimporter\n",
      "Successfully installed nbimporter-0.3.4\n"
     ]
    }
   ],
   "source": [
    "!pip install nbimporter"
   ]
  },
  {
   "cell_type": "code",
   "execution_count": 11,
   "metadata": {
    "cell_id": "0e97af1d0f784076a3d82929621ded56",
    "deepnote_cell_type": "code",
    "tags": []
   },
   "outputs": [],
   "source": [
    "import nbimporter\n",
    "import Data_discovery\n",
    "import pandas as pd"
   ]
  },
  {
   "cell_type": "code",
   "execution_count": 15,
   "metadata": {},
   "outputs": [
    {
     "name": "stdout",
     "output_type": "stream",
     "text": [
      "                 Id                           Title         User_id  \\\n",
      "0        1882931173  Its Only Art If Its Well Hung!   AVCGYZL8FQQTD   \n",
      "1        0826414346        Dr. Seuss: American Icon  A30TK6U7DNS82R   \n",
      "2        0826414346        Dr. Seuss: American Icon  A3UH4UZ4RSVO82   \n",
      "3        0826414346        Dr. Seuss: American Icon  A2MVUWT453QH61   \n",
      "4        0826414346        Dr. Seuss: American Icon  A22X4XUPKF66MR   \n",
      "...             ...                             ...             ...   \n",
      "2999995  B000NSLVCU             The Idea of History             NaN   \n",
      "2999996  B000NSLVCU             The Idea of History  A1SMUB9ASL5L9Y   \n",
      "2999997  B000NSLVCU             The Idea of History  A2AQMEKZKK5EE4   \n",
      "2999998  B000NSLVCU             The Idea of History  A18SQGYBKS852K   \n",
      "2999999  B000NSLVCU             The Idea of History             NaN   \n",
      "\n",
      "         review/score                                        review/text  \n",
      "0                 4.0  This is only for Julie Strain fans. It's a col...  \n",
      "1                 5.0  I don't care much for Dr. Seuss but after read...  \n",
      "2                 5.0  If people become the books they read and if \"t...  \n",
      "3                 4.0  Theodore Seuss Geisel (1904-1991), aka &quot;D...  \n",
      "4                 4.0  Philip Nel - Dr. Seuss: American IconThis is b...  \n",
      "...               ...                                                ...  \n",
      "2999995           4.0  This is an extremely difficult book to digest,...  \n",
      "2999996           4.0  This is pretty interesting. Collingwood seems ...  \n",
      "2999997           4.0  This is a good book but very esoteric. \"What i...  \n",
      "2999998           5.0  My daughter, a freshman at Indiana University,...  \n",
      "2999999           1.0  The guy has a few good ideas but, reader, bewa...  \n",
      "\n",
      "[3000000 rows x 5 columns]\n"
     ]
    }
   ],
   "source": [
    "review_data = pd.read_csv(\"../Books_rating.csv\")\n",
    "keep_columns = ['Id', 'Title', 'User_id', 'review/score', 'review/text']\n",
    "review_data = review_data[keep_columns]"
   ]
  },
  {
   "cell_type": "code",
   "execution_count": 48,
   "metadata": {},
   "outputs": [
    {
     "name": "stdout",
     "output_type": "stream",
     "text": [
      "(2438017, 5)\n"
     ]
    }
   ],
   "source": [
    "review_data = review_data.dropna()\n",
    "print(review_data.shape)"
   ]
  },
  {
   "cell_type": "code",
   "execution_count": 52,
   "metadata": {},
   "outputs": [],
   "source": [
    "#rounding the values\n",
    "review_data['rounded_score'] = [0 if x<3 else 1 for x in review_data['review/score'] ]"
   ]
  },
  {
   "cell_type": "code",
   "execution_count": 54,
   "metadata": {},
   "outputs": [
    {
     "name": "stdout",
     "output_type": "stream",
     "text": [
      "<bound method NDFrame.head of                 1882931173  0826414346  0829814000  0595344550  0253338352  \\\n",
      "AVCGYZL8FQQTD            1           0           0           0           0   \n",
      "A30TK6U7DNS82R           0           1           0           0           0   \n",
      "A3UH4UZ4RSVO82           0           1           0           0           0   \n",
      "A2MVUWT453QH61           0           1           0           0           0   \n",
      "A22X4XUPKF66MR           0           1           0           0           0   \n",
      "...                    ...         ...         ...         ...         ...   \n",
      "A9Z9ETUI48IVC            0           0           0           0           0   \n",
      "APW0VLW2NWO98            0           0           0           0           0   \n",
      "AD74ICXKB2O0B            0           0           0           0           0   \n",
      "A2AQMEKZKK5EE4           0           0           0           0           0   \n",
      "A18SQGYBKS852K           0           0           0           0           0   \n",
      "\n",
      "                0802841899  B0007FIF28  B000JINSBG  0895554224  0963923080  \\\n",
      "AVCGYZL8FQQTD            0           0           0           0           0   \n",
      "A30TK6U7DNS82R           0           0           0           0           0   \n",
      "A3UH4UZ4RSVO82           0           0           0           0           0   \n",
      "A2MVUWT453QH61           0           0           0           0           0   \n",
      "A22X4XUPKF66MR           0           0           0           0           0   \n",
      "...                    ...         ...         ...         ...         ...   \n",
      "A9Z9ETUI48IVC            0           0           0           0           0   \n",
      "APW0VLW2NWO98            0           0           0           0           0   \n",
      "AD74ICXKB2O0B            0           0           0           0           0   \n",
      "A2AQMEKZKK5EE4           0           0           0           0           0   \n",
      "A18SQGYBKS852K           0           0           0           0           0   \n",
      "\n",
      "                ...  B000N6KSSK  0679417052  0696011352  B000NP3VFS  \\\n",
      "AVCGYZL8FQQTD   ...           0           0           0           0   \n",
      "A30TK6U7DNS82R  ...           0           0           0           0   \n",
      "A3UH4UZ4RSVO82  ...           0           0           0           0   \n",
      "A2MVUWT453QH61  ...           0           0           0           0   \n",
      "A22X4XUPKF66MR  ...           0           0           0           0   \n",
      "...             ...         ...         ...         ...         ...   \n",
      "A9Z9ETUI48IVC   ...           0           0           0           0   \n",
      "APW0VLW2NWO98   ...           0           0           0           0   \n",
      "AD74ICXKB2O0B   ...           0           0           0           0   \n",
      "A2AQMEKZKK5EE4  ...           0           0           0           0   \n",
      "A18SQGYBKS852K  ...           0           0           0           0   \n",
      "\n",
      "                0312512279  B00085PL4C  0761989889  B000NSGW7E  0255364520  \\\n",
      "AVCGYZL8FQQTD            0           0           0           0           0   \n",
      "A30TK6U7DNS82R           0           0           0           0           0   \n",
      "A3UH4UZ4RSVO82           0           0           0           0           0   \n",
      "A2MVUWT453QH61           0           0           0           0           0   \n",
      "A22X4XUPKF66MR           0           0           0           0           0   \n",
      "...                    ...         ...         ...         ...         ...   \n",
      "A9Z9ETUI48IVC            0           0           0           1           0   \n",
      "APW0VLW2NWO98            0           0           0           1           0   \n",
      "AD74ICXKB2O0B            0           0           0           1           0   \n",
      "A2AQMEKZKK5EE4           0           0           0           0           0   \n",
      "A18SQGYBKS852K           0           0           0           0           0   \n",
      "\n",
      "                B000NSLVCU  \n",
      "AVCGYZL8FQQTD            0  \n",
      "A30TK6U7DNS82R           0  \n",
      "A3UH4UZ4RSVO82           0  \n",
      "A2MVUWT453QH61           0  \n",
      "A22X4XUPKF66MR           0  \n",
      "...                    ...  \n",
      "A9Z9ETUI48IVC            0  \n",
      "APW0VLW2NWO98            0  \n",
      "AD74ICXKB2O0B            0  \n",
      "A2AQMEKZKK5EE4           1  \n",
      "A18SQGYBKS852K           1  \n",
      "\n",
      "[1008961 rows x 216014 columns]>\n"
     ]
    }
   ],
   "source": [
    "#generating the utility dataframe\n",
    "from scipy.sparse import csr_matrix\n",
    "\n",
    "users = review_data['User_id'].unique()\n",
    "books = review_data['Id'].unique()\n",
    "shape = (len(users), len(books))\n",
    "user_cat = CategoricalDtype(categories=users, ordered=True)\n",
    "book_cat = CategoricalDtype(categories=books, ordered=True)\n",
    "user_index = review_data[\"User_id\"].astype(user_cat).cat.codes\n",
    "book_index = review_data[\"Id\"].astype(book_cat).cat.codes\n",
    "\n",
    "review = review_data['rounded_score'].tolist()\n",
    "sparse_matrix = csr_matrix((review, (user_index, book_index)), shape=shape)\n",
    "\n",
    "utility_df = pd.DataFrame.sparse.from_spmatrix(sparse_matrix, columns=books, index=users)\n",
    "print(utility_df.head)"
   ]
  },
  {
   "cell_type": "code",
   "execution_count": null,
   "metadata": {},
   "outputs": [],
   "source": []
  },
  {
   "cell_type": "markdown",
   "metadata": {
    "created_in_deepnote_cell": true,
    "deepnote_cell_type": "markdown",
    "tags": []
   },
   "source": [
    "<a style='text-decoration:none;line-height:16px;display:flex;color:#5B5B62;padding:10px;justify-content:end;' href='https://deepnote.com?utm_source=created-in-deepnote-cell&projectId=2bef0313-5b70-4b06-8099-338e6f5003e4' target=\"_blank\">\n",
    "<img alt='Created in deepnote.com' style='display:inline;max-height:16px;margin:0px;margin-right:7.5px;' src='data:image/svg+xml;base64,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' > </img>\n",
    "Created in <span style='font-weight:600;margin-left:4px;'>Deepnote</span></a>"
   ]
  }
 ],
 "metadata": {
  "deepnote": {},
  "deepnote_execution_queue": [],
  "deepnote_notebook_id": "b0d76c8f67ab46d0999f313fee1644cf",
  "kernelspec": {
   "display_name": "Python 3 (ipykernel)",
   "language": "python",
   "name": "python3"
  },
  "language_info": {
   "codemirror_mode": {
    "name": "ipython",
    "version": 3
   },
   "file_extension": ".py",
   "mimetype": "text/x-python",
   "name": "python",
   "nbconvert_exporter": "python",
   "pygments_lexer": "ipython3",
   "version": "3.8.8"
  }
 },
 "nbformat": 4,
 "nbformat_minor": 1
}

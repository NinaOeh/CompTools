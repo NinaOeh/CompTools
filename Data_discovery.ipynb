{
 "cells": [
  {
   "cell_type": "markdown",
   "source": [
    "## Data"
   ],
   "metadata": {
    "tags": [],
    "cell_id": "6cd958fcd0a5443298ac8c10d8eec733",
    "is_collapsed": false,
    "formattedRanges": [],
    "deepnote_cell_type": "text-cell-h2",
    "pycharm": {
     "name": "#%% md\n"
    }
   }
  },
  {
   "cell_type": "markdown",
   "source": [
    "Where does the data come from? -> provide source and background of data"
   ],
   "metadata": {
    "tags": [],
    "cell_id": "24d9104f88f8415a9d554b460376a805",
    "deepnote_cell_type": "markdown",
    "pycharm": {
     "name": "#%% md\n"
    }
   }
  },
  {
   "cell_type": "markdown",
   "source": [
    "### Data discovery"
   ],
   "metadata": {
    "tags": [],
    "cell_id": "ccbca39049d84b07b7d9ccd43afe96e9",
    "is_collapsed": false,
    "formattedRanges": [],
    "deepnote_cell_type": "text-cell-h3",
    "pycharm": {
     "name": "#%% md\n"
    }
   }
  },
  {
   "cell_type": "markdown",
   "source": [
    "Before the analysis and preprocessing of the data, the data is $/textit{discovered}$ in order to obtain an overview over what data is available at all."
   ],
   "metadata": {
    "tags": [],
    "cell_id": "00af2e73d834483ba9cfe1d4528a3104",
    "deepnote_cell_type": "markdown",
    "pycharm": {
     "name": "#%% md\n"
    }
   }
  },
  {
   "cell_type": "markdown",
   "source": [
    "Integration of necessary libraries and datasets into the notebook."
   ],
   "metadata": {
    "tags": [],
    "cell_id": "9b1c03d677484482be767cd8ccb3e450",
    "deepnote_cell_type": "markdown",
    "pycharm": {
     "name": "#%% md\n"
    }
   }
  },
  {
   "cell_type": "code",
   "execution_count": null,
   "outputs": [],
   "source": [
    "!pip3 install pyspark\n",
    "!pip3 install pandas\n",
    "!pip3 install matplotlib\n",
    "!pip3 install -U scikit-learn\n"
   ],
   "metadata": {
    "collapsed": false,
    "pycharm": {
     "name": "#%%\n"
    }
   }
  },
  {
   "cell_type": "code",
   "source": [
    "!ls /datasets/computational-tools-for-dataanalysis-data\n",
    "import pandas as pd\n",
    "import matplotlib.pyplot as plt\n",
    "import numpy as np\n",
    "import scipy.spatial.distance as distance\n",
    "from scipy import sparse\n",
    "from sklearn.datasets import make_sparse_spd_matrix\n",
    "from sklearn.preprocessing import LabelEncoder"
   ],
   "metadata": {
    "tags": [],
    "cell_id": "a7c26160915d44d5a9315c3d703e94f3",
    "source_hash": "f86d1653",
    "execution_start": 1667316404873,
    "execution_millis": 1125,
    "deepnote_to_be_reexecuted": false,
    "deepnote_cell_type": "code",
    "pycharm": {
     "name": "#%%\n"
    }
   },
   "outputs": [
    {
     "name": "stderr",
     "output_type": "stream",
     "text": [
      "Der Befehl \"ls\" ist entweder falsch geschrieben oder\n",
      "konnte nicht gefunden werden.\n"
     ]
    }
   ],
   "execution_count": 1
  },
  {
   "cell_type": "markdown",
   "source": [
    "#### Review data"
   ],
   "metadata": {
    "tags": [],
    "cell_id": "70aa48eee11f4f30bcdc87eb21a86af3",
    "deepnote_cell_type": "markdown",
    "pycharm": {
     "name": "#%% md\n"
    }
   }
  },
  {
   "cell_type": "markdown",
   "source": [
    "The first dataset contains the review data of the books, matching a user with a book and providing a rating that the user gave the book (from 1-5), as well a review description. The dataset contains 3 million book ratings."
   ],
   "metadata": {
    "tags": [],
    "cell_id": "3a31071d754842bfa7e869470c1e1311",
    "deepnote_cell_type": "markdown",
    "pycharm": {
     "name": "#%% md\n"
    }
   }
  },
  {
   "cell_type": "code",
   "source": [
    "#review_data = pd.read_csv(\"/datasets/computational-tools-for-dataanalysis-data/Books_rating.csv\")\n",
    "review_data = pd.read_csv(\"C:/Users/paulw/OneDrive - Danmarks Tekniske Universitet/02807 - Computational Tools for Data Science/project/Books_rating.csv\")\n",
    "review_data.head()"
   ],
   "metadata": {
    "tags": [],
    "cell_id": "2121cf658b1749f2831a4ca3b12879e0",
    "source_hash": "6d99dbaa",
    "execution_start": 1667316444593,
    "execution_millis": 121281,
    "deepnote_to_be_reexecuted": false,
    "deepnote_cell_type": "code",
    "pycharm": {
     "name": "#%%\n"
    }
   },
   "outputs": [
    {
     "data": {
      "text/plain": "           Id                           Title  Price         User_id  \\\n0  1882931173  Its Only Art If Its Well Hung!    NaN   AVCGYZL8FQQTD   \n1  0826414346        Dr. Seuss: American Icon    NaN  A30TK6U7DNS82R   \n2  0826414346        Dr. Seuss: American Icon    NaN  A3UH4UZ4RSVO82   \n3  0826414346        Dr. Seuss: American Icon    NaN  A2MVUWT453QH61   \n4  0826414346        Dr. Seuss: American Icon    NaN  A22X4XUPKF66MR   \n\n                          profileName review/helpfulness  review/score  \\\n0               Jim of Oz \"jim-of-oz\"                7/7           4.0   \n1                       Kevin Killian              10/10           5.0   \n2                        John Granger              10/11           5.0   \n3  Roy E. Perry \"amateur philosopher\"                7/7           4.0   \n4     D. H. Richards \"ninthwavestore\"                3/3           4.0   \n\n   review/time                                   review/summary  \\\n0    940636800           Nice collection of Julie Strain images   \n1   1095724800                                Really Enjoyed It   \n2   1078790400  Essential for every personal and Public Library   \n3   1090713600  Phlip Nel gives silly Seuss a serious treatment   \n4   1107993600                           Good academic overview   \n\n                                         review/text  \n0  This is only for Julie Strain fans. It's a col...  \n1  I don't care much for Dr. Seuss but after read...  \n2  If people become the books they read and if \"t...  \n3  Theodore Seuss Geisel (1904-1991), aka &quot;D...  \n4  Philip Nel - Dr. Seuss: American IconThis is b...  ",
      "text/html": "<div>\n<style scoped>\n    .dataframe tbody tr th:only-of-type {\n        vertical-align: middle;\n    }\n\n    .dataframe tbody tr th {\n        vertical-align: top;\n    }\n\n    .dataframe thead th {\n        text-align: right;\n    }\n</style>\n<table border=\"1\" class=\"dataframe\">\n  <thead>\n    <tr style=\"text-align: right;\">\n      <th></th>\n      <th>Id</th>\n      <th>Title</th>\n      <th>Price</th>\n      <th>User_id</th>\n      <th>profileName</th>\n      <th>review/helpfulness</th>\n      <th>review/score</th>\n      <th>review/time</th>\n      <th>review/summary</th>\n      <th>review/text</th>\n    </tr>\n  </thead>\n  <tbody>\n    <tr>\n      <th>0</th>\n      <td>1882931173</td>\n      <td>Its Only Art If Its Well Hung!</td>\n      <td>NaN</td>\n      <td>AVCGYZL8FQQTD</td>\n      <td>Jim of Oz \"jim-of-oz\"</td>\n      <td>7/7</td>\n      <td>4.0</td>\n      <td>940636800</td>\n      <td>Nice collection of Julie Strain images</td>\n      <td>This is only for Julie Strain fans. It's a col...</td>\n    </tr>\n    <tr>\n      <th>1</th>\n      <td>0826414346</td>\n      <td>Dr. Seuss: American Icon</td>\n      <td>NaN</td>\n      <td>A30TK6U7DNS82R</td>\n      <td>Kevin Killian</td>\n      <td>10/10</td>\n      <td>5.0</td>\n      <td>1095724800</td>\n      <td>Really Enjoyed It</td>\n      <td>I don't care much for Dr. Seuss but after read...</td>\n    </tr>\n    <tr>\n      <th>2</th>\n      <td>0826414346</td>\n      <td>Dr. Seuss: American Icon</td>\n      <td>NaN</td>\n      <td>A3UH4UZ4RSVO82</td>\n      <td>John Granger</td>\n      <td>10/11</td>\n      <td>5.0</td>\n      <td>1078790400</td>\n      <td>Essential for every personal and Public Library</td>\n      <td>If people become the books they read and if \"t...</td>\n    </tr>\n    <tr>\n      <th>3</th>\n      <td>0826414346</td>\n      <td>Dr. Seuss: American Icon</td>\n      <td>NaN</td>\n      <td>A2MVUWT453QH61</td>\n      <td>Roy E. Perry \"amateur philosopher\"</td>\n      <td>7/7</td>\n      <td>4.0</td>\n      <td>1090713600</td>\n      <td>Phlip Nel gives silly Seuss a serious treatment</td>\n      <td>Theodore Seuss Geisel (1904-1991), aka &amp;quot;D...</td>\n    </tr>\n    <tr>\n      <th>4</th>\n      <td>0826414346</td>\n      <td>Dr. Seuss: American Icon</td>\n      <td>NaN</td>\n      <td>A22X4XUPKF66MR</td>\n      <td>D. H. Richards \"ninthwavestore\"</td>\n      <td>3/3</td>\n      <td>4.0</td>\n      <td>1107993600</td>\n      <td>Good academic overview</td>\n      <td>Philip Nel - Dr. Seuss: American IconThis is b...</td>\n    </tr>\n  </tbody>\n</table>\n</div>"
     },
     "execution_count": 2,
     "metadata": {},
     "output_type": "execute_result"
    }
   ],
   "execution_count": 2
  },
  {
   "cell_type": "code",
   "source": [
    "#shape of the review dataset\n",
    "print(review_data.shape)\n",
    "#columns available in the review dataset\n",
    "print(review_data.columns)\n",
    "#remove unnecessary columns from dataset\n",
    "keep_columns = ['Id', 'Title', 'User_id', 'review/score', 'review/text']\n",
    "review_data = review_data[keep_columns]"
   ],
   "metadata": {
    "tags": [],
    "cell_id": "5ef40b11d7f64ebd89de4a885685da79",
    "source_hash": "e8bb6bb2",
    "execution_start": 1667316266774,
    "execution_millis": 209,
    "deepnote_to_be_reexecuted": false,
    "deepnote_cell_type": "code",
    "pycharm": {
     "name": "#%%\n"
    }
   },
   "outputs": [
    {
     "name": "stdout",
     "output_type": "stream",
     "text": [
      "(3000000, 10)\n",
      "Index(['Id', 'Title', 'Price', 'User_id', 'profileName', 'review/helpfulness',\n",
      "       'review/score', 'review/time', 'review/summary', 'review/text'],\n",
      "      dtype='object')\n"
     ]
    }
   ],
   "execution_count": 3
  },
  {
   "cell_type": "code",
   "source": [
    "grouped_reviews = review_data.groupby(['User_id']).count()\n",
    "print(f\"Number of individual users, {grouped_reviews.shape[0]}\")\n",
    "#check the maximal number of books a person has rated\n",
    "print(f\"Maximal number of reviews that a single user submitted, {max(grouped_reviews['Id'])}\")\n",
    "#check how many people have rated more than 1000 books\n",
    "print(f\"Number of people that have rated more than 1000 books, {grouped_reviews[grouped_reviews['Id']>=1000].shape[0]}\")\n",
    "#check how many people have rated more than 200 books\n",
    "print(f\"Number of people that have rated more than 200 books, {grouped_reviews[grouped_reviews['Id']>=200].shape[0]}\")\n",
    "#remove people that have judged more than 1000 books \n",
    "grouped_reviews = grouped_reviews[grouped_reviews['Id']<=1000]\n",
    "review_data=review_data[review_data['User_id'].isin(grouped_reviews.index)]\n",
    "#check number of people that rated only one book\n",
    "print(f\"Number of people that have rated only one book, {grouped_reviews[grouped_reviews['Id']==1].shape[0]}\")\n",
    "#check number of people that rated more than five books\n",
    "print(f\"Number of people that have rated more than 5 books, {grouped_reviews[grouped_reviews['Id']>=5].shape[0]}\")\n",
    "#show the distribution of rated books\n",
    "fig, ax = plt.subplots()\n",
    "ax.hist(grouped_reviews['Id'], log=True, bins=200)\n",
    "ax.set_ylabel('frequency')\n",
    "ax.set_xlabel('ratings per user')\n",
    "ax.set_title('Distribution of user ratings')\n",
    "fig.show()"
   ],
   "metadata": {
    "tags": [],
    "cell_id": "ef2977dea52b4e8eb93aa22c6305c7d5",
    "source_hash": "4582e2ff",
    "execution_start": 1667316267035,
    "execution_millis": 7226,
    "deepnote_to_be_reexecuted": false,
    "deepnote_cell_type": "code",
    "pycharm": {
     "name": "#%%\n"
    }
   },
   "outputs": [
    {
     "name": "stdout",
     "output_type": "stream",
     "text": [
      "Number of individual users, 1008972\n",
      "Maximal number of reviews that a single user submitted, 5795\n",
      "Number of people that have rated more than 1000 books, 10\n",
      "Number of people that have rated more than 200 books, 336\n",
      "Number of people that have rated only one book, 693716\n",
      "Number of people that have rated more than 5 books, 82795\n"
     ]
    },
    {
     "name": "stderr",
     "output_type": "stream",
     "text": [
      "C:\\Users\\paulw\\AppData\\Local\\Temp\\ipykernel_22944\\1150776213.py:22: UserWarning: Matplotlib is currently using module://matplotlib_inline.backend_inline, which is a non-GUI backend, so cannot show the figure.\n",
      "  fig.show()\n"
     ]
    },
    {
     "data": {
      "text/plain": "<Figure size 432x288 with 1 Axes>",
      "image/png": "[encoded data removed]"
     },
     "metadata": {
      "needs_background": "light"
     },
     "output_type": "display_data"
    }
   ],
   "execution_count": 4
  },
  {
   "cell_type": "markdown",
   "source": [
    "The dataset contains 1008972 unique users of which every user has rated 2.97 books in average. However, the majority of the users has only rated one book (68.75%), and only few users (8.21%) have rated more than 5 books. 10 users have rated more than 1000 books. These users were removed from the dataset as outliers, because it is assumed that their rating behaviour will not be valuable to make predictions to for other users."
   ],
   "metadata": {
    "tags": [],
    "cell_id": "7ba2567c1bd44a739d0c5a716da09181",
    "deepnote_cell_type": "markdown",
    "pycharm": {
     "name": "#%% md\n"
    }
   }
  },
  {
   "cell_type": "code",
   "source": [
    "grouped_books = review_data.groupby(['Title']).count()\n",
    "print(f\"Number of rated books, {grouped_books.shape[0]}\")\n",
    "print(f\"Number of books that have been rated once, {grouped_books[grouped_books['Id']==1].shape[0]}\")\n",
    "print(f\"Book with most ratings is '{review_data[review_data['Title']==grouped_books[grouped_books['Id']==max(grouped_books['Id'])].index[0]]['Title'].reset_index(drop=True)[0]}' with {max(grouped_books['Id'])} ratings.\")\n",
    "fig, ax = plt.subplots()\n",
    "ax.hist(grouped_books['Id'], log=True, bins=200)\n",
    "ax.set_ylabel('frequency')\n",
    "ax.set_xlabel('ratings per book')\n",
    "ax.set_title('Distribution of book ratings')\n",
    "fig.show()"
   ],
   "metadata": {
    "tags": [],
    "cell_id": "3b1776d8ec9b4d82b2ee43cb51e0e84c",
    "source_hash": "f0afaaa3",
    "execution_start": 1667316274392,
    "execution_millis": 2302,
    "deepnote_to_be_reexecuted": false,
    "deepnote_cell_type": "code",
    "pycharm": {
     "name": "#%%\n"
    }
   },
   "outputs": [
    {
     "name": "stdout",
     "output_type": "stream",
     "text": [
      "Number of rated books, 205047\n",
      "Number of books that have been rated once, 69558\n",
      "Book with most ratings is 'The Hobbit' with 18059 ratings.\n"
     ]
    },
    {
     "name": "stderr",
     "output_type": "stream",
     "text": [
      "C:\\Users\\paulw\\AppData\\Local\\Temp\\ipykernel_22944\\4094988773.py:10: UserWarning: Matplotlib is currently using module://matplotlib_inline.backend_inline, which is a non-GUI backend, so cannot show the figure.\n",
      "  fig.show()\n"
     ]
    },
    {
     "data": {
      "text/plain": "<Figure size 432x288 with 1 Axes>",
      "image/png": "[encoded data removed]"
     },
     "metadata": {
      "needs_background": "light"
     },
     "output_type": "display_data"
    }
   ],
   "execution_count": 5
  },
  {
   "cell_type": "markdown",
   "source": [
    "In total 205047 books have been rated, of which 33.92% have been rated once. The book with the most ratings is 'The Hobbit' with 18059 ratings."
   ],
   "metadata": {
    "tags": [],
    "cell_id": "40c61daeb86e4a4cb50d4464fab0169a",
    "deepnote_cell_type": "markdown",
    "pycharm": {
     "name": "#%% md\n"
    }
   }
  },
  {
   "cell_type": "code",
   "source": [
    "print(review_data[review_data['Title'].str.contains('Hobbit',na=False)])"
   ],
   "metadata": {
    "tags": [],
    "cell_id": "15049f70807340c29265a26b894d013b",
    "source_hash": "b415e973",
    "execution_start": 1667316276797,
    "execution_millis": 1088,
    "deepnote_to_be_reexecuted": false,
    "deepnote_cell_type": "code",
    "pycharm": {
     "name": "#%%\n"
    }
   },
   "outputs": [
    {
     "name": "stdout",
     "output_type": "stream",
     "text": [
      "                 Id                                              Title  \\\n",
      "86547    B000NWU3I4  The Hobbitt, or there and back again; illustra...   \n",
      "86548    B000NWU3I4  The Hobbitt, or there and back again; illustra...   \n",
      "86549    B000NWU3I4  The Hobbitt, or there and back again; illustra...   \n",
      "86550    B000NWU3I4  The Hobbitt, or there and back again; illustra...   \n",
      "86551    B000NWU3I4  The Hobbitt, or there and back again; illustra...   \n",
      "...             ...                                                ...   \n",
      "2978151  B000Q032UY                 The Hobbit or There and Back Again   \n",
      "2978152  B000Q032UY                 The Hobbit or There and Back Again   \n",
      "2978153  B000Q032UY                 The Hobbit or There and Back Again   \n",
      "2978154  B000Q032UY                 The Hobbit or There and Back Again   \n",
      "2978155  B000Q032UY                 The Hobbit or There and Back Again   \n",
      "\n",
      "                User_id  review/score  \\\n",
      "86547     AXX9R9P27CFFS           5.0   \n",
      "86548    A3VKLBHDXSJADC           5.0   \n",
      "86549    A3MZ7U03T9VQA4           5.0   \n",
      "86550    A2YSSBKYXXSM6W           5.0   \n",
      "86551    A317EU0ROFG09T           5.0   \n",
      "...                 ...           ...   \n",
      "2978151  A279AQACCA2L0K           4.0   \n",
      "2978152  A1BHMR3GPOODJR           4.0   \n",
      "2978153  A224BVW6YQS3VF           5.0   \n",
      "2978154   AXAOSQ8N0CM0M           5.0   \n",
      "2978155   A373U8EOPLTMJ           5.0   \n",
      "\n",
      "                                               review/text  \n",
      "86547    Beautiful book. Cover and art are incredible. ...  \n",
      "86548    This book is very reasonably priced. It will b...  \n",
      "86549    I bought the audio CD's about 5 years ago from...  \n",
      "86550    I read this book years ago, but never bought a...  \n",
      "86551    I bought this as a gift for someone and I am t...  \n",
      "...                                                    ...  \n",
      "2978151  The Hobbit is wonderful. It describes a lot. I...  \n",
      "2978152  I like the book, it is easy to read and makes ...  \n",
      "2978153  The Hobbit will always be a classic and this e...  \n",
      "2978154  It is easy to be swept away by the writings of...  \n",
      "2978155  It was a very adventurous book. I plan on read...  \n",
      "\n",
      "[32597 rows x 5 columns]\n"
     ]
    }
   ],
   "execution_count": 6
  },
  {
   "cell_type": "markdown",
   "source": [
    "#### Book data"
   ],
   "metadata": {
    "tags": [],
    "cell_id": "9c6e94e37aa94620afc5d3c95ea15e1a",
    "deepnote_cell_type": "markdown",
    "pycharm": {
     "name": "#%% md\n"
    }
   }
  },
  {
   "cell_type": "markdown",
   "source": [
    "The second dataset contains information about the books themselves. Including the book title and Id, the author a description of the book and a book category. Furthermore, the book dataset contains a column with the average user rating."
   ],
   "metadata": {
    "tags": [],
    "cell_id": "3fd1d1666b414b18973dc41b03cacc2c",
    "deepnote_cell_type": "markdown",
    "pycharm": {
     "name": "#%% md\n"
    }
   }
  },
  {
   "cell_type": "code",
   "source": [
    "#books_data = pd.read_csv(\"/datasets/computational-tools-for-dataanalysis-data/books_data.csv\")\n",
    "books_data = pd.read_csv(\"C:/Users/paulw/OneDrive - Danmarks Tekniske Universitet/02807 - Computational Tools for Data Science/project/books_data.csv\")\n",
    "books_data.head"
   ],
   "metadata": {
    "tags": [],
    "cell_id": "511cc70fbdc94ce99e1015aaefae5a3e",
    "source_hash": "3154b504",
    "execution_start": 1667316277929,
    "execution_millis": 7815,
    "deepnote_to_be_reexecuted": false,
    "deepnote_cell_type": "code",
    "pycharm": {
     "name": "#%%\n"
    }
   },
   "outputs": [
    {
     "data": {
      "text/plain": "<bound method NDFrame.head of                                                     Title  \\\n0                          Its Only Art If Its Well Hung!   \n1                                Dr. Seuss: American Icon   \n2                   Wonderful Worship in Smaller Churches   \n3                           Whispers of the Wicked Saints   \n4       Nation Dance: Religion, Identity and Cultural ...   \n...                                                   ...   \n212399  The Orphan Of Ellis Island (Time Travel Advent...   \n212400                            Red Boots for Christmas   \n212401                                              Mamaw   \n212402                                  The Autograph Man   \n212403  Student's Solutions Manual for Johnson/Mowry's...   \n\n                                              description  \\\n0                                                     NaN   \n1       Philip Nel takes a fascinating look into the k...   \n2       This resource includes twelve principles in un...   \n3       Julia Thomas finds her life spinning out of co...   \n4                                                     NaN   \n...                                                   ...   \n212399  During a school trip to Ellis Island, Dominick...   \n212400  Everyone in the village of Friedensdorf is hap...   \n212401  Give your Mamaw a useful, beautiful and though...   \n212402  Alex-Li Tandem sells autographs. His business ...   \n212403  Discover the many ways mathematics is relevant...   \n\n                                        authors  \\\n0                              ['Julie Strain']   \n1                                ['Philip Nel']   \n2                              ['David R. Ray']   \n3                           ['Veronica Haddon']   \n4                               ['Edward Long']   \n...                                         ...   \n212399                      ['Elvira Woodruff']   \n212400                                      NaN   \n212401                    ['Wild Wild Cabbage']   \n212402                          ['Zadie Smith']   \n212403  ['David B. Johnson', 'Thomas A. Mowry']   \n\n                                                    image  \\\n0       http://books.google.com/books/content?id=DykPA...   \n1       http://books.google.com/books/content?id=IjvHQ...   \n2       http://books.google.com/books/content?id=2tsDA...   \n3       http://books.google.com/books/content?id=aRSIg...   \n4                                                     NaN   \n...                                                   ...   \n212399  http://books.google.com/books/content?id=J7M-N...   \n212400  http://books.google.com/books/content?id=3n8k6...   \n212401                                                NaN   \n212402  http://books.google.com/books/content?id=JM6YV...   \n212403  http://books.google.com/books/content?id=dehfP...   \n\n                                              previewLink  \\\n0       http://books.google.nl/books?id=DykPAAAACAAJ&d...   \n1       http://books.google.nl/books?id=IjvHQsCn_pgC&p...   \n2       http://books.google.nl/books?id=2tsDAAAACAAJ&d...   \n3       http://books.google.nl/books?id=aRSIgJlq6JwC&d...   \n4       http://books.google.nl/books?id=399SPgAACAAJ&d...   \n...                                                   ...   \n212399  http://books.google.com/books?id=J7M-NwAACAAJ&...   \n212400  http://books.google.com/books?id=3n8k6wl4BbYC&...   \n212401  http://books.google.com/books?id=zytVswEACAAJ&...   \n212402  http://books.google.com/books?id=JM6YVPx_clMC&...   \n212403  http://books.google.com/books?id=dehfPgAACAAJ&...   \n\n                             publisher publishedDate  \\\n0                                  NaN          1996   \n1                            A&C Black    2005-01-01   \n2                                  NaN          2000   \n3                            iUniverse       2005-02   \n4                                  NaN    2003-03-01   \n...                                ...           ...   \n212399           Scholastic Paperbacks    2000-06-01   \n212400                             NaN          1995   \n212401                             NaN    2018-01-17   \n212402                         Vintage    2003-08-12   \n212403  Brooks/Cole Publishing Company    1998-01-01   \n\n                                                 infoLink  \\\n0       http://books.google.nl/books?id=DykPAAAACAAJ&d...   \n1       http://books.google.nl/books?id=IjvHQsCn_pgC&d...   \n2       http://books.google.nl/books?id=2tsDAAAACAAJ&d...   \n3       http://books.google.nl/books?id=aRSIgJlq6JwC&d...   \n4       http://books.google.nl/books?id=399SPgAACAAJ&d...   \n...                                                   ...   \n212399  http://books.google.com/books?id=J7M-NwAACAAJ&...   \n212400  http://books.google.com/books?id=3n8k6wl4BbYC&...   \n212401  http://books.google.com/books?id=zytVswEACAAJ&...   \n212402  https://play.google.com/store/books/details?id...   \n212403  http://books.google.com/books?id=dehfPgAACAAJ&...   \n\n                           categories  ratingsCount  \n0         ['Comics & Graphic Novels']           NaN  \n1       ['Biography & Autobiography']           NaN  \n2                        ['Religion']           NaN  \n3                         ['Fiction']           NaN  \n4                                 NaN           NaN  \n...                               ...           ...  \n212399           ['Juvenile Fiction']           2.0  \n212400           ['Juvenile Fiction']           NaN  \n212401                            NaN           NaN  \n212402                    ['Fiction']          19.0  \n212403                            NaN           NaN  \n\n[212404 rows x 10 columns]>"
     },
     "execution_count": 7,
     "metadata": {},
     "output_type": "execute_result"
    }
   ],
   "execution_count": 7
  },
  {
   "cell_type": "code",
   "source": [
    "#shape of the book dataset\n",
    "print(books_data.shape)\n",
    "#columns available in the review dataset\n",
    "print(books_data.columns)\n",
    "#remove unnecessary columns from dataset\n",
    "keep_columns = ['Title', 'description', 'authors', 'categories', 'ratingsCount']\n",
    "books_data = books_data[keep_columns]"
   ],
   "metadata": {
    "tags": [],
    "cell_id": "fc68483d7d0c45f7a29f2cc12b1a034f",
    "source_hash": "1ca3d0ff",
    "execution_start": 1667316285756,
    "execution_millis": 5,
    "deepnote_to_be_reexecuted": false,
    "deepnote_cell_type": "code",
    "pycharm": {
     "name": "#%%\n"
    }
   },
   "outputs": [
    {
     "name": "stdout",
     "output_type": "stream",
     "text": [
      "(212404, 10)\n",
      "Index(['Title', 'description', 'authors', 'image', 'previewLink', 'publisher',\n",
      "       'publishedDate', 'infoLink', 'categories', 'ratingsCount'],\n",
      "      dtype='object')\n"
     ]
    }
   ],
   "execution_count": 8
  },
  {
   "cell_type": "code",
   "source": [
    "print(f\"Number of books that have a ratings count in this dataset, {books_data[books_data['ratingsCount']>0].shape[0]}\")\n",
    "print(books_data[books_data['Title'].str.contains('Hobbit',na=False)])\n",
    "\n",
    "grouped_books = books_data.groupby(['authors']).count()\n",
    "grouped_books[grouped_books['Title']>=5]"
   ],
   "metadata": {
    "tags": [],
    "cell_id": "b83ca25bae0e4c1f9930ff3db9ac1ccd",
    "source_hash": "c8f5456c",
    "execution_start": 1667316285809,
    "execution_millis": 384,
    "deepnote_to_be_reexecuted": false,
    "deepnote_cell_type": "code",
    "pycharm": {
     "name": "#%%\n"
    }
   },
   "outputs": [
    {
     "name": "stdout",
     "output_type": "stream",
     "text": [
      "Number of books that have a ratings count in this dataset, 49752\n",
      "                                                    Title  \\\n",
      "5970    The Hobbitt, or there and back again; illustra...   \n",
      "29057                                          The Hobbit   \n",
      "64705   The Lord of the Rings and The Hobbit (Cliffs N...   \n",
      "86754   Hobbits, Elves and Wizards: The Wonders and Wo...   \n",
      "89208   Hobbit and The Lord of the Rings, The (Barron'...   \n",
      "89771                The Hobbit; Or, There and Back Again   \n",
      "130707                 The Hobbit or There and Back Again   \n",
      "159000                    The Hobbit There and Back Again   \n",
      "176456                              Poems from The Hobbit   \n",
      "188737                              Poems from the Hobbit   \n",
      "189955  The Individuated Hobbit: Jung, Tolkien and the...   \n",
      "\n",
      "                                              description  \\\n",
      "5970    Bilbo Baggins, a respectable, well-to-do hobbi...   \n",
      "29057   Celebrating 75 years of one of the world's mos...   \n",
      "64705   Join the journey through Middle-earth in the s...   \n",
      "86754                                                 NaN   \n",
      "89208                                                 NaN   \n",
      "89771                                                 NaN   \n",
      "130707  Celebrating 75 years of one of the world's mos...   \n",
      "159000  The adventures of the well-to-do hobbit, Bilbo...   \n",
      "176456                                                NaN   \n",
      "188737  A collection of J.R.R. Tolkien's Hobbit poems ...   \n",
      "189955  Shows that the Lord of the Rings can be read i...   \n",
      "\n",
      "                              authors  \\\n",
      "5970             ['J. R. R. Tolkien']   \n",
      "29057            ['J. R. R. Tolkien']   \n",
      "64705                ['Gene B Hardy']   \n",
      "86754                             NaN   \n",
      "89208                             NaN   \n",
      "89771                             NaN   \n",
      "130707           ['J. R. R. Tolkien']   \n",
      "159000  ['John Ronald Reuel Tolkien']   \n",
      "176456                            NaN   \n",
      "188737              ['J R R Tolkien']   \n",
      "189955         [\"Timothy R. O'Neill\"]   \n",
      "\n",
      "                                       categories  ratingsCount  \n",
      "5970                                  ['Fiction']           NaN  \n",
      "29057                        ['Juvenile Fiction']        2580.0  \n",
      "64705                      ['Literary Criticism']           NaN  \n",
      "86754                                         NaN           NaN  \n",
      "89208                                         NaN           NaN  \n",
      "89771                                         NaN           NaN  \n",
      "130707                       ['Juvenile Fiction']        2580.0  \n",
      "159000                      ['Adventure stories']         139.0  \n",
      "176456                                        NaN           NaN  \n",
      "188737                ['Fantasy poetry, English']           NaN  \n",
      "189955  ['Archetype (Psychology) in literature.']           NaN  \n"
     ]
    },
    {
     "data": {
      "text/plain": "                                             Title  description  categories  \\\nauthors                                                                       \n[\"America's Test Kitchen\"]                       7            7           7   \n[\"Bathroom Readers' Institute\"]                  5            5           5   \n[\"Eugene O'Neill\"]                              12            8          11   \n[\"Fodor's Travel Guides\"]                        5            5           5   \n[\"Fodor's Travel Publications, Inc. Staff\"]      5            5           5   \n...                                            ...          ...         ...   \n['Zondervan,']                                  20           20          20   \n['Zora Neale Hurston']                          10           10          10   \n['bell hooks']                                  16           16          16   \n['graf Leo Tolstoy']                             5            3           4   \n['ʻAbduʼl-Bahá']                                 5            0           4   \n\n                                             ratingsCount  \nauthors                                                    \n[\"America's Test Kitchen\"]                              3  \n[\"Bathroom Readers' Institute\"]                         5  \n[\"Eugene O'Neill\"]                                      4  \n[\"Fodor's Travel Guides\"]                               0  \n[\"Fodor's Travel Publications, Inc. Staff\"]             0  \n...                                                   ...  \n['Zondervan,']                                         15  \n['Zora Neale Hurston']                                  5  \n['bell hooks']                                         10  \n['graf Leo Tolstoy']                                    1  \n['ʻAbduʼl-Bahá']                                        4  \n\n[3102 rows x 4 columns]",
      "text/html": "<div>\n<style scoped>\n    .dataframe tbody tr th:only-of-type {\n        vertical-align: middle;\n    }\n\n    .dataframe tbody tr th {\n        vertical-align: top;\n    }\n\n    .dataframe thead th {\n        text-align: right;\n    }\n</style>\n<table border=\"1\" class=\"dataframe\">\n  <thead>\n    <tr style=\"text-align: right;\">\n      <th></th>\n      <th>Title</th>\n      <th>description</th>\n      <th>categories</th>\n      <th>ratingsCount</th>\n    </tr>\n    <tr>\n      <th>authors</th>\n      <th></th>\n      <th></th>\n      <th></th>\n      <th></th>\n    </tr>\n  </thead>\n  <tbody>\n    <tr>\n      <th>[\"America's Test Kitchen\"]</th>\n      <td>7</td>\n      <td>7</td>\n      <td>7</td>\n      <td>3</td>\n    </tr>\n    <tr>\n      <th>[\"Bathroom Readers' Institute\"]</th>\n      <td>5</td>\n      <td>5</td>\n      <td>5</td>\n      <td>5</td>\n    </tr>\n    <tr>\n      <th>[\"Eugene O'Neill\"]</th>\n      <td>12</td>\n      <td>8</td>\n      <td>11</td>\n      <td>4</td>\n    </tr>\n    <tr>\n      <th>[\"Fodor's Travel Guides\"]</th>\n      <td>5</td>\n      <td>5</td>\n      <td>5</td>\n      <td>0</td>\n    </tr>\n    <tr>\n      <th>[\"Fodor's Travel Publications, Inc. Staff\"]</th>\n      <td>5</td>\n      <td>5</td>\n      <td>5</td>\n      <td>0</td>\n    </tr>\n    <tr>\n      <th>...</th>\n      <td>...</td>\n      <td>...</td>\n      <td>...</td>\n      <td>...</td>\n    </tr>\n    <tr>\n      <th>['Zondervan,']</th>\n      <td>20</td>\n      <td>20</td>\n      <td>20</td>\n      <td>15</td>\n    </tr>\n    <tr>\n      <th>['Zora Neale Hurston']</th>\n      <td>10</td>\n      <td>10</td>\n      <td>10</td>\n      <td>5</td>\n    </tr>\n    <tr>\n      <th>['bell hooks']</th>\n      <td>16</td>\n      <td>16</td>\n      <td>16</td>\n      <td>10</td>\n    </tr>\n    <tr>\n      <th>['graf Leo Tolstoy']</th>\n      <td>5</td>\n      <td>3</td>\n      <td>4</td>\n      <td>1</td>\n    </tr>\n    <tr>\n      <th>['ʻAbduʼl-Bahá']</th>\n      <td>5</td>\n      <td>0</td>\n      <td>4</td>\n      <td>4</td>\n    </tr>\n  </tbody>\n</table>\n<p>3102 rows × 4 columns</p>\n</div>"
     },
     "execution_count": 9,
     "metadata": {},
     "output_type": "execute_result"
    }
   ],
   "execution_count": 9
  },
  {
   "cell_type": "code",
   "source": [
    "#check how many of the reviewed books are available in the book dataset by Title\n",
    "merged_df = pd.merge(review_data, books_data, how='inner', on=['Title'])\n",
    "print(merged_df.shape)\n",
    "merged_df.head()"
   ],
   "metadata": {
    "tags": [],
    "cell_id": "e8fa2053695a474f986d9aca58cf3175",
    "source_hash": "c38f66d9",
    "execution_start": 1667316286198,
    "execution_millis": 743,
    "deepnote_to_be_reexecuted": false,
    "deepnote_cell_type": "code",
    "pycharm": {
     "name": "#%%\n"
    }
   },
   "outputs": [
    {
     "name": "stdout",
     "output_type": "stream",
     "text": [
      "(2415682, 9)\n"
     ]
    },
    {
     "data": {
      "text/plain": "           Id                           Title         User_id  review/score  \\\n0  1882931173  Its Only Art If Its Well Hung!   AVCGYZL8FQQTD           4.0   \n1  0826414346        Dr. Seuss: American Icon  A30TK6U7DNS82R           5.0   \n2  0826414346        Dr. Seuss: American Icon  A3UH4UZ4RSVO82           5.0   \n3  0826414346        Dr. Seuss: American Icon  A2MVUWT453QH61           4.0   \n4  0826414346        Dr. Seuss: American Icon  A22X4XUPKF66MR           4.0   \n\n                                         review/text  \\\n0  This is only for Julie Strain fans. It's a col...   \n1  I don't care much for Dr. Seuss but after read...   \n2  If people become the books they read and if \"t...   \n3  Theodore Seuss Geisel (1904-1991), aka &quot;D...   \n4  Philip Nel - Dr. Seuss: American IconThis is b...   \n\n                                         description           authors  \\\n0                                                NaN  ['Julie Strain']   \n1  Philip Nel takes a fascinating look into the k...    ['Philip Nel']   \n2  Philip Nel takes a fascinating look into the k...    ['Philip Nel']   \n3  Philip Nel takes a fascinating look into the k...    ['Philip Nel']   \n4  Philip Nel takes a fascinating look into the k...    ['Philip Nel']   \n\n                      categories  ratingsCount  \n0    ['Comics & Graphic Novels']           NaN  \n1  ['Biography & Autobiography']           NaN  \n2  ['Biography & Autobiography']           NaN  \n3  ['Biography & Autobiography']           NaN  \n4  ['Biography & Autobiography']           NaN  ",
      "text/html": "<div>\n<style scoped>\n    .dataframe tbody tr th:only-of-type {\n        vertical-align: middle;\n    }\n\n    .dataframe tbody tr th {\n        vertical-align: top;\n    }\n\n    .dataframe thead th {\n        text-align: right;\n    }\n</style>\n<table border=\"1\" class=\"dataframe\">\n  <thead>\n    <tr style=\"text-align: right;\">\n      <th></th>\n      <th>Id</th>\n      <th>Title</th>\n      <th>User_id</th>\n      <th>review/score</th>\n      <th>review/text</th>\n      <th>description</th>\n      <th>authors</th>\n      <th>categories</th>\n      <th>ratingsCount</th>\n    </tr>\n  </thead>\n  <tbody>\n    <tr>\n      <th>0</th>\n      <td>1882931173</td>\n      <td>Its Only Art If Its Well Hung!</td>\n      <td>AVCGYZL8FQQTD</td>\n      <td>4.0</td>\n      <td>This is only for Julie Strain fans. It's a col...</td>\n      <td>NaN</td>\n      <td>['Julie Strain']</td>\n      <td>['Comics &amp; Graphic Novels']</td>\n      <td>NaN</td>\n    </tr>\n    <tr>\n      <th>1</th>\n      <td>0826414346</td>\n      <td>Dr. Seuss: American Icon</td>\n      <td>A30TK6U7DNS82R</td>\n      <td>5.0</td>\n      <td>I don't care much for Dr. Seuss but after read...</td>\n      <td>Philip Nel takes a fascinating look into the k...</td>\n      <td>['Philip Nel']</td>\n      <td>['Biography &amp; Autobiography']</td>\n      <td>NaN</td>\n    </tr>\n    <tr>\n      <th>2</th>\n      <td>0826414346</td>\n      <td>Dr. Seuss: American Icon</td>\n      <td>A3UH4UZ4RSVO82</td>\n      <td>5.0</td>\n      <td>If people become the books they read and if \"t...</td>\n      <td>Philip Nel takes a fascinating look into the k...</td>\n      <td>['Philip Nel']</td>\n      <td>['Biography &amp; Autobiography']</td>\n      <td>NaN</td>\n    </tr>\n    <tr>\n      <th>3</th>\n      <td>0826414346</td>\n      <td>Dr. Seuss: American Icon</td>\n      <td>A2MVUWT453QH61</td>\n      <td>4.0</td>\n      <td>Theodore Seuss Geisel (1904-1991), aka &amp;quot;D...</td>\n      <td>Philip Nel takes a fascinating look into the k...</td>\n      <td>['Philip Nel']</td>\n      <td>['Biography &amp; Autobiography']</td>\n      <td>NaN</td>\n    </tr>\n    <tr>\n      <th>4</th>\n      <td>0826414346</td>\n      <td>Dr. Seuss: American Icon</td>\n      <td>A22X4XUPKF66MR</td>\n      <td>4.0</td>\n      <td>Philip Nel - Dr. Seuss: American IconThis is b...</td>\n      <td>Philip Nel takes a fascinating look into the k...</td>\n      <td>['Philip Nel']</td>\n      <td>['Biography &amp; Autobiography']</td>\n      <td>NaN</td>\n    </tr>\n  </tbody>\n</table>\n</div>"
     },
     "execution_count": 10,
     "metadata": {},
     "output_type": "execute_result"
    }
   ],
   "execution_count": 10
  },
  {
   "cell_type": "markdown",
   "source": [
    "### Creating an item profile \n",
    "In order to create an item profile, the authors and category are put into a "
   ],
   "metadata": {
    "tags": [],
    "cell_id": "d1c81f11574a4c0f80bf618010e4c5e3",
    "deepnote_cell_type": "markdown",
    "pycharm": {
     "name": "#%% md\n"
    }
   }
  },
  {
   "cell_type": "markdown",
   "source": [
    "Calculate the cosine distance between two matrices"
   ],
   "metadata": {
    "tags": [],
    "cell_id": "a373da38480c45498e382100f8f7fb44",
    "deepnote_cell_type": "markdown",
    "pycharm": {
     "name": "#%% md\n"
    }
   }
  },
  {
   "cell_type": "code",
   "execution_count": 11,
   "outputs": [],
   "source": [
    "import numpy as np\n",
    "import scipy.spatial.distance as distance\n",
    "from scipy import sparse"
   ],
   "metadata": {
    "collapsed": false,
    "pycharm": {
     "name": "#%%\n"
    }
   }
  },
  {
   "cell_type": "markdown",
   "source": [
    "### Creating the normalized utility matrix\n",
    "If we had more than our local machines available, it would make sense to use distributed machines with map-reduce in order to handle this problem.\n",
    "The utility matrix already gets fairly big if we want to process it in a dense format."
   ],
   "metadata": {
    "collapsed": false,
    "pycharm": {
     "name": "#%% md\n"
    }
   }
  },
  {
   "cell_type": "code",
   "execution_count": 12,
   "outputs": [],
   "source": [
    "# Calculating the average rating of each user\n",
    "avg_rating = (merged_df[[\"User_id\", \"review/score\"]].\n",
    "groupby(\"User_id\").mean())"
   ],
   "metadata": {
    "collapsed": false,
    "pycharm": {
     "name": "#%%\n"
    }
   }
  },
  {
   "cell_type": "code",
   "execution_count": 13,
   "outputs": [
    {
     "name": "stdout",
     "output_type": "stream",
     "text": [
      "Number of books in the merged dataset 205048\n",
      "Number of users in the merged dataset 1008962\n"
     ]
    }
   ],
   "source": [
    "print(f\"Number of books in the merged dataset {len(merged_df['Title'].drop_duplicates())}\")\n",
    "print(f\"Number of users in the merged dataset {len(merged_df['User_id'].drop_duplicates())}\")"
   ],
   "metadata": {
    "collapsed": false,
    "pycharm": {
     "name": "#%%\n"
    }
   }
  },
  {
   "cell_type": "markdown",
   "source": [
    "This means our utility matrix will end up being 1008962x205048 - a very large matrix.\n",
    "In order to handle a matrix of this size, we need to look at sparse matrices (most entries will be empty anyways)"
   ],
   "metadata": {
    "collapsed": false,
    "pycharm": {
     "name": "#%% md\n"
    }
   }
  },
  {
   "cell_type": "code",
   "execution_count": 14,
   "outputs": [
    {
     "data": {
      "text/plain": "                                                     Title  \\\n1530761                  This Calder Range (Calder Saga's)   \n1125585                       The Queen of Harlem: A Novel   \n1510574                                       ATTITUDE 101   \n750686                          The Richest Man in Babylon   \n1357681                         The richest man in Babylon   \n...                                                    ...   \n1281294  Tactics of the Crescent Moon: Militant Muslim ...   \n1279708  The Tiger's Way: A U.S. Private's Best Chance ...   \n1895267                                                Out   \n1895413                                                Out   \n1288044  The Unofficial Guideto Starting a Small Busine...   \n\n                       User_id  review/score  \n1530761  A00109803PZJ91RLT7DPN           5.0  \n1125585  A00117421L76WVWG4UX95           5.0  \n1510574   A0015610VMNR0JC9XVL1           3.0  \n750686    A0015610VMNR0JC9XVL1           5.0  \n1357681   A0015610VMNR0JC9XVL1           5.0  \n...                        ...           ...  \n1281294          AZZZT14MS21I6           5.0  \n1279708          AZZZT14MS21I6           5.0  \n1895267          AZZZYCR4NZADZ           5.0  \n1895413          AZZZYCR4NZADZ           5.0  \n1288044          AZZZZW74AAX75           5.0  \n\n[2415682 rows x 3 columns]",
      "text/html": "<div>\n<style scoped>\n    .dataframe tbody tr th:only-of-type {\n        vertical-align: middle;\n    }\n\n    .dataframe tbody tr th {\n        vertical-align: top;\n    }\n\n    .dataframe thead th {\n        text-align: right;\n    }\n</style>\n<table border=\"1\" class=\"dataframe\">\n  <thead>\n    <tr style=\"text-align: right;\">\n      <th></th>\n      <th>Title</th>\n      <th>User_id</th>\n      <th>review/score</th>\n    </tr>\n  </thead>\n  <tbody>\n    <tr>\n      <th>1530761</th>\n      <td>This Calder Range (Calder Saga's)</td>\n      <td>A00109803PZJ91RLT7DPN</td>\n      <td>5.0</td>\n    </tr>\n    <tr>\n      <th>1125585</th>\n      <td>The Queen of Harlem: A Novel</td>\n      <td>A00117421L76WVWG4UX95</td>\n      <td>5.0</td>\n    </tr>\n    <tr>\n      <th>1510574</th>\n      <td>ATTITUDE 101</td>\n      <td>A0015610VMNR0JC9XVL1</td>\n      <td>3.0</td>\n    </tr>\n    <tr>\n      <th>750686</th>\n      <td>The Richest Man in Babylon</td>\n      <td>A0015610VMNR0JC9XVL1</td>\n      <td>5.0</td>\n    </tr>\n    <tr>\n      <th>1357681</th>\n      <td>The richest man in Babylon</td>\n      <td>A0015610VMNR0JC9XVL1</td>\n      <td>5.0</td>\n    </tr>\n    <tr>\n      <th>...</th>\n      <td>...</td>\n      <td>...</td>\n      <td>...</td>\n    </tr>\n    <tr>\n      <th>1281294</th>\n      <td>Tactics of the Crescent Moon: Militant Muslim ...</td>\n      <td>AZZZT14MS21I6</td>\n      <td>5.0</td>\n    </tr>\n    <tr>\n      <th>1279708</th>\n      <td>The Tiger's Way: A U.S. Private's Best Chance ...</td>\n      <td>AZZZT14MS21I6</td>\n      <td>5.0</td>\n    </tr>\n    <tr>\n      <th>1895267</th>\n      <td>Out</td>\n      <td>AZZZYCR4NZADZ</td>\n      <td>5.0</td>\n    </tr>\n    <tr>\n      <th>1895413</th>\n      <td>Out</td>\n      <td>AZZZYCR4NZADZ</td>\n      <td>5.0</td>\n    </tr>\n    <tr>\n      <th>1288044</th>\n      <td>The Unofficial Guideto Starting a Small Busine...</td>\n      <td>AZZZZW74AAX75</td>\n      <td>5.0</td>\n    </tr>\n  </tbody>\n</table>\n<p>2415682 rows × 3 columns</p>\n</div>"
     },
     "execution_count": 14,
     "metadata": {},
     "output_type": "execute_result"
    }
   ],
   "source": [
    "merged_df[[\"Title\", \"User_id\", \"review/score\"]].sort_values([\"User_id\", \"Title\"])\n",
    "# looking at this it looks as if some users rated the same book twice (the title only varies slightly)\n",
    "# look at id 750686 & 1357681]"
   ],
   "metadata": {
    "collapsed": false,
    "pycharm": {
     "name": "#%%\n"
    }
   }
  },
  {
   "cell_type": "code",
   "execution_count": 15,
   "outputs": [
    {
     "data": {
      "text/plain": "               Id Title         User_id  review/score  \\\n17063  B00005XZDV   NaN   AY44TQ8XGQ7RR           5.0   \n17064  0801841119   NaN  A3F19JZZ07PDX0           1.0   \n17065  0801841119   NaN  A1JO4MQFLXGYVS           5.0   \n17066  0595241034   NaN  A1ASFZRH6ZLCOE           4.0   \n17067  0595241034   NaN   AIY736C2LYMMB           3.0   \n...           ...   ...             ...           ...   \n17253  059528812X   NaN   A6SZZSMX7DQG1           5.0   \n17254  059528812X   NaN  A352HZ1YURWGVL           1.0   \n17255  059528812X   NaN  A2VPLBU4M5NUXV           5.0   \n17256  059528812X   NaN   AVDFWLRZRBTMI           5.0   \n17257  059528812X   NaN   APQYJLNR0V4IT           1.0   \n\n                                             review/text description  \\\n17063  In an era of other prolific writers such as Ja...         NaN   \n17064  You can't even really call this a translation;...         NaN   \n17065  Slavitt's translation of Virgil's Eclogues and...         NaN   \n17066  I can definitely relate to the story line in D...         NaN   \n17067  This new author has taken on a very sensitive ...         NaN   \n...                                                  ...         ...   \n17253  This is a great book about friendship, loyalty...         NaN   \n17254  I saw this title in my local library on the do...         NaN   \n17255  Justify The Means offers bone-deep emotional t...         NaN   \n17256  With keen prose and an extraordinary eye, Madi...         NaN   \n17257  This book is a total piece of trash written by...         NaN   \n\n                   authors categories  ratingsCount  \n17063  ['Maharshi Ramana']        NaN           1.0  \n17064  ['Maharshi Ramana']        NaN           1.0  \n17065  ['Maharshi Ramana']        NaN           1.0  \n17066  ['Maharshi Ramana']        NaN           1.0  \n17067  ['Maharshi Ramana']        NaN           1.0  \n...                    ...        ...           ...  \n17253  ['Maharshi Ramana']        NaN           1.0  \n17254  ['Maharshi Ramana']        NaN           1.0  \n17255  ['Maharshi Ramana']        NaN           1.0  \n17256  ['Maharshi Ramana']        NaN           1.0  \n17257  ['Maharshi Ramana']        NaN           1.0  \n\n[195 rows x 9 columns]",
      "text/html": "<div>\n<style scoped>\n    .dataframe tbody tr th:only-of-type {\n        vertical-align: middle;\n    }\n\n    .dataframe tbody tr th {\n        vertical-align: top;\n    }\n\n    .dataframe thead th {\n        text-align: right;\n    }\n</style>\n<table border=\"1\" class=\"dataframe\">\n  <thead>\n    <tr style=\"text-align: right;\">\n      <th></th>\n      <th>Id</th>\n      <th>Title</th>\n      <th>User_id</th>\n      <th>review/score</th>\n      <th>review/text</th>\n      <th>description</th>\n      <th>authors</th>\n      <th>categories</th>\n      <th>ratingsCount</th>\n    </tr>\n  </thead>\n  <tbody>\n    <tr>\n      <th>17063</th>\n      <td>B00005XZDV</td>\n      <td>NaN</td>\n      <td>AY44TQ8XGQ7RR</td>\n      <td>5.0</td>\n      <td>In an era of other prolific writers such as Ja...</td>\n      <td>NaN</td>\n      <td>['Maharshi Ramana']</td>\n      <td>NaN</td>\n      <td>1.0</td>\n    </tr>\n    <tr>\n      <th>17064</th>\n      <td>0801841119</td>\n      <td>NaN</td>\n      <td>A3F19JZZ07PDX0</td>\n      <td>1.0</td>\n      <td>You can't even really call this a translation;...</td>\n      <td>NaN</td>\n      <td>['Maharshi Ramana']</td>\n      <td>NaN</td>\n      <td>1.0</td>\n    </tr>\n    <tr>\n      <th>17065</th>\n      <td>0801841119</td>\n      <td>NaN</td>\n      <td>A1JO4MQFLXGYVS</td>\n      <td>5.0</td>\n      <td>Slavitt's translation of Virgil's Eclogues and...</td>\n      <td>NaN</td>\n      <td>['Maharshi Ramana']</td>\n      <td>NaN</td>\n      <td>1.0</td>\n    </tr>\n    <tr>\n      <th>17066</th>\n      <td>0595241034</td>\n      <td>NaN</td>\n      <td>A1ASFZRH6ZLCOE</td>\n      <td>4.0</td>\n      <td>I can definitely relate to the story line in D...</td>\n      <td>NaN</td>\n      <td>['Maharshi Ramana']</td>\n      <td>NaN</td>\n      <td>1.0</td>\n    </tr>\n    <tr>\n      <th>17067</th>\n      <td>0595241034</td>\n      <td>NaN</td>\n      <td>AIY736C2LYMMB</td>\n      <td>3.0</td>\n      <td>This new author has taken on a very sensitive ...</td>\n      <td>NaN</td>\n      <td>['Maharshi Ramana']</td>\n      <td>NaN</td>\n      <td>1.0</td>\n    </tr>\n    <tr>\n      <th>...</th>\n      <td>...</td>\n      <td>...</td>\n      <td>...</td>\n      <td>...</td>\n      <td>...</td>\n      <td>...</td>\n      <td>...</td>\n      <td>...</td>\n      <td>...</td>\n    </tr>\n    <tr>\n      <th>17253</th>\n      <td>059528812X</td>\n      <td>NaN</td>\n      <td>A6SZZSMX7DQG1</td>\n      <td>5.0</td>\n      <td>This is a great book about friendship, loyalty...</td>\n      <td>NaN</td>\n      <td>['Maharshi Ramana']</td>\n      <td>NaN</td>\n      <td>1.0</td>\n    </tr>\n    <tr>\n      <th>17254</th>\n      <td>059528812X</td>\n      <td>NaN</td>\n      <td>A352HZ1YURWGVL</td>\n      <td>1.0</td>\n      <td>I saw this title in my local library on the do...</td>\n      <td>NaN</td>\n      <td>['Maharshi Ramana']</td>\n      <td>NaN</td>\n      <td>1.0</td>\n    </tr>\n    <tr>\n      <th>17255</th>\n      <td>059528812X</td>\n      <td>NaN</td>\n      <td>A2VPLBU4M5NUXV</td>\n      <td>5.0</td>\n      <td>Justify The Means offers bone-deep emotional t...</td>\n      <td>NaN</td>\n      <td>['Maharshi Ramana']</td>\n      <td>NaN</td>\n      <td>1.0</td>\n    </tr>\n    <tr>\n      <th>17256</th>\n      <td>059528812X</td>\n      <td>NaN</td>\n      <td>AVDFWLRZRBTMI</td>\n      <td>5.0</td>\n      <td>With keen prose and an extraordinary eye, Madi...</td>\n      <td>NaN</td>\n      <td>['Maharshi Ramana']</td>\n      <td>NaN</td>\n      <td>1.0</td>\n    </tr>\n    <tr>\n      <th>17257</th>\n      <td>059528812X</td>\n      <td>NaN</td>\n      <td>APQYJLNR0V4IT</td>\n      <td>1.0</td>\n      <td>This book is a total piece of trash written by...</td>\n      <td>NaN</td>\n      <td>['Maharshi Ramana']</td>\n      <td>NaN</td>\n      <td>1.0</td>\n    </tr>\n  </tbody>\n</table>\n<p>195 rows × 9 columns</p>\n</div>"
     },
     "execution_count": 15,
     "metadata": {},
     "output_type": "execute_result"
    }
   ],
   "source": [
    "(merged_df[~merged_df[\"Title\"]\n",
    "    .apply(lambda x:isinstance(x, str))])"
   ],
   "metadata": {
    "collapsed": false,
    "pycharm": {
     "name": "#%%\n"
    }
   }
  },
  {
   "cell_type": "code",
   "execution_count": 16,
   "outputs": [],
   "source": [
    "# Drop NaN values and cast the title to lower case\n",
    "merged_df = merged_df.drop(merged_df[~merged_df[\"Title\"].apply(lambda x:isinstance(x, str))].index)\n",
    "merged_df[\"Title\"] = merged_df[\"Title\"].apply(lambda x:x.lower())"
   ],
   "metadata": {
    "collapsed": false,
    "pycharm": {
     "name": "#%%\n"
    }
   }
  },
  {
   "cell_type": "code",
   "execution_count": 17,
   "outputs": [
    {
     "name": "stdout",
     "output_type": "stream",
     "text": [
      "Unique reviews in the dataset considering Title and score per user: 2032945\n",
      "Unique reviews in the dataset considering only Title: 2030641\n"
     ]
    }
   ],
   "source": [
    "print(f\"Unique reviews in the dataset considering Title and score per user: {merged_df[['Title', 'User_id', 'review/score']].drop_duplicates().shape[0]}\")\n",
    "print(f\"Unique reviews in the dataset considering only Title: {merged_df[['Title', 'User_id']].drop_duplicates().shape[0]}\")\n",
    "\n",
    "# We can see that approx. 2000 people have rated a book twice and given it a different rating"
   ],
   "metadata": {
    "collapsed": false,
    "pycharm": {
     "name": "#%%\n"
    }
   }
  },
  {
   "cell_type": "markdown",
   "source": [
    "If we normalize the ratings by the average rating given from a user, we will essentially get rid of all the people that have only voted once, and people that have only given the same rating across multiple books. This is an assumption we work with for now."
   ],
   "metadata": {
    "collapsed": false,
    "pycharm": {
     "name": "#%% md\n"
    }
   }
  },
  {
   "cell_type": "code",
   "execution_count": 18,
   "outputs": [],
   "source": [
    "#ratings_ = pd.merge(merged_df[\"review/score\"], avg_rating, how=\"outer\", left_index=True, right_index=True)\n",
    "#ratings_ = pd.merge(merged_df[\"review/score\"], avg_rating, how=\"inner\", left_index=True, right_index=True)"
   ],
   "metadata": {
    "collapsed": false,
    "pycharm": {
     "name": "#%%\n"
    }
   }
  },
  {
   "cell_type": "code",
   "execution_count": 19,
   "outputs": [
    {
     "ename": "NameError",
     "evalue": "name 'ratings_' is not defined",
     "output_type": "error",
     "traceback": [
      "\u001B[1;31m---------------------------------------------------------------------------\u001B[0m",
      "\u001B[1;31mNameError\u001B[0m                                 Traceback (most recent call last)",
      "Input \u001B[1;32mIn [19]\u001B[0m, in \u001B[0;36m<cell line: 2>\u001B[1;34m()\u001B[0m\n\u001B[0;32m      1\u001B[0m \u001B[38;5;66;03m# calculate normalized ratings (rating - mean rating)\u001B[39;00m\n\u001B[1;32m----> 2\u001B[0m avg_rtng \u001B[38;5;241m=\u001B[39m (\u001B[43mratings_\u001B[49m\u001B[38;5;241m.\u001B[39miloc[:,\u001B[38;5;241m0\u001B[39m]\u001B[38;5;241m-\u001B[39mratings_\u001B[38;5;241m.\u001B[39miloc[:,\u001B[38;5;241m1\u001B[39m])\u001B[38;5;241m.\u001B[39mvalues\n",
      "\u001B[1;31mNameError\u001B[0m: name 'ratings_' is not defined"
     ]
    }
   ],
   "source": [
    "# calculate normalized ratings (rating - mean rating)\n",
    "#avg_rtng = (ratings_.iloc[:,0]-ratings_.iloc[:,1]).values"
   ],
   "metadata": {
    "collapsed": false,
    "pycharm": {
     "name": "#%%\n"
    }
   }
  },
  {
   "cell_type": "code",
   "execution_count": 20,
   "outputs": [],
   "source": [
    "from sklearn.datasets import make_sparse_spd_matrix"
   ],
   "metadata": {
    "collapsed": false,
    "pycharm": {
     "name": "#%%\n"
    }
   }
  },
  {
   "cell_type": "code",
   "execution_count": 21,
   "outputs": [],
   "source": [
    "#https://towardsdatascience.com/working-with-sparse-data-sets-in-pandas-and-sklearn-d26c1cfbe067\n",
    "#ut_mat = pd.get_dummies(merged_df[['Title', 'User_id', 'review/score']], columns=[\"Title\", \"User_id\"], sparse=True)"
   ],
   "metadata": {
    "collapsed": false,
    "pycharm": {
     "name": "#%%\n"
    }
   }
  },
  {
   "cell_type": "markdown",
   "source": [
    "Using an Encoder for the string variables saves a lot of memory for computations. We can always go invert the mapping to get to the original values."
   ],
   "metadata": {
    "collapsed": false,
    "pycharm": {
     "name": "#%% md\n"
    }
   }
  },
  {
   "cell_type": "code",
   "execution_count": 22,
   "outputs": [],
   "source": [
    "from sklearn.preprocessing import LabelEncoder\n",
    "# Encode the User_id and Title\n",
    "le = LabelEncoder()\n",
    "merged_df[\"User_id\"] = le.fit_transform(merged_df[\"User_id\"])\n",
    "#merged_df[\"User_id\"] = merged_df[\"User_id\"].astype(\"category\")"
   ],
   "metadata": {
    "collapsed": false,
    "pycharm": {
     "name": "#%%\n"
    }
   }
  },
  {
   "cell_type": "code",
   "execution_count": 23,
   "outputs": [],
   "source": [
    "le2 = LabelEncoder()\n",
    "merged_df[\"Title\"] = le2.fit_transform(merged_df[\"Title\"])\n",
    "#merged_df[\"Title\"] = merged_df[\"Title\"].astype(\"category\")"
   ],
   "metadata": {
    "collapsed": false,
    "pycharm": {
     "name": "#%%\n"
    }
   }
  },
  {
   "cell_type": "code",
   "execution_count": 24,
   "outputs": [
    {
     "data": {
      "text/plain": "           Id  Title  User_id  review/score  \\\n0  1882931173  79922   974347           4.0   \n1  0826414346  45723   538921           5.0   \n2  0826414346  45723   758556           5.0   \n3  0826414346  45723   436234           4.0   \n4  0826414346  45723   288496           4.0   \n\n                                         review/text  \\\n0  This is only for Julie Strain fans. It's a col...   \n1  I don't care much for Dr. Seuss but after read...   \n2  If people become the books they read and if \"t...   \n3  Theodore Seuss Geisel (1904-1991), aka &quot;D...   \n4  Philip Nel - Dr. Seuss: American IconThis is b...   \n\n                                         description           authors  \\\n0                                                NaN  ['Julie Strain']   \n1  Philip Nel takes a fascinating look into the k...    ['Philip Nel']   \n2  Philip Nel takes a fascinating look into the k...    ['Philip Nel']   \n3  Philip Nel takes a fascinating look into the k...    ['Philip Nel']   \n4  Philip Nel takes a fascinating look into the k...    ['Philip Nel']   \n\n                      categories  ratingsCount  \n0    ['Comics & Graphic Novels']           NaN  \n1  ['Biography & Autobiography']           NaN  \n2  ['Biography & Autobiography']           NaN  \n3  ['Biography & Autobiography']           NaN  \n4  ['Biography & Autobiography']           NaN  ",
      "text/html": "<div>\n<style scoped>\n    .dataframe tbody tr th:only-of-type {\n        vertical-align: middle;\n    }\n\n    .dataframe tbody tr th {\n        vertical-align: top;\n    }\n\n    .dataframe thead th {\n        text-align: right;\n    }\n</style>\n<table border=\"1\" class=\"dataframe\">\n  <thead>\n    <tr style=\"text-align: right;\">\n      <th></th>\n      <th>Id</th>\n      <th>Title</th>\n      <th>User_id</th>\n      <th>review/score</th>\n      <th>review/text</th>\n      <th>description</th>\n      <th>authors</th>\n      <th>categories</th>\n      <th>ratingsCount</th>\n    </tr>\n  </thead>\n  <tbody>\n    <tr>\n      <th>0</th>\n      <td>1882931173</td>\n      <td>79922</td>\n      <td>974347</td>\n      <td>4.0</td>\n      <td>This is only for Julie Strain fans. It's a col...</td>\n      <td>NaN</td>\n      <td>['Julie Strain']</td>\n      <td>['Comics &amp; Graphic Novels']</td>\n      <td>NaN</td>\n    </tr>\n    <tr>\n      <th>1</th>\n      <td>0826414346</td>\n      <td>45723</td>\n      <td>538921</td>\n      <td>5.0</td>\n      <td>I don't care much for Dr. Seuss but after read...</td>\n      <td>Philip Nel takes a fascinating look into the k...</td>\n      <td>['Philip Nel']</td>\n      <td>['Biography &amp; Autobiography']</td>\n      <td>NaN</td>\n    </tr>\n    <tr>\n      <th>2</th>\n      <td>0826414346</td>\n      <td>45723</td>\n      <td>758556</td>\n      <td>5.0</td>\n      <td>If people become the books they read and if \"t...</td>\n      <td>Philip Nel takes a fascinating look into the k...</td>\n      <td>['Philip Nel']</td>\n      <td>['Biography &amp; Autobiography']</td>\n      <td>NaN</td>\n    </tr>\n    <tr>\n      <th>3</th>\n      <td>0826414346</td>\n      <td>45723</td>\n      <td>436234</td>\n      <td>4.0</td>\n      <td>Theodore Seuss Geisel (1904-1991), aka &amp;quot;D...</td>\n      <td>Philip Nel takes a fascinating look into the k...</td>\n      <td>['Philip Nel']</td>\n      <td>['Biography &amp; Autobiography']</td>\n      <td>NaN</td>\n    </tr>\n    <tr>\n      <th>4</th>\n      <td>0826414346</td>\n      <td>45723</td>\n      <td>288496</td>\n      <td>4.0</td>\n      <td>Philip Nel - Dr. Seuss: American IconThis is b...</td>\n      <td>Philip Nel takes a fascinating look into the k...</td>\n      <td>['Philip Nel']</td>\n      <td>['Biography &amp; Autobiography']</td>\n      <td>NaN</td>\n    </tr>\n  </tbody>\n</table>\n</div>"
     },
     "execution_count": 24,
     "metadata": {},
     "output_type": "execute_result"
    }
   ],
   "source": [
    "merged_df.head()"
   ],
   "metadata": {
    "collapsed": false,
    "pycharm": {
     "name": "#%%\n"
    }
   }
  },
  {
   "cell_type": "code",
   "execution_count": 29,
   "outputs": [],
   "source": [
    "ratings_unique = merged_df[[\"Title\", \"User_id\", \"review/score\"]].groupby([\"Title\", \"User_id\"]).mean().reset_index()"
   ],
   "metadata": {
    "collapsed": false,
    "pycharm": {
     "name": "#%%\n"
    }
   }
  },
  {
   "cell_type": "code",
   "execution_count": 30,
   "outputs": [],
   "source": [
    "# Calculating the average rating of each user\n",
    "avg_rating = (ratings_unique[[\"User_id\", \"review/score\"]].\n",
    "groupby(\"User_id\").mean())"
   ],
   "metadata": {
    "collapsed": false,
    "pycharm": {
     "name": "#%%\n"
    }
   }
  },
  {
   "cell_type": "code",
   "execution_count": 262,
   "outputs": [],
   "source": [
    "ratings_ = pd.merge(ratings_unique[[\"review/score\", \"User_id\", \"Title\"]], avg_rating, how=\"outer\", left_on=\"User_id\", right_index=True)"
   ],
   "metadata": {
    "collapsed": false,
    "pycharm": {
     "name": "#%%\n"
    }
   }
  },
  {
   "cell_type": "code",
   "execution_count": 32,
   "outputs": [],
   "source": [
    "avg_rtng = (ratings_.iloc[:,0]-ratings_.iloc[:,2]).values"
   ],
   "metadata": {
    "collapsed": false,
    "pycharm": {
     "name": "#%%\n"
    }
   }
  },
  {
   "cell_type": "code",
   "execution_count": 266,
   "outputs": [
    {
     "data": {
      "text/plain": "          Title  User_id  review/score\n0             0    49368           5.0\n1             0   723042           4.0\n2             1   514029           5.0\n3             1   777643           5.0\n4             2   190516           4.0\n...         ...      ...           ...\n2030636  202225   375630           4.0\n2030637  202225   683783           4.0\n2030638  202225   850622           5.0\n2030639  202225   937049           5.0\n2030640  202225   995594           4.0\n\n[2030641 rows x 3 columns]",
      "text/html": "<div>\n<style scoped>\n    .dataframe tbody tr th:only-of-type {\n        vertical-align: middle;\n    }\n\n    .dataframe tbody tr th {\n        vertical-align: top;\n    }\n\n    .dataframe thead th {\n        text-align: right;\n    }\n</style>\n<table border=\"1\" class=\"dataframe\">\n  <thead>\n    <tr style=\"text-align: right;\">\n      <th></th>\n      <th>Title</th>\n      <th>User_id</th>\n      <th>review/score</th>\n    </tr>\n  </thead>\n  <tbody>\n    <tr>\n      <th>0</th>\n      <td>0</td>\n      <td>49368</td>\n      <td>5.0</td>\n    </tr>\n    <tr>\n      <th>1</th>\n      <td>0</td>\n      <td>723042</td>\n      <td>4.0</td>\n    </tr>\n    <tr>\n      <th>2</th>\n      <td>1</td>\n      <td>514029</td>\n      <td>5.0</td>\n    </tr>\n    <tr>\n      <th>3</th>\n      <td>1</td>\n      <td>777643</td>\n      <td>5.0</td>\n    </tr>\n    <tr>\n      <th>4</th>\n      <td>2</td>\n      <td>190516</td>\n      <td>4.0</td>\n    </tr>\n    <tr>\n      <th>...</th>\n      <td>...</td>\n      <td>...</td>\n      <td>...</td>\n    </tr>\n    <tr>\n      <th>2030636</th>\n      <td>202225</td>\n      <td>375630</td>\n      <td>4.0</td>\n    </tr>\n    <tr>\n      <th>2030637</th>\n      <td>202225</td>\n      <td>683783</td>\n      <td>4.0</td>\n    </tr>\n    <tr>\n      <th>2030638</th>\n      <td>202225</td>\n      <td>850622</td>\n      <td>5.0</td>\n    </tr>\n    <tr>\n      <th>2030639</th>\n      <td>202225</td>\n      <td>937049</td>\n      <td>5.0</td>\n    </tr>\n    <tr>\n      <th>2030640</th>\n      <td>202225</td>\n      <td>995594</td>\n      <td>4.0</td>\n    </tr>\n  </tbody>\n</table>\n<p>2030641 rows × 3 columns</p>\n</div>"
     },
     "execution_count": 266,
     "metadata": {},
     "output_type": "execute_result"
    }
   ],
   "source": [
    "ratings_unique"
   ],
   "metadata": {
    "collapsed": false,
    "pycharm": {
     "name": "#%%\n"
    }
   }
  },
  {
   "cell_type": "code",
   "execution_count": 34,
   "outputs": [],
   "source": [
    "ratings_[\"avg\"] = ratings_.iloc[:,0]-ratings_.iloc[:,2]"
   ],
   "metadata": {
    "collapsed": false,
    "pycharm": {
     "name": "#%%\n"
    }
   }
  },
  {
   "cell_type": "code",
   "execution_count": 35,
   "outputs": [
    {
     "data": {
      "text/plain": "1          723042\n3          777643\n5530       809105\n208308       9833\n19          12345\n            ...  \n2025946     52719\n2029713    911886\n2026137    153172\n2026179    318173\n2028595    677411\nName: User_id, Length: 115157, dtype: int64"
     },
     "execution_count": 35,
     "metadata": {},
     "output_type": "execute_result"
    }
   ],
   "source": [
    "ratings_[ratings_[\"avg\"]>0][\"User_id\"].drop_duplicates()"
   ],
   "metadata": {
    "collapsed": false,
    "pycharm": {
     "name": "#%%\n"
    }
   }
  },
  {
   "cell_type": "code",
   "execution_count": 36,
   "outputs": [],
   "source": [
    "sparse_matrix = sparse.csc_matrix((avg_rtng, (ratings_unique[\"User_id\"].values, ratings_unique[\"Title\"].values)), shape=(ratings_unique[\"User_id\"].nunique(), ratings_unique[\"Title\"].nunique()))"
   ],
   "metadata": {
    "collapsed": false,
    "pycharm": {
     "name": "#%%\n"
    }
   }
  },
  {
   "cell_type": "code",
   "execution_count": 37,
   "outputs": [
    {
     "name": "stdout",
     "output_type": "stream",
     "text": [
      "  (0, 16913)\t1.2857142857142856\n",
      "  (0, 174257)\t0.0\n",
      "  (0, 174258)\t0.0\n"
     ]
    }
   ],
   "source": [
    "print(sparse_matrix[2])"
   ],
   "metadata": {
    "collapsed": false,
    "pycharm": {
     "name": "#%%\n"
    }
   }
  },
  {
   "cell_type": "code",
   "execution_count": 38,
   "outputs": [
    {
     "data": {
      "text/plain": "<1008951x202226 sparse matrix of type '<class 'numpy.float64'>'\n\twith 2030641 stored elements in Compressed Sparse Column format>"
     },
     "execution_count": 38,
     "metadata": {},
     "output_type": "execute_result"
    }
   ],
   "source": [
    "sparse_matrix"
   ],
   "metadata": {
    "collapsed": false,
    "pycharm": {
     "name": "#%%\n"
    }
   }
  },
  {
   "cell_type": "code",
   "execution_count": 39,
   "outputs": [
    {
     "name": "stdout",
     "output_type": "stream",
     "text": [
      "  (49368, 0)\t0.0\n",
      "  (723042, 0)\t0.0\n"
     ]
    }
   ],
   "source": [
    "print(sparse_matrix[:,0])"
   ],
   "metadata": {
    "collapsed": false,
    "pycharm": {
     "name": "#%%\n"
    }
   }
  },
  {
   "cell_type": "code",
   "execution_count": 40,
   "outputs": [
    {
     "data": {
      "text/plain": "<1x202226 sparse matrix of type '<class 'numpy.float64'>'\n\twith 1 stored elements in Compressed Sparse Column format>"
     },
     "execution_count": 40,
     "metadata": {},
     "output_type": "execute_result"
    }
   ],
   "source": [
    "sparse_matrix[0]"
   ],
   "metadata": {
    "collapsed": false,
    "pycharm": {
     "name": "#%%\n"
    }
   }
  },
  {
   "cell_type": "code",
   "execution_count": 41,
   "outputs": [],
   "source": [
    "import copy"
   ],
   "metadata": {
    "collapsed": false,
    "pycharm": {
     "name": "#%%\n"
    }
   }
  },
  {
   "cell_type": "code",
   "execution_count": 42,
   "outputs": [],
   "source": [
    "sm_c = copy.deepcopy(sparse_matrix)"
   ],
   "metadata": {
    "collapsed": false,
    "pycharm": {
     "name": "#%%\n"
    }
   }
  },
  {
   "cell_type": "code",
   "execution_count": 43,
   "outputs": [],
   "source": [
    "sm_c.eliminate_zeros()"
   ],
   "metadata": {
    "collapsed": false,
    "pycharm": {
     "name": "#%%\n"
    }
   }
  },
  {
   "cell_type": "code",
   "execution_count": 44,
   "outputs": [
    {
     "data": {
      "text/plain": "<1008951x202226 sparse matrix of type '<class 'numpy.float64'>'\n\twith 818395 stored elements in Compressed Sparse Column format>"
     },
     "execution_count": 44,
     "metadata": {},
     "output_type": "execute_result"
    }
   ],
   "source": [
    "sm_c"
   ],
   "metadata": {
    "collapsed": false,
    "pycharm": {
     "name": "#%%\n"
    }
   }
  },
  {
   "cell_type": "markdown",
   "source": [
    "Unfortunately the distance metrics in scipy can't work with sparse matrices, so we need to find an alternative\n",
    "https://docs.scipy.org/doc/scipy/reference/cluster.hierarchy.html#module-scipy.cluster.hierarchy"
   ],
   "metadata": {
    "collapsed": false,
    "pycharm": {
     "name": "#%% md\n"
    }
   }
  },
  {
   "cell_type": "code",
   "execution_count": 49,
   "outputs": [],
   "source": [
    "from sklearn.cluster import KMeans"
   ],
   "metadata": {
    "collapsed": false,
    "pycharm": {
     "name": "#%%\n"
    }
   }
  },
  {
   "cell_type": "code",
   "execution_count": 119,
   "outputs": [],
   "source": [
    "#num_clust =[int(np.floor(115000/j)) for j in reversed(range(2,10))]\n",
    "#num_clust = num_clust[0:1]\n",
    "#num_clust = range(1,11)"
   ],
   "metadata": {
    "collapsed": false,
    "pycharm": {
     "name": "#%%\n"
    }
   }
  },
  {
   "cell_type": "code",
   "execution_count": 53,
   "outputs": [
    {
     "name": "stdout",
     "output_type": "stream",
     "text": [
      "range(1, 11)\n"
     ]
    }
   ],
   "source": [],
   "metadata": {
    "collapsed": false,
    "pycharm": {
     "name": "#%%\n"
    }
   }
  },
  {
   "cell_type": "markdown",
   "source": [
    "If we try to cluster our utility matrix, we run into an impass. The runtime will be way to long on any of our machines to get meaningful results.\n",
    "Thus, we need to try another approach."
   ],
   "metadata": {
    "collapsed": false,
    "pycharm": {
     "name": "#%% md\n"
    }
   }
  },
  {
   "cell_type": "code",
   "execution_count": 54,
   "outputs": [],
   "source": [
    "#distortions = []\n",
    "#for i in [2]:\n",
    "#    km = KMeans(n_clusters=i,\n",
    "#                init='k-means++', # this can be left out, as it is the default\n",
    "#                n_init=10,\n",
    "#                max_iter=300,\n",
    "#                random_state=0)\n",
    "#    km.fit(sm_c)\n",
    "#    distortions.append(km.inertia_)"
   ],
   "metadata": {
    "collapsed": false,
    "pycharm": {
     "name": "#%%\n"
    }
   }
  },
  {
   "cell_type": "code",
   "execution_count": 73,
   "outputs": [
    {
     "data": {
      "text/plain": "<Figure size 432x288 with 1 Axes>",
      "image/png": "[encoded data removed]"
     },
     "metadata": {
      "needs_background": "light"
     },
     "output_type": "display_data"
    }
   ],
   "source": [
    "#plt.plot(range(1,10), distortions , marker='o')\n",
    "#plt.xlabel('Number of clusters')\n",
    "#plt.ylabel('Distortion')\n",
    "#plt.tight_layout()\n",
    "##plt.savefig('./figures/elbow.png', dpi=300)\n",
    "#plt.show()"
   ],
   "metadata": {
    "collapsed": false,
    "pycharm": {
     "name": "#%%\n"
    }
   }
  },
  {
   "cell_type": "markdown",
   "source": [
    "I get rid of all entries which have a rating of 0 after normalizing, since we will not be able to infer anything for them and they are stored explicitly, thus creating a lot of additional entries\n",
    "In order to create a sparse matrix the ids need to be in consecutive order"
   ],
   "metadata": {
    "collapsed": false,
    "pycharm": {
     "name": "#%% md\n"
    }
   }
  },
  {
   "cell_type": "code",
   "execution_count": 55,
   "outputs": [],
   "source": [],
   "metadata": {
    "collapsed": false,
    "pycharm": {
     "name": "#%%\n"
    }
   }
  },
  {
   "cell_type": "code",
   "execution_count": 272,
   "outputs": [],
   "source": [
    "ruc = copy.deepcopy(ratings_unique)"
   ],
   "metadata": {
    "collapsed": false,
    "pycharm": {
     "name": "#%%\n"
    }
   }
  },
  {
   "cell_type": "code",
   "execution_count": 279,
   "outputs": [],
   "source": [
    "ruc = ruc.reindex(index=ratings_.reset_index()[\"index\"])\n",
    "ruc[\"avg\"] = avg_rtng"
   ],
   "metadata": {
    "collapsed": false,
    "pycharm": {
     "name": "#%%\n"
    }
   }
  },
  {
   "cell_type": "code",
   "execution_count": null,
   "outputs": [],
   "source": [
    "#ratings_unique_small = ratings_unique[avg_rtng!=0]\n",
    "ratings_unique_small = ruc[avg_rtng!=0]"
   ],
   "metadata": {
    "collapsed": false,
    "pycharm": {
     "name": "#%%\n"
    }
   }
  },
  {
   "cell_type": "code",
   "execution_count": 56,
   "outputs": [],
   "source": [
    "#https://datagy.io/python-create-dictionary-from-two-lists/\n",
    "# In order to use the csc_sparse_matrix the values need to be continuous, thus I need to remap all the values _again_\n",
    "dict_users = dict(zip(ratings_unique_small[\"User_id\"].unique(),range(ratings_unique_small[\"User_id\"].nunique())))"
   ],
   "metadata": {
    "collapsed": false,
    "pycharm": {
     "name": "#%%\n"
    }
   }
  },
  {
   "cell_type": "code",
   "execution_count": 57,
   "outputs": [
    {
     "name": "stderr",
     "output_type": "stream",
     "text": [
      "C:\\Users\\paulw\\AppData\\Local\\Temp\\ipykernel_22944\\1097239505.py:1: SettingWithCopyWarning: \n",
      "A value is trying to be set on a copy of a slice from a DataFrame.\n",
      "Try using .loc[row_indexer,col_indexer] = value instead\n",
      "\n",
      "See the caveats in the documentation: https://pandas.pydata.org/pandas-docs/stable/user_guide/indexing.html#returning-a-view-versus-a-copy\n",
      "  ratings_unique_small[\"User_map\"] = ratings_unique_small[\"User_id\"].map(dict_users)\n"
     ]
    }
   ],
   "source": [
    "ratings_unique_small[\"User_map\"] = ratings_unique_small[\"User_id\"].map(dict_users)"
   ],
   "metadata": {
    "collapsed": false,
    "pycharm": {
     "name": "#%%\n"
    }
   }
  },
  {
   "cell_type": "code",
   "execution_count": 58,
   "outputs": [
    {
     "name": "stderr",
     "output_type": "stream",
     "text": [
      "C:\\Users\\paulw\\AppData\\Local\\Temp\\ipykernel_22944\\1534806831.py:2: SettingWithCopyWarning: \n",
      "A value is trying to be set on a copy of a slice from a DataFrame.\n",
      "Try using .loc[row_indexer,col_indexer] = value instead\n",
      "\n",
      "See the caveats in the documentation: https://pandas.pydata.org/pandas-docs/stable/user_guide/indexing.html#returning-a-view-versus-a-copy\n",
      "  ratings_unique_small[\"Title_map\"] = ratings_unique_small[\"Title\"].map(dict_titles)\n"
     ]
    }
   ],
   "source": [
    "dict_titles = dict(zip(ratings_unique_small[\"Title\"].unique(),range(ratings_unique_small[\"Title\"].nunique())))\n",
    "ratings_unique_small[\"Title_map\"] = ratings_unique_small[\"Title\"].map(dict_titles)"
   ],
   "metadata": {
    "collapsed": false,
    "pycharm": {
     "name": "#%%\n"
    }
   }
  },
  {
   "cell_type": "code",
   "execution_count": 59,
   "outputs": [],
   "source": [
    "reduced_sparse = sparse.csc_matrix((avg_rtng[avg_rtng!=0], (ratings_unique_small[\"User_map\"].values, ratings_unique_small[\"Title_map\"].values)), shape=(ratings_unique_small[\"User_map\"].nunique(), ratings_unique_small[\"Title_map\"].nunique()))"
   ],
   "metadata": {
    "collapsed": false,
    "pycharm": {
     "name": "#%%\n"
    }
   }
  },
  {
   "cell_type": "code",
   "execution_count": 60,
   "outputs": [
    {
     "data": {
      "text/plain": "<500043x109360 sparse matrix of type '<class 'numpy.float64'>'\n\twith 818395 stored elements in Compressed Sparse Column format>"
     },
     "execution_count": 60,
     "metadata": {},
     "output_type": "execute_result"
    }
   ],
   "source": [
    "reduced_sparse"
   ],
   "metadata": {
    "collapsed": false,
    "pycharm": {
     "name": "#%%\n"
    }
   }
  },
  {
   "cell_type": "markdown",
   "source": [
    "After getting rid of all the 0 values in our sparse matrix, we reduced the number of entries to 1/4 of the original sparse matrix"
   ],
   "metadata": {
    "collapsed": false,
    "pycharm": {
     "name": "#%% md\n"
    }
   }
  },
  {
   "cell_type": "code",
   "execution_count": 122,
   "outputs": [],
   "source": [
    "num_clust =[int(np.floor(100000/j)) for j in reversed(range(2,10))]"
   ],
   "metadata": {
    "collapsed": false,
    "pycharm": {
     "name": "#%%\n"
    }
   }
  },
  {
   "cell_type": "code",
   "execution_count": 123,
   "outputs": [
    {
     "data": {
      "text/plain": "[11111, 12500, 14285, 16666, 20000, 25000, 33333, 50000]"
     },
     "execution_count": 123,
     "metadata": {},
     "output_type": "execute_result"
    }
   ],
   "source": [
    "num_clust"
   ],
   "metadata": {
    "collapsed": false,
    "pycharm": {
     "name": "#%%\n"
    }
   }
  },
  {
   "cell_type": "code",
   "execution_count": 125,
   "outputs": [
    {
     "ename": "FileNotFoundError",
     "evalue": "[Errno 2] No such file or directory: './figures/elbow.png'",
     "output_type": "error",
     "traceback": [
      "\u001B[1;31m---------------------------------------------------------------------------\u001B[0m",
      "\u001B[1;31mFileNotFoundError\u001B[0m                         Traceback (most recent call last)",
      "Input \u001B[1;32mIn [125]\u001B[0m, in \u001B[0;36m<cell line: 14>\u001B[1;34m()\u001B[0m\n\u001B[0;32m     12\u001B[0m plt\u001B[38;5;241m.\u001B[39mylabel(\u001B[38;5;124m'\u001B[39m\u001B[38;5;124mDistortion\u001B[39m\u001B[38;5;124m'\u001B[39m)\n\u001B[0;32m     13\u001B[0m plt\u001B[38;5;241m.\u001B[39mtight_layout()\n\u001B[1;32m---> 14\u001B[0m \u001B[43mplt\u001B[49m\u001B[38;5;241;43m.\u001B[39;49m\u001B[43msavefig\u001B[49m\u001B[43m(\u001B[49m\u001B[38;5;124;43m'\u001B[39;49m\u001B[38;5;124;43m./figures/elbow.png\u001B[39;49m\u001B[38;5;124;43m'\u001B[39;49m\u001B[43m,\u001B[49m\u001B[43m \u001B[49m\u001B[43mdpi\u001B[49m\u001B[38;5;241;43m=\u001B[39;49m\u001B[38;5;241;43m300\u001B[39;49m\u001B[43m)\u001B[49m\n\u001B[0;32m     15\u001B[0m plt\u001B[38;5;241m.\u001B[39mshow()\n",
      "File \u001B[1;32m~\\anaconda3\\lib\\site-packages\\matplotlib\\pyplot.py:979\u001B[0m, in \u001B[0;36msavefig\u001B[1;34m(*args, **kwargs)\u001B[0m\n\u001B[0;32m    976\u001B[0m \u001B[38;5;129m@_copy_docstring_and_deprecators\u001B[39m(Figure\u001B[38;5;241m.\u001B[39msavefig)\n\u001B[0;32m    977\u001B[0m \u001B[38;5;28;01mdef\u001B[39;00m \u001B[38;5;21msavefig\u001B[39m(\u001B[38;5;241m*\u001B[39margs, \u001B[38;5;241m*\u001B[39m\u001B[38;5;241m*\u001B[39mkwargs):\n\u001B[0;32m    978\u001B[0m     fig \u001B[38;5;241m=\u001B[39m gcf()\n\u001B[1;32m--> 979\u001B[0m     res \u001B[38;5;241m=\u001B[39m \u001B[43mfig\u001B[49m\u001B[38;5;241;43m.\u001B[39;49m\u001B[43msavefig\u001B[49m\u001B[43m(\u001B[49m\u001B[38;5;241;43m*\u001B[39;49m\u001B[43margs\u001B[49m\u001B[43m,\u001B[49m\u001B[43m \u001B[49m\u001B[38;5;241;43m*\u001B[39;49m\u001B[38;5;241;43m*\u001B[39;49m\u001B[43mkwargs\u001B[49m\u001B[43m)\u001B[49m\n\u001B[0;32m    980\u001B[0m     fig\u001B[38;5;241m.\u001B[39mcanvas\u001B[38;5;241m.\u001B[39mdraw_idle()   \u001B[38;5;66;03m# need this if 'transparent=True' to reset colors\u001B[39;00m\n\u001B[0;32m    981\u001B[0m     \u001B[38;5;28;01mreturn\u001B[39;00m res\n",
      "File \u001B[1;32m~\\anaconda3\\lib\\site-packages\\matplotlib\\figure.py:3046\u001B[0m, in \u001B[0;36mFigure.savefig\u001B[1;34m(self, fname, transparent, **kwargs)\u001B[0m\n\u001B[0;32m   3042\u001B[0m     \u001B[38;5;28;01mfor\u001B[39;00m ax \u001B[38;5;129;01min\u001B[39;00m \u001B[38;5;28mself\u001B[39m\u001B[38;5;241m.\u001B[39maxes:\n\u001B[0;32m   3043\u001B[0m         stack\u001B[38;5;241m.\u001B[39menter_context(\n\u001B[0;32m   3044\u001B[0m             ax\u001B[38;5;241m.\u001B[39mpatch\u001B[38;5;241m.\u001B[39m_cm_set(facecolor\u001B[38;5;241m=\u001B[39m\u001B[38;5;124m'\u001B[39m\u001B[38;5;124mnone\u001B[39m\u001B[38;5;124m'\u001B[39m, edgecolor\u001B[38;5;241m=\u001B[39m\u001B[38;5;124m'\u001B[39m\u001B[38;5;124mnone\u001B[39m\u001B[38;5;124m'\u001B[39m))\n\u001B[1;32m-> 3046\u001B[0m \u001B[38;5;28;43mself\u001B[39;49m\u001B[38;5;241;43m.\u001B[39;49m\u001B[43mcanvas\u001B[49m\u001B[38;5;241;43m.\u001B[39;49m\u001B[43mprint_figure\u001B[49m\u001B[43m(\u001B[49m\u001B[43mfname\u001B[49m\u001B[43m,\u001B[49m\u001B[43m \u001B[49m\u001B[38;5;241;43m*\u001B[39;49m\u001B[38;5;241;43m*\u001B[39;49m\u001B[43mkwargs\u001B[49m\u001B[43m)\u001B[49m\n",
      "File \u001B[1;32m~\\anaconda3\\lib\\site-packages\\matplotlib\\backend_bases.py:2319\u001B[0m, in \u001B[0;36mFigureCanvasBase.print_figure\u001B[1;34m(self, filename, dpi, facecolor, edgecolor, orientation, format, bbox_inches, pad_inches, bbox_extra_artists, backend, **kwargs)\u001B[0m\n\u001B[0;32m   2315\u001B[0m \u001B[38;5;28;01mtry\u001B[39;00m:\n\u001B[0;32m   2316\u001B[0m     \u001B[38;5;66;03m# _get_renderer may change the figure dpi (as vector formats\u001B[39;00m\n\u001B[0;32m   2317\u001B[0m     \u001B[38;5;66;03m# force the figure dpi to 72), so we need to set it again here.\u001B[39;00m\n\u001B[0;32m   2318\u001B[0m     \u001B[38;5;28;01mwith\u001B[39;00m cbook\u001B[38;5;241m.\u001B[39m_setattr_cm(\u001B[38;5;28mself\u001B[39m\u001B[38;5;241m.\u001B[39mfigure, dpi\u001B[38;5;241m=\u001B[39mdpi):\n\u001B[1;32m-> 2319\u001B[0m         result \u001B[38;5;241m=\u001B[39m \u001B[43mprint_method\u001B[49m\u001B[43m(\u001B[49m\n\u001B[0;32m   2320\u001B[0m \u001B[43m            \u001B[49m\u001B[43mfilename\u001B[49m\u001B[43m,\u001B[49m\n\u001B[0;32m   2321\u001B[0m \u001B[43m            \u001B[49m\u001B[43mfacecolor\u001B[49m\u001B[38;5;241;43m=\u001B[39;49m\u001B[43mfacecolor\u001B[49m\u001B[43m,\u001B[49m\n\u001B[0;32m   2322\u001B[0m \u001B[43m            \u001B[49m\u001B[43medgecolor\u001B[49m\u001B[38;5;241;43m=\u001B[39;49m\u001B[43medgecolor\u001B[49m\u001B[43m,\u001B[49m\n\u001B[0;32m   2323\u001B[0m \u001B[43m            \u001B[49m\u001B[43morientation\u001B[49m\u001B[38;5;241;43m=\u001B[39;49m\u001B[43morientation\u001B[49m\u001B[43m,\u001B[49m\n\u001B[0;32m   2324\u001B[0m \u001B[43m            \u001B[49m\u001B[43mbbox_inches_restore\u001B[49m\u001B[38;5;241;43m=\u001B[39;49m\u001B[43m_bbox_inches_restore\u001B[49m\u001B[43m,\u001B[49m\n\u001B[0;32m   2325\u001B[0m \u001B[43m            \u001B[49m\u001B[38;5;241;43m*\u001B[39;49m\u001B[38;5;241;43m*\u001B[39;49m\u001B[43mkwargs\u001B[49m\u001B[43m)\u001B[49m\n\u001B[0;32m   2326\u001B[0m \u001B[38;5;28;01mfinally\u001B[39;00m:\n\u001B[0;32m   2327\u001B[0m     \u001B[38;5;28;01mif\u001B[39;00m bbox_inches \u001B[38;5;129;01mand\u001B[39;00m restore_bbox:\n",
      "File \u001B[1;32m~\\anaconda3\\lib\\site-packages\\matplotlib\\backend_bases.py:1648\u001B[0m, in \u001B[0;36m_check_savefig_extra_args.<locals>.wrapper\u001B[1;34m(*args, **kwargs)\u001B[0m\n\u001B[0;32m   1640\u001B[0m     _api\u001B[38;5;241m.\u001B[39mwarn_deprecated(\n\u001B[0;32m   1641\u001B[0m         \u001B[38;5;124m'\u001B[39m\u001B[38;5;124m3.3\u001B[39m\u001B[38;5;124m'\u001B[39m, name\u001B[38;5;241m=\u001B[39mname, removal\u001B[38;5;241m=\u001B[39m\u001B[38;5;124m'\u001B[39m\u001B[38;5;124m3.6\u001B[39m\u001B[38;5;124m'\u001B[39m,\n\u001B[0;32m   1642\u001B[0m         message\u001B[38;5;241m=\u001B[39m\u001B[38;5;124m'\u001B[39m\u001B[38;5;132;01m%(name)s\u001B[39;00m\u001B[38;5;124m() got unexpected keyword argument \u001B[39m\u001B[38;5;124m\"\u001B[39m\u001B[38;5;124m'\u001B[39m\n\u001B[0;32m   1643\u001B[0m                 \u001B[38;5;241m+\u001B[39m arg \u001B[38;5;241m+\u001B[39m \u001B[38;5;124m'\u001B[39m\u001B[38;5;124m\"\u001B[39m\u001B[38;5;124m which is no longer supported as of \u001B[39m\u001B[38;5;124m'\u001B[39m\n\u001B[0;32m   1644\u001B[0m                 \u001B[38;5;124m'\u001B[39m\u001B[38;5;132;01m%(since)s\u001B[39;00m\u001B[38;5;124m and will become an error \u001B[39m\u001B[38;5;124m'\u001B[39m\n\u001B[0;32m   1645\u001B[0m                 \u001B[38;5;124m'\u001B[39m\u001B[38;5;132;01m%(removal)s\u001B[39;00m\u001B[38;5;124m'\u001B[39m)\n\u001B[0;32m   1646\u001B[0m     kwargs\u001B[38;5;241m.\u001B[39mpop(arg)\n\u001B[1;32m-> 1648\u001B[0m \u001B[38;5;28;01mreturn\u001B[39;00m \u001B[43mfunc\u001B[49m\u001B[43m(\u001B[49m\u001B[38;5;241;43m*\u001B[39;49m\u001B[43margs\u001B[49m\u001B[43m,\u001B[49m\u001B[43m \u001B[49m\u001B[38;5;241;43m*\u001B[39;49m\u001B[38;5;241;43m*\u001B[39;49m\u001B[43mkwargs\u001B[49m\u001B[43m)\u001B[49m\n",
      "File \u001B[1;32m~\\anaconda3\\lib\\site-packages\\matplotlib\\_api\\deprecation.py:415\u001B[0m, in \u001B[0;36mdelete_parameter.<locals>.wrapper\u001B[1;34m(*inner_args, **inner_kwargs)\u001B[0m\n\u001B[0;32m    405\u001B[0m     deprecation_addendum \u001B[38;5;241m=\u001B[39m (\n\u001B[0;32m    406\u001B[0m         \u001B[38;5;124mf\u001B[39m\u001B[38;5;124m\"\u001B[39m\u001B[38;5;124mIf any parameter follows \u001B[39m\u001B[38;5;132;01m{\u001B[39;00mname\u001B[38;5;132;01m!r}\u001B[39;00m\u001B[38;5;124m, they should be passed as \u001B[39m\u001B[38;5;124m\"\u001B[39m\n\u001B[0;32m    407\u001B[0m         \u001B[38;5;124mf\u001B[39m\u001B[38;5;124m\"\u001B[39m\u001B[38;5;124mkeyword, not positionally.\u001B[39m\u001B[38;5;124m\"\u001B[39m)\n\u001B[0;32m    408\u001B[0m     warn_deprecated(\n\u001B[0;32m    409\u001B[0m         since,\n\u001B[0;32m    410\u001B[0m         name\u001B[38;5;241m=\u001B[39m\u001B[38;5;28mrepr\u001B[39m(name),\n\u001B[1;32m   (...)\u001B[0m\n\u001B[0;32m    413\u001B[0m                  \u001B[38;5;28;01melse\u001B[39;00m deprecation_addendum,\n\u001B[0;32m    414\u001B[0m         \u001B[38;5;241m*\u001B[39m\u001B[38;5;241m*\u001B[39mkwargs)\n\u001B[1;32m--> 415\u001B[0m \u001B[38;5;28;01mreturn\u001B[39;00m \u001B[43mfunc\u001B[49m\u001B[43m(\u001B[49m\u001B[38;5;241;43m*\u001B[39;49m\u001B[43minner_args\u001B[49m\u001B[43m,\u001B[49m\u001B[43m \u001B[49m\u001B[38;5;241;43m*\u001B[39;49m\u001B[38;5;241;43m*\u001B[39;49m\u001B[43minner_kwargs\u001B[49m\u001B[43m)\u001B[49m\n",
      "File \u001B[1;32m~\\anaconda3\\lib\\site-packages\\matplotlib\\backends\\backend_agg.py:541\u001B[0m, in \u001B[0;36mFigureCanvasAgg.print_png\u001B[1;34m(self, filename_or_obj, metadata, pil_kwargs, *args)\u001B[0m\n\u001B[0;32m    494\u001B[0m \u001B[38;5;124;03m\"\"\"\u001B[39;00m\n\u001B[0;32m    495\u001B[0m \u001B[38;5;124;03mWrite the figure to a PNG file.\u001B[39;00m\n\u001B[0;32m    496\u001B[0m \n\u001B[1;32m   (...)\u001B[0m\n\u001B[0;32m    538\u001B[0m \u001B[38;5;124;03m    *metadata*, including the default 'Software' key.\u001B[39;00m\n\u001B[0;32m    539\u001B[0m \u001B[38;5;124;03m\"\"\"\u001B[39;00m\n\u001B[0;32m    540\u001B[0m FigureCanvasAgg\u001B[38;5;241m.\u001B[39mdraw(\u001B[38;5;28mself\u001B[39m)\n\u001B[1;32m--> 541\u001B[0m \u001B[43mmpl\u001B[49m\u001B[38;5;241;43m.\u001B[39;49m\u001B[43mimage\u001B[49m\u001B[38;5;241;43m.\u001B[39;49m\u001B[43mimsave\u001B[49m\u001B[43m(\u001B[49m\n\u001B[0;32m    542\u001B[0m \u001B[43m    \u001B[49m\u001B[43mfilename_or_obj\u001B[49m\u001B[43m,\u001B[49m\u001B[43m \u001B[49m\u001B[38;5;28;43mself\u001B[39;49m\u001B[38;5;241;43m.\u001B[39;49m\u001B[43mbuffer_rgba\u001B[49m\u001B[43m(\u001B[49m\u001B[43m)\u001B[49m\u001B[43m,\u001B[49m\u001B[43m \u001B[49m\u001B[38;5;28;43mformat\u001B[39;49m\u001B[38;5;241;43m=\u001B[39;49m\u001B[38;5;124;43m\"\u001B[39;49m\u001B[38;5;124;43mpng\u001B[39;49m\u001B[38;5;124;43m\"\u001B[39;49m\u001B[43m,\u001B[49m\u001B[43m \u001B[49m\u001B[43morigin\u001B[49m\u001B[38;5;241;43m=\u001B[39;49m\u001B[38;5;124;43m\"\u001B[39;49m\u001B[38;5;124;43mupper\u001B[39;49m\u001B[38;5;124;43m\"\u001B[39;49m\u001B[43m,\u001B[49m\n\u001B[0;32m    543\u001B[0m \u001B[43m    \u001B[49m\u001B[43mdpi\u001B[49m\u001B[38;5;241;43m=\u001B[39;49m\u001B[38;5;28;43mself\u001B[39;49m\u001B[38;5;241;43m.\u001B[39;49m\u001B[43mfigure\u001B[49m\u001B[38;5;241;43m.\u001B[39;49m\u001B[43mdpi\u001B[49m\u001B[43m,\u001B[49m\u001B[43m \u001B[49m\u001B[43mmetadata\u001B[49m\u001B[38;5;241;43m=\u001B[39;49m\u001B[43mmetadata\u001B[49m\u001B[43m,\u001B[49m\u001B[43m \u001B[49m\u001B[43mpil_kwargs\u001B[49m\u001B[38;5;241;43m=\u001B[39;49m\u001B[43mpil_kwargs\u001B[49m\u001B[43m)\u001B[49m\n",
      "File \u001B[1;32m~\\anaconda3\\lib\\site-packages\\matplotlib\\image.py:1675\u001B[0m, in \u001B[0;36mimsave\u001B[1;34m(fname, arr, vmin, vmax, cmap, format, origin, dpi, metadata, pil_kwargs)\u001B[0m\n\u001B[0;32m   1673\u001B[0m pil_kwargs\u001B[38;5;241m.\u001B[39msetdefault(\u001B[38;5;124m\"\u001B[39m\u001B[38;5;124mformat\u001B[39m\u001B[38;5;124m\"\u001B[39m, \u001B[38;5;28mformat\u001B[39m)\n\u001B[0;32m   1674\u001B[0m pil_kwargs\u001B[38;5;241m.\u001B[39msetdefault(\u001B[38;5;124m\"\u001B[39m\u001B[38;5;124mdpi\u001B[39m\u001B[38;5;124m\"\u001B[39m, (dpi, dpi))\n\u001B[1;32m-> 1675\u001B[0m \u001B[43mimage\u001B[49m\u001B[38;5;241;43m.\u001B[39;49m\u001B[43msave\u001B[49m\u001B[43m(\u001B[49m\u001B[43mfname\u001B[49m\u001B[43m,\u001B[49m\u001B[43m \u001B[49m\u001B[38;5;241;43m*\u001B[39;49m\u001B[38;5;241;43m*\u001B[39;49m\u001B[43mpil_kwargs\u001B[49m\u001B[43m)\u001B[49m\n",
      "File \u001B[1;32m~\\anaconda3\\lib\\site-packages\\PIL\\Image.py:2317\u001B[0m, in \u001B[0;36mImage.save\u001B[1;34m(self, fp, format, **params)\u001B[0m\n\u001B[0;32m   2315\u001B[0m         fp \u001B[38;5;241m=\u001B[39m builtins\u001B[38;5;241m.\u001B[39mopen(filename, \u001B[38;5;124m\"\u001B[39m\u001B[38;5;124mr+b\u001B[39m\u001B[38;5;124m\"\u001B[39m)\n\u001B[0;32m   2316\u001B[0m     \u001B[38;5;28;01melse\u001B[39;00m:\n\u001B[1;32m-> 2317\u001B[0m         fp \u001B[38;5;241m=\u001B[39m \u001B[43mbuiltins\u001B[49m\u001B[38;5;241;43m.\u001B[39;49m\u001B[43mopen\u001B[49m\u001B[43m(\u001B[49m\u001B[43mfilename\u001B[49m\u001B[43m,\u001B[49m\u001B[43m \u001B[49m\u001B[38;5;124;43m\"\u001B[39;49m\u001B[38;5;124;43mw+b\u001B[39;49m\u001B[38;5;124;43m\"\u001B[39;49m\u001B[43m)\u001B[49m\n\u001B[0;32m   2319\u001B[0m \u001B[38;5;28;01mtry\u001B[39;00m:\n\u001B[0;32m   2320\u001B[0m     save_handler(\u001B[38;5;28mself\u001B[39m, fp, filename)\n",
      "\u001B[1;31mFileNotFoundError\u001B[0m: [Errno 2] No such file or directory: './figures/elbow.png'"
     ]
    },
    {
     "data": {
      "text/plain": "<Figure size 432x288 with 1 Axes>",
      "image/png": "[encoded data removed]"
     },
     "metadata": {
      "needs_background": "light"
     },
     "output_type": "display_data"
    }
   ],
   "source": [
    "distortions = []\n",
    "for i in range(1,11):\n",
    "    km = KMeans(n_clusters=i,\n",
    "                init='k-means++', # this can be left out, as it is the default\n",
    "                n_init=10,\n",
    "                max_iter=300,\n",
    "                random_state=0)\n",
    "    km.fit(reduced_sparse)\n",
    "    distortions.append(km.inertia_)\n",
    "plt.plot(range(1,11), distortions , marker='o')\n",
    "plt.xlabel('Number of clusters')\n",
    "plt.ylabel('Distortion')\n",
    "plt.tight_layout()\n",
    "#plt.savefig('28156/elbow.png', dpi=300)\n",
    "plt.show()"
   ],
   "metadata": {
    "collapsed": false,
    "pycharm": {
     "name": "#%%\n"
    }
   }
  },
  {
   "cell_type": "markdown",
   "source": [
    "### Looking at matrix factorization or UV-Decomposition\n",
    "I couldn't find any direct suggested value for choosing d, so I will just run with one and then see how it goes\n",
    "\n",
    "the standard deviation of our ratings is approx. 1, so I just randomly initialize u and v with normally distributed random variables"
   ],
   "metadata": {
    "collapsed": false,
    "pycharm": {
     "name": "#%% md\n"
    }
   }
  },
  {
   "cell_type": "code",
   "execution_count": 78,
   "outputs": [],
   "source": [
    "\n",
    "u = np.random.default_rng().normal(0,1,(reduced_sparse.shape[0],100))\n",
    "v = np.random.default_rng().normal(0,1,(100, reduced_sparse.shape[1]))"
   ],
   "metadata": {
    "collapsed": false,
    "pycharm": {
     "name": "#%%\n"
    }
   }
  },
  {
   "cell_type": "code",
   "execution_count": 142,
   "outputs": [],
   "source": [
    "tup = ratings_unique_small[[\"User_map\", \"Title_map\"]].to_records().tolist()"
   ],
   "metadata": {
    "collapsed": false,
    "pycharm": {
     "name": "#%%\n"
    }
   }
  },
  {
   "cell_type": "code",
   "execution_count": 166,
   "outputs": [],
   "source": [
    "ratings_unqi = ratings_unique_small[[\"User_map\", \"Title_map\"]].set_index(\"User_map\")"
   ],
   "metadata": {
    "collapsed": false,
    "pycharm": {
     "name": "#%%\n"
    }
   }
  },
  {
   "cell_type": "code",
   "execution_count": 191,
   "outputs": [
    {
     "ename": "KeyboardInterrupt",
     "evalue": "",
     "output_type": "error",
     "traceback": [
      "\u001B[1;31m---------------------------------------------------------------------------\u001B[0m",
      "\u001B[1;31mKeyboardInterrupt\u001B[0m                         Traceback (most recent call last)",
      "Input \u001B[1;32mIn [191]\u001B[0m, in \u001B[0;36m<cell line: 2>\u001B[1;34m()\u001B[0m\n\u001B[0;32m      1\u001B[0m preds \u001B[38;5;241m=\u001B[39m []\n\u001B[0;32m      2\u001B[0m \u001B[38;5;28;01mfor\u001B[39;00m p \u001B[38;5;129;01min\u001B[39;00m \u001B[38;5;28mrange\u001B[39m(ratings_unique_small\u001B[38;5;241m.\u001B[39mshape[\u001B[38;5;241m0\u001B[39m]):\n\u001B[0;32m      3\u001B[0m     \u001B[38;5;66;03m#ratings_unqi.loc[p].T.to_numpy()[0])\u001B[39;00m\n\u001B[1;32m----> 4\u001B[0m     preds\u001B[38;5;241m.\u001B[39mappend(np\u001B[38;5;241m.\u001B[39mdot(u[p,:],v[:,\u001B[43mratings_unqi\u001B[49m\u001B[38;5;241;43m.\u001B[39;49m\u001B[43mloc\u001B[49m\u001B[43m[\u001B[49m\u001B[43mp\u001B[49m\u001B[43m]\u001B[49m\u001B[38;5;241m.\u001B[39mT\u001B[38;5;241m.\u001B[39mto_numpy()[\u001B[38;5;241m0\u001B[39m]]))\n",
      "File \u001B[1;32m~\\anaconda3\\lib\\site-packages\\pandas\\core\\indexing.py:967\u001B[0m, in \u001B[0;36m_LocationIndexer.__getitem__\u001B[1;34m(self, key)\u001B[0m\n\u001B[0;32m    964\u001B[0m axis \u001B[38;5;241m=\u001B[39m \u001B[38;5;28mself\u001B[39m\u001B[38;5;241m.\u001B[39maxis \u001B[38;5;129;01mor\u001B[39;00m \u001B[38;5;241m0\u001B[39m\n\u001B[0;32m    966\u001B[0m maybe_callable \u001B[38;5;241m=\u001B[39m com\u001B[38;5;241m.\u001B[39mapply_if_callable(key, \u001B[38;5;28mself\u001B[39m\u001B[38;5;241m.\u001B[39mobj)\n\u001B[1;32m--> 967\u001B[0m \u001B[38;5;28;01mreturn\u001B[39;00m \u001B[38;5;28;43mself\u001B[39;49m\u001B[38;5;241;43m.\u001B[39;49m\u001B[43m_getitem_axis\u001B[49m\u001B[43m(\u001B[49m\u001B[43mmaybe_callable\u001B[49m\u001B[43m,\u001B[49m\u001B[43m \u001B[49m\u001B[43maxis\u001B[49m\u001B[38;5;241;43m=\u001B[39;49m\u001B[43maxis\u001B[49m\u001B[43m)\u001B[49m\n",
      "File \u001B[1;32m~\\anaconda3\\lib\\site-packages\\pandas\\core\\indexing.py:1202\u001B[0m, in \u001B[0;36m_LocIndexer._getitem_axis\u001B[1;34m(self, key, axis)\u001B[0m\n\u001B[0;32m   1200\u001B[0m \u001B[38;5;66;03m# fall thru to straight lookup\u001B[39;00m\n\u001B[0;32m   1201\u001B[0m \u001B[38;5;28mself\u001B[39m\u001B[38;5;241m.\u001B[39m_validate_key(key, axis)\n\u001B[1;32m-> 1202\u001B[0m \u001B[38;5;28;01mreturn\u001B[39;00m \u001B[38;5;28;43mself\u001B[39;49m\u001B[38;5;241;43m.\u001B[39;49m\u001B[43m_get_label\u001B[49m\u001B[43m(\u001B[49m\u001B[43mkey\u001B[49m\u001B[43m,\u001B[49m\u001B[43m \u001B[49m\u001B[43maxis\u001B[49m\u001B[38;5;241;43m=\u001B[39;49m\u001B[43maxis\u001B[49m\u001B[43m)\u001B[49m\n",
      "File \u001B[1;32m~\\anaconda3\\lib\\site-packages\\pandas\\core\\indexing.py:1153\u001B[0m, in \u001B[0;36m_LocIndexer._get_label\u001B[1;34m(self, label, axis)\u001B[0m\n\u001B[0;32m   1151\u001B[0m \u001B[38;5;28;01mdef\u001B[39;00m \u001B[38;5;21m_get_label\u001B[39m(\u001B[38;5;28mself\u001B[39m, label, axis: \u001B[38;5;28mint\u001B[39m):\n\u001B[0;32m   1152\u001B[0m     \u001B[38;5;66;03m# GH#5667 this will fail if the label is not present in the axis.\u001B[39;00m\n\u001B[1;32m-> 1153\u001B[0m     \u001B[38;5;28;01mreturn\u001B[39;00m \u001B[38;5;28;43mself\u001B[39;49m\u001B[38;5;241;43m.\u001B[39;49m\u001B[43mobj\u001B[49m\u001B[38;5;241;43m.\u001B[39;49m\u001B[43mxs\u001B[49m\u001B[43m(\u001B[49m\u001B[43mlabel\u001B[49m\u001B[43m,\u001B[49m\u001B[43m \u001B[49m\u001B[43maxis\u001B[49m\u001B[38;5;241;43m=\u001B[39;49m\u001B[43maxis\u001B[49m\u001B[43m)\u001B[49m\n",
      "File \u001B[1;32m~\\anaconda3\\lib\\site-packages\\pandas\\core\\generic.py:3864\u001B[0m, in \u001B[0;36mNDFrame.xs\u001B[1;34m(self, key, axis, level, drop_level)\u001B[0m\n\u001B[0;32m   3862\u001B[0m             new_index \u001B[38;5;241m=\u001B[39m index[loc]\n\u001B[0;32m   3863\u001B[0m \u001B[38;5;28;01melse\u001B[39;00m:\n\u001B[1;32m-> 3864\u001B[0m     loc \u001B[38;5;241m=\u001B[39m \u001B[43mindex\u001B[49m\u001B[38;5;241;43m.\u001B[39;49m\u001B[43mget_loc\u001B[49m\u001B[43m(\u001B[49m\u001B[43mkey\u001B[49m\u001B[43m)\u001B[49m\n\u001B[0;32m   3866\u001B[0m     \u001B[38;5;28;01mif\u001B[39;00m \u001B[38;5;28misinstance\u001B[39m(loc, np\u001B[38;5;241m.\u001B[39mndarray):\n\u001B[0;32m   3867\u001B[0m         \u001B[38;5;28;01mif\u001B[39;00m loc\u001B[38;5;241m.\u001B[39mdtype \u001B[38;5;241m==\u001B[39m np\u001B[38;5;241m.\u001B[39mbool_:\n",
      "File \u001B[1;32m~\\anaconda3\\lib\\site-packages\\pandas\\core\\indexes\\base.py:3621\u001B[0m, in \u001B[0;36mIndex.get_loc\u001B[1;34m(self, key, method, tolerance)\u001B[0m\n\u001B[0;32m   3619\u001B[0m casted_key \u001B[38;5;241m=\u001B[39m \u001B[38;5;28mself\u001B[39m\u001B[38;5;241m.\u001B[39m_maybe_cast_indexer(key)\n\u001B[0;32m   3620\u001B[0m \u001B[38;5;28;01mtry\u001B[39;00m:\n\u001B[1;32m-> 3621\u001B[0m     \u001B[38;5;28;01mreturn\u001B[39;00m \u001B[38;5;28;43mself\u001B[39;49m\u001B[38;5;241;43m.\u001B[39;49m\u001B[43m_engine\u001B[49m\u001B[38;5;241;43m.\u001B[39;49m\u001B[43mget_loc\u001B[49m\u001B[43m(\u001B[49m\u001B[43mcasted_key\u001B[49m\u001B[43m)\u001B[49m\n\u001B[0;32m   3622\u001B[0m \u001B[38;5;28;01mexcept\u001B[39;00m \u001B[38;5;167;01mKeyError\u001B[39;00m \u001B[38;5;28;01mas\u001B[39;00m err:\n\u001B[0;32m   3623\u001B[0m     \u001B[38;5;28;01mraise\u001B[39;00m \u001B[38;5;167;01mKeyError\u001B[39;00m(key) \u001B[38;5;28;01mfrom\u001B[39;00m \u001B[38;5;21;01merr\u001B[39;00m\n",
      "File \u001B[1;32m~\\anaconda3\\lib\\site-packages\\pandas\\_libs\\index.pyx:136\u001B[0m, in \u001B[0;36mpandas._libs.index.IndexEngine.get_loc\u001B[1;34m()\u001B[0m\n",
      "File \u001B[1;32m~\\anaconda3\\lib\\site-packages\\pandas\\_libs\\index.pyx:160\u001B[0m, in \u001B[0;36mpandas._libs.index.IndexEngine.get_loc\u001B[1;34m()\u001B[0m\n",
      "File \u001B[1;32m~\\anaconda3\\lib\\site-packages\\pandas\\_libs\\index.pyx:201\u001B[0m, in \u001B[0;36mpandas._libs.index.IndexEngine._get_loc_duplicates\u001B[1;34m()\u001B[0m\n",
      "File \u001B[1;32m~\\anaconda3\\lib\\site-packages\\pandas\\_libs\\index.pyx:209\u001B[0m, in \u001B[0;36mpandas._libs.index.IndexEngine._maybe_get_bool_indexer\u001B[1;34m()\u001B[0m\n",
      "File \u001B[1;32m~\\anaconda3\\lib\\site-packages\\pandas\\_libs\\index.pyx:99\u001B[0m, in \u001B[0;36mpandas._libs.index._unpack_bool_indexer\u001B[1;34m()\u001B[0m\n",
      "File \u001B[1;32m<__array_function__ internals>:2\u001B[0m, in \u001B[0;36mwhere\u001B[1;34m(*args, **kwargs)\u001B[0m\n",
      "\u001B[1;31mKeyboardInterrupt\u001B[0m: "
     ]
    }
   ],
   "source": [
    "preds = []\n",
    "for p in range(ratings_unique_small.shape[0]):\n",
    "    #ratings_unqi.loc[p].T.to_numpy()[0])\n",
    "    preds.append(np.dot(u[p,:],v[:,ratings_unqi.loc[p].T.to_numpy()[0]]))"
   ],
   "metadata": {
    "collapsed": false,
    "pycharm": {
     "name": "#%%\n"
    }
   }
  },
  {
   "cell_type": "code",
   "execution_count": 291,
   "outputs": [
    {
     "data": {
      "text/plain": "array([ -3.1240564 ,  -5.28145968,  -7.91701832,  -6.99759407,\n         0.35972836,  -6.14654056,   8.58066956,  -0.30531048,\n        -2.18120336, -20.15577403,  -3.46829156, -21.00361329,\n         0.94442102,   6.38796669,   6.9286729 ,  14.55232907,\n         0.80970023,  -4.08067676,  -3.40437639, -10.27985628,\n         2.08682006,   8.00048855,  -7.5307294 , -12.23636207,\n         5.35375207])"
     },
     "execution_count": 291,
     "metadata": {},
     "output_type": "execute_result"
    }
   ],
   "source": [
    "np.dot(u[0,:],v[:,ratings_unqi.loc[0].T.to_numpy()[0]])"
   ],
   "metadata": {
    "collapsed": false,
    "pycharm": {
     "name": "#%%\n"
    }
   }
  },
  {
   "cell_type": "code",
   "execution_count": 306,
   "outputs": [
    {
     "name": "stdout",
     "output_type": "stream",
     "text": [
      "1575.2513032357006\n"
     ]
    }
   ],
   "source": [
    "print(((reduced_sparse[1]-pred_0).power(2)).sum())"
   ],
   "metadata": {
    "collapsed": false,
    "pycharm": {
     "name": "#%%\n"
    }
   }
  },
  {
   "cell_type": "code",
   "execution_count": 217,
   "outputs": [
    {
     "name": "stderr",
     "output_type": "stream",
     "text": [
      "C:\\Users\\paulw\\AppData\\Local\\Temp\\ipykernel_22944\\4074258280.py:1: SettingWithCopyWarning: \n",
      "A value is trying to be set on a copy of a slice from a DataFrame.\n",
      "Try using .loc[row_indexer,col_indexer] = value instead\n",
      "\n",
      "See the caveats in the documentation: https://pandas.pydata.org/pandas-docs/stable/user_guide/indexing.html#returning-a-view-versus-a-copy\n",
      "  ratings_unique_small[\"avg\"] = avg_rtng[avg_rtng!=0]\n"
     ]
    }
   ],
   "source": [
    "#ratings_unique_small[\"avg\"] = avg_rtng[avg_rtng!=0]"
   ],
   "metadata": {
    "collapsed": false,
    "pycharm": {
     "name": "#%%\n"
    }
   }
  },
  {
   "cell_type": "code",
   "execution_count": 218,
   "outputs": [
    {
     "data": {
      "text/plain": "          Title  User_id  review/score  User_map  Title_map       avg\n2             1   514029           5.0         0          0  0.133333\n3             1   777643           5.0         1          0 -0.866667\n4             2   190516           4.0         2          1  0.133333\n5             3   399735           5.0         3          2  0.133333\n6             3   643514           5.0         4          2  0.133333\n...         ...      ...           ...       ...        ...       ...\n2028446  202007   953713           4.0    500039     109358 -0.500000\n2029336  202092   861018           5.0    500040     109359 -0.750000\n2029337  202092   861793           3.0    500041     109359 -0.750000\n2029338  202092   878458           5.0    500042     109359 -0.750000\n2029339  202092   879919           5.0      4080     109359  2.250000\n\n[818395 rows x 6 columns]",
      "text/html": "<div>\n<style scoped>\n    .dataframe tbody tr th:only-of-type {\n        vertical-align: middle;\n    }\n\n    .dataframe tbody tr th {\n        vertical-align: top;\n    }\n\n    .dataframe thead th {\n        text-align: right;\n    }\n</style>\n<table border=\"1\" class=\"dataframe\">\n  <thead>\n    <tr style=\"text-align: right;\">\n      <th></th>\n      <th>Title</th>\n      <th>User_id</th>\n      <th>review/score</th>\n      <th>User_map</th>\n      <th>Title_map</th>\n      <th>avg</th>\n    </tr>\n  </thead>\n  <tbody>\n    <tr>\n      <th>2</th>\n      <td>1</td>\n      <td>514029</td>\n      <td>5.0</td>\n      <td>0</td>\n      <td>0</td>\n      <td>0.133333</td>\n    </tr>\n    <tr>\n      <th>3</th>\n      <td>1</td>\n      <td>777643</td>\n      <td>5.0</td>\n      <td>1</td>\n      <td>0</td>\n      <td>-0.866667</td>\n    </tr>\n    <tr>\n      <th>4</th>\n      <td>2</td>\n      <td>190516</td>\n      <td>4.0</td>\n      <td>2</td>\n      <td>1</td>\n      <td>0.133333</td>\n    </tr>\n    <tr>\n      <th>5</th>\n      <td>3</td>\n      <td>399735</td>\n      <td>5.0</td>\n      <td>3</td>\n      <td>2</td>\n      <td>0.133333</td>\n    </tr>\n    <tr>\n      <th>6</th>\n      <td>3</td>\n      <td>643514</td>\n      <td>5.0</td>\n      <td>4</td>\n      <td>2</td>\n      <td>0.133333</td>\n    </tr>\n    <tr>\n      <th>...</th>\n      <td>...</td>\n      <td>...</td>\n      <td>...</td>\n      <td>...</td>\n      <td>...</td>\n      <td>...</td>\n    </tr>\n    <tr>\n      <th>2028446</th>\n      <td>202007</td>\n      <td>953713</td>\n      <td>4.0</td>\n      <td>500039</td>\n      <td>109358</td>\n      <td>-0.500000</td>\n    </tr>\n    <tr>\n      <th>2029336</th>\n      <td>202092</td>\n      <td>861018</td>\n      <td>5.0</td>\n      <td>500040</td>\n      <td>109359</td>\n      <td>-0.750000</td>\n    </tr>\n    <tr>\n      <th>2029337</th>\n      <td>202092</td>\n      <td>861793</td>\n      <td>3.0</td>\n      <td>500041</td>\n      <td>109359</td>\n      <td>-0.750000</td>\n    </tr>\n    <tr>\n      <th>2029338</th>\n      <td>202092</td>\n      <td>878458</td>\n      <td>5.0</td>\n      <td>500042</td>\n      <td>109359</td>\n      <td>-0.750000</td>\n    </tr>\n    <tr>\n      <th>2029339</th>\n      <td>202092</td>\n      <td>879919</td>\n      <td>5.0</td>\n      <td>4080</td>\n      <td>109359</td>\n      <td>2.250000</td>\n    </tr>\n  </tbody>\n</table>\n<p>818395 rows × 6 columns</p>\n</div>"
     },
     "execution_count": 218,
     "metadata": {},
     "output_type": "execute_result"
    }
   ],
   "source": [
    "ratings_unique_small"
   ],
   "metadata": {
    "collapsed": false,
    "pycharm": {
     "name": "#%%\n"
    }
   }
  },
  {
   "cell_type": "code",
   "execution_count": 313,
   "outputs": [],
   "source": [
    "def predict(df, user_index, u, v):\n",
    "    y_hat = np.dot(u[user_index,:],v[:,ratings_unqi.loc[user_index].T.to_numpy()[0]])\n",
    "    return y_hat"
   ],
   "metadata": {
    "collapsed": false,
    "pycharm": {
     "name": "#%%\n"
    }
   }
  },
  {
   "cell_type": "code",
   "execution_count": 424,
   "outputs": [],
   "source": [
    "def cost(df, index, u, v):\n",
    "    ### Get the number of entries for this specific user index\n",
    "    ### and calculate dot-product of the two embedding vectors\n",
    "    ### transform result into a sparse matrix to calculate sum of squares\n",
    "    num_ratings_user = len(ratings_unqi.loc[index].reset_index()[\"User_map\"].values)\n",
    "    #print(num_ratings_user)\n",
    "    y_hat_sparse = sparse.csc_matrix((predict(0,index,u,v),\n",
    "                    (np.zeros(num_ratings_user), ratings_unqi.loc[index].reset_index()[\"Title_map\"].values)),\n",
    "                    shape=(1, ratings_unique_small[\"Title_map\"].nunique()))\n",
    "    # calculate MSE for embeddings\n",
    "    return np.sqrt(((reduced_sparse[index]-y_hat_sparse).power(2)).sum()/num_ratings_user)"
   ],
   "metadata": {
    "collapsed": false,
    "pycharm": {
     "name": "#%%\n"
    }
   }
  },
  {
   "cell_type": "code",
   "execution_count": null,
   "outputs": [],
   "source": [
    "def cost(df, index, u, v):\n",
    "    ### Get the number of entries for this specific user index\n",
    "    ### and calculate dot-product of the two embedding vectors\n",
    "    ### transform result into a sparse matrix to calculate sum of squares\n",
    "    num_ratings_user = len(ratings_unqi.loc[index].reset_index()[\"User_map\"].values)\n",
    "    #print(num_ratings_user)\n",
    "    y_hat_sparse = sparse.csc_matrix((predict(0,index,u,v),\n",
    "                    (np.zeros(num_ratings_user), reduced_sparse.getrow(index).indices)),\n",
    "                    shape=(1, ratings_unique_small[\"Title_map\"].nunique()))\n",
    "    # calculate MSE for embeddings\n",
    "    return np.sqrt(((reduced_sparse[index]-y_hat_sparse).power(2)).sum()/num_ratings_user)"
   ],
   "metadata": {
    "collapsed": false,
    "pycharm": {
     "name": "#%%\n"
    }
   }
  },
  {
   "cell_type": "code",
   "execution_count": 241,
   "outputs": [],
   "source": [
    "pred_0 = sparse.csc_matrix((np.dot(u[1,:],v[:,ratings_unqi.loc[1].T.to_numpy()[0]]),\n",
    " (np.zeros(len(ratings_unqi.loc[1].reset_index()[\"User_map\"].values)), ratings_unqi.loc[1].reset_index()[\"Title_map\"].values)),\n",
    " shape=(1, ratings_unique_small[\"Title_map\"].nunique()))"
   ],
   "metadata": {
    "collapsed": false,
    "pycharm": {
     "name": "#%%\n"
    }
   }
  },
  {
   "cell_type": "code",
   "execution_count": 429,
   "outputs": [
    {
     "data": {
      "text/plain": "array([     0,    520,    554,   2934,  17562,  20725,  27232,  34606,\n        38685,  39149,  41034,  49380,  53152,  55284,  55574,  59679,\n        61303,  61809,  73202,  82281,  82482,  84324,  87576,  88525,\n       106710], dtype=int32)"
     },
     "execution_count": 429,
     "metadata": {},
     "output_type": "execute_result"
    }
   ],
   "source": [
    "reduced_sparse.getrow(0).indices"
   ],
   "metadata": {
    "collapsed": false,
    "pycharm": {
     "name": "#%%\n"
    }
   }
  },
  {
   "cell_type": "code",
   "execution_count": 431,
   "outputs": [
    {
     "data": {
      "text/plain": "array([     0,    520,    554,   2934,  17562,  20725,  27232,  34606,\n        38685,  39149,  41034,  49380,  53152,  55284,  55574,  59679,\n        61303,  61809,  73202,  82281,  82482,  84324,  87576,  88525,\n       106710], dtype=int64)"
     },
     "execution_count": 431,
     "metadata": {},
     "output_type": "execute_result"
    }
   ],
   "source": [
    "ratings_unqi.loc[0].reset_index()[\"Title_map\"].values"
   ],
   "metadata": {
    "collapsed": false,
    "pycharm": {
     "name": "#%%\n"
    }
   }
  },
  {
   "cell_type": "code",
   "execution_count": null,
   "outputs": [],
   "source": [
    "def gradient():\n",
    "    residuals = cost(df, index, u, v)\n",
    "    return True"
   ],
   "metadata": {
    "collapsed": false,
    "pycharm": {
     "name": "#%%\n"
    }
   }
  },
  {
   "cell_type": "code",
   "execution_count": 425,
   "outputs": [],
   "source": [
    "p_1 = cost(0,1, u,v)"
   ],
   "metadata": {
    "collapsed": false,
    "pycharm": {
     "name": "#%%\n"
    }
   }
  },
  {
   "cell_type": "code",
   "execution_count": 426,
   "outputs": [
    {
     "name": "stdout",
     "output_type": "stream",
     "text": [
      "17.749655226148484\n"
     ]
    }
   ],
   "source": [
    "print(p_1)"
   ],
   "metadata": {
    "collapsed": false,
    "pycharm": {
     "name": "#%%\n"
    }
   }
  },
  {
   "cell_type": "code",
   "execution_count": 336,
   "outputs": [
    {
     "ename": "ValueError",
     "evalue": "shapes (5,) and (100,5) not aligned: 5 (dim 0) != 100 (dim 0)",
     "output_type": "error",
     "traceback": [
      "\u001B[1;31m---------------------------------------------------------------------------\u001B[0m",
      "\u001B[1;31mValueError\u001B[0m                                Traceback (most recent call last)",
      "Input \u001B[1;32mIn [336]\u001B[0m, in \u001B[0;36m<cell line: 1>\u001B[1;34m()\u001B[0m\n\u001B[1;32m----> 1\u001B[0m \u001B[43mnp\u001B[49m\u001B[38;5;241;43m.\u001B[39;49m\u001B[43mdot\u001B[49m\u001B[43m(\u001B[49m\u001B[43mp_1\u001B[49m\u001B[38;5;241;43m.\u001B[39;49m\u001B[43mdata\u001B[49m\u001B[43m,\u001B[49m\u001B[43mv\u001B[49m\u001B[43m[\u001B[49m\u001B[43m:\u001B[49m\u001B[43m,\u001B[49m\u001B[43mratings_unqi\u001B[49m\u001B[38;5;241;43m.\u001B[39;49m\u001B[43mloc\u001B[49m\u001B[43m[\u001B[49m\u001B[38;5;241;43m1\u001B[39;49m\u001B[43m]\u001B[49m\u001B[38;5;241;43m.\u001B[39;49m\u001B[43mT\u001B[49m\u001B[38;5;241;43m.\u001B[39;49m\u001B[43mto_numpy\u001B[49m\u001B[43m(\u001B[49m\u001B[43m)\u001B[49m\u001B[43m[\u001B[49m\u001B[38;5;241;43m0\u001B[39;49m\u001B[43m]\u001B[49m\u001B[43m]\u001B[49m\u001B[43m)\u001B[49m\n",
      "File \u001B[1;32m<__array_function__ internals>:5\u001B[0m, in \u001B[0;36mdot\u001B[1;34m(*args, **kwargs)\u001B[0m\n",
      "\u001B[1;31mValueError\u001B[0m: shapes (5,) and (100,5) not aligned: 5 (dim 0) != 100 (dim 0)"
     ]
    }
   ],
   "source": [
    "np.dot(p_1.data,v[:,ratings_unqi.loc[1].T.to_numpy()[0]])"
   ],
   "metadata": {
    "collapsed": false,
    "pycharm": {
     "name": "#%%\n"
    }
   }
  },
  {
   "cell_type": "code",
   "execution_count": 337,
   "outputs": [
    {
     "data": {
      "text/plain": "array([245.28430341, 949.15820687, 368.49450506,   1.68547027,\n        10.62881762])"
     },
     "execution_count": 337,
     "metadata": {},
     "output_type": "execute_result"
    }
   ],
   "source": [
    "p_1.data"
   ],
   "metadata": {
    "collapsed": false,
    "pycharm": {
     "name": "#%%\n"
    }
   }
  },
  {
   "cell_type": "code",
   "execution_count": 413,
   "outputs": [
    {
     "data": {
      "text/plain": "array([[ 0.11108952,  0.09753312,  0.45723812, ..., -0.10091931,\n        -0.17960401,  0.05464881],\n       [ 0.09753312,  0.08563103,  0.40144077, ..., -0.088604  ,\n        -0.1576867 ,  0.04797995],\n       [ 0.45723812,  0.40144077,  1.88196605, ..., -0.41537814,\n        -0.73923985,  0.22493139],\n       ...,\n       [-0.10091931, -0.088604  , -0.41537814, ...,  0.09168019,\n         0.16316133, -0.04964573],\n       [-0.17960401, -0.1576867 , -0.73923985, ...,  0.16316133,\n         0.29037482, -0.08835348],\n       [ 0.05464881,  0.04797995,  0.22493139, ..., -0.04964573,\n        -0.08835348,  0.02688366]])"
     },
     "execution_count": 413,
     "metadata": {},
     "output_type": "execute_result"
    }
   ],
   "source": [
    "np.multiply(v[:,ratings_unqi.loc[1].to_numpy()[0]], v[:,ratings_unqi.loc[1].to_numpy()[0]].T)"
   ],
   "metadata": {
    "collapsed": false,
    "pycharm": {
     "name": "#%%\n"
    }
   }
  },
  {
   "cell_type": "code",
   "execution_count": 385,
   "outputs": [
    {
     "data": {
      "text/plain": "array([[ 8.17534896e+01, -2.28328843e+02, -2.73579748e+02,\n        -9.68221562e-01,  1.10891505e+01],\n       [ 7.17770067e+01, -1.46684626e+03, -7.20158607e+01,\n         1.41791190e+00,  5.70742680e+00],\n       [ 3.36492702e+02, -4.80383799e+02,  4.89465635e+02,\n        -2.03428049e+00, -1.97273281e+01],\n       [ 2.13146162e+02, -7.07699690e+02, -3.43754279e+02,\n         1.24909487e+00, -1.26219474e+01],\n       [-1.67910185e+02, -1.27395828e+03, -5.86902335e+02,\n        -2.73976860e+00, -8.69979920e+00],\n       [ 1.75740717e+02, -1.46641027e+02,  3.00108012e+02,\n        -5.87230109e+00,  1.20601405e+01],\n       [-6.05615775e+01, -5.38145112e+02, -1.00198256e+02,\n        -3.92646441e+00, -1.64396417e+00],\n       [ 4.32404406e+02,  8.98544323e+02, -4.84103098e+02,\n        -7.53842282e-01, -5.73234564e+00],\n       [ 4.17443738e+02,  9.19008519e+02,  1.93563358e+02,\n         2.12874104e+00, -8.07370118e+00],\n       [ 2.53475124e+02,  2.26202204e+03,  9.30149135e+01,\n        -5.41816122e+00, -2.06591594e+01],\n       [ 2.06907589e+02, -5.61421393e+02, -2.11831933e+02,\n        -5.46034894e-01, -1.12011446e+01],\n       [-1.10576056e+01, -1.08433084e+03, -3.64121793e+02,\n         9.85394251e-01,  5.88079501e+00],\n       [-2.10898091e+01,  1.10498864e+03,  5.90744511e+02,\n         2.26183454e-01,  3.22682864e+00],\n       [-3.81141583e+01,  1.14438191e+03, -2.24736681e+02,\n         6.78344749e-01, -8.12283190e+00],\n       [ 3.16589413e+01, -9.20295995e+02,  5.89306281e+00,\n        -2.47400759e+00,  1.25052326e+01],\n       [ 1.27766277e+02, -3.45979939e+02,  4.40579800e+02,\n        -8.40339383e-01, -8.76759799e-01],\n       [ 3.07508926e+02, -6.93378059e+02,  2.68247259e+02,\n        -2.90567800e+00, -3.47939653e-01],\n       [-5.84091620e+02,  1.13042964e+03, -2.22343512e+02,\n         7.52176063e-01, -7.35866660e+00],\n       [-3.88686233e+02,  5.10831741e+02,  5.43551161e+02,\n         2.34149838e+00,  7.92971152e+00],\n       [-1.28978309e+02,  1.02565772e+03, -8.60289443e+02,\n         5.59196250e-01, -1.53656814e+00],\n       [-1.49656370e+02,  1.11538606e+03, -1.42278823e+01,\n         2.91623971e+00, -3.65141113e+00],\n       [ 3.69452900e+02, -3.64109474e+02,  1.34988238e+02,\n        -4.41858157e-01,  7.28335816e+00],\n       [ 3.11633188e+02, -1.15343938e+03,  5.10072425e+02,\n        -8.71396733e-01,  1.46037060e+01],\n       [-6.96101486e+01,  3.40196722e+02,  3.75749154e+02,\n        -5.15331616e-01, -5.12047738e-01],\n       [ 2.92357447e+02,  9.77975178e+02, -3.19458378e+02,\n        -1.28342241e+00,  1.14389799e+01],\n       [-1.39862981e+02,  2.29808404e+03, -6.63634931e+02,\n        -3.08484008e+00, -7.71786325e+00],\n       [ 2.05317681e+01,  1.25500174e+02,  3.55506475e+02,\n         8.49970508e-01, -1.38256541e+01],\n       [-1.04546300e+02, -4.14197496e+02,  3.02694797e+02,\n         2.28538878e+00,  6.59546112e+00],\n       [-1.33169206e+02, -5.84068038e+02,  1.92048876e+01,\n         4.66717944e-01,  4.67879328e+00],\n       [ 2.20286777e+02, -5.65611469e+02,  5.91685520e+02,\n        -2.44062740e+00,  1.14705715e+00],\n       [-2.62609581e+02,  1.66196397e+03,  3.73621372e+02,\n         5.78759413e-01,  1.41579520e+01],\n       [-1.51692801e+02, -2.89148037e+02,  4.40451950e+02,\n        -5.36617337e-01, -6.05630142e-01],\n       [ 2.85517862e+02,  1.53806327e+03,  4.01319712e+02,\n        -7.35182243e-01, -1.33307622e+00],\n       [-1.35362746e+02,  6.71195994e+02,  1.54873590e+02,\n        -3.52891387e-01, -1.10864835e+01],\n       [ 2.10335877e+02, -6.49674735e+02,  3.50041144e+01,\n         3.62180714e+00,  9.88016879e+00],\n       [-2.16240059e+02, -2.85442712e+02, -1.46840338e+02,\n        -6.03506298e-01,  5.71285645e+00],\n       [ 9.66304438e+01, -1.71649535e+03, -2.49133991e+02,\n         7.90655091e-01,  1.81190843e+01],\n       [ 6.59587058e+01,  1.47794346e+03, -2.06527033e+02,\n        -3.43595591e+00,  5.87289641e+00],\n       [ 2.86460081e+01, -2.02681778e+01,  4.04068500e+02,\n        -2.89908021e+00,  3.40143845e+00],\n       [ 7.74205428e+01, -1.31044641e+03,  4.07723989e+02,\n         9.35694738e-01,  1.96699659e+01],\n       [ 3.34611085e+02, -1.90095007e+03,  4.11669221e+02,\n        -2.42294798e+00,  1.23770169e+01],\n       [-2.07587500e+02, -1.67892379e+03, -1.57660131e+02,\n        -1.90846153e+00,  8.12177243e-01],\n       [-1.20922250e+02, -6.28704300e+00, -7.12242110e+02,\n         8.99717017e-01,  4.09987259e+00],\n       [-1.32170918e+02,  3.83379195e+02,  2.37749866e+02,\n         1.04336208e-02, -1.01386994e+01],\n       [-2.09547041e+02,  2.66506269e+03, -6.89889360e+01,\n        -2.10599162e+00,  3.62103983e+00],\n       [-4.64403961e+01, -1.33472461e+03, -8.88826288e+01,\n        -1.91326056e+00,  4.19015672e+00],\n       [-3.82482760e+02,  6.72594914e+02,  2.78929739e+02,\n         3.26162548e-01, -1.46981998e+01],\n       [-2.75448057e+02,  2.37061355e+03,  4.93777413e+02,\n        -7.85537535e-01, -1.28838352e+01],\n       [-2.06740498e+02,  1.22443616e+03, -6.29388599e+02,\n        -1.93082673e+00,  1.19955708e+01],\n       [-2.32678610e+02, -3.00578563e+02,  1.16169671e+02,\n        -2.23945539e+00,  1.03077522e+01],\n       [-3.55302211e+01,  5.16913972e+01, -3.46617634e+02,\n        -2.45015749e+00, -1.03841341e+01],\n       [ 2.15640327e+02,  5.98286032e+02,  1.60220866e+02,\n        -1.62830405e+00,  2.11863384e+01],\n       [ 3.24574651e+02, -1.36939440e+02, -3.94113870e+02,\n         2.25726697e+00,  6.85850298e+00],\n       [ 3.20588326e+02, -4.20135657e+02,  4.16808906e+02,\n        -4.90818738e-01,  1.56859839e+00],\n       [-9.15749470e+00, -1.47033760e+03,  3.22775914e+02,\n        -5.13941057e-01,  1.21387187e+00],\n       [-4.06629150e+02,  1.29269770e+03, -4.13934360e+02,\n         8.59733977e-01,  6.43808504e+00],\n       [ 7.27767739e+02, -1.27054114e+02,  5.79947715e+01,\n         5.70536367e-01,  5.42621447e+00],\n       [-2.95735323e+02,  1.62605665e+03, -5.14394166e+01,\n        -4.48509753e-01, -1.41754118e+01],\n       [ 1.55929688e+02,  1.35107451e+03, -2.63672535e+01,\n         2.33007720e+00, -6.64488783e+00],\n       [ 5.96639164e+01, -8.89653148e+02, -2.31383346e+02,\n         1.47895700e+00, -1.09231617e+01],\n       [-2.50853155e+02, -1.31075054e+03, -8.91625348e+02,\n        -1.24044383e+00, -5.29129292e+00],\n       [-4.97634368e+02, -3.32994681e+02,  1.36998631e+02,\n         2.49528476e+00, -1.46278843e+01],\n       [-2.96216157e+02, -3.53610946e+02,  1.19865377e+02,\n        -1.12260871e+00, -1.12474233e+01],\n       [ 2.65786149e+02, -7.40883037e+01, -4.64520524e+02,\n        -8.69008507e-01,  2.00688888e+00],\n       [ 3.81956104e+02, -5.84910633e+02,  1.34820196e+02,\n        -9.53830634e-01,  9.58825015e+00],\n       [ 2.89056496e+02, -2.18971478e+03, -7.78742108e+02,\n         2.10469621e+00, -3.13765476e+00],\n       [-4.48482363e+02,  1.95462653e+02, -6.85675840e+02,\n        -1.66134753e+00, -6.07261137e+00],\n       [ 1.23763814e+02,  1.18187196e+03, -3.35175854e+02,\n        -1.33437737e-01,  3.04235347e+01],\n       [ 1.09542922e+01, -8.21238243e+01,  3.02225739e+01,\n        -1.93462738e+00, -1.16440606e+01],\n       [ 1.39071549e+02, -1.35833247e+03, -4.81723297e+02,\n        -9.06508510e-01, -6.51051489e-01],\n       [-2.67060034e+02, -1.05341029e+03, -5.94727305e+02,\n         1.46398042e+00, -1.18219597e+01],\n       [ 1.50131080e+02, -2.07260899e+01, -6.53834366e+02,\n         2.40350781e+00,  4.20319213e+00],\n       [ 1.29112340e+02,  1.77203921e+03,  3.02789046e+02,\n        -5.23586716e-01,  2.31701066e+00],\n       [-8.32335397e+00, -6.48272724e+02, -3.99121444e+02,\n        -2.30714729e+00, -4.54957882e+00],\n       [-8.41116953e+01, -2.61918204e+02,  8.57169428e+02,\n         1.72490569e-01,  6.79611167e+00],\n       [-1.90696763e+02,  4.85974204e+02,  5.33452096e+02,\n        -8.15027718e-01, -1.31591618e+01],\n       [ 6.83213380e+02, -4.00505894e+02, -4.27317977e+02,\n        -1.67616067e+00,  5.16088667e+00],\n       [ 2.50092909e+02, -5.01665046e+02,  2.55231898e+02,\n         2.12009027e-01, -5.39559731e+00],\n       [-6.78242857e+00,  2.20599143e+02, -3.88934067e+02,\n         2.92286994e+00,  5.61820120e+00],\n       [ 5.31005936e+02, -1.24786365e+02, -4.11162408e+02,\n        -3.31034604e+00,  5.62957687e+00],\n       [-9.11055969e+01, -2.30626539e+03,  1.69638002e+02,\n        -2.14071817e-01, -9.16132946e+00],\n       [-1.34586314e+01,  1.05345941e+01,  1.33488675e+02,\n        -2.23538675e-01,  2.25813590e+00],\n       [-1.12689535e+02, -1.09747364e+03,  3.63520029e+01,\n         1.00904780e-01, -1.57319775e+01],\n       [-5.59660008e+01,  1.14037873e+02,  1.95880245e+02,\n        -1.03882810e-01, -4.47456361e+00],\n       [-3.95690692e-01, -1.46949391e+03,  3.57188146e+02,\n        -2.41997493e+00,  1.79116687e+01],\n       [ 1.42763090e+02, -3.65521895e+02,  5.52658486e+02,\n        -2.33746537e+00, -1.42593675e+01],\n       [ 2.93513248e+02, -1.44822214e+03,  2.58913213e+02,\n        -9.45521595e-01, -5.21115936e+00],\n       [-3.35480737e+02,  7.72333669e+01,  8.62443143e+02,\n        -3.33064125e-01,  9.15314997e+00],\n       [ 1.76218385e+02,  1.55728361e+03, -4.27909871e+02,\n        -2.10326788e+00,  2.37491189e+01],\n       [-1.41985150e+02,  1.85118989e+03,  4.90087878e+02,\n         1.58422962e+00,  1.33924735e-01],\n       [ 1.98334089e+02,  6.96172659e+02,  9.40417067e+01,\n         3.19427390e-02,  1.06659011e+00],\n       [ 3.23719584e+02,  8.32634679e+02,  3.55378347e+02,\n         4.45140193e-01,  7.65382254e+00],\n       [-1.20993397e+01, -1.06133027e+03, -3.85570429e+02,\n         2.62350009e+00, -4.66925708e+00],\n       [-2.14684072e+01, -7.77654092e+02, -2.95857906e+02,\n         1.51785287e+00, -3.69630123e+00],\n       [-6.94238978e+00,  2.29992806e+03, -2.33967042e+02,\n        -2.10595454e+00, -8.48489292e+00],\n       [ 5.18778019e+01,  1.14900483e+03, -9.15263557e+02,\n         2.16689792e+00,  9.80559759e+00],\n       [ 3.28118498e+02, -5.41247345e+02,  1.69560558e+02,\n         1.27508476e-01,  1.07699565e+01],\n       [-7.42689879e+01, -1.01044192e+03, -5.19097355e+02,\n         1.78377655e+00,  1.73832086e+00],\n       [-1.32174974e+02, -3.42152421e+02,  8.74827302e+02,\n         5.32682928e-01, -5.73770621e+00],\n       [ 4.02173946e+01, -2.69613756e+03,  3.72272817e+01,\n         1.65433787e+00, -1.81875564e+01]])"
     },
     "execution_count": 385,
     "metadata": {},
     "output_type": "execute_result"
    }
   ],
   "source": [
    "np.multiply(p_1.data,v[:,ratings_unqi.loc[1].T.to_numpy()[0]])"
   ],
   "metadata": {
    "collapsed": false,
    "pycharm": {
     "name": "#%%\n"
    }
   }
  },
  {
   "cell_type": "code",
   "execution_count": 381,
   "outputs": [
    {
     "data": {
      "text/plain": "(100, 100)"
     },
     "execution_count": 381,
     "metadata": {},
     "output_type": "execute_result"
    }
   ],
   "source": [
    "np.linalg.inv(np.dot(v[:,ratings_unqi.loc[1].T.to_numpy()[0]], v[:,ratings_unqi.loc[1].T.to_numpy()[0]].T))"
   ],
   "metadata": {
    "collapsed": false,
    "pycharm": {
     "name": "#%%\n"
    }
   }
  },
  {
   "cell_type": "code",
   "execution_count": 364,
   "outputs": [
    {
     "ename": "ValueError",
     "evalue": "operands could not be broadcast together with shapes (100,) (100,5) ",
     "output_type": "error",
     "traceback": [
      "\u001B[1;31m---------------------------------------------------------------------------\u001B[0m",
      "\u001B[1;31mValueError\u001B[0m                                Traceback (most recent call last)",
      "Input \u001B[1;32mIn [364]\u001B[0m, in \u001B[0;36m<cell line: 1>\u001B[1;34m()\u001B[0m\n\u001B[1;32m----> 1\u001B[0m \u001B[43mnp\u001B[49m\u001B[38;5;241;43m.\u001B[39;49m\u001B[43mmultiply\u001B[49m\u001B[43m(\u001B[49m\u001B[43mnp\u001B[49m\u001B[38;5;241;43m.\u001B[39;49m\u001B[43mlinalg\u001B[49m\u001B[38;5;241;43m.\u001B[39;49m\u001B[43minv\u001B[49m\u001B[43m(\u001B[49m\u001B[43mnp\u001B[49m\u001B[38;5;241;43m.\u001B[39;49m\u001B[43mdot\u001B[49m\u001B[43m(\u001B[49m\u001B[43mv\u001B[49m\u001B[43m[\u001B[49m\u001B[43m:\u001B[49m\u001B[43m,\u001B[49m\u001B[43mratings_unqi\u001B[49m\u001B[38;5;241;43m.\u001B[39;49m\u001B[43mloc\u001B[49m\u001B[43m[\u001B[49m\u001B[38;5;241;43m1\u001B[39;49m\u001B[43m]\u001B[49m\u001B[38;5;241;43m.\u001B[39;49m\u001B[43mT\u001B[49m\u001B[38;5;241;43m.\u001B[39;49m\u001B[43mto_numpy\u001B[49m\u001B[43m(\u001B[49m\u001B[43m)\u001B[49m\u001B[43m[\u001B[49m\u001B[38;5;241;43m0\u001B[39;49m\u001B[43m]\u001B[49m\u001B[43m]\u001B[49m\u001B[43m,\u001B[49m\u001B[43m \u001B[49m\u001B[43mv\u001B[49m\u001B[43m[\u001B[49m\u001B[43m:\u001B[49m\u001B[43m,\u001B[49m\u001B[43mratings_unqi\u001B[49m\u001B[38;5;241;43m.\u001B[39;49m\u001B[43mloc\u001B[49m\u001B[43m[\u001B[49m\u001B[38;5;241;43m1\u001B[39;49m\u001B[43m]\u001B[49m\u001B[38;5;241;43m.\u001B[39;49m\u001B[43mT\u001B[49m\u001B[38;5;241;43m.\u001B[39;49m\u001B[43mto_numpy\u001B[49m\u001B[43m(\u001B[49m\u001B[43m)\u001B[49m\u001B[43m[\u001B[49m\u001B[38;5;241;43m0\u001B[39;49m\u001B[43m]\u001B[49m\u001B[43m]\u001B[49m\u001B[38;5;241;43m.\u001B[39;49m\u001B[43mT\u001B[49m\u001B[43m)\u001B[49m\u001B[43m)\u001B[49m\u001B[38;5;241;43m.\u001B[39;49m\u001B[43msum\u001B[49m\u001B[43m(\u001B[49m\u001B[43maxis\u001B[49m\u001B[38;5;241;43m=\u001B[39;49m\u001B[38;5;241;43m1\u001B[39;49m\u001B[43m)\u001B[49m\u001B[43m,\u001B[49m\u001B[43m \u001B[49m\u001B[43mnp\u001B[49m\u001B[38;5;241;43m.\u001B[39;49m\u001B[43mmultiply\u001B[49m\u001B[43m(\u001B[49m\u001B[43mp_1\u001B[49m\u001B[38;5;241;43m.\u001B[39;49m\u001B[43mdata\u001B[49m\u001B[43m,\u001B[49m\u001B[43mv\u001B[49m\u001B[43m[\u001B[49m\u001B[43m:\u001B[49m\u001B[43m,\u001B[49m\u001B[43mratings_unqi\u001B[49m\u001B[38;5;241;43m.\u001B[39;49m\u001B[43mloc\u001B[49m\u001B[43m[\u001B[49m\u001B[38;5;241;43m1\u001B[39;49m\u001B[43m]\u001B[49m\u001B[38;5;241;43m.\u001B[39;49m\u001B[43mT\u001B[49m\u001B[38;5;241;43m.\u001B[39;49m\u001B[43mto_numpy\u001B[49m\u001B[43m(\u001B[49m\u001B[43m)\u001B[49m\u001B[43m[\u001B[49m\u001B[38;5;241;43m0\u001B[39;49m\u001B[43m]\u001B[49m\u001B[43m]\u001B[49m\u001B[43m)\u001B[49m\u001B[43m)\u001B[49m\n",
      "\u001B[1;31mValueError\u001B[0m: operands could not be broadcast together with shapes (100,) (100,5) "
     ]
    }
   ],
   "source": [
    "np.multiply(np.linalg.inv(np.dot(v[:,ratings_unqi.loc[1].T.to_numpy()[0]], v[:,ratings_unqi.loc[1].T.to_numpy()[0]].T)).sum(axis=1), np.multiply(p_1.data,v[:,ratings_unqi.loc[1].T.to_numpy()[0]]))"
   ],
   "metadata": {
    "collapsed": false,
    "pycharm": {
     "name": "#%%\n"
    }
   }
  },
  {
   "cell_type": "code",
   "execution_count": 367,
   "outputs": [
    {
     "data": {
      "text/plain": "(100, 100)"
     },
     "execution_count": 367,
     "metadata": {},
     "output_type": "execute_result"
    }
   ],
   "source": [
    "np.linalg.inv(np.dot(v[:,ratings_unqi.loc[1].T.to_numpy()[0]], v[:,ratings_unqi.loc[1].T.to_numpy()[0]].T)).shape"
   ],
   "metadata": {
    "collapsed": false,
    "pycharm": {
     "name": "#%%\n"
    }
   }
  },
  {
   "cell_type": "code",
   "execution_count": 369,
   "outputs": [
    {
     "data": {
      "text/plain": "(100, 5)"
     },
     "execution_count": 369,
     "metadata": {},
     "output_type": "execute_result"
    }
   ],
   "source": [
    "v[:,ratings_unqi.loc[1].T.to_numpy()[0]].shape"
   ],
   "metadata": {
    "collapsed": false,
    "pycharm": {
     "name": "#%%\n"
    }
   }
  },
  {
   "cell_type": "code",
   "execution_count": 370,
   "outputs": [
    {
     "data": {
      "text/plain": "(100, 109360)"
     },
     "execution_count": 370,
     "metadata": {},
     "output_type": "execute_result"
    }
   ],
   "source": [
    "v[:,ratings_unqi.loc[1].T.to_numpy()[0]]"
   ],
   "metadata": {
    "collapsed": false,
    "pycharm": {
     "name": "#%%\n"
    }
   }
  },
  {
   "cell_type": "code",
   "execution_count": 371,
   "outputs": [
    {
     "data": {
      "text/plain": "array([    0,  1206,  9901, 34598, 34599], dtype=int64)"
     },
     "execution_count": 371,
     "metadata": {},
     "output_type": "execute_result"
    }
   ],
   "source": [
    "ratings_unqi.loc[1].T.to_numpy()[0]"
   ],
   "metadata": {
    "collapsed": false,
    "pycharm": {
     "name": "#%%\n"
    }
   }
  },
  {
   "cell_type": "code",
   "execution_count": 376,
   "outputs": [
    {
     "ename": "LinAlgError",
     "evalue": "1-dimensional array given. Array must be at least two-dimensional",
     "output_type": "error",
     "traceback": [
      "\u001B[1;31m---------------------------------------------------------------------------\u001B[0m",
      "\u001B[1;31mLinAlgError\u001B[0m                               Traceback (most recent call last)",
      "Input \u001B[1;32mIn [376]\u001B[0m, in \u001B[0;36m<cell line: 1>\u001B[1;34m()\u001B[0m\n\u001B[1;32m----> 1\u001B[0m \u001B[43mnp\u001B[49m\u001B[38;5;241;43m.\u001B[39;49m\u001B[43mlinalg\u001B[49m\u001B[38;5;241;43m.\u001B[39;49m\u001B[43minv\u001B[49m\u001B[43m(\u001B[49m\u001B[43mnp\u001B[49m\u001B[38;5;241;43m.\u001B[39;49m\u001B[43mmultiply\u001B[49m\u001B[43m(\u001B[49m\u001B[43mv\u001B[49m\u001B[43m[\u001B[49m\u001B[43m:\u001B[49m\u001B[43m,\u001B[49m\u001B[38;5;241;43m1206\u001B[39;49m\u001B[43m]\u001B[49m\u001B[43m,\u001B[49m\u001B[43mv\u001B[49m\u001B[43m[\u001B[49m\u001B[43m:\u001B[49m\u001B[43m,\u001B[49m\u001B[38;5;241;43m1206\u001B[39;49m\u001B[43m]\u001B[49m\u001B[38;5;241;43m.\u001B[39;49m\u001B[43mT\u001B[49m\u001B[43m)\u001B[49m\u001B[43m)\u001B[49m\n",
      "File \u001B[1;32m<__array_function__ internals>:5\u001B[0m, in \u001B[0;36minv\u001B[1;34m(*args, **kwargs)\u001B[0m\n",
      "File \u001B[1;32m~\\anaconda3\\lib\\site-packages\\numpy\\linalg\\linalg.py:539\u001B[0m, in \u001B[0;36minv\u001B[1;34m(a)\u001B[0m\n\u001B[0;32m    478\u001B[0m \u001B[38;5;124;03m\"\"\"\u001B[39;00m\n\u001B[0;32m    479\u001B[0m \u001B[38;5;124;03mCompute the (multiplicative) inverse of a matrix.\u001B[39;00m\n\u001B[0;32m    480\u001B[0m \n\u001B[1;32m   (...)\u001B[0m\n\u001B[0;32m    536\u001B[0m \n\u001B[0;32m    537\u001B[0m \u001B[38;5;124;03m\"\"\"\u001B[39;00m\n\u001B[0;32m    538\u001B[0m a, wrap \u001B[38;5;241m=\u001B[39m _makearray(a)\n\u001B[1;32m--> 539\u001B[0m \u001B[43m_assert_stacked_2d\u001B[49m\u001B[43m(\u001B[49m\u001B[43ma\u001B[49m\u001B[43m)\u001B[49m\n\u001B[0;32m    540\u001B[0m _assert_stacked_square(a)\n\u001B[0;32m    541\u001B[0m t, result_t \u001B[38;5;241m=\u001B[39m _commonType(a)\n",
      "File \u001B[1;32m~\\anaconda3\\lib\\site-packages\\numpy\\linalg\\linalg.py:196\u001B[0m, in \u001B[0;36m_assert_stacked_2d\u001B[1;34m(*arrays)\u001B[0m\n\u001B[0;32m    194\u001B[0m \u001B[38;5;28;01mfor\u001B[39;00m a \u001B[38;5;129;01min\u001B[39;00m arrays:\n\u001B[0;32m    195\u001B[0m     \u001B[38;5;28;01mif\u001B[39;00m a\u001B[38;5;241m.\u001B[39mndim \u001B[38;5;241m<\u001B[39m \u001B[38;5;241m2\u001B[39m:\n\u001B[1;32m--> 196\u001B[0m         \u001B[38;5;28;01mraise\u001B[39;00m LinAlgError(\u001B[38;5;124m'\u001B[39m\u001B[38;5;132;01m%d\u001B[39;00m\u001B[38;5;124m-dimensional array given. Array must be \u001B[39m\u001B[38;5;124m'\u001B[39m\n\u001B[0;32m    197\u001B[0m                 \u001B[38;5;124m'\u001B[39m\u001B[38;5;124mat least two-dimensional\u001B[39m\u001B[38;5;124m'\u001B[39m \u001B[38;5;241m%\u001B[39m a\u001B[38;5;241m.\u001B[39mndim)\n",
      "\u001B[1;31mLinAlgError\u001B[0m: 1-dimensional array given. Array must be at least two-dimensional"
     ]
    }
   ],
   "source": [
    "np.linalg.inv(np.multiply(v[:,1206],v[:,1206].T))"
   ],
   "metadata": {
    "collapsed": false,
    "pycharm": {
     "name": "#%%\n"
    }
   }
  },
  {
   "cell_type": "code",
   "execution_count": 380,
   "outputs": [
    {
     "data": {
      "text/plain": "140.13800920996468"
     },
     "execution_count": 380,
     "metadata": {},
     "output_type": "execute_result"
    }
   ],
   "source": [
    "np.dot(v[:,1206],v[:,1206].T)"
   ],
   "metadata": {
    "collapsed": false,
    "pycharm": {
     "name": "#%%\n"
    }
   }
  },
  {
   "cell_type": "code",
   "execution_count": 433,
   "outputs": [
    {
     "name": "stdout",
     "output_type": "stream",
     "text": [
      "Collecting implicit\n",
      "  Downloading implicit-0.6.1-cp38-cp38-win_amd64.whl (646 kB)\n",
      "     -------------------------------------- 646.1/646.1 kB 8.2 MB/s eta 0:00:00\n",
      "Requirement already satisfied: tqdm>=4.27 in c:\\users\\paulw\\anaconda3\\lib\\site-packages (from implicit) (4.64.0)\n",
      "Requirement already satisfied: numpy in c:\\users\\paulw\\anaconda3\\lib\\site-packages (from implicit) (1.21.5)\n",
      "Requirement already satisfied: scipy>=0.16 in c:\\users\\paulw\\anaconda3\\lib\\site-packages (from implicit) (1.7.3)\n",
      "Requirement already satisfied: colorama in c:\\users\\paulw\\anaconda3\\lib\\site-packages (from tqdm>=4.27->implicit) (0.4.5)\n",
      "Installing collected packages: implicit\n",
      "Successfully installed implicit-0.6.1\n"
     ]
    }
   ],
   "source": [
    "!pip3 install implicit"
   ],
   "metadata": {
    "collapsed": false,
    "pycharm": {
     "name": "#%%\n"
    }
   }
  },
  {
   "cell_type": "code",
   "execution_count": 434,
   "outputs": [],
   "source": [
    "import implicit"
   ],
   "metadata": {
    "collapsed": false,
    "pycharm": {
     "name": "#%%\n"
    }
   }
  },
  {
   "cell_type": "code",
   "execution_count": 499,
   "outputs": [
    {
     "name": "stderr",
     "output_type": "stream",
     "text": [
      "C:\\Users\\paulw\\anaconda3\\lib\\site-packages\\implicit\\utils.py:138: ParameterWarning: Method expects CSR input, and was passed csc_matrix instead. Converting to CSR took 0.01700592041015625 seconds\n",
      "  warnings.warn(\n"
     ]
    },
    {
     "data": {
      "text/plain": "  0%|          | 0/20 [00:00<?, ?it/s]",
      "application/vnd.jupyter.widget-view+json": {
       "version_major": 2,
       "version_minor": 0,
       "model_id": "4de8cbfa30c84bf6b5b5c6c38aeebbd9"
      }
     },
     "metadata": {},
     "output_type": "display_data"
    }
   ],
   "source": [
    "model = implicit.als.AlternatingLeastSquares(factors=100, regularization=0.05, iterations=20, alpha=40.0)\n",
    "alpha_val = 40\n",
    "data_conf = (reduced_sparse_T).astype('double')\n",
    "model.fit(data_conf)"
   ],
   "metadata": {
    "collapsed": false,
    "pycharm": {
     "name": "#%%\n"
    }
   }
  },
  {
   "cell_type": "code",
   "execution_count": 474,
   "outputs": [],
   "source": [
    "reduced_sparse_T = sparse.csc_matrix((avg_rtng[avg_rtng!=0], (ratings_unique_small[\"Title_map\"].values, ratings_unique_small[\"User_map\"].values)), shape=(ratings_unique_small[\"Title_map\"].nunique(), ratings_unique_small[\"User_map\"].nunique()))"
   ],
   "metadata": {
    "collapsed": false,
    "pycharm": {
     "name": "#%%\n"
    }
   }
  },
  {
   "cell_type": "code",
   "execution_count": 475,
   "outputs": [
    {
     "data": {
      "text/plain": "<109360x500043 sparse matrix of type '<class 'numpy.float64'>'\n\twith 818395 stored elements in Compressed Sparse Column format>"
     },
     "execution_count": 475,
     "metadata": {},
     "output_type": "execute_result"
    }
   ],
   "source": [
    "reduced_sparse_T"
   ],
   "metadata": {
    "collapsed": false,
    "pycharm": {
     "name": "#%%\n"
    }
   }
  },
  {
   "cell_type": "code",
   "execution_count": 501,
   "outputs": [
    {
     "data": {
      "text/plain": "(array([33348, 18402, 17065,  7591,  1282, 20345,  2648,  2794, 10713,\n         9026]),\n array([0.00199514, 0.00164966, 0.00130989, 0.00122594, 0.00114854,\n        0.0011355 , 0.00112968, 0.00112269, 0.0010939 , 0.00108983],\n       dtype=float32))"
     },
     "execution_count": 501,
     "metadata": {},
     "output_type": "execute_result"
    }
   ],
   "source": [
    "model.recommend(0, reduced_sparse.tocsr().getrow(0))"
   ],
   "metadata": {
    "collapsed": false,
    "pycharm": {
     "name": "#%%\n"
    }
   }
  },
  {
   "cell_type": "code",
   "execution_count": 491,
   "outputs": [
    {
     "data": {
      "text/plain": "(array([54082, 78788, 78787, 14755, 79931, 96941,  2420, 83656,   378,\n        21774]),\n array([0.09981678, 0.07847066, 0.07719742, 0.06670599, 0.06091911,\n        0.05958593, 0.05874689, 0.05769978, 0.0511895 , 0.05087493],\n       dtype=float32))"
     },
     "execution_count": 491,
     "metadata": {},
     "output_type": "execute_result"
    }
   ],
   "source": [
    "model.recommend(0, reduced_sparse_T.tocsr().getrow(0))"
   ],
   "metadata": {
    "collapsed": false,
    "pycharm": {
     "name": "#%%\n"
    }
   }
  },
  {
   "cell_type": "code",
   "execution_count": 446,
   "outputs": [
    {
     "data": {
      "text/plain": "<109360x500043 sparse matrix of type '<class 'numpy.float64'>'\n\twith 818395 stored elements in Compressed Sparse Row format>"
     },
     "execution_count": 446,
     "metadata": {},
     "output_type": "execute_result"
    }
   ],
   "source": [
    "reduced_sparse.T.tocsr()"
   ],
   "metadata": {
    "collapsed": false,
    "pycharm": {
     "name": "#%%\n"
    }
   }
  },
  {
   "cell_type": "code",
   "execution_count": 492,
   "outputs": [
    {
     "name": "stdout",
     "output_type": "stream",
     "text": [
      "Collecting pyspark\n",
      "  Downloading pyspark-3.3.1.tar.gz (281.4 MB)\n",
      "     -------------------------------------- 281.4/281.4 MB 5.7 MB/s eta 0:00:00\n",
      "  Preparing metadata (setup.py): started\n",
      "  Preparing metadata (setup.py): finished with status 'done'\n",
      "Collecting py4j==0.10.9.5\n",
      "  Downloading py4j-0.10.9.5-py2.py3-none-any.whl (199 kB)\n",
      "     ------------------------------------- 199.7/199.7 kB 11.8 MB/s eta 0:00:00\n",
      "Building wheels for collected packages: pyspark\n",
      "  Building wheel for pyspark (setup.py): started\n",
      "  Building wheel for pyspark (setup.py): finished with status 'done'\n",
      "  Created wheel for pyspark: filename=pyspark-3.3.1-py2.py3-none-any.whl size=281845512 sha256=d89b1465f5a890974a6f509242e90783d35d847b5075a1594af9b9aa18903ed1\n",
      "  Stored in directory: c:\\users\\paulw\\appdata\\local\\pip\\cache\\wheels\\43\\dc\\11\\ec201cd671da62fa9c5cc77078235e40722170ceba231d7598\n",
      "Successfully built pyspark\n",
      "Installing collected packages: py4j, pyspark\n",
      "Successfully installed py4j-0.10.9.5 pyspark-3.3.1\n"
     ]
    }
   ],
   "source": [],
   "metadata": {
    "collapsed": false,
    "pycharm": {
     "name": "#%%\n"
    }
   }
  },
  {
   "cell_type": "code",
   "execution_count": 493,
   "outputs": [],
   "source": [
    "from pyspark.ml.evaluation import RegressionEvaluator\n",
    "from pyspark.ml.recommendation import ALS"
   ],
   "metadata": {
    "collapsed": false,
    "pycharm": {
     "name": "#%%\n"
    }
   }
  },
  {
   "cell_type": "code",
   "execution_count": 507,
   "outputs": [
    {
     "ename": "AssertionError",
     "evalue": "",
     "output_type": "error",
     "traceback": [
      "\u001B[1;31m---------------------------------------------------------------------------\u001B[0m",
      "\u001B[1;31mAssertionError\u001B[0m                            Traceback (most recent call last)",
      "Input \u001B[1;32mIn [507]\u001B[0m, in \u001B[0;36m<cell line: 1>\u001B[1;34m()\u001B[0m\n\u001B[1;32m----> 1\u001B[0m als \u001B[38;5;241m=\u001B[39m \u001B[43mALS\u001B[49m\u001B[43m(\u001B[49m\u001B[43mmaxIter\u001B[49m\u001B[38;5;241;43m=\u001B[39;49m\u001B[38;5;241;43m5\u001B[39;49m\u001B[43m,\u001B[49m\u001B[43m \u001B[49m\u001B[43mregParam\u001B[49m\u001B[38;5;241;43m=\u001B[39;49m\u001B[38;5;241;43m0.01\u001B[39;49m\u001B[43m,\u001B[49m\u001B[43m \u001B[49m\u001B[43muserCol\u001B[49m\u001B[38;5;241;43m=\u001B[39;49m\u001B[38;5;124;43m\"\u001B[39;49m\u001B[38;5;124;43muserId\u001B[39;49m\u001B[38;5;124;43m\"\u001B[39;49m\u001B[43m,\u001B[49m\u001B[43m \u001B[49m\u001B[43mitemCol\u001B[49m\u001B[38;5;241;43m=\u001B[39;49m\u001B[38;5;124;43m\"\u001B[39;49m\u001B[38;5;124;43mmovieId\u001B[39;49m\u001B[38;5;124;43m\"\u001B[39;49m\u001B[43m,\u001B[49m\u001B[43m \u001B[49m\u001B[43mratingCol\u001B[49m\u001B[38;5;241;43m=\u001B[39;49m\u001B[38;5;124;43m\"\u001B[39;49m\u001B[38;5;124;43mrating\u001B[39;49m\u001B[38;5;124;43m\"\u001B[39;49m\u001B[43m,\u001B[49m\n\u001B[0;32m      2\u001B[0m \u001B[43m          \u001B[49m\u001B[43mcoldStartStrategy\u001B[49m\u001B[38;5;241;43m=\u001B[39;49m\u001B[38;5;124;43m\"\u001B[39;49m\u001B[38;5;124;43mdrop\u001B[39;49m\u001B[38;5;124;43m\"\u001B[39;49m\u001B[43m)\u001B[49m\n\u001B[0;32m      3\u001B[0m model \u001B[38;5;241m=\u001B[39m als\u001B[38;5;241m.\u001B[39mfit(reduced_sparse)\n",
      "File \u001B[1;32m~\\anaconda3\\lib\\site-packages\\pyspark\\__init__.py:135\u001B[0m, in \u001B[0;36mkeyword_only.<locals>.wrapper\u001B[1;34m(self, *args, **kwargs)\u001B[0m\n\u001B[0;32m    133\u001B[0m     \u001B[38;5;28;01mraise\u001B[39;00m \u001B[38;5;167;01mTypeError\u001B[39;00m(\u001B[38;5;124m\"\u001B[39m\u001B[38;5;124mMethod \u001B[39m\u001B[38;5;132;01m%s\u001B[39;00m\u001B[38;5;124m forces keyword arguments.\u001B[39m\u001B[38;5;124m\"\u001B[39m \u001B[38;5;241m%\u001B[39m func\u001B[38;5;241m.\u001B[39m\u001B[38;5;18m__name__\u001B[39m)\n\u001B[0;32m    134\u001B[0m \u001B[38;5;28mself\u001B[39m\u001B[38;5;241m.\u001B[39m_input_kwargs \u001B[38;5;241m=\u001B[39m kwargs\n\u001B[1;32m--> 135\u001B[0m \u001B[38;5;28;01mreturn\u001B[39;00m \u001B[43mfunc\u001B[49m\u001B[43m(\u001B[49m\u001B[38;5;28;43mself\u001B[39;49m\u001B[43m,\u001B[49m\u001B[43m \u001B[49m\u001B[38;5;241;43m*\u001B[39;49m\u001B[38;5;241;43m*\u001B[39;49m\u001B[43mkwargs\u001B[49m\u001B[43m)\u001B[49m\n",
      "File \u001B[1;32m~\\anaconda3\\lib\\site-packages\\pyspark\\ml\\recommendation.py:399\u001B[0m, in \u001B[0;36mALS.__init__\u001B[1;34m(self, rank, maxIter, regParam, numUserBlocks, numItemBlocks, implicitPrefs, alpha, userCol, itemCol, seed, ratingCol, nonnegative, checkpointInterval, intermediateStorageLevel, finalStorageLevel, coldStartStrategy, blockSize)\u001B[0m\n\u001B[0;32m    391\u001B[0m \u001B[38;5;124;03m\"\"\"\u001B[39;00m\n\u001B[0;32m    392\u001B[0m \u001B[38;5;124;03m__init__(self, \\\\*, rank=10, maxIter=10, regParam=0.1, numUserBlocks=10,\u001B[39;00m\n\u001B[0;32m    393\u001B[0m \u001B[38;5;124;03m         numItemBlocks=10, implicitPrefs=False, alpha=1.0, userCol=\"user\", itemCol=\"item\", \\\u001B[39;00m\n\u001B[1;32m   (...)\u001B[0m\n\u001B[0;32m    396\u001B[0m \u001B[38;5;124;03m         finalStorageLevel=\"MEMORY_AND_DISK\", coldStartStrategy=\"nan\", blockSize=4096)\u001B[39;00m\n\u001B[0;32m    397\u001B[0m \u001B[38;5;124;03m\"\"\"\u001B[39;00m\n\u001B[0;32m    398\u001B[0m \u001B[38;5;28msuper\u001B[39m(ALS, \u001B[38;5;28mself\u001B[39m)\u001B[38;5;241m.\u001B[39m\u001B[38;5;21m__init__\u001B[39m()\n\u001B[1;32m--> 399\u001B[0m \u001B[38;5;28mself\u001B[39m\u001B[38;5;241m.\u001B[39m_java_obj \u001B[38;5;241m=\u001B[39m \u001B[38;5;28;43mself\u001B[39;49m\u001B[38;5;241;43m.\u001B[39;49m\u001B[43m_new_java_obj\u001B[49m\u001B[43m(\u001B[49m\u001B[38;5;124;43m\"\u001B[39;49m\u001B[38;5;124;43morg.apache.spark.ml.recommendation.ALS\u001B[39;49m\u001B[38;5;124;43m\"\u001B[39;49m\u001B[43m,\u001B[49m\u001B[43m \u001B[49m\u001B[38;5;28;43mself\u001B[39;49m\u001B[38;5;241;43m.\u001B[39;49m\u001B[43muid\u001B[49m\u001B[43m)\u001B[49m\n\u001B[0;32m    400\u001B[0m kwargs \u001B[38;5;241m=\u001B[39m \u001B[38;5;28mself\u001B[39m\u001B[38;5;241m.\u001B[39m_input_kwargs\n\u001B[0;32m    401\u001B[0m \u001B[38;5;28mself\u001B[39m\u001B[38;5;241m.\u001B[39msetParams(\u001B[38;5;241m*\u001B[39m\u001B[38;5;241m*\u001B[39mkwargs)\n",
      "File \u001B[1;32m~\\anaconda3\\lib\\site-packages\\pyspark\\ml\\wrapper.py:80\u001B[0m, in \u001B[0;36mJavaWrapper._new_java_obj\u001B[1;34m(java_class, *args)\u001B[0m\n\u001B[0;32m     76\u001B[0m \u001B[38;5;124;03m\"\"\"\u001B[39;00m\n\u001B[0;32m     77\u001B[0m \u001B[38;5;124;03mReturns a new Java object.\u001B[39;00m\n\u001B[0;32m     78\u001B[0m \u001B[38;5;124;03m\"\"\"\u001B[39;00m\n\u001B[0;32m     79\u001B[0m sc \u001B[38;5;241m=\u001B[39m SparkContext\u001B[38;5;241m.\u001B[39m_active_spark_context\n\u001B[1;32m---> 80\u001B[0m \u001B[38;5;28;01massert\u001B[39;00m sc \u001B[38;5;129;01mis\u001B[39;00m \u001B[38;5;129;01mnot\u001B[39;00m \u001B[38;5;28;01mNone\u001B[39;00m\n\u001B[0;32m     82\u001B[0m java_obj \u001B[38;5;241m=\u001B[39m _jvm()\n\u001B[0;32m     83\u001B[0m \u001B[38;5;28;01mfor\u001B[39;00m name \u001B[38;5;129;01min\u001B[39;00m java_class\u001B[38;5;241m.\u001B[39msplit(\u001B[38;5;124m\"\u001B[39m\u001B[38;5;124m.\u001B[39m\u001B[38;5;124m\"\u001B[39m):\n",
      "\u001B[1;31mAssertionError\u001B[0m: "
     ]
    }
   ],
   "source": [
    "als = ALS(maxIter=5, regParam=0.01, userCol=\"userId\", itemCol=\"movieId\", ratingCol=\"rating\",\n",
    "          coldStartStrategy=\"drop\")\n",
    "model = als.fit(reduced_sparse)"
   ],
   "metadata": {
    "collapsed": false,
    "pycharm": {
     "name": "#%%\n"
    }
   }
  },
  {
   "cell_type": "code",
   "execution_count": 508,
   "outputs": [
    {
     "ename": "AttributeError",
     "evalue": "module 'pyspark' has no attribute 'createDataFrame'",
     "output_type": "error",
     "traceback": [
      "\u001B[1;31m---------------------------------------------------------------------------\u001B[0m",
      "\u001B[1;31mAttributeError\u001B[0m                            Traceback (most recent call last)",
      "Input \u001B[1;32mIn [508]\u001B[0m, in \u001B[0;36m<cell line: 1>\u001B[1;34m()\u001B[0m\n\u001B[1;32m----> 1\u001B[0m spark_df \u001B[38;5;241m=\u001B[39m \u001B[43mspark\u001B[49m\u001B[38;5;241;43m.\u001B[39;49m\u001B[43mcreateDataFrame\u001B[49m(\n\u001B[0;32m      2\u001B[0m     [(\u001B[38;5;241m0\u001B[39m, \u001B[38;5;241m0\u001B[39m, \u001B[38;5;241m4.0\u001B[39m), (\u001B[38;5;241m0\u001B[39m, \u001B[38;5;241m1\u001B[39m, \u001B[38;5;241m2.0\u001B[39m), (\u001B[38;5;241m1\u001B[39m, \u001B[38;5;241m1\u001B[39m, \u001B[38;5;241m3.0\u001B[39m), (\u001B[38;5;241m1\u001B[39m, \u001B[38;5;241m2\u001B[39m, \u001B[38;5;241m4.0\u001B[39m), (\u001B[38;5;241m2\u001B[39m, \u001B[38;5;241m1\u001B[39m, \u001B[38;5;241m1.0\u001B[39m), (\u001B[38;5;241m2\u001B[39m, \u001B[38;5;241m2\u001B[39m, \u001B[38;5;241m5.0\u001B[39m)],\n\u001B[0;32m      3\u001B[0m     [\u001B[38;5;124m\"\u001B[39m\u001B[38;5;124muser\u001B[39m\u001B[38;5;124m\"\u001B[39m, \u001B[38;5;124m\"\u001B[39m\u001B[38;5;124mitem\u001B[39m\u001B[38;5;124m\"\u001B[39m, \u001B[38;5;124m\"\u001B[39m\u001B[38;5;124mrating\u001B[39m\u001B[38;5;124m\"\u001B[39m])\n",
      "\u001B[1;31mAttributeError\u001B[0m: module 'pyspark' has no attribute 'createDataFrame'"
     ]
    }
   ],
   "source": [
    "spark_df = spark.createDataFrame(\n",
    "    [(0, 0, 4.0), (0, 1, 2.0), (1, 1, 3.0), (1, 2, 4.0), (2, 1, 1.0), (2, 2, 5.0)],\n",
    "    [\"user\", \"item\", \"rating\"])"
   ],
   "metadata": {
    "collapsed": false,
    "pycharm": {
     "name": "#%%\n"
    }
   }
  },
  {
   "cell_type": "code",
   "execution_count": null,
   "outputs": [],
   "source": [],
   "metadata": {
    "collapsed": false,
    "pycharm": {
     "name": "#%%\n"
    }
   }
  }
 ],
 "nbformat": 4,
 "nbformat_minor": 0,
 "metadata": {
  "deepnote": {
   "is_reactive": false
  },
  "orig_nbformat": 2,
  "deepnote_notebook_id": "09ac567bbc314a9c8a9cd448fd06574d",
  "deepnote_execution_queue": []
 }
}
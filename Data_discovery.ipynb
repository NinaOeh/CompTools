<<<<<<< HEAD
{
 "cells": [
  {
   "cell_type": "markdown",
   "metadata": {
    "cell_id": "6cd958fcd0a5443298ac8c10d8eec733",
    "deepnote_cell_type": "text-cell-h2",
    "formattedRanges": [],
    "is_collapsed": false,
    "tags": []
   },
   "source": [
    "## Data"
   ]
  },
  {
   "cell_type": "markdown",
   "metadata": {
    "cell_id": "24d9104f88f8415a9d554b460376a805",
    "deepnote_cell_type": "markdown",
    "tags": []
   },
   "source": [
    "Where does the data come from? -> provide source and background of data"
   ]
  },
  {
   "cell_type": "markdown",
   "metadata": {
    "cell_id": "ccbca39049d84b07b7d9ccd43afe96e9",
    "deepnote_cell_type": "text-cell-h3",
    "formattedRanges": [],
    "is_collapsed": false,
    "tags": []
   },
   "source": [
    "### Data discovery"
   ]
  },
  {
   "cell_type": "markdown",
   "metadata": {
    "cell_id": "00af2e73d834483ba9cfe1d4528a3104",
    "deepnote_cell_type": "markdown",
    "tags": []
   },
   "source": [
    "Before the analysis and preprocessing of the data, the data is $\\textit{discovered}$ in order to obtain an overview over what data is available at all. "
   ]
  },
  {
   "cell_type": "markdown",
   "metadata": {
    "cell_id": "9b1c03d677484482be767cd8ccb3e450",
    "deepnote_cell_type": "markdown",
    "tags": []
   },
   "source": [
    "Integration of necessary libraries and datasets into the notebook."
   ]
  },
  {
   "cell_type": "code",
   "execution_count": 1,
   "metadata": {
    "cell_id": "a7c26160915d44d5a9315c3d703e94f3",
    "deepnote_cell_type": "code",
    "deepnote_to_be_reexecuted": false,
    "execution_millis": 1125,
    "execution_start": 1667316404873,
    "source_hash": "f86d1653",
    "tags": []
   },
   "outputs": [
    {
     "name": "stdout",
     "output_type": "stream",
     "text": [
      "books_data.csv\tBooks_rating.csv\n"
     ]
    }
   ],
   "source": [
    "!ls /datasets/computational-tools-for-dataanalysis-data\n",
    "import pandas as pd\n",
    "import matplotlib.pyplot as plt"
   ]
  },
  {
   "cell_type": "markdown",
   "metadata": {
    "cell_id": "70aa48eee11f4f30bcdc87eb21a86af3",
    "deepnote_cell_type": "markdown",
    "tags": []
   },
   "source": [
    "#### Review data"
   ]
  },
  {
   "cell_type": "markdown",
   "metadata": {
    "cell_id": "3a31071d754842bfa7e869470c1e1311",
    "deepnote_cell_type": "markdown",
    "tags": []
   },
   "source": [
    "The first dataset contains the review data of the books, matching a user with a book and providing a rating that the user gave the book (from 1-5), as well a review description. The dataset contains 3 million book ratings."
   ]
  },
  {
   "cell_type": "code",
   "execution_count": 2,
   "metadata": {
    "cell_id": "2121cf658b1749f2831a4ca3b12879e0",
    "deepnote_cell_type": "code",
    "deepnote_to_be_reexecuted": false,
    "execution_millis": 121281,
    "execution_start": 1667316444593,
    "source_hash": "6d99dbaa",
    "tags": []
   },
   "outputs": [
    {
     "data": {
      "text/plain": [
       "<bound method NDFrame.head of                  Id                           Title  Price         User_id  \\\n",
       "0        1882931173  Its Only Art If Its Well Hung!    NaN   AVCGYZL8FQQTD   \n",
       "1        0826414346        Dr. Seuss: American Icon    NaN  A30TK6U7DNS82R   \n",
       "2        0826414346        Dr. Seuss: American Icon    NaN  A3UH4UZ4RSVO82   \n",
       "3        0826414346        Dr. Seuss: American Icon    NaN  A2MVUWT453QH61   \n",
       "4        0826414346        Dr. Seuss: American Icon    NaN  A22X4XUPKF66MR   \n",
       "...             ...                             ...    ...             ...   \n",
       "2999995  B000NSLVCU             The Idea of History    NaN             NaN   \n",
       "2999996  B000NSLVCU             The Idea of History    NaN  A1SMUB9ASL5L9Y   \n",
       "2999997  B000NSLVCU             The Idea of History    NaN  A2AQMEKZKK5EE4   \n",
       "2999998  B000NSLVCU             The Idea of History    NaN  A18SQGYBKS852K   \n",
       "2999999  B000NSLVCU             The Idea of History    NaN             NaN   \n",
       "\n",
       "                                profileName review/helpfulness  review/score  \\\n",
       "0                     Jim of Oz \"jim-of-oz\"                7/7           4.0   \n",
       "1                             Kevin Killian              10/10           5.0   \n",
       "2                              John Granger              10/11           5.0   \n",
       "3        Roy E. Perry \"amateur philosopher\"                7/7           4.0   \n",
       "4           D. H. Richards \"ninthwavestore\"                3/3           4.0   \n",
       "...                                     ...                ...           ...   \n",
       "2999995                                 NaN              14/19           4.0   \n",
       "2999996                             jafrank                1/1           4.0   \n",
       "2999997           L. L. Poulos \"Muslim Mom\"                0/0           4.0   \n",
       "2999998       Julia A. Klein \"knitting rat\"               1/11           5.0   \n",
       "2999999                                 NaN               7/49           1.0   \n",
       "\n",
       "         review/time                                     review/summary  \\\n",
       "0          940636800             Nice collection of Julie Strain images   \n",
       "1         1095724800                                  Really Enjoyed It   \n",
       "2         1078790400    Essential for every personal and Public Library   \n",
       "3         1090713600    Phlip Nel gives silly Seuss a serious treatment   \n",
       "4         1107993600                             Good academic overview   \n",
       "...              ...                                                ...   \n",
       "2999995    937612800                                          Difficult   \n",
       "2999996   1331683200      Quite good and ahead of its time occasionally   \n",
       "2999997   1180224000  Easier reads of those not well versed in histo...   \n",
       "2999998   1163030400   Yes, it is cheaper than the University Bookstore   \n",
       "2999999    905385600  Collingwood's ideas sink in a quagmire or verb...   \n",
       "\n",
       "                                               review/text  \n",
       "0        This is only for Julie Strain fans. It's a col...  \n",
       "1        I don't care much for Dr. Seuss but after read...  \n",
       "2        If people become the books they read and if \"t...  \n",
       "3        Theodore Seuss Geisel (1904-1991), aka &quot;D...  \n",
       "4        Philip Nel - Dr. Seuss: American IconThis is b...  \n",
       "...                                                    ...  \n",
       "2999995  This is an extremely difficult book to digest,...  \n",
       "2999996  This is pretty interesting. Collingwood seems ...  \n",
       "2999997  This is a good book but very esoteric. \"What i...  \n",
       "2999998  My daughter, a freshman at Indiana University,...  \n",
       "2999999  The guy has a few good ideas but, reader, bewa...  \n",
       "\n",
       "[3000000 rows x 10 columns]>"
      ]
     },
     "execution_count": 2,
     "metadata": {},
     "output_type": "execute_result"
    }
   ],
   "source": [
    "review_data = pd.read_csv(\"/datasets/computational-tools-for-dataanalysis-data/Books_rating.csv\")\n",
    "review_data.head"
   ]
  },
  {
   "cell_type": "code",
   "execution_count": 4,
   "metadata": {
    "cell_id": "5ef40b11d7f64ebd89de4a885685da79",
    "deepnote_cell_type": "code",
    "deepnote_to_be_reexecuted": false,
    "execution_millis": 209,
    "execution_start": 1667316266774,
    "source_hash": "e8bb6bb2",
    "tags": []
   },
   "outputs": [
    {
     "name": "stdout",
     "output_type": "stream",
     "text": [
      "(3000000, 10)\n",
      "Index(['Id', 'Title', 'Price', 'User_id', 'profileName', 'review/helpfulness',\n",
      "       'review/score', 'review/time', 'review/summary', 'review/text'],\n",
      "      dtype='object')\n"
     ]
    }
   ],
   "source": [
    "#shape of the review dataset\n",
    "print(review_data.shape)\n",
    "#columns available in the review dataset\n",
    "print(review_data.columns)\n",
    "#remove unnecessary columns from dataset\n",
    "keep_columns = ['Id', 'Title', 'User_id', 'review/score', 'review/text']\n",
    "review_data = review_data[keep_columns]"
   ]
  },
  {
   "cell_type": "code",
   "execution_count": 5,
   "metadata": {
    "cell_id": "ef2977dea52b4e8eb93aa22c6305c7d5",
    "deepnote_cell_type": "code",
    "deepnote_to_be_reexecuted": false,
    "execution_millis": 7226,
    "execution_start": 1667316267035,
    "source_hash": "4582e2ff",
    "tags": []
   },
   "outputs": [
    {
     "name": "stdout",
     "output_type": "stream",
     "text": [
      "Number of individual users, 1008972\n",
      "Maximal number of reviews that a single user submitted, 5795\n",
      "Number of people that have rated more than 1000 books, 10\n",
      "Number of people that have rated more than 200 books, 336\n",
      "Number of people that have rated only one book, 693716\n",
      "Number of people that have rated more than 5 books, 82795\n"
     ]
    },
    {
     "data": {
      "image/png": "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\n",
      "text/plain": [
       "<Figure size 640x480 with 1 Axes>"
      ]
     },
     "metadata": {
      "image/png": {
       "height": 455,
       "width": 583
      }
     },
     "output_type": "display_data"
    }
   ],
   "source": [
    "grouped_reviews = review_data.groupby(['User_id']).count()\n",
    "print(f\"Number of individual users, {grouped_reviews.shape[0]}\")\n",
    "#check the maximal number of books a person has rated\n",
    "print(f\"Maximal number of reviews that a single user submitted, {max(grouped_reviews['Id'])}\")\n",
    "#check how many people have rated more than 1000 books\n",
    "print(f\"Number of people that have rated more than 1000 books, {grouped_reviews[grouped_reviews['Id']>=1000].shape[0]}\")\n",
    "#check how many people have rated more than 200 books\n",
    "print(f\"Number of people that have rated more than 200 books, {grouped_reviews[grouped_reviews['Id']>=200].shape[0]}\")\n",
    "#remove people that have judged more than 1000 books \n",
    "grouped_reviews = grouped_reviews[grouped_reviews['Id']<=1000]\n",
    "review_data=review_data[review_data['User_id'].isin(grouped_reviews.index)]\n",
    "#check number of people that rated only one book\n",
    "print(f\"Number of people that have rated only one book, {grouped_reviews[grouped_reviews['Id']==1].shape[0]}\")\n",
    "#check number of people that rated more than five books\n",
    "print(f\"Number of people that have rated more than 5 books, {grouped_reviews[grouped_reviews['Id']>=5].shape[0]}\")\n",
    "#show the distribution of rated books\n",
    "fig, ax = plt.subplots()\n",
    "ax.hist(grouped_reviews['Id'], log=True, bins=200)\n",
    "ax.set_ylabel('frequency')\n",
    "ax.set_xlabel('ratings per user')\n",
    "ax.set_title('Distribution of user ratings')\n",
    "fig.show()"
   ]
  },
  {
   "cell_type": "markdown",
   "metadata": {
    "cell_id": "7ba2567c1bd44a739d0c5a716da09181",
    "deepnote_cell_type": "markdown",
    "tags": []
   },
   "source": [
    "The dataset contains 1008972 unique users of which every user has rated 2.97 books in average. However, the majority of the users has only rated one book (68.75%), and only few users (8.21%) have rated more than 5 books. 10 users have rated more than 1000 books. These users were removed from the dataset as outliers, because it is assumed that their rating behaviour will not be valuable to make predictions to for other users."
   ]
  },
  {
   "cell_type": "code",
   "execution_count": 6,
   "metadata": {
    "cell_id": "3b1776d8ec9b4d82b2ee43cb51e0e84c",
    "deepnote_cell_type": "code",
    "deepnote_to_be_reexecuted": false,
    "execution_millis": 2302,
    "execution_start": 1667316274392,
    "source_hash": "f0afaaa3",
    "tags": []
   },
   "outputs": [
    {
     "name": "stdout",
     "output_type": "stream",
     "text": [
      "Number of rated books, 205047\n",
      "Number of books that have been rated once, 69558\n",
      "Book with most ratings is 'The Hobbit' with 18059 ratings.\n"
     ]
    },
    {
     "data": {
      "image/png": "iVBORw0KGgoAAAANSUhEUgAAAjoAAAHHCAYAAAC2rPKaAAAAOXRFWHRTb2Z0d2FyZQBNYXRwbG90bGliIHZlcnNpb24zLjUuMywgaHR0cHM6Ly9tYXRwbG90bGliLm9yZy/NK7nSAAAACXBIWXMAAA9hAAAPYQGoP6dpAABFp0lEQVR4nO3de1hVZf7//9cGBEQEDyiIJzyXolB4yLTUZFI0U5vKjiJj5kw46qClTjNajaVlkU3t0plJscOk2TjaJ81S1CyzVBTNTBPFQylgmSA4ocL9/aMf+9eWgyDghrWfj+va19W6173Xet97gbxa61572YwxRgAAABbk4eoCAAAAqgtBBwAAWBZBBwAAWBZBBwAAWBZBBwAAWBZBBwAAWBZBBwAAWBZBBwAAWBZBBwAAWBZBB6hiTzzxhGw221XZV//+/dW/f3/H8qZNm2Sz2fTee+9dlf2PGTNGYWFhV2VfVyo3N1cPPfSQQkJCZLPZNHny5FL72mw2TZgw4eoV9/+52setImrDMQbKQtABypCUlCSbzeZ4+fr6KjQ0VIMGDdLf//53nT17tkr2c+LECT3xxBNKTU2tku1VpZpcW3k888wzSkpK0h/+8Ae9+eabevDBB11dUo1T248xUBYvVxcA1AZPPfWU2rRpowsXLigjI0ObNm3S5MmTlZiYqPfff1/dunVz9P3LX/6i6dOnV2j7J06c0JNPPqmwsDBFRkaW+30ff/xxhfZzJcqq7Z///KcKCwurvYbK2LBhg2644QbNmjXL1aXUWLX9GANlIegA5RATE6Pu3bs7lmfMmKENGzbotttu0+23365vvvlGdevWlSR5eXnJy6t6f7XOnTsnPz8/eXt7V+t+LqdOnTou3X95ZGVlqXPnzq4u46r6+eef5e3tLQ+Pyp+0rw3HGCgLl66AK3TLLbfor3/9q44ePaq33nrL0V7SHJ1169apb9++atCggfz9/dWpUyf9+c9/lvTL/IwePXpIkuLi4hyXyZKSkiT9Mg8nPDxcKSkpuvnmm+Xn5+d476VzdIoUFBToz3/+s0JCQlSvXj3dfvvtOn78uFOfsLAwjRkzpth7f73Ny9VW0vyNvLw8TZkyRS1btpSPj486deqk559/XsYYp35F82FWrlyp8PBw+fj4qEuXLlq7dm3JH/glsrKyNHbsWAUHB8vX11cRERFasmSJY33RvJf09HStXr3aUfuRI0cuu+23335bnTp1kq+vr6KiorR58+ZifXbt2qWYmBgFBATI399fAwcO1BdffFGs3+HDh3XXXXepUaNG8vPz0w033KDVq1dftob8/HzddtttCgwM1Oeff15qv6JxLl26VH/5y1/UvHlz+fn5KScnR6dPn9bUqVPVtWtX+fv7KyAgQDExMdq9e7fT+ytyjI8cOSKbzabnn39e//jHP9SuXTv5+PioR48e2r59e7H6li9frs6dO8vX11fh4eH673//W+LPzdKlSxUVFaX69esrICBAXbt21UsvvXTZzwm4HM7oAJXw4IMP6s9//rM+/vhjjRs3rsQ+X3/9tW677TZ169ZNTz31lHx8fJSWlqYtW7ZIkq699lo99dRTmjlzph5++GHddNNNkqQbb7zRsY0ff/xRMTExuueee/TAAw8oODi4zLqefvpp2Ww2TZs2TVlZWZo/f76io6OVmprqOPNUHuWp7deMMbr99tu1ceNGjR07VpGRkfroo4/06KOP6vvvv9eLL77o1P+zzz7TihUr9Mgjj6h+/fr6+9//rt/+9rc6duyYGjduXGpd//vf/9S/f3+lpaVpwoQJatOmjZYvX64xY8bozJkzmjRpkq699lq9+eab+tOf/qQWLVpoypQpkqQmTZqUOeZPPvlEy5Yt08SJE+Xj46NXX31VgwcP1rZt2xQeHi7pl2N60003KSAgQI899pjq1KmjhQsXqn///vrkk0/Uq1cvSVJmZqZuvPFGnTt3ThMnTlTjxo21ZMkS3X777Xrvvfc0cuTIUsc3fPhw7dixQ+vXr3cEkbL87W9/k7e3t6ZOnar8/Hx5e3tr3759Wrlype666y61adNGmZmZWrhwofr166d9+/YpNDS0wse4yL///W+dPXtW48ePl81m03PPPac77rhDhw8fdpwFWr16tUaNGqWuXbtqzpw5+umnnzR27Fg1b97caVvr1q3Tvffeq4EDB+rZZ5+VJH3zzTfasmWLJk2adNmxA2UyAEq1ePFiI8ls37691D6BgYHmuuuucyzPmjXL/PpX68UXXzSSzKlTp0rdxvbt240ks3jx4mLr+vXrZySZBQsWlLiuX79+juWNGzcaSaZ58+YmJyfH0f7uu+8aSeall15ytLVu3drExsZedptl1RYbG2tat27tWF65cqWRZGbPnu3U78477zQ2m82kpaU52iQZb29vp7bdu3cbSebll18utq9fmz9/vpFk3nrrLUfb+fPnTe/evY2/v7/T2Fu3bm2GDh1a5vZ+XZMks2PHDkfb0aNHja+vrxk5cqSjbcSIEcbb29scOnTI0XbixAlTv359c/PNNzvaJk+ebCSZTz/91NF29uxZ06ZNGxMWFmYKCgqMMf//cVu+fLk5e/as6devnwkKCjK7du26bM1F723btq05d+6c07qff/7ZsY8i6enpxsfHxzz11FOOtooc4/T0dCPJNG7c2Jw+fdrRvmrVKiPJ/N///Z+jrWvXrqZFixbm7NmzjrZNmzYZSU7bnDRpkgkICDAXL1687HiBiuLSFVBJ/v7+Zd591aBBA0nSqlWrrnhSp4+Pj+Li4srdf/To0apfv75j+c4771SzZs20Zs2aK9p/ea1Zs0aenp6aOHGiU/uUKVNkjNGHH37o1B4dHa127do5lrt166aAgAAdPnz4svsJCQnRvffe62irU6eOJk6cqNzcXH3yySdXPIbevXsrKirKsdyqVSsNHz5cH330kQoKClRQUKCPP/5YI0aMUNu2bR39mjVrpvvuu0+fffaZcnJyHHX27NlTffv2dfTz9/fXww8/rCNHjmjfvn1O+87Oztatt96q/fv3a9OmTRWamB4bG1vsbJ2Pj49jnk5BQYF+/PFHx6XTnTt3lnvbJRk1apQaNmzoWC46E1R07E6cOKGvvvpKo0ePlr+/v6Nfv3791LVrV6dtNWjQQHl5eVq3bl2lagJKQtABKik3N9cpVFxq1KhR6tOnjx566CEFBwfrnnvu0bvvvluh0NO8efMKTTzu0KGD07LNZlP79u3LNT+lMo4eParQ0NBin8e1117rWP9rrVq1KraNhg0b6qeffrrsfjp06FBssm1p+6mISz87SerYsaPOnTunU6dO6dSpUzp37pw6depUrN+1116rwsJCx3yoo0ePltqvpDonT56s7du3a/369erSpUuF6m7Tpk2xtsLCQr344ovq0KGDfHx8FBQUpCZNmmjPnj3Kzs6u0PYvdemxKwo9RceuaGzt27cv9t5L2x555BF17NhRMTExatGihX73u9+Ve64WcDkEHaASvvvuO2VnZ5f4j3mRunXravPmzVq/fr0efPBB7dmzR6NGjdJvfvMbFRQUlGs/FZlXU16lfalheWuqCp6eniW2m0smLruL4cOHyxijuXPnVvjsX0k/I88884wSEhJ0880366233tJHH32kdevWqUuXLpW+Zbwqj13Tpk2Vmpqq999/3zHHKyYmRrGxsZWqEZAIOkClvPnmm5KkQYMGldnPw8NDAwcOVGJiovbt26enn35aGzZs0MaNGyWVHjqu1MGDB52WjTFKS0tzutOlYcOGOnPmTLH3XnqWoSK1tW7dWidOnCh2KW///v2O9VWhdevWOnjwYLE/1lWxn0s/O0n69ttv5efnpyZNmqhJkyby8/PTgQMHivXbv3+/PDw81LJlS0cdpfUrqc4RI0Zo0aJF+ve//634+PgrHkOR9957TwMGDNDrr7+ue+65R7feequio6OLHffq+CbvorGlpaUVW1dSm7e3t4YNG6ZXX31Vhw4d0vjx4/XGG2+U2BeoCIIOcIU2bNigv/3tb2rTpo3uv//+UvudPn26WFvR3Iv8/HxJUr169SSpxOBxJd544w2nsPHee+/p5MmTiomJcbS1a9dOX3zxhc6fP+9o++CDD4rdhl6R2oYMGaKCggK98sorTu0vvviibDab0/4rY8iQIcrIyNCyZcscbRcvXtTLL78sf39/9evX74q3vXXrVqf5K8ePH9eqVat06623ytPTU56enrr11lu1atUqp0uBmZmZ+ve//62+ffsqICDAUee2bdu0detWR7+8vDz94x//UFhYWInf7zN69Gj9/e9/14IFCzRt2rQrHof0y1mXS8+wLF++XN9//71TW1X//ElSaGiowsPD9cYbbyg3N9fR/sknn+irr75y6vvjjz86LXt4eDi+hLPodwS4UtxeDpTDhx9+qP379+vixYvKzMzUhg0btG7dOrVu3Vrvv/++fH19S33vU089pc2bN2vo0KFq3bq1srKy9Oqrr6pFixaOSart2rVTgwYNtGDBAtWvX1/16tVTr169Spx3UR6NGjVS3759FRcXp8zMTM2fP1/t27d3ugX+oYce0nvvvafBgwfr7rvv1qFDh/TWW285TQ6uaG3Dhg3TgAED9Pjjj+vIkSOKiIjQxx9/rFWrVmny5MnFtn2lHn74YS1cuFBjxoxRSkqKwsLC9N5772nLli2aP39+mXOmLic8PFyDBg1yur1ckp588klHn9mzZzu+G+mRRx6Rl5eXFi5cqPz8fD333HOOftOnT9c777yjmJgYTZw4UY0aNdKSJUuUnp6u//znP6V+od+ECROUk5Ojxx9/XIGBgY7vTaqo2267TU899ZTi4uJ044036quvvtLbb7/tNIlaqvqfvyLPPPOMhg8frj59+iguLk4//fSTXnnlFYWHhzuFn4ceekinT5/WLbfcohYtWujo0aN6+eWXFRkZ6ZjPBFwxV97yBdR0RbeXF728vb1NSEiI+c1vfmNeeuklp9uYi1x6e3lycrIZPny4CQ0NNd7e3iY0NNTce++95ttvv3V636pVq0znzp2Nl5eX062+/fr1M126dCmxvtJuL3/nnXfMjBkzTNOmTU3dunXN0KFDzdGjR4u9/4UXXjDNmzc3Pj4+pk+fPmbHjh3FtllWbZfeemzML7dP/+lPfzKhoaGmTp06pkOHDmbevHmmsLDQqZ8kEx8fX6ym0m57v1RmZqaJi4szQUFBxtvb23Tt2rXE26Mrent5fHy8eeutt0yHDh2Mj4+Pue6668zGjRuL9d25c6cZNGiQ8ff3N35+fmbAgAHm888/L9bv0KFD5s477zQNGjQwvr6+pmfPnuaDDz5w6vPr28t/7bHHHjOSzCuvvFJqzaW915hfbi+fMmWKadasmalbt67p06eP2bp1a6WOcdHt5fPmzSu2P0lm1qxZTm1Lly4111xzjfHx8THh4eHm/fffN7/97W/NNddc4+jz3nvvmVtvvdU0bdrUeHt7m1atWpnx48ebkydPljpuoLxsxrjprD8AgEtERkaqSZMm3E6Oq4I5OgCAanHhwgVdvHjRqW3Tpk3avXt3iY8uAaoDZ3QAANXiyJEjio6O1gMPPKDQ0FDt379fCxYsUGBgoPbu3VvmYz6AqsJkZABAtWjYsKGioqL0r3/9S6dOnVK9evU0dOhQzZ07l5CDq4YzOgAAwLKYowMAACyLoAMAACzL7efoFBYW6sSJE6pfv361fA06AACoesYYnT17VqGhoaV++aZE0NGJEyccz6UBAAC1y/Hjx9WiRYtS17t90Cn6qvjjx487nk8DAABqtpycHLVs2fKyj3xx+6BTdLkqICCAoAMAQC1zuWknTEYGAACWRdABAACWRdABAACW5bZBx263q3PnzurRo4erSwEAANXE7R8BkZOTo8DAQGVnZzMZGQCAWqK8f7/d9owOAACwPoIOAACwLIIOAACwLIIOAACwLIIOAACwLIIOAACwLIIOAACwLIIOAACwLIIOAACwLLcNOlfjERBh01crbPrqats+AAAom9sGnfj4eO3bt0/bt293dSkAAKCauG3QAQAA1kfQAQAAlkXQAQAAlkXQAQAAlkXQAQAAlkXQAQAAlkXQAQAAlkXQAQAAlkXQAQAAlkXQAQAAlkXQAQAAluXl6gKqQlhYmAICAuTh4aGGDRtq48aNri4JAADUAJYIOpL0+eefy9/f39VlAACAGoRLVwAAwLJcHnQ2b96sYcOGKTQ0VDabTStXrizWx263KywsTL6+vurVq5e2bdvmtN5ms6lfv37q0aOH3n777atUOQAAqOlcHnTy8vIUEREhu91e4vply5YpISFBs2bN0s6dOxUREaFBgwYpKyvL0eezzz5TSkqK3n//fT3zzDPas2fP1SofAADUYC4POjExMZo9e7ZGjhxZ4vrExESNGzdOcXFx6ty5sxYsWCA/Pz8tWrTI0ad58+aSpGbNmmnIkCHauXNnqfvLz89XTk6O0wsAAFiTy4NOWc6fP6+UlBRFR0c72jw8PBQdHa2tW7dK+uWM0NmzZyVJubm52rBhg7p06VLqNufMmaPAwEDHq2XLltU7CAAA4DI1Ouj88MMPKigoUHBwsFN7cHCwMjIyJEmZmZnq27evIiIidMMNN2j06NHq0aNHqducMWOGsrOzHa/jx49X6xgAAIDr1Prby9u2bavdu3eXu7+Pj498fHyqsSIAAFBT1OgzOkFBQfL09FRmZqZTe2ZmpkJCQiq1bbvdrs6dO5d59gcAANRuNTroeHt7KyoqSsnJyY62wsJCJScnq3fv3pXadnx8vPbt26ft27dXtkwAAFBDufzSVW5urtLS0hzL6enpSk1NVaNGjdSqVSslJCQoNjZW3bt3V8+ePTV//nzl5eUpLi7OhVUDAIDawOVBZ8eOHRowYIBjOSEhQZIUGxurpKQkjRo1SqdOndLMmTOVkZGhyMhIrV27ttgE5Yqy2+2y2+0qKCio1HYAAEDNZTPGGFcX4Uo5OTkKDAxUdna2AgICqnTbYdNXS5KOzB1apdsFAMDdlffvd42eowMAAFAZBB0AAGBZbht0uL0cAADrc9ugw+3lAABYn9sGHQAAYH0EHQAAYFluG3SYowMAgPW5bdBhjg4AANbntkEHAABYH0EHAABYFkEHAABYltsGHSYjAwBgfW4bdJiMDACA9blt0AEAANZH0AEAAJZF0AEAAJZF0AEAAJbltkGHu64AALA+tw063HUFAID1uW3QAQAA1kfQAQAAlkXQAQAAlkXQAQAAlkXQAQAAlkXQAQAAluW2QYfv0QEAwPrcNujwPToAAFif2wYdAABgfQQdAABgWQQdAABgWQQdAABgWQQdAABgWQQdAABgWQQdAABgWQQdAABgWQQdAABgWW4bdHgEBAAA1ue2QYdHQAAAYH1uG3QAAID1EXQAAIBlEXQAAIBlEXQAAIBlEXQAAIBlEXQAAIBlEXQAAIBlEXQAAIBlEXQAAIBlEXQAAIBlEXQAAIBlEXQAAIBlWSbonDt3Tq1bt9bUqVNdXQoAAKghLBN0nn76ad1www2uLgMAANQglgg6Bw8e1P79+xUTE+PqUgAAQA3i8qCzefNmDRs2TKGhobLZbFq5cmWxPna7XWFhYfL19VWvXr20bds2p/VTp07VnDlzrlLFAACgtnB50MnLy1NERITsdnuJ65ctW6aEhATNmjVLO3fuVEREhAYNGqSsrCxJ0qpVq9SxY0d17NjxapYNAABqAS9XFxATE1PmJafExESNGzdOcXFxkqQFCxZo9erVWrRokaZPn64vvvhCS5cu1fLly5Wbm6sLFy4oICBAM2fOLHF7+fn5ys/Pdyzn5ORU7YAAAECN4fIzOmU5f/68UlJSFB0d7Wjz8PBQdHS0tm7dKkmaM2eOjh8/riNHjuj555/XuHHjSg05Rf0DAwMdr5YtW1b7OAAAgGvU6KDzww8/qKCgQMHBwU7twcHBysjIuKJtzpgxQ9nZ2Y7X8ePHq6JUAABQA7n80lVVGjNmzGX7+Pj4yMfHR3a7XXa7XQUFBdVfGAAAcIkafUYnKChInp6eyszMdGrPzMxUSEhIpbYdHx+vffv2afv27ZXaDgAAqLlqdNDx9vZWVFSUkpOTHW2FhYVKTk5W7969XVgZAACoDVx+6So3N1dpaWmO5fT0dKWmpqpRo0Zq1aqVEhISFBsbq+7du6tnz56aP3++8vLyHHdhAQAAlMblQWfHjh0aMGCAYzkhIUGSFBsbq6SkJI0aNUqnTp3SzJkzlZGRocjISK1du7bYBOWKYo4OAADWZzPGGFcX4Uo5OTkKDAxUdna2AgICqnTbYdNXS5KOzB1apdsFAMDdlffvd42eowMAAFAZbht07Ha7OnfurB49eri6FAAAUE3cNuhwezkAANbntkEHAABYH0EHAABYFkEHAABYltsGHSYjAwBgfW4bdJiMDACA9blt0AEAANZH0AEAAJZF0AEAAJbltkGHycgAAFif2wYdJiMDAGB9bht0AACA9RF0AACAZRF0AACAZRF0AACAZblt0OGuKwAArM9tgw53XQEAYH1uG3QAAID1EXQAAIBlEXQAAIBlEXQAAIBlEXQAAIBlEXQAAIBluW3Q4Xt0AACwPrcNOnyPDgAA1ue2QQcAAFgfQQcAAFgWQQcAAFgWQQcAAFgWQQcAAFgWQQcAAFgWQQcAAFgWQQcAAFgWQQcAAFiW2wYdHgEBAID1uW3Q4REQAABYn5erC3AHYdNXO/77yNyhLqwEAAD34rZndAAAgPURdAAAgGURdAAAgGURdAAAgGURdAAAgGVVOOgcPny4OuoAAACochUOOu3bt9eAAQP01ltv6eeff66OmgAAAKpEhYPOzp071a1bNyUkJCgkJETjx4/Xtm3bqqM2AACASqlw0ImMjNRLL72kEydOaNGiRTp58qT69u2r8PBwJSYm6tSpU9VRJwAAQIVd8WRkLy8v3XHHHVq+fLmeffZZpaWlaerUqWrZsqVGjx6tkydPVmWdAAAAFXbFQWfHjh165JFH1KxZMyUmJmrq1Kk6dOiQ1q1bpxMnTmj48OFVWWepzpw5o+7duysyMlLh4eH65z//eVX2CwAAar4KP+sqMTFRixcv1oEDBzRkyBC98cYbGjJkiDw8fslMbdq0UVJSksLCwqq61hLVr19fmzdvlp+fn/Ly8hQeHq477rhDjRs3vir7BwAANVeFg85rr72m3/3udxozZoyaNWtWYp+mTZvq9ddfr3Rx5eHp6Sk/Pz9JUn5+vowxMsZclX0DAICarcKXrg4ePKgZM2aUGnIkydvbW7GxseXa3ubNmzVs2DCFhobKZrNp5cqVxfrY7XaFhYXJ19dXvXr1KnaX15kzZxQREaEWLVro0UcfVVBQUIXGBAAArKnCQWfx4sVavnx5sfbly5dryZIlFS4gLy9PERERstvtJa5ftmyZEhISNGvWLO3cuVMREREaNGiQsrKyHH0aNGig3bt3Kz09Xf/+97+VmZlZ4ToAAID1VDjozJkzp8QzJk2bNtUzzzxT4QJiYmI0e/ZsjRw5ssT1iYmJGjdunOLi4tS5c2ctWLBAfn5+WrRoUbG+wcHBioiI0Kefflrq/vLz85WTk+P0AgAA1lThoHPs2DG1adOmWHvr1q117NixKimqyPnz55WSkqLo6GhHm4eHh6Kjo7V161ZJUmZmps6ePStJys7O1ubNm9WpU6dStzlnzhwFBgY6Xi1btqzSmgEAQM1R4aDTtGlT7dmzp1j77t27q/xOpx9++EEFBQUKDg52ag8ODlZGRoYk6ejRo7rpppsUERGhm266SX/84x/VtWvXUrc5Y8YMZWdnO17Hjx+v0poBAEDNUeG7ru69915NnDhR9evX18033yxJ+uSTTzRp0iTdc889VV7g5fTs2VOpqanl7u/j4yMfH5/qKwgAANQYFQ46f/vb33TkyBENHDhQXl6/vL2wsFCjR4++ojk6ZQkKCpKnp2exycWZmZkKCQmp1LbtdrvsdrsKCgoqtR0AAFBzVfjSlbe3t5YtW6b9+/fr7bff1ooVK3To0CEtWrRI3t7eVVqct7e3oqKilJyc7GgrLCxUcnKyevfuXaltx8fHa9++fdq+fXtlywQAADVUhc/oFOnYsaM6duxY6QJyc3OVlpbmWE5PT1dqaqoaNWqkVq1aKSEhQbGxserevbt69uyp+fPnKy8vT3FxcZXeNwAAsLYKB52CggIlJSUpOTlZWVlZKiwsdFq/YcOGCm1vx44dGjBggGM5ISFBkhQbG6ukpCSNGjVKp06d0syZM5WRkaHIyEitXbu22ATliuLSFQAA1mczFXxewoQJE5SUlKShQ4eqWbNmstlsTutffPHFKi2wuuXk5CgwMFDZ2dkKCAio0m2HTV9drO3I3KFVug8AANxRef9+V/iMztKlS/Xuu+9qyJAhlSoQAACgul3RZOT27dtXRy0AAABVqsJBZ8qUKXrppZdq/RPC7Xa7OnfurB49eri6FAAAUE0qPEdn5MiR2rhxoxo1aqQuXbqoTp06TutXrFhRpQVWN+boAABQ+1TbHJ0GDRqU+gBOAACAmqTCQWfx4sXVUQcAAECVq/AcHUm6ePGi1q9fr4ULFzqeHH7ixAnl5uZWaXHVyVVzdMKmry7xkhYAAKh6FT6jc/ToUQ0ePFjHjh1Tfn6+fvOb36h+/fp69tlnlZ+frwULFlRHnVUuPj5e8fHxjmt8AADAeip8RmfSpEnq3r27fvrpJ9WtW9fRPnLkSKdnUgEAALhahc/ofPrpp/r888+LPcAzLCxM33//fZUVBgAAUFkVPqNTWFhY4vOhvvvuO9WvX79KigIAAKgKFQ46t956q+bPn+9Yttlsys3N1axZs2rVYyH4wkAAAKyvwl8Y+N1332nQoEEyxujgwYPq3r27Dh48qKCgIG3evFlNmzatrlqrxdX+wsAifHEgAABXrtq+MLBFixbavXu3li5dqj179ig3N1djx47V/fff7zQ5GQAAwNUqHHQkycvLSw888EBV1wIAAFClKhx03njjjTLXjx49+oqLAQAAqEoVDjqTJk1yWr5w4YLOnTsnb29v+fn5EXQAAECNUeG7rn766SenV25urg4cOKC+ffvqnXfeqY4aqwV3XQEAYH0VvuuqNDt27NADDzyg/fv3V8XmrhruugIAoPYp79/vK3qoZ0m8vLx04sSJqtocAABApVV4js7777/vtGyM0cmTJ/XKK6+oT58+VVYYAABAZVU46IwYMcJp2WazqUmTJrrlllv0wgsvVFVdAAAAlVbhoFNYWFgddbidovk7zNUBAKD6VNkcHQAAgJqmwmd0EhISyt03MTGxopsHAACoMhUOOrt27dKuXbt04cIFderUSZL07bffytPTU9dff72jn81mq7oqq4HdbpfdbldBQYGrSwEAANWkwkFn2LBhql+/vpYsWaKGDRtK+uVLBOPi4nTTTTdpypQpVV5kdYiPj1d8fLzjPnwAAGA9FZ6j88ILL2jOnDmOkCNJDRs21OzZs7nrCgAA1CgVDjo5OTk6depUsfZTp07p7NmzVVIUAABAVahw0Bk5cqTi4uK0YsUKfffdd/ruu+/0n//8R2PHjtUdd9xRHTUCAABckQrP0VmwYIGmTp2q++67TxcuXPhlI15eGjt2rObNm1flBQIAAFypCgcdPz8/vfrqq5o3b54OHTokSWrXrp3q1atX5cUBAABUxhV/YeDJkyd18uRJdejQQfXq1VMVPQQdAACgylQ46Pz4448aOHCgOnbsqCFDhujkyZOSpLFjx9aaW8sBAIB7qHDQ+dOf/qQ6dero2LFj8vPzc7SPGjVKa9eurdLiAAAAKqPCc3Q+/vhjffTRR2rRooVTe4cOHXT06NEqKwwAAKCyKnxGJy8vz+lMTpHTp0/Lx8enSoq6Gux2uzp37qwePXq4uhQAAFBNKhx0brrpJr3xxhuOZZvNpsLCQj333HMaMGBAlRZXneLj47Vv3z5t377d1aUAAIBqUuFLV88995wGDhyoHTt26Pz583rsscf09ddf6/Tp09qyZUt11AgAAHBFKnxGJzw8XN9++6369u2r4cOHKy8vT3fccYd27dqldu3aVUeNAAAAV6RCZ3QuXLigwYMHa8GCBXr88cerqya3EjZ9tSTpyNyhLq4EAADrqdAZnTp16mjPnj3VVQsAAECVqvClqwceeECvv/56ddQCAABQpSo8GfnixYtatGiR1q9fr6ioqGLPuEpMTKyy4gAAACqjXEFnz549Cg8Pl4eHh/bu3avrr79ekvTtt9869bPZbFVfIQAAwBUqV9C57rrrdPLkSTVt2lRHjx7V9u3b1bhx4+quDQAAoFLKNUenQYMGSk9PlyQdOXJEhYWF1VoUAABAVSjXGZ3f/va36tevn5o1ayabzabu3bvL09OzxL6HDx+u0gIBAACuVLmCzj/+8Q/dcccdSktL08SJEzVu3DjVr1+/umtzK0XfpyPxnToAAFSVct91NXjwYElSSkqKJk2aVGOCzvHjx/Xggw8qKytLXl5e+utf/6q77rrL1WUBAIAaoMK3ly9evLg66rhiXl5emj9/viIjI5WRkaGoqCgNGTKk2G3vAADA/VQ46NQ0zZo1U7NmzSRJISEhCgoK0unTpwk6AACg4t+MXNU2b96sYcOGKTQ0VDabTStXrizWx263KywsTL6+vurVq5e2bdtW4rZSUlJUUFCgli1bVnPVAACgNnB50MnLy1NERITsdnuJ65ctW6aEhATNmjVLO3fuVEREhAYNGqSsrCynfqdPn9bo0aP1j3/842qUDQAAagGXX7qKiYlRTExMqesTExM1btw4xcXFSZIWLFig1atXa9GiRZo+fbokKT8/XyNGjND06dN14403lrm//Px85efnO5ZzcnKqYBQAAKAmcvkZnbKcP39eKSkpio6OdrR5eHgoOjpaW7dulSQZYzRmzBjdcsstevDBBy+7zTlz5igwMNDx4jIXAADWVaODzg8//KCCggIFBwc7tQcHBysjI0OStGXLFi1btkwrV65UZGSkIiMj9dVXX5W6zRkzZig7O9vxOn78eLWOAQAAuI7LL11VVt++fSv0SAofHx/5+PhUY0UAAKCmqNFndIKCguTp6anMzEyn9szMTIWEhFRq23a7XZ07d1aPHj0qtR0AAFBz1eig4+3traioKCUnJzvaCgsLlZycrN69e1dq2/Hx8dq3b5+2b99e2TKrXNj01U6PhAAAAFfG5ZeucnNzlZaW5lhOT09XamqqGjVqpFatWikhIUGxsbHq3r27evbsqfnz5ysvL89xFxYAAEBpXB50duzYoQEDBjiWExISJEmxsbFKSkrSqFGjdOrUKc2cOVMZGRmKjIzU2rVri01Qrii73S673a6CgoJKbQcAANRcNmOMcXURrpSTk6PAwEBlZ2crICCgSrdd2ctPPMUcAICSlffvd42eo+PumKsDAEDlEHQAAIBluW3Q4fZyAACsz22DTk2+vRwAAFQNtw06AADA+gg6AADAstw26DBHBwAA63PboMMcHQAArM9tgw4AALA+gg4AALAsgg4AALAstw06TEYGAMD63DboMBkZAADrc9ugAwAArI+gAwAALIugAwAALIugAwAALMvL1QW4it1ul91uV0FBgatLKbew6asd/31k7lAXVgIAQO3gtmd0uOsKAADrc9ugAwAArI+gAwAALIugU0uFTV/tNGcHAAAUR9ABAACWRdABAACW5ba3l9cmXKICAODKuO0ZHZ5eDgCA9blt0OF7dAAAsD63DToAAMD6CDoAAMCyCDoAAMCyCDoAAMCyCDoAAMCyCDoAAMCyCDoAAMCyCDoAAMCyCDoAAMCyCDoAAMCy3Dbo8KwrAACsz22DDs+6AgDA+tw26FhF2PTVCpu+2tVlAABQIxF0AACAZRF0AACAZRF0AACAZRF0AACAZXm5ugBUjZImJB+ZO9QFlQAAUHNwRgcAAFgWQQcAAFgWQQcAAFgWQQcAAFgWQQcAAFiWJYLOyJEj1bBhQ915552uLgUAANQglgg6kyZN0htvvOHqMgAAQA1jiaDTv39/1a9f39VlAACAGsblQWfz5s0aNmyYQkNDZbPZtHLlymJ97Ha7wsLC5Ovrq169emnbtm1Xv1AAAFDruDzo5OXlKSIiQna7vcT1y5YtU0JCgmbNmqWdO3cqIiJCgwYNUlZW1lWuFAAA1DYufwRETEyMYmJiSl2fmJiocePGKS4uTpK0YMECrV69WosWLdL06dMrvL/8/Hzl5+c7lnNycipeNAAAqBVcfkanLOfPn1dKSoqio6MdbR4eHoqOjtbWrVuvaJtz5sxRYGCg49WyZcuqKrfGCZu+usRnYF2t9wMA4Go1Ouj88MMPKigoUHBwsFN7cHCwMjIyHMvR0dG66667tGbNGrVo0aLMEDRjxgxlZ2c7XsePH6+2+gEAgGu5/NJVVVi/fn25+/r4+MjHx0d2u112u10FBQXVWFnNUHRWhqeZAwDcTY0+oxMUFCRPT09lZmY6tWdmZiokJKRS246Pj9e+ffu0ffv2Sm0HAADUXDU66Hh7eysqKkrJycmOtsLCQiUnJ6t3794urAwAANQGLr90lZubq7S0NMdyenq6UlNT1ahRI7Vq1UoJCQmKjY1V9+7d1bNnT82fP195eXmOu7AAAABK4/Kgs2PHDg0YMMCxnJCQIEmKjY1VUlKSRo0apVOnTmnmzJnKyMhQZGSk1q5dW2yCckW50xydIr++g6povs6ld1UxjwcAYCUuDzr9+/eXMabMPhMmTNCECROqdL/x8fGKj49XTk6OAgMDq3TbAACgZqjRc3QAAAAqw+VndFzFHS9d/RpfBAgAcAdue0aH28sBALA+tw06AADA+gg6AADAsgg6AADAstw26NjtdnXu3Fk9evRwdSkAAKCauG3QYTIyAADW57ZBBwAAWB9BBwAAWBZBBwAAWJbbBh0mIwMAYH1uG3SYjAwAgPW5bdABAADWR9ABAACWRdABAACWRdABAACW5eXqAlzFbrfLbreroKDA1aXUKGHTV1eoz5G5Q6uzHAAAKsVtz+hw1xUAANbntkEHAABYH0EHAABYFkEHAABYFkEHAABYFkEHAABYFkEHAABYFt+jw/folFt5vmPHFfheHwBAadz2jA7fowMAgPW5bdABAADWR9ABAACWRdABAACWRdABAACWRdABAACWRdABAACWRdABAACWRdABAACWRdABAACWxSMgeATEZZX16IeidUWPXiipb1nrLu1TXXUBANyT257R4REQAABYn9sGHQAAYH0EHQAAYFkEHQAAYFkEHQAAYFkEHQAAYFkEHQAAYFkEHQAAYFkEHQAAYFkEHQAAYFkEHQAAYFkEHQAAYFmWCDoffPCBOnXqpA4dOuhf//qXq8sBAAA1RK1/evnFixeVkJCgjRs3KjAwUFFRURo5cqQaN27s6tIAAICL1fozOtu2bVOXLl3UvHlz+fv7KyYmRh9//LGrywIAADWAy4PO5s2bNWzYMIWGhspms2nlypXF+tjtdoWFhcnX11e9evXStm3bHOtOnDih5s2bO5abN2+u77///mqUDgAAajiXB528vDxFRETIbreXuH7ZsmVKSEjQrFmztHPnTkVERGjQoEHKysq6ypUCAIDaxuVBJyYmRrNnz9bIkSNLXJ+YmKhx48YpLi5OnTt31oIFC+Tn56dFixZJkkJDQ53O4Hz//fcKDQ0tdX/5+fnKyclxegEAAGuq0ZORz58/r5SUFM2YMcPR5uHhoejoaG3dulWS1LNnT+3du1fff/+9AgMD9eGHH+qvf/1rqducM2eOnnzyyWqv3d2ETV99Resu7XNk7tBS31O07krrKO++K9vn1y4dT0nvv/R95RmnO/v152WFz6o8P1tATVfS72VN+dl2+Rmdsvzwww8qKChQcHCwU3twcLAyMjIkSV5eXnrhhRc0YMAARUZGasqUKWXecTVjxgxlZ2c7XsePH6/WMQAAANep0Wd0yuv222/X7bffXq6+Pj4+8vHxqeaKAABATVCjz+gEBQXJ09NTmZmZTu2ZmZkKCQmp1Lbtdrs6d+6sHj16VGo7AACg5qrRQcfb21tRUVFKTk52tBUWFio5OVm9e/eu1Lbj4+O1b98+bd++vbJlAgCAGsrll65yc3OVlpbmWE5PT1dqaqoaNWqkVq1aKSEhQbGxserevbt69uyp+fPnKy8vT3FxcS6sGgAA1AYuDzo7duzQgAEDHMsJCQmSpNjYWCUlJWnUqFE6deqUZs6cqYyMDEVGRmrt2rXFJihXlN1ul91uV0FBQaW2AwAAai6XB53+/fvLGFNmnwkTJmjChAlVut/4+HjFx8crJydHgYGBVbptAABQM9ToOToAAACVQdABAACW5bZBh9vLAQCwPrcNOtxeDgCA9blt0AEAANZH0AEAAJbltkGHOToAAFif2wYd5ugAAGB9Lv/CQFcr+rLCnJycKt92Yf65Kt+m1RUdh5I+u0uPUXk+3/Ic16LtlNW3In1K2n9Z77/0fdXxs2glv/68rPBZlednC6jpSvq9rO6f7aLtXu5Lh23mcj0s7rvvvlPLli1dXQYAALgCx48fV4sWLUpd7/ZBp7CwUCdOnFD9+vVls9mqbLs5OTlq2bKljh8/roCAgCrbbm3grmNn3O41bsl9x+6u45bcd+w1cdzGGJ09e1ahoaHy8Ch9Jo7bX7ry8PAoMwlWVkBAQI35obja3HXsjNv9uOvY3XXckvuOvaaNuzzPqnTbycgAAMD6CDoAAMCyCDrVxMfHR7NmzZKPj4+rS7nq3HXsjNu9xi2579jdddyS+469No/b7ScjAwAA6+KMDgAAsCyCDgAAsCyCDgAAsCyCDgAAsCyCTjWx2+0KCwuTr6+vevXqpW3btrm6pHKbM2eOevToofr166tp06YaMWKEDhw44NSnf//+stlsTq/f//73Tn2OHTumoUOHys/PT02bNtWjjz6qixcvOvXZtGmTrr/+evn4+Kh9+/ZKSkqq7uGV6Yknnig2rmuuucax/ueff1Z8fLwaN24sf39//fa3v1VmZqbTNmrjuMPCwoqN22azKT4+XpJ1jvfmzZs1bNgwhYaGymazaeXKlU7rjTGaOXOmmjVrprp16yo6OloHDx506nP69Gndf//9CggIUIMGDTR27Fjl5uY69dmzZ49uuukm+fr6qmXLlnruueeK1bJ8+XJdc8018vX1VdeuXbVmzZoqH++vlTX2CxcuaNq0aeratavq1aun0NBQjR49WidOnHDaRkk/J3PnznXqU9PGfrljPmbMmGJjGjx4sFMfKx5zSSX+zttsNs2bN8/RpzYe82IMqtzSpUuNt7e3WbRokfn666/NuHHjTIMGDUxmZqarSyuXQYMGmcWLF5u9e/ea1NRUM2TIENOqVSuTm5vr6NOvXz8zbtw4c/LkSccrOzvbsf7ixYsmPDzcREdHm127dpk1a9aYoKAgM2PGDEefw4cPGz8/P5OQkGD27dtnXn75ZePp6WnWrl17Vcf7a7NmzTJdunRxGtepU6cc63//+9+bli1bmuTkZLNjxw5zww03mBtvvNGxvraOOysry2nM69atM5LMxo0bjTHWOd5r1qwxjz/+uFmxYoWRZP773/86rZ87d64JDAw0K1euNLt37za33367adOmjfnf//7n6DN48GATERFhvvjiC/Ppp5+a9u3bm3vvvdexPjs72wQHB5v777/f7N2717zzzjumbt26ZuHChY4+W7ZsMZ6enua5554z+/btM3/5y19MnTp1zFdffeWSsZ85c8ZER0ebZcuWmf3795utW7eanj17mqioKKdttG7d2jz11FNOPwe//nehJo79csc8NjbWDB482GlMp0+fdupjxWNujHEa88mTJ82iRYuMzWYzhw4dcvSpjcf8UgSdatCzZ08THx/vWC4oKDChoaFmzpw5LqzqymVlZRlJ5pNPPnG09evXz0yaNKnU96xZs8Z4eHiYjIwMR9trr71mAgICTH5+vjHGmMcee8x06dLF6X2jRo0ygwYNqtoBVMCsWbNMREREievOnDlj6tSpY5YvX+5o++abb4wks3XrVmNM7R33pSZNmmTatWtnCgsLjTHWPN6X/sNfWFhoQkJCzLx58xxtZ86cMT4+Puadd94xxhizb98+I8ls377d0efDDz80NpvNfP/998YYY1599VXTsGFDx7iNMWbatGmmU6dOjuW7777bDB061KmeXr16mfHjx1fpGEtT0h+9S23bts1IMkePHnW0tW7d2rz44oulvqemj720oDN8+PBS3+NOx3z48OHmlltucWqr7cfcGGO4dFXFzp8/r5SUFEVHRzvaPDw8FB0dra1bt7qwsiuXnZ0tSWrUqJFT+9tvv62goCCFh4drxowZOnfunGPd1q1b1bVrVwUHBzvaBg0apJycHH399deOPr/+nIr6uPpzOnjwoEJDQ9W2bVvdf//9OnbsmCQpJSVFFy5ccKr5mmuuUatWrRw11+ZxFzl//rzeeust/e53v3N60K1Vj3eR9PR0ZWRkONUYGBioXr16OR3fBg0aqHv37o4+0dHR8vDw0Jdffunoc/PNN8vb29vRZ9CgQTpw4IB++uknR5+a/FlIv/ze22w2NWjQwKl97ty5aty4sa677jrNmzfP6fJkbR37pk2b1LRpU3Xq1El/+MMf9OOPPzrWucsxz8zM1OrVqzV27Nhi62r7MXf7h3pWtR9++EEFBQVO/+BLUnBwsPbv3++iqq5cYWGhJk+erD59+ig8PNzRft9996l169YKDQ3Vnj17NG3aNB04cEArVqyQJGVkZJT4GRStK6tPTk6O/ve//6lu3brVObQS9erVS0lJSerUqZNOnjypJ598UjfddJP27t2rjIwMeXt7F/uHPzg4+LJjKlpXVh9XjvvXVq5cqTNnzmjMmDGONqse718rqrOkGn89hqZNmzqt9/LyUqNGjZz6tGnTptg2itY1bNiw1M+iaBuu9vPPP2vatGm69957nR7gOHHiRF1//fVq1KiRPv/8c82YMUMnT55UYmKipNo59sGDB+uOO+5QmzZtdOjQIf35z39WTEyMtm7dKk9PT7c55kuWLFH9+vV1xx13OLVb4ZgTdFCm+Ph47d27V5999plT+8MPP+z4765du6pZs2YaOHCgDh06pHbt2l3tMqtMTEyM47+7deumXr16qXXr1nr33Xdd/of4ann99dcVExOj0NBQR5tVjzeKu3Dhgu6++24ZY/Taa685rUtISHD8d7du3eTt7a3x48drzpw5tfLRAJJ0zz33OP67a9eu6tatm9q1a6dNmzZp4MCBLqzs6lq0aJHuv/9++fr6OrVb4Zhz6aqKBQUFydPTs9idOJmZmQoJCXFRVVdmwoQJ+uCDD7Rx40a1aNGizL69evWSJKWlpUmSQkJCSvwMitaV1ScgIKDGhIoGDRqoY8eOSktLU0hIiM6fP68zZ8449fn1sa3t4z569KjWr1+vhx56qMx+VjzeRXWW9bsbEhKirKwsp/UXL17U6dOnq+RnwNX/RhSFnKNHj2rdunVOZ3NK0qtXL128eFFHjhyRVLvHXqRt27YKCgpy+tm28jGXpE8//VQHDhy47O+9VDuPOUGninl7eysqKkrJycmOtsLCQiUnJ6t3794urKz8jDGaMGGC/vvf/2rDhg3FTkuWJDU1VZLUrFkzSVLv3r311VdfOf0DUfQPZ+fOnR19fv05FfWpSZ9Tbm6uDh06pGbNmikqKkp16tRxqvnAgQM6duyYo+baPu7FixeradOmGjp0aJn9rHi827Rpo5CQEKcac3Jy9OWXXzod3zNnziglJcXRZ8OGDSosLHSEv969e2vz5s26cOGCo8+6devUqVMnNWzY0NGnpn0WRSHn4MGDWr9+vRo3bnzZ96SmpsrDw8Nxaae2jv3XvvvuO/34449OP9tWPeZFXn/9dUVFRSkiIuKyfWvlMb8qU57dzNKlS42Pj49JSkoy+/btMw8//LBp0KCB0x0pNdkf/vAHExgYaDZt2uR0S+G5c+eMMcakpaWZp556yuzYscOkp6ebVatWmbZt25qbb77ZsY2i241vvfVWk5qaatauXWuaNGlS4u3Gjz76qPnmm2+M3W53+W3WU6ZMMZs2bTLp6elmy5YtJjo62gQFBZmsrCxjzC+3l7dq1cps2LDB7Nixw/Tu3dv07t3b8f7aOm5jfrk7sFWrVmbatGlO7VY63mfPnjW7du0yu3btMpJMYmKi2bVrl+POorlz55oGDRqYVatWmT179pjhw4eXeHv5ddddZ7788kvz2WefmQ4dOjjdanzmzBkTHBxsHnzwQbN3716zdOlS4+fnV+x2Wy8vL/P888+bb775xsyaNavab7cta+znz583t99+u2nRooVJTU11+r0vupvm888/Ny+++KJJTU01hw4dMm+99ZZp0qSJGT16dI0ee1njPnv2rJk6darZunWrSU9PN+vXrzfXX3+96dChg/n5558d27DiMS+SnZ1t/Pz8zGuvvVbs/bX1mF+KoFNNXn75ZdOqVSvj7e1tevbsab744gtXl1Rukkp8LV682BhjzLFjx8zNN99sGjVqZHx8fEz79u3No48+6vS9KsYYc+TIERMTE2Pq1q1rgoKCzJQpU8yFCxec+mzcuNFERkYab29v07ZtW8c+XGXUqFGmWbNmxtvb2zRv3tyMGjXKpKWlOdb/73//M4888ohp2LCh8fPzMyNHjjQnT5502kZtHLcxxnz00UdGkjlw4IBTu5WO98aNG0v82Y6NjTXG/HKL+V//+lcTHBxsfHx8zMCBA4t9Hj/++KO59957jb+/vwkICDBxcXHm7NmzTn12795t+vbta3x8fEzz5s3N3Llzi9Xy7rvvmo4dOxpvb2/TpUsXs3r16mobtzFljz09Pb3U3/ui71JKSUkxvXr1MoGBgcbX19dce+215plnnnEKBDVx7GWN+9y5c+bWW281TZo0MXXq1DGtW7c248aNK/Y/pVY85kUWLlxo6tata86cOVPs/bX1mF/KZowx1XrKCAAAwEWYowMAACyLoAMAACyLoAMAACyLoAMAACyLoAMAACyLoAMAACyLoAMAACyLoAOgyoSFhWn+/PmuLuOqSUpKKvY0++rwxBNPKDIystr3A1gRQQdAhZX2B3779u1OTzoHAFcj6ABwOH/+fKXe36RJE/n5+VVRNTVHZT8XAK5D0AHcWP/+/TVhwgRNnjxZQUFBGjRokCQpMTFRXbt2Vb169dSyZUs98sgjys3NlSRt2rRJcXFxys7Ols1mk81m0xNPPCGp+KUrm82mf/3rXxo5cqT8/PzUoUMHvf/++041vP/+++rQoYN8fX01YMAALVmyRDabTWfOnJEkHT16VMOGDVPDhg1Vr149denSRWvWrCl1TGFhYfrb3/6me++9V/Xq1VPz5s1lt9ud+pw5c0YPPfSQmjRpooCAAN1yyy3avXu3Y33RpaJ//etfatOmjXx9fcv8HFeuXOkYw6BBg3T8+HGn9a+99pratWsnb29vderUSW+++abT+mPHjmn48OHy9/dXQECA7r77bmVmZpa6v0OHDqlt27aaMGGCeIoPUDaCDuDmlixZIm9vb23ZskULFiyQJHl4eOjvf/+7vv76ay1ZskQbNmzQY489Jkm68cYbNX/+fAUEBOjkyZM6efKkpk6dWur2n3zySd19993as2ePhgwZovvvv1+nT5+WJKWnp+vOO+/UiBEjtHv3bo0fP16PP/640/vj4+OVn5+vzZs366uvvtKzzz4rf3//Msc0b948RUREaNeuXZo+fbomTZqkdevWOdbfddddysrK0ocffqiUlBRdf/31GjhwoKMuSUpLS9N//vMfrVixQqmpqaXu69y5c3r66af1xhtvaMuWLTpz5ozuuecex/r//ve/mjRpkqZMmaK9e/dq/PjxiouL08aNGyVJhYWFGj58uE6fPq1PPvlE69at0+HDhzVq1KgS97dnzx717dtX9913n1555RXZbLYyPwvA7V21x4cCqHH69etnrrvuusv2W758uWncuLFjefHixSYwMLBYv9atW5sXX3zRsSzJ/OUvf3Es5+bmGknmww8/NMYYM23aNBMeHu60jccff9xIMj/99JMxxpiuXbuaJ554otxjat26tRk8eLBT26hRo0xMTIwxxphPP/3UBAQEFHsCc7t27czChQuNMcbMmjXL1KlTx2RlZZW5r8WLFxtJ5osvvnC0ffPNN0aS+fLLL40xxtx4441m3LhxTu+76667zJAhQ4wxxnz88cfG09PTHDt2zLH+66+/NpLMtm3bHPVERESYLVu2mIYNG5rnn3++3J8H4O44owO4uaioqGJt69ev18CBA9W8eXPVr19fDz74oH788UedO3euwtvv1q2b47/r1aungIAAZWVlSZIOHDigHj16OPXv2bOn0/LEiRM1e/Zs9enTR7NmzdKePXsuu8/evXsXW/7mm28kSbt371Zubq4aN24sf39/xys9PV2HDh1yvKd169Zq0qTJZffl5eXlNIZrrrlGDRo0cOzvm2++UZ8+fZze06dPH6f1LVu2VMuWLR3rO3fu7LQN6ZfLW7/5zW80c+ZMTZky5bJ1AfgFQQdwc/Xq1XNaPnLkiG677TZ169ZN//nPf5SSkuKY43Ilk3Lr1KnjtGyz2VRYWFju9z/00EM6fPiwHnzwQX311Vfq3r27Xn755QrXUSQ3N1fNmjVTamqq0+vAgQN69NFHHf0u/VxcrUmTJurZs6feeecd5eTkuLocoNYg6ABwkpKSosLCQr3wwgu64YYb1LFjR504ccKpj7e3twoKCiq9r06dOmnHjh1Obdu3by/Wr2XLlvr973+vFStWaMqUKfrnP/9Z5na/+OKLYsvXXnutJOn6669XRkaGvLy81L59e6dXUFBQhcdw8eJFpzEcOHBAZ86ccezv2muv1ZYtW5zes2XLFnXu3Nmx/vjx404TmPft26czZ844+khS3bp19cEHHzgmPJ89e7bCtQLuiKADwEn79u114cIFvfzyyzp8+LDefPNNxyTlImFhYcrNzVVycrJ++OGHK7qkJUnjx4/X/v37NW3aNH377bd69913lZSUJEmOSbaTJ0/WRx99pPT0dO3cuVMbN250hIjSbNmyRc8995y+/fZb2e12LV++XJMmTZIkRUdHq3fv3hoxYoQ+/vhjHTlyRJ9//rkef/zxYqGrPOrUqaM//vGP+vLLL5WSkqIxY8bohhtucFyCe/TRR5WUlKTXXntNBw8eVGJiolasWOGYwB0dHa2uXbvq/vvv186dO7Vt2zaNHj1a/fr1U/fu3Z32Va9ePa1evVpeXl6KiYlx3AkHoHQEHQBOIiIilJiYqGeffVbh4eF6++23NWfOHKc+N954o37/+99r1KhRatKkiZ577rkr2lebNm303nvvacWKFerWrZtee+01x11XPj4+kqSCggLFx8fr2muv1eDBg9WxY0e9+uqrZW53ypQp2rFjh6677jrNnj1biYmJjlvnbTab1qxZo5tvvllxcXHq2LGj7rnnHh09elTBwcEVHoOfn5+mTZum++67T3369JG/v7+WLVvmWD9ixAi99NJLev7559WlSxctXLhQixcvVv/+/R31rFq1Sg0bNtTNN9+s6OhotW3b1mkbv+bv768PP/xQxhgNHTpUeXl5Fa4ZcCc2Y/gSBgA1x9NPP60FCxYU+y6a8goLC9PkyZM1efLkqi0MQK3k5eoCALi3V199VT169FDjxo21ZcsWzZs3TxMmTHB1WQAsgqADwKUOHjyo2bNn6/Tp02rVqpWmTJmiGTNmuLosABbBpSsAAGBZTEYGAACWRdABAACWRdABAACWRdABAACWRdABAACWRdABAACWRdABAACWRdABAACWRdABAACW9f8AaEU88htQrQsAAAAASUVORK5CYII=\n",
      "text/plain": [
       "<Figure size 640x480 with 1 Axes>"
      ]
     },
     "metadata": {
      "image/png": {
       "height": 455,
       "width": 570
      }
     },
     "output_type": "display_data"
    }
   ],
   "source": [
    "grouped_books = review_data.groupby(['Title']).count()\n",
    "print(f\"Number of rated books, {grouped_books.shape[0]}\")\n",
    "print(f\"Number of books that have been rated once, {grouped_books[grouped_books['Id']==1].shape[0]}\")\n",
    "print(f\"Book with most ratings is '{review_data[review_data['Title']==grouped_books[grouped_books['Id']==max(grouped_books['Id'])].index[0]]['Title'].reset_index(drop=True)[0]}' with {max(grouped_books['Id'])} ratings.\")\n",
    "fig, ax = plt.subplots()\n",
    "ax.hist(grouped_books['Id'], log=True, bins=200)\n",
    "ax.set_ylabel('frequency')\n",
    "ax.set_xlabel('ratings per book')\n",
    "ax.set_title('Distribution of book ratings')\n",
    "fig.show()"
   ]
  },
  {
   "cell_type": "markdown",
   "metadata": {
    "cell_id": "40c61daeb86e4a4cb50d4464fab0169a",
    "deepnote_cell_type": "markdown",
    "tags": []
   },
   "source": [
    "In total 205047 books have been rated, of which 33.92% have been rated once. The book with the most ratings is 'The Hobbit' with 18059 ratings."
   ]
  },
  {
   "cell_type": "code",
   "execution_count": 7,
   "metadata": {
    "cell_id": "15049f70807340c29265a26b894d013b",
    "deepnote_cell_type": "code",
    "deepnote_to_be_reexecuted": false,
    "execution_millis": 1088,
    "execution_start": 1667316276797,
    "source_hash": "b415e973",
    "tags": []
   },
   "outputs": [
    {
     "name": "stdout",
     "output_type": "stream",
     "text": [
      "                 Id                                              Title  \\\n",
      "86547    B000NWU3I4  The Hobbitt, or there and back again; illustra...   \n",
      "86548    B000NWU3I4  The Hobbitt, or there and back again; illustra...   \n",
      "86549    B000NWU3I4  The Hobbitt, or there and back again; illustra...   \n",
      "86550    B000NWU3I4  The Hobbitt, or there and back again; illustra...   \n",
      "86551    B000NWU3I4  The Hobbitt, or there and back again; illustra...   \n",
      "...             ...                                                ...   \n",
      "2978151  B000Q032UY                 The Hobbit or There and Back Again   \n",
      "2978152  B000Q032UY                 The Hobbit or There and Back Again   \n",
      "2978153  B000Q032UY                 The Hobbit or There and Back Again   \n",
      "2978154  B000Q032UY                 The Hobbit or There and Back Again   \n",
      "2978155  B000Q032UY                 The Hobbit or There and Back Again   \n",
      "\n",
      "                User_id  review/score  \\\n",
      "86547     AXX9R9P27CFFS           5.0   \n",
      "86548    A3VKLBHDXSJADC           5.0   \n",
      "86549    A3MZ7U03T9VQA4           5.0   \n",
      "86550    A2YSSBKYXXSM6W           5.0   \n",
      "86551    A317EU0ROFG09T           5.0   \n",
      "...                 ...           ...   \n",
      "2978151  A279AQACCA2L0K           4.0   \n",
      "2978152  A1BHMR3GPOODJR           4.0   \n",
      "2978153  A224BVW6YQS3VF           5.0   \n",
      "2978154   AXAOSQ8N0CM0M           5.0   \n",
      "2978155   A373U8EOPLTMJ           5.0   \n",
      "\n",
      "                                               review/text  \n",
      "86547    Beautiful book. Cover and art are incredible. ...  \n",
      "86548    This book is very reasonably priced. It will b...  \n",
      "86549    I bought the audio CD's about 5 years ago from...  \n",
      "86550    I read this book years ago, but never bought a...  \n",
      "86551    I bought this as a gift for someone and I am t...  \n",
      "...                                                    ...  \n",
      "2978151  The Hobbit is wonderful. It describes a lot. I...  \n",
      "2978152  I like the book, it is easy to read and makes ...  \n",
      "2978153  The Hobbit will always be a classic and this e...  \n",
      "2978154  It is easy to be swept away by the writings of...  \n",
      "2978155  It was a very adventurous book. I plan on read...  \n",
      "\n",
      "[32597 rows x 5 columns]\n"
     ]
    }
   ],
   "source": [
    "print(review_data[review_data['Title'].str.contains('Hobbit',na=False)])"
   ]
  },
  {
   "cell_type": "markdown",
   "metadata": {
    "cell_id": "9c6e94e37aa94620afc5d3c95ea15e1a",
    "deepnote_cell_type": "markdown",
    "tags": []
   },
   "source": [
    "#### Book data"
   ]
  },
  {
   "cell_type": "markdown",
   "metadata": {
    "cell_id": "3fd1d1666b414b18973dc41b03cacc2c",
    "deepnote_cell_type": "markdown",
    "tags": []
   },
   "source": [
    "The second dataset contains information about the books themselves. Including the book title and Id, the author a description of the book and a book category. Furthermore, the book dataset contains a column with the average user rating."
   ]
  },
  {
   "cell_type": "code",
   "execution_count": 8,
   "metadata": {
    "cell_id": "511cc70fbdc94ce99e1015aaefae5a3e",
    "deepnote_cell_type": "code",
    "deepnote_to_be_reexecuted": false,
    "execution_millis": 7815,
    "execution_start": 1667316277929,
    "source_hash": "3154b504",
    "tags": []
   },
   "outputs": [
    {
     "data": {
      "application/vnd.deepnote.dataframe.v3+json": {
       "column_count": 10,
       "columns": [
        {
         "dtype": "object",
         "name": "Title"
        },
        {
         "dtype": "object",
         "name": "description"
        },
        {
         "dtype": "object",
         "name": "authors"
        },
        {
         "dtype": "object",
         "name": "image"
        },
        {
         "dtype": "object",
         "name": "previewLink"
        },
        {
         "dtype": "object",
         "name": "publisher"
        },
        {
         "dtype": "object",
         "name": "publishedDate"
        },
        {
         "dtype": "object",
         "name": "infoLink"
        },
        {
         "dtype": "object",
         "name": "categories"
        },
        {
         "dtype": "float64",
         "name": "ratingsCount"
        },
        {
         "dtype": "int64",
         "name": "_deepnote_index_column"
        }
       ],
       "row_count": 212404,
       "rows": [
        {
         "Title": "Its Only Art If Its Well Hung!",
         "_deepnote_index_column": "0",
         "authors": "['Julie Strain']",
         "categories": "['Comics & Graphic Novels']",
         "description": "nan",
         "image": "http://books.google.com/books/content?id=DykPAAAACAAJ&printsec=frontcover&img=1&zoom=1&source=gbs_api",
         "infoLink": "http://books.google.nl/books?id=DykPAAAACAAJ&dq=Its+Only+Art+If+Its+Well+Hung!&hl=&source=gbs_api",
         "previewLink": "http://books.google.nl/books?id=DykPAAAACAAJ&dq=Its+Only+Art+If+Its+Well+Hung!&hl=&cd=1&source=gbs_api",
         "publishedDate": "1996",
         "publisher": "nan",
         "ratingsCount": "nan"
        },
        {
         "Title": "Dr. Seuss: American Icon",
         "_deepnote_index_column": "1",
         "authors": "['Philip Nel']",
         "categories": "['Biography & Autobiography']",
         "description": "Philip Nel takes a fascinating look into the key aspects of Seuss's career - his poetry, politics, art, marketing, and place in the popular imagination.\" \"Nel argues convincingly that Dr. Seuss is one of the most influential poets in America. His nonsense verse, like that of Lewis Carroll and Edward Lear, has changed language itself, giving us new words like \"nerd.\" And Seuss's famously loopy artistic style - what Nel terms an \"energetic cartoon surrealism\" - has been equally important, inspiring artists like filmmaker Tim Burton and illustrator Lane Smith. --from back cover",
         "image": "http://books.google.com/books/content?id=IjvHQsCn_pgC&printsec=frontcover&img=1&zoom=1&edge=curl&source=gbs_api",
         "infoLink": "http://books.google.nl/books?id=IjvHQsCn_pgC&dq=Dr.+Seuss:+American+Icon&hl=&source=gbs_api",
         "previewLink": "http://books.google.nl/books?id=IjvHQsCn_pgC&printsec=frontcover&dq=Dr.+Seuss:+American+Icon&hl=&cd=1&source=gbs_api",
         "publishedDate": "2005-01-01",
         "publisher": "A&C Black",
         "ratingsCount": "nan"
        },
        {
         "Title": "Wonderful Worship in Smaller Churches",
         "_deepnote_index_column": "2",
         "authors": "['David R. Ray']",
         "categories": "['Religion']",
         "description": "This resource includes twelve principles in understanding small church worship, fifteen practices for planning worship with fewer than 100 people, and suggestions for congregational study.",
         "image": "http://books.google.com/books/content?id=2tsDAAAACAAJ&printsec=frontcover&img=1&zoom=1&source=gbs_api",
         "infoLink": "http://books.google.nl/books?id=2tsDAAAACAAJ&dq=Wonderful+Worship+in+Smaller+Churches&hl=&source=gbs_api",
         "previewLink": "http://books.google.nl/books?id=2tsDAAAACAAJ&dq=Wonderful+Worship+in+Smaller+Churches&hl=&cd=1&source=gbs_api",
         "publishedDate": "2000",
         "publisher": "nan",
         "ratingsCount": "nan"
        },
        {
         "Title": "Whispers of the Wicked Saints",
         "_deepnote_index_column": "3",
         "authors": "['Veronica Haddon']",
         "categories": "['Fiction']",
         "description": "Julia Thomas finds her life spinning out of control after the death of her husband, Richard. Julia turns to her minister for comfort when she finds herself falling for him with a passion that is forbidden by the church. Heath Sparks is a man of God who is busy taking care of his quadriplegic wife who was seriously injured in a sever car accident. In an innocent effort to reach out to a lonely member of his church, Heath finds himself as the man and not the minister as Heath and Julia surrender their bodies to each other and face the wrath of God. Julia finds herself in over her head as she faces a deadly disease, the loss of her home and whispers about her wicked affair. Julia leaves the states offering her body as a living sacrifice in hopes of finding a cure while her heart remains thousands of miles away hoping to one day reunite with the man who holds it hostage.Whispers of the Wicked Saints is a once in a lifetime romance that is breath taking, defying all the rules of romance an…",
         "image": "http://books.google.com/books/content?id=aRSIgJlq6JwC&printsec=frontcover&img=1&zoom=1&source=gbs_api",
         "infoLink": "http://books.google.nl/books?id=aRSIgJlq6JwC&dq=Whispers+of+the+Wicked+Saints&hl=&source=gbs_api",
         "previewLink": "http://books.google.nl/books?id=aRSIgJlq6JwC&dq=Whispers+of+the+Wicked+Saints&hl=&cd=1&source=gbs_api",
         "publishedDate": "2005-02",
         "publisher": "iUniverse",
         "ratingsCount": "nan"
        },
        {
         "Title": "Nation Dance: Religion, Identity and Cultural Difference in the Caribbean",
         "_deepnote_index_column": "4",
         "authors": "['Edward Long']",
         "categories": "nan",
         "description": "nan",
         "image": "nan",
         "infoLink": "http://books.google.nl/books?id=399SPgAACAAJ&dq=Nation+Dance:+Religion,+Identity+and+Cultural+Difference+in+the+Caribbean&hl=&source=gbs_api",
         "previewLink": "http://books.google.nl/books?id=399SPgAACAAJ&dq=Nation+Dance:+Religion,+Identity+and+Cultural+Difference+in+the+Caribbean&hl=&cd=1&source=gbs_api",
         "publishedDate": "2003-03-01",
         "publisher": "nan",
         "ratingsCount": "nan"
        },
        {
         "Title": "The Church of Christ: A Biblical Ecclesiology for Today",
         "_deepnote_index_column": "5",
         "authors": "['Everett Ferguson']",
         "categories": "['Religion']",
         "description": "In The Church of Christ: A Biblical Ecclesiology for Today, respected biblical scholar Everett Ferguson presents a genuine biblical theology of the church. By systematically examining the New Testament's teaching on the existence, meaning, and purpose of the church, providing responsible coverage of the traditional topics in ecclesiology, and carefully grounding ecclesiology in the person and work of Christ, Ferguson unveils a comprehensive model of the church that is both biblically centered and relevant to a world on the verge of the twenty-first century.",
         "image": "http://books.google.com/books/content?id=kVqRaiPlx88C&printsec=frontcover&img=1&zoom=1&edge=curl&source=gbs_api",
         "infoLink": "http://books.google.nl/books?id=kVqRaiPlx88C&dq=The+Church+of+Christ:+A+Biblical+Ecclesiology+for+Today&hl=&source=gbs_api",
         "previewLink": "http://books.google.nl/books?id=kVqRaiPlx88C&printsec=frontcover&dq=The+Church+of+Christ:+A+Biblical+Ecclesiology+for+Today&hl=&cd=1&source=gbs_api",
         "publishedDate": "1996",
         "publisher": "Wm. B. Eerdmans Publishing",
         "ratingsCount": "5.0"
        },
        {
         "Title": "The Overbury affair (Avon)",
         "_deepnote_index_column": "6",
         "authors": "['Miriam Allen De Ford']",
         "categories": "nan",
         "description": "nan",
         "image": "nan",
         "infoLink": "http://books.google.nl/books?id=mHLTngEACAAJ&dq=The+Overbury+affair+(Avon)&hl=&source=gbs_api",
         "previewLink": "http://books.google.nl/books?id=mHLTngEACAAJ&dq=The+Overbury+affair+(Avon)&hl=&cd=1&source=gbs_api",
         "publishedDate": "1960",
         "publisher": "nan",
         "ratingsCount": "nan"
        },
        {
         "Title": "A Walk in the Woods: a Play in Two Acts",
         "_deepnote_index_column": "7",
         "authors": "['Lee Blessing']",
         "categories": "nan",
         "description": "nan",
         "image": "nan",
         "infoLink": "http://books.google.nl/books?id=6HDOwAEACAAJ&dq=A+Walk+in+the+Woods:+a+Play+in+Two+Acts&hl=&source=gbs_api",
         "previewLink": "http://books.google.nl/books?id=6HDOwAEACAAJ&dq=A+Walk+in+the+Woods:+a+Play+in+Two+Acts&hl=&cd=1&source=gbs_api",
         "publishedDate": "1988",
         "publisher": "nan",
         "ratingsCount": "3.0"
        },
        {
         "Title": "Saint Hyacinth of Poland",
         "_deepnote_index_column": "8",
         "authors": "['Mary Fabyan Windeatt']",
         "categories": "['Biography & Autobiography']",
         "description": "The story for children 10 and up of St. Hyacinth, the Dominican who planted the Faith in Poland, Lithuania and Russia and worked many miracles. He went to Rome, where he met St. Dominic, and was one of the first to receive at his hands the habit of the newly established Order of Friars Preachers. After his novitiate he made his religious profession, and was made superior of the little band of missionaries sent to Poland to preach. Impr. 189 pgs 16 Illus, PB",
         "image": "http://books.google.com/books/content?id=lmLqAAAACAAJ&printsec=frontcover&img=1&zoom=1&source=gbs_api",
         "infoLink": "http://books.google.nl/books?id=lmLqAAAACAAJ&dq=Saint+Hyacinth+of+Poland&hl=&source=gbs_api",
         "previewLink": "http://books.google.nl/books?id=lmLqAAAACAAJ&dq=Saint+Hyacinth+of+Poland&hl=&cd=1&source=gbs_api",
         "publishedDate": "2009-01-01",
         "publisher": "Tan Books & Pub",
         "ratingsCount": "nan"
        },
        {
         "Title": "Rising Sons and Daughters: Life Among Japan's New Young",
         "_deepnote_index_column": "9",
         "authors": "['Steven Wardell']",
         "categories": "['Social Science']",
         "description": "Wardell recalls his experience as a foreign student in Japan, providing a comparison between America and Japan",
         "image": "nan",
         "infoLink": "http://books.google.nl/books?id=rbLZugEACAAJ&dq=Rising+Sons+and+Daughters:+Life+Among+Japan%27s+New+Young&hl=&source=gbs_api",
         "previewLink": "http://books.google.nl/books?id=rbLZugEACAAJ&dq=Rising+Sons+and+Daughters:+Life+Among+Japan%27s+New+Young&hl=&cd=1&source=gbs_api",
         "publishedDate": "1995",
         "publisher": "Plympton PressIntl",
         "ratingsCount": "nan"
        }
       ]
      },
      "text/html": [
       "<div>\n",
       "<style scoped>\n",
       "    .dataframe tbody tr th:only-of-type {\n",
       "        vertical-align: middle;\n",
       "    }\n",
       "\n",
       "    .dataframe tbody tr th {\n",
       "        vertical-align: top;\n",
       "    }\n",
       "\n",
       "    .dataframe thead th {\n",
       "        text-align: right;\n",
       "    }\n",
       "</style>\n",
       "<table border=\"1\" class=\"dataframe\">\n",
       "  <thead>\n",
       "    <tr style=\"text-align: right;\">\n",
       "      <th></th>\n",
       "      <th>Title</th>\n",
       "      <th>description</th>\n",
       "      <th>authors</th>\n",
       "      <th>image</th>\n",
       "      <th>previewLink</th>\n",
       "      <th>publisher</th>\n",
       "      <th>publishedDate</th>\n",
       "      <th>infoLink</th>\n",
       "      <th>categories</th>\n",
       "      <th>ratingsCount</th>\n",
       "    </tr>\n",
       "  </thead>\n",
       "  <tbody>\n",
       "    <tr>\n",
       "      <th>0</th>\n",
       "      <td>Its Only Art If Its Well Hung!</td>\n",
       "      <td>NaN</td>\n",
       "      <td>['Julie Strain']</td>\n",
       "      <td>http://books.google.com/books/content?id=DykPA...</td>\n",
       "      <td>http://books.google.nl/books?id=DykPAAAACAAJ&amp;d...</td>\n",
       "      <td>NaN</td>\n",
       "      <td>1996</td>\n",
       "      <td>http://books.google.nl/books?id=DykPAAAACAAJ&amp;d...</td>\n",
       "      <td>['Comics &amp; Graphic Novels']</td>\n",
       "      <td>NaN</td>\n",
       "    </tr>\n",
       "    <tr>\n",
       "      <th>1</th>\n",
       "      <td>Dr. Seuss: American Icon</td>\n",
       "      <td>Philip Nel takes a fascinating look into the k...</td>\n",
       "      <td>['Philip Nel']</td>\n",
       "      <td>http://books.google.com/books/content?id=IjvHQ...</td>\n",
       "      <td>http://books.google.nl/books?id=IjvHQsCn_pgC&amp;p...</td>\n",
       "      <td>A&amp;C Black</td>\n",
       "      <td>2005-01-01</td>\n",
       "      <td>http://books.google.nl/books?id=IjvHQsCn_pgC&amp;d...</td>\n",
       "      <td>['Biography &amp; Autobiography']</td>\n",
       "      <td>NaN</td>\n",
       "    </tr>\n",
       "    <tr>\n",
       "      <th>2</th>\n",
       "      <td>Wonderful Worship in Smaller Churches</td>\n",
       "      <td>This resource includes twelve principles in un...</td>\n",
       "      <td>['David R. Ray']</td>\n",
       "      <td>http://books.google.com/books/content?id=2tsDA...</td>\n",
       "      <td>http://books.google.nl/books?id=2tsDAAAACAAJ&amp;d...</td>\n",
       "      <td>NaN</td>\n",
       "      <td>2000</td>\n",
       "      <td>http://books.google.nl/books?id=2tsDAAAACAAJ&amp;d...</td>\n",
       "      <td>['Religion']</td>\n",
       "      <td>NaN</td>\n",
       "    </tr>\n",
       "    <tr>\n",
       "      <th>3</th>\n",
       "      <td>Whispers of the Wicked Saints</td>\n",
       "      <td>Julia Thomas finds her life spinning out of co...</td>\n",
       "      <td>['Veronica Haddon']</td>\n",
       "      <td>http://books.google.com/books/content?id=aRSIg...</td>\n",
       "      <td>http://books.google.nl/books?id=aRSIgJlq6JwC&amp;d...</td>\n",
       "      <td>iUniverse</td>\n",
       "      <td>2005-02</td>\n",
       "      <td>http://books.google.nl/books?id=aRSIgJlq6JwC&amp;d...</td>\n",
       "      <td>['Fiction']</td>\n",
       "      <td>NaN</td>\n",
       "    </tr>\n",
       "    <tr>\n",
       "      <th>4</th>\n",
       "      <td>Nation Dance: Religion, Identity and Cultural ...</td>\n",
       "      <td>NaN</td>\n",
       "      <td>['Edward Long']</td>\n",
       "      <td>NaN</td>\n",
       "      <td>http://books.google.nl/books?id=399SPgAACAAJ&amp;d...</td>\n",
       "      <td>NaN</td>\n",
       "      <td>2003-03-01</td>\n",
       "      <td>http://books.google.nl/books?id=399SPgAACAAJ&amp;d...</td>\n",
       "      <td>NaN</td>\n",
       "      <td>NaN</td>\n",
       "    </tr>\n",
       "    <tr>\n",
       "      <th>...</th>\n",
       "      <td>...</td>\n",
       "      <td>...</td>\n",
       "      <td>...</td>\n",
       "      <td>...</td>\n",
       "      <td>...</td>\n",
       "      <td>...</td>\n",
       "      <td>...</td>\n",
       "      <td>...</td>\n",
       "      <td>...</td>\n",
       "      <td>...</td>\n",
       "    </tr>\n",
       "    <tr>\n",
       "      <th>212399</th>\n",
       "      <td>The Orphan Of Ellis Island (Time Travel Advent...</td>\n",
       "      <td>During a school trip to Ellis Island, Dominick...</td>\n",
       "      <td>['Elvira Woodruff']</td>\n",
       "      <td>http://books.google.com/books/content?id=J7M-N...</td>\n",
       "      <td>http://books.google.com/books?id=J7M-NwAACAAJ&amp;...</td>\n",
       "      <td>Scholastic Paperbacks</td>\n",
       "      <td>2000-06-01</td>\n",
       "      <td>http://books.google.com/books?id=J7M-NwAACAAJ&amp;...</td>\n",
       "      <td>['Juvenile Fiction']</td>\n",
       "      <td>2.0</td>\n",
       "    </tr>\n",
       "    <tr>\n",
       "      <th>212400</th>\n",
       "      <td>Red Boots for Christmas</td>\n",
       "      <td>Everyone in the village of Friedensdorf is hap...</td>\n",
       "      <td>NaN</td>\n",
       "      <td>http://books.google.com/books/content?id=3n8k6...</td>\n",
       "      <td>http://books.google.com/books?id=3n8k6wl4BbYC&amp;...</td>\n",
       "      <td>NaN</td>\n",
       "      <td>1995</td>\n",
       "      <td>http://books.google.com/books?id=3n8k6wl4BbYC&amp;...</td>\n",
       "      <td>['Juvenile Fiction']</td>\n",
       "      <td>NaN</td>\n",
       "    </tr>\n",
       "    <tr>\n",
       "      <th>212401</th>\n",
       "      <td>Mamaw</td>\n",
       "      <td>Give your Mamaw a useful, beautiful and though...</td>\n",
       "      <td>['Wild Wild Cabbage']</td>\n",
       "      <td>NaN</td>\n",
       "      <td>http://books.google.com/books?id=zytVswEACAAJ&amp;...</td>\n",
       "      <td>NaN</td>\n",
       "      <td>2018-01-17</td>\n",
       "      <td>http://books.google.com/books?id=zytVswEACAAJ&amp;...</td>\n",
       "      <td>NaN</td>\n",
       "      <td>NaN</td>\n",
       "    </tr>\n",
       "    <tr>\n",
       "      <th>212402</th>\n",
       "      <td>The Autograph Man</td>\n",
       "      <td>Alex-Li Tandem sells autographs. His business ...</td>\n",
       "      <td>['Zadie Smith']</td>\n",
       "      <td>http://books.google.com/books/content?id=JM6YV...</td>\n",
       "      <td>http://books.google.com/books?id=JM6YVPx_clMC&amp;...</td>\n",
       "      <td>Vintage</td>\n",
       "      <td>2003-08-12</td>\n",
       "      <td>https://play.google.com/store/books/details?id...</td>\n",
       "      <td>['Fiction']</td>\n",
       "      <td>19.0</td>\n",
       "    </tr>\n",
       "    <tr>\n",
       "      <th>212403</th>\n",
       "      <td>Student's Solutions Manual for Johnson/Mowry's...</td>\n",
       "      <td>Discover the many ways mathematics is relevant...</td>\n",
       "      <td>['David B. Johnson', 'Thomas A. Mowry']</td>\n",
       "      <td>http://books.google.com/books/content?id=dehfP...</td>\n",
       "      <td>http://books.google.com/books?id=dehfPgAACAAJ&amp;...</td>\n",
       "      <td>Brooks/Cole Publishing Company</td>\n",
       "      <td>1998-01-01</td>\n",
       "      <td>http://books.google.com/books?id=dehfPgAACAAJ&amp;...</td>\n",
       "      <td>NaN</td>\n",
       "      <td>NaN</td>\n",
       "    </tr>\n",
       "  </tbody>\n",
       "</table>\n",
       "<p>212404 rows × 10 columns</p>\n",
       "</div>"
      ],
      "text/plain": [
       "                                                    Title  \\\n",
       "0                          Its Only Art If Its Well Hung!   \n",
       "1                                Dr. Seuss: American Icon   \n",
       "2                   Wonderful Worship in Smaller Churches   \n",
       "3                           Whispers of the Wicked Saints   \n",
       "4       Nation Dance: Religion, Identity and Cultural ...   \n",
       "...                                                   ...   \n",
       "212399  The Orphan Of Ellis Island (Time Travel Advent...   \n",
       "212400                            Red Boots for Christmas   \n",
       "212401                                              Mamaw   \n",
       "212402                                  The Autograph Man   \n",
       "212403  Student's Solutions Manual for Johnson/Mowry's...   \n",
       "\n",
       "                                              description  \\\n",
       "0                                                     NaN   \n",
       "1       Philip Nel takes a fascinating look into the k...   \n",
       "2       This resource includes twelve principles in un...   \n",
       "3       Julia Thomas finds her life spinning out of co...   \n",
       "4                                                     NaN   \n",
       "...                                                   ...   \n",
       "212399  During a school trip to Ellis Island, Dominick...   \n",
       "212400  Everyone in the village of Friedensdorf is hap...   \n",
       "212401  Give your Mamaw a useful, beautiful and though...   \n",
       "212402  Alex-Li Tandem sells autographs. His business ...   \n",
       "212403  Discover the many ways mathematics is relevant...   \n",
       "\n",
       "                                        authors  \\\n",
       "0                              ['Julie Strain']   \n",
       "1                                ['Philip Nel']   \n",
       "2                              ['David R. Ray']   \n",
       "3                           ['Veronica Haddon']   \n",
       "4                               ['Edward Long']   \n",
       "...                                         ...   \n",
       "212399                      ['Elvira Woodruff']   \n",
       "212400                                      NaN   \n",
       "212401                    ['Wild Wild Cabbage']   \n",
       "212402                          ['Zadie Smith']   \n",
       "212403  ['David B. Johnson', 'Thomas A. Mowry']   \n",
       "\n",
       "                                                    image  \\\n",
       "0       http://books.google.com/books/content?id=DykPA...   \n",
       "1       http://books.google.com/books/content?id=IjvHQ...   \n",
       "2       http://books.google.com/books/content?id=2tsDA...   \n",
       "3       http://books.google.com/books/content?id=aRSIg...   \n",
       "4                                                     NaN   \n",
       "...                                                   ...   \n",
       "212399  http://books.google.com/books/content?id=J7M-N...   \n",
       "212400  http://books.google.com/books/content?id=3n8k6...   \n",
       "212401                                                NaN   \n",
       "212402  http://books.google.com/books/content?id=JM6YV...   \n",
       "212403  http://books.google.com/books/content?id=dehfP...   \n",
       "\n",
       "                                              previewLink  \\\n",
       "0       http://books.google.nl/books?id=DykPAAAACAAJ&d...   \n",
       "1       http://books.google.nl/books?id=IjvHQsCn_pgC&p...   \n",
       "2       http://books.google.nl/books?id=2tsDAAAACAAJ&d...   \n",
       "3       http://books.google.nl/books?id=aRSIgJlq6JwC&d...   \n",
       "4       http://books.google.nl/books?id=399SPgAACAAJ&d...   \n",
       "...                                                   ...   \n",
       "212399  http://books.google.com/books?id=J7M-NwAACAAJ&...   \n",
       "212400  http://books.google.com/books?id=3n8k6wl4BbYC&...   \n",
       "212401  http://books.google.com/books?id=zytVswEACAAJ&...   \n",
       "212402  http://books.google.com/books?id=JM6YVPx_clMC&...   \n",
       "212403  http://books.google.com/books?id=dehfPgAACAAJ&...   \n",
       "\n",
       "                             publisher publishedDate  \\\n",
       "0                                  NaN          1996   \n",
       "1                            A&C Black    2005-01-01   \n",
       "2                                  NaN          2000   \n",
       "3                            iUniverse       2005-02   \n",
       "4                                  NaN    2003-03-01   \n",
       "...                                ...           ...   \n",
       "212399           Scholastic Paperbacks    2000-06-01   \n",
       "212400                             NaN          1995   \n",
       "212401                             NaN    2018-01-17   \n",
       "212402                         Vintage    2003-08-12   \n",
       "212403  Brooks/Cole Publishing Company    1998-01-01   \n",
       "\n",
       "                                                 infoLink  \\\n",
       "0       http://books.google.nl/books?id=DykPAAAACAAJ&d...   \n",
       "1       http://books.google.nl/books?id=IjvHQsCn_pgC&d...   \n",
       "2       http://books.google.nl/books?id=2tsDAAAACAAJ&d...   \n",
       "3       http://books.google.nl/books?id=aRSIgJlq6JwC&d...   \n",
       "4       http://books.google.nl/books?id=399SPgAACAAJ&d...   \n",
       "...                                                   ...   \n",
       "212399  http://books.google.com/books?id=J7M-NwAACAAJ&...   \n",
       "212400  http://books.google.com/books?id=3n8k6wl4BbYC&...   \n",
       "212401  http://books.google.com/books?id=zytVswEACAAJ&...   \n",
       "212402  https://play.google.com/store/books/details?id...   \n",
       "212403  http://books.google.com/books?id=dehfPgAACAAJ&...   \n",
       "\n",
       "                           categories  ratingsCount  \n",
       "0         ['Comics & Graphic Novels']           NaN  \n",
       "1       ['Biography & Autobiography']           NaN  \n",
       "2                        ['Religion']           NaN  \n",
       "3                         ['Fiction']           NaN  \n",
       "4                                 NaN           NaN  \n",
       "...                               ...           ...  \n",
       "212399           ['Juvenile Fiction']           2.0  \n",
       "212400           ['Juvenile Fiction']           NaN  \n",
       "212401                            NaN           NaN  \n",
       "212402                    ['Fiction']          19.0  \n",
       "212403                            NaN           NaN  \n",
       "\n",
       "[212404 rows x 10 columns]"
      ]
     },
     "execution_count": 8,
     "metadata": {},
     "output_type": "execute_result"
    }
   ],
   "source": [
    "books_data = pd.read_csv(\"/datasets/computational-tools-for-dataanalysis-data/books_data.csv\")\n",
    "books_data.head"
   ]
  },
  {
   "cell_type": "code",
   "execution_count": 9,
   "metadata": {
    "cell_id": "fc68483d7d0c45f7a29f2cc12b1a034f",
    "deepnote_cell_type": "code",
    "deepnote_to_be_reexecuted": false,
    "execution_millis": 5,
    "execution_start": 1667316285756,
    "source_hash": "1ca3d0ff",
    "tags": []
   },
   "outputs": [
    {
     "name": "stdout",
     "output_type": "stream",
     "text": [
      "(212404, 10)\n",
      "Index(['Title', 'description', 'authors', 'image', 'previewLink', 'publisher',\n",
      "       'publishedDate', 'infoLink', 'categories', 'ratingsCount'],\n",
      "      dtype='object')\n"
     ]
    }
   ],
   "source": [
    "#shape of the book dataset\n",
    "print(books_data.shape)\n",
    "#columns available in the review dataset\n",
    "print(books_data.columns)\n",
    "#remove unnecessary columns from dataset\n",
    "keep_columns = ['Title', 'description', 'authors', 'categories', 'ratingsCount']\n",
    "books_data = books_data[keep_columns]"
   ]
  },
  {
   "cell_type": "code",
   "execution_count": null,
   "metadata": {
    "cell_id": "b83ca25bae0e4c1f9930ff3db9ac1ccd",
    "deepnote_cell_type": "code",
    "deepnote_to_be_reexecuted": false,
    "execution_millis": 384,
    "execution_start": 1667316285809,
    "source_hash": "c8f5456c",
    "tags": []
   },
   "outputs": [
    {
     "name": "stdout",
     "output_type": "stream",
     "text": [
      "Number of books that have a ratings count in this dataset, 49752\n",
      "                                                    Title  \\\n",
      "5970    The Hobbitt, or there and back again; illustra...   \n",
      "29057                                          The Hobbit   \n",
      "64705   The Lord of the Rings and The Hobbit (Cliffs N...   \n",
      "86754   Hobbits, Elves and Wizards: The Wonders and Wo...   \n",
      "89208   Hobbit and The Lord of the Rings, The (Barron'...   \n",
      "89771                The Hobbit; Or, There and Back Again   \n",
      "130707                 The Hobbit or There and Back Again   \n",
      "159000                    The Hobbit There and Back Again   \n",
      "176456                              Poems from The Hobbit   \n",
      "188737                              Poems from the Hobbit   \n",
      "189955  The Individuated Hobbit: Jung, Tolkien and the...   \n",
      "\n",
      "                                              description  \\\n",
      "5970    Bilbo Baggins, a respectable, well-to-do hobbi...   \n",
      "29057   Celebrating 75 years of one of the world's mos...   \n",
      "64705   Join the journey through Middle-earth in the s...   \n",
      "86754                                                 NaN   \n",
      "89208                                                 NaN   \n",
      "89771                                                 NaN   \n",
      "130707  Celebrating 75 years of one of the world's mos...   \n",
      "159000  The adventures of the well-to-do hobbit, Bilbo...   \n",
      "176456                                                NaN   \n",
      "188737  A collection of J.R.R. Tolkien's Hobbit poems ...   \n",
      "189955  Shows that the Lord of the Rings can be read i...   \n",
      "\n",
      "                              authors  \\\n",
      "5970             ['J. R. R. Tolkien']   \n",
      "29057            ['J. R. R. Tolkien']   \n",
      "64705                ['Gene B Hardy']   \n",
      "86754                             NaN   \n",
      "89208                             NaN   \n",
      "89771                             NaN   \n",
      "130707           ['J. R. R. Tolkien']   \n",
      "159000  ['John Ronald Reuel Tolkien']   \n",
      "176456                            NaN   \n",
      "188737              ['J R R Tolkien']   \n",
      "189955         [\"Timothy R. O'Neill\"]   \n",
      "\n",
      "                                       categories  ratingsCount  \n",
      "5970                                  ['Fiction']           NaN  \n",
      "29057                        ['Juvenile Fiction']        2580.0  \n",
      "64705                      ['Literary Criticism']           NaN  \n",
      "86754                                         NaN           NaN  \n",
      "89208                                         NaN           NaN  \n",
      "89771                                         NaN           NaN  \n",
      "130707                       ['Juvenile Fiction']        2580.0  \n",
      "159000                      ['Adventure stories']         139.0  \n",
      "176456                                        NaN           NaN  \n",
      "188737                ['Fantasy poetry, English']           NaN  \n",
      "189955  ['Archetype (Psychology) in literature.']           NaN  \n"
     ]
    },
    {
     "data": {
      "application/vnd.deepnote.dataframe.v3+json": {
       "column_count": 4,
       "columns": [
        {
         "dtype": "int64",
         "name": "Title",
         "stats": {
          "histogram": [
           {
            "bin_end": 28.1,
            "bin_start": 5,
            "count": 3008
           },
           {
            "bin_end": 51.2,
            "bin_start": 28.1,
            "count": 64
           },
           {
            "bin_end": 74.30000000000001,
            "bin_start": 51.2,
            "count": 20
           },
           {
            "bin_end": 97.4,
            "bin_start": 74.30000000000001,
            "count": 4
           },
           {
            "bin_end": 120.5,
            "bin_start": 97.4,
            "count": 0
           },
           {
            "bin_end": 143.60000000000002,
            "bin_start": 120.5,
            "count": 3
           },
           {
            "bin_end": 166.70000000000002,
            "bin_start": 143.60000000000002,
            "count": 0
           },
           {
            "bin_end": 189.8,
            "bin_start": 166.70000000000002,
            "count": 1
           },
           {
            "bin_end": 212.9,
            "bin_start": 189.8,
            "count": 1
           },
           {
            "bin_end": 236,
            "bin_start": 212.9,
            "count": 1
           }
          ],
          "max": "236",
          "min": "5",
          "nan_count": 0,
          "unique_count": 63
         }
        },
        {
         "dtype": "int64",
         "name": "description",
         "stats": {
          "histogram": [
           {
            "bin_end": 12.6,
            "bin_start": 0,
            "count": 2751
           },
           {
            "bin_end": 25.2,
            "bin_start": 12.6,
            "count": 271
           },
           {
            "bin_end": 37.8,
            "bin_start": 25.2,
            "count": 47
           },
           {
            "bin_end": 50.4,
            "bin_start": 37.8,
            "count": 21
           },
           {
            "bin_end": 63,
            "bin_start": 50.4,
            "count": 6
           },
           {
            "bin_end": 75.6,
            "bin_start": 63,
            "count": 3
           },
           {
            "bin_end": 88.2,
            "bin_start": 75.6,
            "count": 0
           },
           {
            "bin_end": 100.8,
            "bin_start": 88.2,
            "count": 0
           },
           {
            "bin_end": 113.39999999999999,
            "bin_start": 100.8,
            "count": 0
           },
           {
            "bin_end": 126,
            "bin_start": 113.39999999999999,
            "count": 3
           }
          ],
          "max": "126",
          "min": "0",
          "nan_count": 0,
          "unique_count": 57
         }
        },
        {
         "dtype": "int64",
         "name": "categories",
         "stats": {
          "histogram": [
           {
            "bin_end": 23.6,
            "bin_start": 0,
            "count": 2987
           },
           {
            "bin_end": 47.2,
            "bin_start": 23.6,
            "count": 92
           },
           {
            "bin_end": 70.80000000000001,
            "bin_start": 47.2,
            "count": 17
           },
           {
            "bin_end": 94.4,
            "bin_start": 70.80000000000001,
            "count": 1
           },
           {
            "bin_end": 118,
            "bin_start": 94.4,
            "count": 1
           },
           {
            "bin_end": 141.60000000000002,
            "bin_start": 118,
            "count": 2
           },
           {
            "bin_end": 165.20000000000002,
            "bin_start": 141.60000000000002,
            "count": 0
           },
           {
            "bin_end": 188.8,
            "bin_start": 165.20000000000002,
            "count": 1
           },
           {
            "bin_end": 212.4,
            "bin_start": 188.8,
            "count": 0
           },
           {
            "bin_end": 236,
            "bin_start": 212.4,
            "count": 1
           }
          ],
          "max": "236",
          "min": "0",
          "nan_count": 0,
          "unique_count": 65
         }
        },
        {
         "dtype": "int64",
         "name": "ratingsCount",
         "stats": {
          "histogram": [
           {
            "bin_end": 10.4,
            "bin_start": 0,
            "count": 2855
           },
           {
            "bin_end": 20.8,
            "bin_start": 10.4,
            "count": 190
           },
           {
            "bin_end": 31.200000000000003,
            "bin_start": 20.8,
            "count": 35
           },
           {
            "bin_end": 41.6,
            "bin_start": 31.200000000000003,
            "count": 14
           },
           {
            "bin_end": 52,
            "bin_start": 41.6,
            "count": 2
           },
           {
            "bin_end": 62.400000000000006,
            "bin_start": 52,
            "count": 3
           },
           {
            "bin_end": 72.8,
            "bin_start": 62.400000000000006,
            "count": 1
           },
           {
            "bin_end": 83.2,
            "bin_start": 72.8,
            "count": 1
           },
           {
            "bin_end": 93.60000000000001,
            "bin_start": 83.2,
            "count": 0
           },
           {
            "bin_end": 104,
            "bin_start": 93.60000000000001,
            "count": 1
           }
          ],
          "max": "104",
          "min": "0",
          "nan_count": 0,
          "unique_count": 46
         }
        },
        {
         "dtype": "object",
         "name": "_deepnote_index_column"
        }
       ],
       "row_count": 3102,
       "rows": [
        {
         "Title": "7",
         "_deepnote_index_column": "[\"America's Test Kitchen\"]",
         "categories": "7",
         "description": "7",
         "ratingsCount": "3"
        },
        {
         "Title": "5",
         "_deepnote_index_column": "[\"Bathroom Readers' Institute\"]",
         "categories": "5",
         "description": "5",
         "ratingsCount": "5"
        },
        {
         "Title": "12",
         "_deepnote_index_column": "[\"Eugene O'Neill\"]",
         "categories": "11",
         "description": "8",
         "ratingsCount": "4"
        },
        {
         "Title": "5",
         "_deepnote_index_column": "[\"Fodor's Travel Guides\"]",
         "categories": "5",
         "description": "5",
         "ratingsCount": "0"
        },
        {
         "Title": "5",
         "_deepnote_index_column": "[\"Fodor's Travel Publications, Inc. Staff\"]",
         "categories": "5",
         "description": "5",
         "ratingsCount": "0"
        },
        {
         "Title": "6",
         "_deepnote_index_column": "[\"Fodor's\"]",
         "categories": "6",
         "description": "6",
         "ratingsCount": "0"
        },
        {
         "Title": "6",
         "_deepnote_index_column": "[\"Jack O'Connor\"]",
         "categories": "6",
         "description": "2",
         "ratingsCount": "2"
        },
        {
         "Title": "5",
         "_deepnote_index_column": "[\"John 'Lofty' Wiseman\"]",
         "categories": "5",
         "description": "5",
         "ratingsCount": "1"
        },
        {
         "Title": "11",
         "_deepnote_index_column": "[\"John O'Hara\"]",
         "categories": "8",
         "description": "7",
         "ratingsCount": "4"
        },
        {
         "Title": "24",
         "_deepnote_index_column": "[\"Let's Go Inc.\"]",
         "categories": "24",
         "description": "24",
         "ratingsCount": "1"
        }
       ]
      },
      "text/html": [
       "<div>\n",
       "<style scoped>\n",
       "    .dataframe tbody tr th:only-of-type {\n",
       "        vertical-align: middle;\n",
       "    }\n",
       "\n",
       "    .dataframe tbody tr th {\n",
       "        vertical-align: top;\n",
       "    }\n",
       "\n",
       "    .dataframe thead th {\n",
       "        text-align: right;\n",
       "    }\n",
       "</style>\n",
       "<table border=\"1\" class=\"dataframe\">\n",
       "  <thead>\n",
       "    <tr style=\"text-align: right;\">\n",
       "      <th></th>\n",
       "      <th>Title</th>\n",
       "      <th>description</th>\n",
       "      <th>categories</th>\n",
       "      <th>ratingsCount</th>\n",
       "    </tr>\n",
       "    <tr>\n",
       "      <th>authors</th>\n",
       "      <th></th>\n",
       "      <th></th>\n",
       "      <th></th>\n",
       "      <th></th>\n",
       "    </tr>\n",
       "  </thead>\n",
       "  <tbody>\n",
       "    <tr>\n",
       "      <th>[\"America's Test Kitchen\"]</th>\n",
       "      <td>7</td>\n",
       "      <td>7</td>\n",
       "      <td>7</td>\n",
       "      <td>3</td>\n",
       "    </tr>\n",
       "    <tr>\n",
       "      <th>[\"Bathroom Readers' Institute\"]</th>\n",
       "      <td>5</td>\n",
       "      <td>5</td>\n",
       "      <td>5</td>\n",
       "      <td>5</td>\n",
       "    </tr>\n",
       "    <tr>\n",
       "      <th>[\"Eugene O'Neill\"]</th>\n",
       "      <td>12</td>\n",
       "      <td>8</td>\n",
       "      <td>11</td>\n",
       "      <td>4</td>\n",
       "    </tr>\n",
       "    <tr>\n",
       "      <th>[\"Fodor's Travel Guides\"]</th>\n",
       "      <td>5</td>\n",
       "      <td>5</td>\n",
       "      <td>5</td>\n",
       "      <td>0</td>\n",
       "    </tr>\n",
       "    <tr>\n",
       "      <th>[\"Fodor's Travel Publications, Inc. Staff\"]</th>\n",
       "      <td>5</td>\n",
       "      <td>5</td>\n",
       "      <td>5</td>\n",
       "      <td>0</td>\n",
       "    </tr>\n",
       "    <tr>\n",
       "      <th>...</th>\n",
       "      <td>...</td>\n",
       "      <td>...</td>\n",
       "      <td>...</td>\n",
       "      <td>...</td>\n",
       "    </tr>\n",
       "    <tr>\n",
       "      <th>['Zondervan,']</th>\n",
       "      <td>20</td>\n",
       "      <td>20</td>\n",
       "      <td>20</td>\n",
       "      <td>15</td>\n",
       "    </tr>\n",
       "    <tr>\n",
       "      <th>['Zora Neale Hurston']</th>\n",
       "      <td>10</td>\n",
       "      <td>10</td>\n",
       "      <td>10</td>\n",
       "      <td>5</td>\n",
       "    </tr>\n",
       "    <tr>\n",
       "      <th>['bell hooks']</th>\n",
       "      <td>16</td>\n",
       "      <td>16</td>\n",
       "      <td>16</td>\n",
       "      <td>10</td>\n",
       "    </tr>\n",
       "    <tr>\n",
       "      <th>['graf Leo Tolstoy']</th>\n",
       "      <td>5</td>\n",
       "      <td>3</td>\n",
       "      <td>4</td>\n",
       "      <td>1</td>\n",
       "    </tr>\n",
       "    <tr>\n",
       "      <th>['ʻAbduʼl-Bahá']</th>\n",
       "      <td>5</td>\n",
       "      <td>0</td>\n",
       "      <td>4</td>\n",
       "      <td>4</td>\n",
       "    </tr>\n",
       "  </tbody>\n",
       "</table>\n",
       "<p>3102 rows × 4 columns</p>\n",
       "</div>"
      ],
      "text/plain": [
       "                                             Title  description  categories  \\\n",
       "authors                                                                       \n",
       "[\"America's Test Kitchen\"]                       7            7           7   \n",
       "[\"Bathroom Readers' Institute\"]                  5            5           5   \n",
       "[\"Eugene O'Neill\"]                              12            8          11   \n",
       "[\"Fodor's Travel Guides\"]                        5            5           5   \n",
       "[\"Fodor's Travel Publications, Inc. Staff\"]      5            5           5   \n",
       "...                                            ...          ...         ...   \n",
       "['Zondervan,']                                  20           20          20   \n",
       "['Zora Neale Hurston']                          10           10          10   \n",
       "['bell hooks']                                  16           16          16   \n",
       "['graf Leo Tolstoy']                             5            3           4   \n",
       "['ʻAbduʼl-Bahá']                                 5            0           4   \n",
       "\n",
       "                                             ratingsCount  \n",
       "authors                                                    \n",
       "[\"America's Test Kitchen\"]                              3  \n",
       "[\"Bathroom Readers' Institute\"]                         5  \n",
       "[\"Eugene O'Neill\"]                                      4  \n",
       "[\"Fodor's Travel Guides\"]                               0  \n",
       "[\"Fodor's Travel Publications, Inc. Staff\"]             0  \n",
       "...                                                   ...  \n",
       "['Zondervan,']                                         15  \n",
       "['Zora Neale Hurston']                                  5  \n",
       "['bell hooks']                                         10  \n",
       "['graf Leo Tolstoy']                                    1  \n",
       "['ʻAbduʼl-Bahá']                                        4  \n",
       "\n",
       "[3102 rows x 4 columns]"
      ]
     },
     "execution_count": 10,
     "metadata": {},
     "output_type": "execute_result"
    }
   ],
   "source": [
    "print(f\"Number of books that have a ratings count in this dataset, {books_data[books_data['ratingsCount']>0].shape[0]}\")\n",
    "print(books_data[books_data['Title'].str.contains('Hobbit',na=False)])\n",
    "\n",
    "grouped_books = books_data.groupby(['authors']).count()\n",
    "grouped_books[grouped_books['Title']>=5]"
   ]
  },
  {
   "cell_type": "code",
   "execution_count": 1,
   "metadata": {
    "cell_id": "e8fa2053695a474f986d9aca58cf3175",
    "deepnote_cell_type": "code",
    "deepnote_to_be_reexecuted": false,
    "execution_millis": 743,
    "execution_start": 1667316286198,
    "source_hash": "c38f66d9",
    "tags": []
   },
   "outputs": [
    {
     "ename": "KernelInterrupted",
     "evalue": "Execution interrupted by the Jupyter kernel.",
     "output_type": "error",
     "traceback": [
      "\u001b[0;31m---------------------------------------------------------------------------\u001b[0m",
      "\u001b[0;31mKernelInterrupted\u001b[0m: Execution interrupted by the Jupyter kernel."
     ]
    }
   ],
   "source": [
    "#check how many of the reviewed books are available in the book dataset by Title\n",
    "merged_df = pd.merge(review_data, books_data, how='inner', on=['Title'])\n",
    "print(merged_df.shape)\n",
    "merged_df.head"
   ]
  },
  {
   "cell_type": "markdown",
   "metadata": {
    "cell_id": "d1c81f11574a4c0f80bf618010e4c5e3",
    "deepnote_cell_type": "markdown",
    "tags": []
   },
   "source": [
    "### Creating an item profile \n",
    "In order to create an item profile, the authors and category are put into a "
   ]
  },
  {
   "cell_type": "markdown",
   "metadata": {
    "cell_id": "a373da38480c45498e382100f8f7fb44",
    "deepnote_cell_type": "markdown",
    "tags": []
   },
   "source": [
    "Calculate the cosine distance between two matrices"
   ]
  },
  {
   "cell_type": "code",
   "execution_count": 8,
   "metadata": {
    "cell_id": "508922802a6d4e9e8b036445874337be",
    "deepnote_cell_type": "code",
    "deepnote_to_be_reexecuted": false,
    "execution_millis": 62,
    "execution_start": 1667315736205,
    "source_hash": "d84d530d",
    "tags": []
   },
   "outputs": [],
   "source": [
    "import numpy as np\n",
    "import scipy.spatial.distance as distance\n",
    "a = np.array([0.1, 0.2])\n",
    "b = np.array([0.3,0.4])\n",
    "c = 1 - distance.cosine(a, b)"
   ]
  },
  {
   "cell_type": "markdown",
   "metadata": {
    "created_in_deepnote_cell": true,
    "deepnote_cell_type": "markdown",
    "tags": []
   },
   "source": [
    "<a style='text-decoration:none;line-height:16px;display:flex;color:#5B5B62;padding:10px;justify-content:end;' href='https://deepnote.com?utm_source=created-in-deepnote-cell&projectId=2bef0313-5b70-4b06-8099-338e6f5003e4' target=\"_blank\">\n",
    "<img alt='Created in deepnote.com' style='display:inline;max-height:16px;margin:0px;margin-right:7.5px;' src='data:image/svg+xml;base64,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' > </img>\n",
    "Created in <span style='font-weight:600;margin-left:4px;'>Deepnote</span></a>"
   ]
  }
 ],
 "metadata": {
  "deepnote": {
   "is_reactive": false
  },
  "deepnote_execution_queue": [],
  "deepnote_notebook_id": "09ac567bbc314a9c8a9cd448fd06574d",
  "kernelspec": {
   "display_name": "Python 3 (ipykernel)",
   "language": "python",
   "name": "python3"
  },
  "language_info": {
   "codemirror_mode": {
    "name": "ipython",
    "version": 3
   },
   "file_extension": ".py",
   "mimetype": "text/x-python",
   "name": "python",
   "nbconvert_exporter": "python",
   "pygments_lexer": "ipython3",
   "version": "3.8.8"
  }
 },
 "nbformat": 4,
 "nbformat_minor": 1
}
=======
{"cells":[{"cell_type":"markdown","source":"## Data","metadata":{"tags":[],"cell_id":"6cd958fcd0a5443298ac8c10d8eec733","is_collapsed":false,"formattedRanges":[],"deepnote_cell_type":"text-cell-h2"}},{"cell_type":"markdown","source":"Where does the data come from? -> provide source and background of data","metadata":{"tags":[],"cell_id":"24d9104f88f8415a9d554b460376a805","deepnote_cell_type":"markdown"}},{"cell_type":"markdown","source":"### Data discovery","metadata":{"tags":[],"cell_id":"ccbca39049d84b07b7d9ccd43afe96e9","is_collapsed":false,"formattedRanges":[],"deepnote_cell_type":"text-cell-h3"}},{"cell_type":"markdown","source":"Before the analysis and preprocessing of the data, the data is $\\textit{discovered}$ in order to obtain an overview over what data is available at all. ","metadata":{"tags":[],"cell_id":"00af2e73d834483ba9cfe1d4528a3104","deepnote_cell_type":"markdown"}},{"cell_type":"markdown","source":"Integration of necessary libraries and datasets into the notebook.","metadata":{"tags":[],"cell_id":"9b1c03d677484482be767cd8ccb3e450","deepnote_cell_type":"markdown"}},{"cell_type":"code","source":"!ls /datasets/computational-tools-for-dataanalysis-data\nimport pandas as pd\nimport matplotlib.pyplot as plt","metadata":{"tags":[],"cell_id":"a7c26160915d44d5a9315c3d703e94f3","source_hash":"f86d1653","execution_start":1667316404873,"execution_millis":1125,"deepnote_to_be_reexecuted":false,"deepnote_cell_type":"code"},"outputs":[{"name":"stdout","text":"books_data.csv\tBooks_rating.csv\n","output_type":"stream"}],"execution_count":1},{"cell_type":"markdown","source":"#### Review data","metadata":{"tags":[],"cell_id":"70aa48eee11f4f30bcdc87eb21a86af3","deepnote_cell_type":"markdown"}},{"cell_type":"markdown","source":"The first dataset contains the review data of the books, matching a user with a book and providing a rating that the user gave the book (from 1-5), as well a review description. The dataset contains 3 million book ratings.","metadata":{"tags":[],"cell_id":"3a31071d754842bfa7e869470c1e1311","deepnote_cell_type":"markdown"}},{"cell_type":"code","source":"review_data = pd.read_csv(\"/datasets/computational-tools-for-dataanalysis-data/Books_rating.csv\")\nreview_data.head","metadata":{"tags":[],"cell_id":"2121cf658b1749f2831a4ca3b12879e0","source_hash":"6d99dbaa","execution_start":1667316444593,"execution_millis":121281,"deepnote_to_be_reexecuted":false,"deepnote_cell_type":"code"},"outputs":[{"output_type":"execute_result","execution_count":2,"data":{"text/plain":"<bound method NDFrame.head of                  Id                           Title  Price         User_id  \\\n0        1882931173  Its Only Art If Its Well Hung!    NaN   AVCGYZL8FQQTD   \n1        0826414346        Dr. Seuss: American Icon    NaN  A30TK6U7DNS82R   \n2        0826414346        Dr. Seuss: American Icon    NaN  A3UH4UZ4RSVO82   \n3        0826414346        Dr. Seuss: American Icon    NaN  A2MVUWT453QH61   \n4        0826414346        Dr. Seuss: American Icon    NaN  A22X4XUPKF66MR   \n...             ...                             ...    ...             ...   \n2999995  B000NSLVCU             The Idea of History    NaN             NaN   \n2999996  B000NSLVCU             The Idea of History    NaN  A1SMUB9ASL5L9Y   \n2999997  B000NSLVCU             The Idea of History    NaN  A2AQMEKZKK5EE4   \n2999998  B000NSLVCU             The Idea of History    NaN  A18SQGYBKS852K   \n2999999  B000NSLVCU             The Idea of History    NaN             NaN   \n\n                                profileName review/helpfulness  review/score  \\\n0                     Jim of Oz \"jim-of-oz\"                7/7           4.0   \n1                             Kevin Killian              10/10           5.0   \n2                              John Granger              10/11           5.0   \n3        Roy E. Perry \"amateur philosopher\"                7/7           4.0   \n4           D. H. Richards \"ninthwavestore\"                3/3           4.0   \n...                                     ...                ...           ...   \n2999995                                 NaN              14/19           4.0   \n2999996                             jafrank                1/1           4.0   \n2999997           L. L. Poulos \"Muslim Mom\"                0/0           4.0   \n2999998       Julia A. Klein \"knitting rat\"               1/11           5.0   \n2999999                                 NaN               7/49           1.0   \n\n         review/time                                     review/summary  \\\n0          940636800             Nice collection of Julie Strain images   \n1         1095724800                                  Really Enjoyed It   \n2         1078790400    Essential for every personal and Public Library   \n3         1090713600    Phlip Nel gives silly Seuss a serious treatment   \n4         1107993600                             Good academic overview   \n...              ...                                                ...   \n2999995    937612800                                          Difficult   \n2999996   1331683200      Quite good and ahead of its time occasionally   \n2999997   1180224000  Easier reads of those not well versed in histo...   \n2999998   1163030400   Yes, it is cheaper than the University Bookstore   \n2999999    905385600  Collingwood's ideas sink in a quagmire or verb...   \n\n                                               review/text  \n0        This is only for Julie Strain fans. It's a col...  \n1        I don't care much for Dr. Seuss but after read...  \n2        If people become the books they read and if \"t...  \n3        Theodore Seuss Geisel (1904-1991), aka &quot;D...  \n4        Philip Nel - Dr. Seuss: American IconThis is b...  \n...                                                    ...  \n2999995  This is an extremely difficult book to digest,...  \n2999996  This is pretty interesting. Collingwood seems ...  \n2999997  This is a good book but very esoteric. \"What i...  \n2999998  My daughter, a freshman at Indiana University,...  \n2999999  The guy has a few good ideas but, reader, bewa...  \n\n[3000000 rows x 10 columns]>"},"metadata":{}}],"execution_count":2},{"cell_type":"code","source":"#shape of the review dataset\nprint(review_data.shape)\n#columns available in the review dataset\nprint(review_data.columns)\n#remove unnecessary columns from dataset\nkeep_columns = ['Id', 'Title', 'User_id', 'review/score', 'review/text']\nreview_data = review_data[keep_columns]","metadata":{"tags":[],"cell_id":"5ef40b11d7f64ebd89de4a885685da79","source_hash":"e8bb6bb2","execution_start":1667316266774,"execution_millis":209,"deepnote_to_be_reexecuted":false,"deepnote_cell_type":"code"},"outputs":[{"name":"stdout","text":"(3000000, 10)\nIndex(['Id', 'Title', 'Price', 'User_id', 'profileName', 'review/helpfulness',\n       'review/score', 'review/time', 'review/summary', 'review/text'],\n      dtype='object')\n","output_type":"stream"}],"execution_count":4},{"cell_type":"code","source":"grouped_reviews = review_data.groupby(['User_id']).count()\nprint(f\"Number of individual users, {grouped_reviews.shape[0]}\")\n#check the maximal number of books a person has rated\nprint(f\"Maximal number of reviews that a single user submitted, {max(grouped_reviews['Id'])}\")\n#check how many people have rated more than 1000 books\nprint(f\"Number of people that have rated more than 1000 books, {grouped_reviews[grouped_reviews['Id']>=1000].shape[0]}\")\n#check how many people have rated more than 200 books\nprint(f\"Number of people that have rated more than 200 books, {grouped_reviews[grouped_reviews['Id']>=200].shape[0]}\")\n#remove people that have judged more than 1000 books \ngrouped_reviews = grouped_reviews[grouped_reviews['Id']<=1000]\nreview_data=review_data[review_data['User_id'].isin(grouped_reviews.index)]\n#check number of people that rated only one book\nprint(f\"Number of people that have rated only one book, {grouped_reviews[grouped_reviews['Id']==1].shape[0]}\")\n#check number of people that rated more than five books\nprint(f\"Number of people that have rated more than 5 books, {grouped_reviews[grouped_reviews['Id']>=5].shape[0]}\")\n#show the distribution of rated books\nfig, ax = plt.subplots()\nax.hist(grouped_reviews['Id'], log=True, bins=200)\nax.set_ylabel('frequency')\nax.set_xlabel('ratings per user')\nax.set_title('Distribution of user ratings')\nfig.show()","metadata":{"tags":[],"cell_id":"ef2977dea52b4e8eb93aa22c6305c7d5","source_hash":"4582e2ff","execution_start":1667316267035,"execution_millis":7226,"deepnote_to_be_reexecuted":false,"deepnote_cell_type":"code"},"outputs":[{"name":"stdout","text":"Number of individual users, 1008972\nMaximal number of reviews that a single user submitted, 5795\nNumber of people that have rated more than 1000 books, 10\nNumber of people that have rated more than 200 books, 336\nNumber of people that have rated only one book, 693716\nNumber of people that have rated more than 5 books, 82795\n","output_type":"stream"},{"data":{"text/plain":"<Figure size 640x480 with 1 Axes>","image/png":"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\n"},"metadata":{"image/png":{"width":583,"height":455}},"output_type":"display_data"}],"execution_count":5},{"cell_type":"markdown","source":"The dataset contains 1008972 unique users of which every user has rated 2.97 books in average. However, the majority of the users has only rated one book (68.75%), and only few users (8.21%) have rated more than 5 books. 10 users have rated more than 1000 books. These users were removed from the dataset as outliers, because it is assumed that their rating behaviour will not be valuable to make predictions to for other users.","metadata":{"tags":[],"cell_id":"7ba2567c1bd44a739d0c5a716da09181","deepnote_cell_type":"markdown"}},{"cell_type":"code","source":"grouped_books = review_data.groupby(['Title']).count()\nprint(f\"Number of rated books, {grouped_books.shape[0]}\")\nprint(f\"Number of books that have been rated once, {grouped_books[grouped_books['Id']==1].shape[0]}\")\nprint(f\"Book with most ratings is '{review_data[review_data['Title']==grouped_books[grouped_books['Id']==max(grouped_books['Id'])].index[0]]['Title'].reset_index(drop=True)[0]}' with {max(grouped_books['Id'])} ratings.\")\nfig, ax = plt.subplots()\nax.hist(grouped_books['Id'], log=True, bins=200)\nax.set_ylabel('frequency')\nax.set_xlabel('ratings per book')\nax.set_title('Distribution of book ratings')\nfig.show()","metadata":{"tags":[],"cell_id":"3b1776d8ec9b4d82b2ee43cb51e0e84c","source_hash":"f0afaaa3","execution_start":1667316274392,"execution_millis":2302,"deepnote_to_be_reexecuted":false,"deepnote_cell_type":"code"},"outputs":[{"name":"stdout","text":"Number of rated books, 205047\nNumber of books that have been rated once, 69558\nBook with most ratings is 'The Hobbit' with 18059 ratings.\n","output_type":"stream"},{"data":{"text/plain":"<Figure size 640x480 with 1 Axes>","image/png":"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\n"},"metadata":{"image/png":{"width":570,"height":455}},"output_type":"display_data"}],"execution_count":6},{"cell_type":"markdown","source":"In total 205047 books have been rated, of which 33.92% have been rated once. The book with the most ratings is 'The Hobbit' with 18059 ratings.","metadata":{"tags":[],"cell_id":"40c61daeb86e4a4cb50d4464fab0169a","deepnote_cell_type":"markdown"}},{"cell_type":"code","source":"print(review_data[review_data['Title'].str.contains('Hobbit',na=False)])","metadata":{"tags":[],"cell_id":"15049f70807340c29265a26b894d013b","source_hash":"b415e973","execution_start":1667316276797,"execution_millis":1088,"deepnote_to_be_reexecuted":false,"deepnote_cell_type":"code"},"outputs":[{"name":"stdout","text":"                 Id                                              Title  \\\n86547    B000NWU3I4  The Hobbitt, or there and back again; illustra...   \n86548    B000NWU3I4  The Hobbitt, or there and back again; illustra...   \n86549    B000NWU3I4  The Hobbitt, or there and back again; illustra...   \n86550    B000NWU3I4  The Hobbitt, or there and back again; illustra...   \n86551    B000NWU3I4  The Hobbitt, or there and back again; illustra...   \n...             ...                                                ...   \n2978151  B000Q032UY                 The Hobbit or There and Back Again   \n2978152  B000Q032UY                 The Hobbit or There and Back Again   \n2978153  B000Q032UY                 The Hobbit or There and Back Again   \n2978154  B000Q032UY                 The Hobbit or There and Back Again   \n2978155  B000Q032UY                 The Hobbit or There and Back Again   \n\n                User_id  review/score  \\\n86547     AXX9R9P27CFFS           5.0   \n86548    A3VKLBHDXSJADC           5.0   \n86549    A3MZ7U03T9VQA4           5.0   \n86550    A2YSSBKYXXSM6W           5.0   \n86551    A317EU0ROFG09T           5.0   \n...                 ...           ...   \n2978151  A279AQACCA2L0K           4.0   \n2978152  A1BHMR3GPOODJR           4.0   \n2978153  A224BVW6YQS3VF           5.0   \n2978154   AXAOSQ8N0CM0M           5.0   \n2978155   A373U8EOPLTMJ           5.0   \n\n                                               review/text  \n86547    Beautiful book. Cover and art are incredible. ...  \n86548    This book is very reasonably priced. It will b...  \n86549    I bought the audio CD's about 5 years ago from...  \n86550    I read this book years ago, but never bought a...  \n86551    I bought this as a gift for someone and I am t...  \n...                                                    ...  \n2978151  The Hobbit is wonderful. It describes a lot. I...  \n2978152  I like the book, it is easy to read and makes ...  \n2978153  The Hobbit will always be a classic and this e...  \n2978154  It is easy to be swept away by the writings of...  \n2978155  It was a very adventurous book. I plan on read...  \n\n[32597 rows x 5 columns]\n","output_type":"stream"}],"execution_count":7},{"cell_type":"markdown","source":"#### Book data","metadata":{"tags":[],"cell_id":"9c6e94e37aa94620afc5d3c95ea15e1a","deepnote_cell_type":"markdown"}},{"cell_type":"markdown","source":"The second dataset contains information about the books themselves. Including the book title and Id, the author a description of the book and a book category. Furthermore, the book dataset contains a column with the average user rating.","metadata":{"tags":[],"cell_id":"3fd1d1666b414b18973dc41b03cacc2c","deepnote_cell_type":"markdown"}},{"cell_type":"code","source":"books_data = pd.read_csv(\"/datasets/computational-tools-for-dataanalysis-data/books_data.csv\")\nbooks_data.head","metadata":{"tags":[],"cell_id":"511cc70fbdc94ce99e1015aaefae5a3e","source_hash":"3154b504","execution_start":1667316277929,"execution_millis":7815,"deepnote_to_be_reexecuted":false,"deepnote_cell_type":"code"},"outputs":[{"output_type":"execute_result","execution_count":8,"data":{"application/vnd.deepnote.dataframe.v3+json":{"column_count":10,"row_count":212404,"columns":[{"name":"Title","dtype":"object"},{"name":"description","dtype":"object"},{"name":"authors","dtype":"object"},{"name":"image","dtype":"object"},{"name":"previewLink","dtype":"object"},{"name":"publisher","dtype":"object"},{"name":"publishedDate","dtype":"object"},{"name":"infoLink","dtype":"object"},{"name":"categories","dtype":"object"},{"name":"ratingsCount","dtype":"float64"},{"name":"_deepnote_index_column","dtype":"int64"}],"rows":[{"Title":"Its Only Art If Its Well Hung!","description":"nan","authors":"['Julie Strain']","image":"http://books.google.com/books/content?id=DykPAAAACAAJ&printsec=frontcover&img=1&zoom=1&source=gbs_api","previewLink":"http://books.google.nl/books?id=DykPAAAACAAJ&dq=Its+Only+Art+If+Its+Well+Hung!&hl=&cd=1&source=gbs_api","publisher":"nan","publishedDate":"1996","infoLink":"http://books.google.nl/books?id=DykPAAAACAAJ&dq=Its+Only+Art+If+Its+Well+Hung!&hl=&source=gbs_api","categories":"['Comics & Graphic Novels']","ratingsCount":"nan","_deepnote_index_column":"0"},{"Title":"Dr. Seuss: American Icon","description":"Philip Nel takes a fascinating look into the key aspects of Seuss's career - his poetry, politics, art, marketing, and place in the popular imagination.\" \"Nel argues convincingly that Dr. Seuss is one of the most influential poets in America. His nonsense verse, like that of Lewis Carroll and Edward Lear, has changed language itself, giving us new words like \"nerd.\" And Seuss's famously loopy artistic style - what Nel terms an \"energetic cartoon surrealism\" - has been equally important, inspiring artists like filmmaker Tim Burton and illustrator Lane Smith. --from back cover","authors":"['Philip Nel']","image":"http://books.google.com/books/content?id=IjvHQsCn_pgC&printsec=frontcover&img=1&zoom=1&edge=curl&source=gbs_api","previewLink":"http://books.google.nl/books?id=IjvHQsCn_pgC&printsec=frontcover&dq=Dr.+Seuss:+American+Icon&hl=&cd=1&source=gbs_api","publisher":"A&C Black","publishedDate":"2005-01-01","infoLink":"http://books.google.nl/books?id=IjvHQsCn_pgC&dq=Dr.+Seuss:+American+Icon&hl=&source=gbs_api","categories":"['Biography & Autobiography']","ratingsCount":"nan","_deepnote_index_column":"1"},{"Title":"Wonderful Worship in Smaller Churches","description":"This resource includes twelve principles in understanding small church worship, fifteen practices for planning worship with fewer than 100 people, and suggestions for congregational study.","authors":"['David R. Ray']","image":"http://books.google.com/books/content?id=2tsDAAAACAAJ&printsec=frontcover&img=1&zoom=1&source=gbs_api","previewLink":"http://books.google.nl/books?id=2tsDAAAACAAJ&dq=Wonderful+Worship+in+Smaller+Churches&hl=&cd=1&source=gbs_api","publisher":"nan","publishedDate":"2000","infoLink":"http://books.google.nl/books?id=2tsDAAAACAAJ&dq=Wonderful+Worship+in+Smaller+Churches&hl=&source=gbs_api","categories":"['Religion']","ratingsCount":"nan","_deepnote_index_column":"2"},{"Title":"Whispers of the Wicked Saints","description":"Julia Thomas finds her life spinning out of control after the death of her husband, Richard. Julia turns to her minister for comfort when she finds herself falling for him with a passion that is forbidden by the church. Heath Sparks is a man of God who is busy taking care of his quadriplegic wife who was seriously injured in a sever car accident. In an innocent effort to reach out to a lonely member of his church, Heath finds himself as the man and not the minister as Heath and Julia surrender their bodies to each other and face the wrath of God. Julia finds herself in over her head as she faces a deadly disease, the loss of her home and whispers about her wicked affair. Julia leaves the states offering her body as a living sacrifice in hopes of finding a cure while her heart remains thousands of miles away hoping to one day reunite with the man who holds it hostage.Whispers of the Wicked Saints is a once in a lifetime romance that is breath taking, defying all the rules of romance an…","authors":"['Veronica Haddon']","image":"http://books.google.com/books/content?id=aRSIgJlq6JwC&printsec=frontcover&img=1&zoom=1&source=gbs_api","previewLink":"http://books.google.nl/books?id=aRSIgJlq6JwC&dq=Whispers+of+the+Wicked+Saints&hl=&cd=1&source=gbs_api","publisher":"iUniverse","publishedDate":"2005-02","infoLink":"http://books.google.nl/books?id=aRSIgJlq6JwC&dq=Whispers+of+the+Wicked+Saints&hl=&source=gbs_api","categories":"['Fiction']","ratingsCount":"nan","_deepnote_index_column":"3"},{"Title":"Nation Dance: Religion, Identity and Cultural Difference in the Caribbean","description":"nan","authors":"['Edward Long']","image":"nan","previewLink":"http://books.google.nl/books?id=399SPgAACAAJ&dq=Nation+Dance:+Religion,+Identity+and+Cultural+Difference+in+the+Caribbean&hl=&cd=1&source=gbs_api","publisher":"nan","publishedDate":"2003-03-01","infoLink":"http://books.google.nl/books?id=399SPgAACAAJ&dq=Nation+Dance:+Religion,+Identity+and+Cultural+Difference+in+the+Caribbean&hl=&source=gbs_api","categories":"nan","ratingsCount":"nan","_deepnote_index_column":"4"},{"Title":"The Church of Christ: A Biblical Ecclesiology for Today","description":"In The Church of Christ: A Biblical Ecclesiology for Today, respected biblical scholar Everett Ferguson presents a genuine biblical theology of the church. By systematically examining the New Testament's teaching on the existence, meaning, and purpose of the church, providing responsible coverage of the traditional topics in ecclesiology, and carefully grounding ecclesiology in the person and work of Christ, Ferguson unveils a comprehensive model of the church that is both biblically centered and relevant to a world on the verge of the twenty-first century.","authors":"['Everett Ferguson']","image":"http://books.google.com/books/content?id=kVqRaiPlx88C&printsec=frontcover&img=1&zoom=1&edge=curl&source=gbs_api","previewLink":"http://books.google.nl/books?id=kVqRaiPlx88C&printsec=frontcover&dq=The+Church+of+Christ:+A+Biblical+Ecclesiology+for+Today&hl=&cd=1&source=gbs_api","publisher":"Wm. B. Eerdmans Publishing","publishedDate":"1996","infoLink":"http://books.google.nl/books?id=kVqRaiPlx88C&dq=The+Church+of+Christ:+A+Biblical+Ecclesiology+for+Today&hl=&source=gbs_api","categories":"['Religion']","ratingsCount":"5.0","_deepnote_index_column":"5"},{"Title":"The Overbury affair (Avon)","description":"nan","authors":"['Miriam Allen De Ford']","image":"nan","previewLink":"http://books.google.nl/books?id=mHLTngEACAAJ&dq=The+Overbury+affair+(Avon)&hl=&cd=1&source=gbs_api","publisher":"nan","publishedDate":"1960","infoLink":"http://books.google.nl/books?id=mHLTngEACAAJ&dq=The+Overbury+affair+(Avon)&hl=&source=gbs_api","categories":"nan","ratingsCount":"nan","_deepnote_index_column":"6"},{"Title":"A Walk in the Woods: a Play in Two Acts","description":"nan","authors":"['Lee Blessing']","image":"nan","previewLink":"http://books.google.nl/books?id=6HDOwAEACAAJ&dq=A+Walk+in+the+Woods:+a+Play+in+Two+Acts&hl=&cd=1&source=gbs_api","publisher":"nan","publishedDate":"1988","infoLink":"http://books.google.nl/books?id=6HDOwAEACAAJ&dq=A+Walk+in+the+Woods:+a+Play+in+Two+Acts&hl=&source=gbs_api","categories":"nan","ratingsCount":"3.0","_deepnote_index_column":"7"},{"Title":"Saint Hyacinth of Poland","description":"The story for children 10 and up of St. Hyacinth, the Dominican who planted the Faith in Poland, Lithuania and Russia and worked many miracles. He went to Rome, where he met St. Dominic, and was one of the first to receive at his hands the habit of the newly established Order of Friars Preachers. After his novitiate he made his religious profession, and was made superior of the little band of missionaries sent to Poland to preach. Impr. 189 pgs 16 Illus, PB","authors":"['Mary Fabyan Windeatt']","image":"http://books.google.com/books/content?id=lmLqAAAACAAJ&printsec=frontcover&img=1&zoom=1&source=gbs_api","previewLink":"http://books.google.nl/books?id=lmLqAAAACAAJ&dq=Saint+Hyacinth+of+Poland&hl=&cd=1&source=gbs_api","publisher":"Tan Books & Pub","publishedDate":"2009-01-01","infoLink":"http://books.google.nl/books?id=lmLqAAAACAAJ&dq=Saint+Hyacinth+of+Poland&hl=&source=gbs_api","categories":"['Biography & Autobiography']","ratingsCount":"nan","_deepnote_index_column":"8"},{"Title":"Rising Sons and Daughters: Life Among Japan's New Young","description":"Wardell recalls his experience as a foreign student in Japan, providing a comparison between America and Japan","authors":"['Steven Wardell']","image":"nan","previewLink":"http://books.google.nl/books?id=rbLZugEACAAJ&dq=Rising+Sons+and+Daughters:+Life+Among+Japan%27s+New+Young&hl=&cd=1&source=gbs_api","publisher":"Plympton PressIntl","publishedDate":"1995","infoLink":"http://books.google.nl/books?id=rbLZugEACAAJ&dq=Rising+Sons+and+Daughters:+Life+Among+Japan%27s+New+Young&hl=&source=gbs_api","categories":"['Social Science']","ratingsCount":"nan","_deepnote_index_column":"9"}]},"text/plain":"                                                    Title  \\\n0                          Its Only Art If Its Well Hung!   \n1                                Dr. Seuss: American Icon   \n2                   Wonderful Worship in Smaller Churches   \n3                           Whispers of the Wicked Saints   \n4       Nation Dance: Religion, Identity and Cultural ...   \n...                                                   ...   \n212399  The Orphan Of Ellis Island (Time Travel Advent...   \n212400                            Red Boots for Christmas   \n212401                                              Mamaw   \n212402                                  The Autograph Man   \n212403  Student's Solutions Manual for Johnson/Mowry's...   \n\n                                              description  \\\n0                                                     NaN   \n1       Philip Nel takes a fascinating look into the k...   \n2       This resource includes twelve principles in un...   \n3       Julia Thomas finds her life spinning out of co...   \n4                                                     NaN   \n...                                                   ...   \n212399  During a school trip to Ellis Island, Dominick...   \n212400  Everyone in the village of Friedensdorf is hap...   \n212401  Give your Mamaw a useful, beautiful and though...   \n212402  Alex-Li Tandem sells autographs. His business ...   \n212403  Discover the many ways mathematics is relevant...   \n\n                                        authors  \\\n0                              ['Julie Strain']   \n1                                ['Philip Nel']   \n2                              ['David R. Ray']   \n3                           ['Veronica Haddon']   \n4                               ['Edward Long']   \n...                                         ...   \n212399                      ['Elvira Woodruff']   \n212400                                      NaN   \n212401                    ['Wild Wild Cabbage']   \n212402                          ['Zadie Smith']   \n212403  ['David B. Johnson', 'Thomas A. Mowry']   \n\n                                                    image  \\\n0       http://books.google.com/books/content?id=DykPA...   \n1       http://books.google.com/books/content?id=IjvHQ...   \n2       http://books.google.com/books/content?id=2tsDA...   \n3       http://books.google.com/books/content?id=aRSIg...   \n4                                                     NaN   \n...                                                   ...   \n212399  http://books.google.com/books/content?id=J7M-N...   \n212400  http://books.google.com/books/content?id=3n8k6...   \n212401                                                NaN   \n212402  http://books.google.com/books/content?id=JM6YV...   \n212403  http://books.google.com/books/content?id=dehfP...   \n\n                                              previewLink  \\\n0       http://books.google.nl/books?id=DykPAAAACAAJ&d...   \n1       http://books.google.nl/books?id=IjvHQsCn_pgC&p...   \n2       http://books.google.nl/books?id=2tsDAAAACAAJ&d...   \n3       http://books.google.nl/books?id=aRSIgJlq6JwC&d...   \n4       http://books.google.nl/books?id=399SPgAACAAJ&d...   \n...                                                   ...   \n212399  http://books.google.com/books?id=J7M-NwAACAAJ&...   \n212400  http://books.google.com/books?id=3n8k6wl4BbYC&...   \n212401  http://books.google.com/books?id=zytVswEACAAJ&...   \n212402  http://books.google.com/books?id=JM6YVPx_clMC&...   \n212403  http://books.google.com/books?id=dehfPgAACAAJ&...   \n\n                             publisher publishedDate  \\\n0                                  NaN          1996   \n1                            A&C Black    2005-01-01   \n2                                  NaN          2000   \n3                            iUniverse       2005-02   \n4                                  NaN    2003-03-01   \n...                                ...           ...   \n212399           Scholastic Paperbacks    2000-06-01   \n212400                             NaN          1995   \n212401                             NaN    2018-01-17   \n212402                         Vintage    2003-08-12   \n212403  Brooks/Cole Publishing Company    1998-01-01   \n\n                                                 infoLink  \\\n0       http://books.google.nl/books?id=DykPAAAACAAJ&d...   \n1       http://books.google.nl/books?id=IjvHQsCn_pgC&d...   \n2       http://books.google.nl/books?id=2tsDAAAACAAJ&d...   \n3       http://books.google.nl/books?id=aRSIgJlq6JwC&d...   \n4       http://books.google.nl/books?id=399SPgAACAAJ&d...   \n...                                                   ...   \n212399  http://books.google.com/books?id=J7M-NwAACAAJ&...   \n212400  http://books.google.com/books?id=3n8k6wl4BbYC&...   \n212401  http://books.google.com/books?id=zytVswEACAAJ&...   \n212402  https://play.google.com/store/books/details?id...   \n212403  http://books.google.com/books?id=dehfPgAACAAJ&...   \n\n                           categories  ratingsCount  \n0         ['Comics & Graphic Novels']           NaN  \n1       ['Biography & Autobiography']           NaN  \n2                        ['Religion']           NaN  \n3                         ['Fiction']           NaN  \n4                                 NaN           NaN  \n...                               ...           ...  \n212399           ['Juvenile Fiction']           2.0  \n212400           ['Juvenile Fiction']           NaN  \n212401                            NaN           NaN  \n212402                    ['Fiction']          19.0  \n212403                            NaN           NaN  \n\n[212404 rows x 10 columns]","text/html":"<div>\n<style scoped>\n    .dataframe tbody tr th:only-of-type {\n        vertical-align: middle;\n    }\n\n    .dataframe tbody tr th {\n        vertical-align: top;\n    }\n\n    .dataframe thead th {\n        text-align: right;\n    }\n</style>\n<table border=\"1\" class=\"dataframe\">\n  <thead>\n    <tr style=\"text-align: right;\">\n      <th></th>\n      <th>Title</th>\n      <th>description</th>\n      <th>authors</th>\n      <th>image</th>\n      <th>previewLink</th>\n      <th>publisher</th>\n      <th>publishedDate</th>\n      <th>infoLink</th>\n      <th>categories</th>\n      <th>ratingsCount</th>\n    </tr>\n  </thead>\n  <tbody>\n    <tr>\n      <th>0</th>\n      <td>Its Only Art If Its Well Hung!</td>\n      <td>NaN</td>\n      <td>['Julie Strain']</td>\n      <td>http://books.google.com/books/content?id=DykPA...</td>\n      <td>http://books.google.nl/books?id=DykPAAAACAAJ&amp;d...</td>\n      <td>NaN</td>\n      <td>1996</td>\n      <td>http://books.google.nl/books?id=DykPAAAACAAJ&amp;d...</td>\n      <td>['Comics &amp; Graphic Novels']</td>\n      <td>NaN</td>\n    </tr>\n    <tr>\n      <th>1</th>\n      <td>Dr. Seuss: American Icon</td>\n      <td>Philip Nel takes a fascinating look into the k...</td>\n      <td>['Philip Nel']</td>\n      <td>http://books.google.com/books/content?id=IjvHQ...</td>\n      <td>http://books.google.nl/books?id=IjvHQsCn_pgC&amp;p...</td>\n      <td>A&amp;C Black</td>\n      <td>2005-01-01</td>\n      <td>http://books.google.nl/books?id=IjvHQsCn_pgC&amp;d...</td>\n      <td>['Biography &amp; Autobiography']</td>\n      <td>NaN</td>\n    </tr>\n    <tr>\n      <th>2</th>\n      <td>Wonderful Worship in Smaller Churches</td>\n      <td>This resource includes twelve principles in un...</td>\n      <td>['David R. Ray']</td>\n      <td>http://books.google.com/books/content?id=2tsDA...</td>\n      <td>http://books.google.nl/books?id=2tsDAAAACAAJ&amp;d...</td>\n      <td>NaN</td>\n      <td>2000</td>\n      <td>http://books.google.nl/books?id=2tsDAAAACAAJ&amp;d...</td>\n      <td>['Religion']</td>\n      <td>NaN</td>\n    </tr>\n    <tr>\n      <th>3</th>\n      <td>Whispers of the Wicked Saints</td>\n      <td>Julia Thomas finds her life spinning out of co...</td>\n      <td>['Veronica Haddon']</td>\n      <td>http://books.google.com/books/content?id=aRSIg...</td>\n      <td>http://books.google.nl/books?id=aRSIgJlq6JwC&amp;d...</td>\n      <td>iUniverse</td>\n      <td>2005-02</td>\n      <td>http://books.google.nl/books?id=aRSIgJlq6JwC&amp;d...</td>\n      <td>['Fiction']</td>\n      <td>NaN</td>\n    </tr>\n    <tr>\n      <th>4</th>\n      <td>Nation Dance: Religion, Identity and Cultural ...</td>\n      <td>NaN</td>\n      <td>['Edward Long']</td>\n      <td>NaN</td>\n      <td>http://books.google.nl/books?id=399SPgAACAAJ&amp;d...</td>\n      <td>NaN</td>\n      <td>2003-03-01</td>\n      <td>http://books.google.nl/books?id=399SPgAACAAJ&amp;d...</td>\n      <td>NaN</td>\n      <td>NaN</td>\n    </tr>\n    <tr>\n      <th>...</th>\n      <td>...</td>\n      <td>...</td>\n      <td>...</td>\n      <td>...</td>\n      <td>...</td>\n      <td>...</td>\n      <td>...</td>\n      <td>...</td>\n      <td>...</td>\n      <td>...</td>\n    </tr>\n    <tr>\n      <th>212399</th>\n      <td>The Orphan Of Ellis Island (Time Travel Advent...</td>\n      <td>During a school trip to Ellis Island, Dominick...</td>\n      <td>['Elvira Woodruff']</td>\n      <td>http://books.google.com/books/content?id=J7M-N...</td>\n      <td>http://books.google.com/books?id=J7M-NwAACAAJ&amp;...</td>\n      <td>Scholastic Paperbacks</td>\n      <td>2000-06-01</td>\n      <td>http://books.google.com/books?id=J7M-NwAACAAJ&amp;...</td>\n      <td>['Juvenile Fiction']</td>\n      <td>2.0</td>\n    </tr>\n    <tr>\n      <th>212400</th>\n      <td>Red Boots for Christmas</td>\n      <td>Everyone in the village of Friedensdorf is hap...</td>\n      <td>NaN</td>\n      <td>http://books.google.com/books/content?id=3n8k6...</td>\n      <td>http://books.google.com/books?id=3n8k6wl4BbYC&amp;...</td>\n      <td>NaN</td>\n      <td>1995</td>\n      <td>http://books.google.com/books?id=3n8k6wl4BbYC&amp;...</td>\n      <td>['Juvenile Fiction']</td>\n      <td>NaN</td>\n    </tr>\n    <tr>\n      <th>212401</th>\n      <td>Mamaw</td>\n      <td>Give your Mamaw a useful, beautiful and though...</td>\n      <td>['Wild Wild Cabbage']</td>\n      <td>NaN</td>\n      <td>http://books.google.com/books?id=zytVswEACAAJ&amp;...</td>\n      <td>NaN</td>\n      <td>2018-01-17</td>\n      <td>http://books.google.com/books?id=zytVswEACAAJ&amp;...</td>\n      <td>NaN</td>\n      <td>NaN</td>\n    </tr>\n    <tr>\n      <th>212402</th>\n      <td>The Autograph Man</td>\n      <td>Alex-Li Tandem sells autographs. His business ...</td>\n      <td>['Zadie Smith']</td>\n      <td>http://books.google.com/books/content?id=JM6YV...</td>\n      <td>http://books.google.com/books?id=JM6YVPx_clMC&amp;...</td>\n      <td>Vintage</td>\n      <td>2003-08-12</td>\n      <td>https://play.google.com/store/books/details?id...</td>\n      <td>['Fiction']</td>\n      <td>19.0</td>\n    </tr>\n    <tr>\n      <th>212403</th>\n      <td>Student's Solutions Manual for Johnson/Mowry's...</td>\n      <td>Discover the many ways mathematics is relevant...</td>\n      <td>['David B. Johnson', 'Thomas A. Mowry']</td>\n      <td>http://books.google.com/books/content?id=dehfP...</td>\n      <td>http://books.google.com/books?id=dehfPgAACAAJ&amp;...</td>\n      <td>Brooks/Cole Publishing Company</td>\n      <td>1998-01-01</td>\n      <td>http://books.google.com/books?id=dehfPgAACAAJ&amp;...</td>\n      <td>NaN</td>\n      <td>NaN</td>\n    </tr>\n  </tbody>\n</table>\n<p>212404 rows × 10 columns</p>\n</div>"},"metadata":{}}],"execution_count":8},{"cell_type":"code","source":"#shape of the book dataset\nprint(books_data.shape)\n#columns available in the review dataset\nprint(books_data.columns)\n#remove unnecessary columns from dataset\nkeep_columns = ['Title', 'description', 'authors', 'categories', 'ratingsCount']\nbooks_data = books_data[keep_columns]","metadata":{"tags":[],"cell_id":"fc68483d7d0c45f7a29f2cc12b1a034f","source_hash":"1ca3d0ff","execution_start":1667316285756,"execution_millis":5,"deepnote_to_be_reexecuted":false,"deepnote_cell_type":"code"},"outputs":[{"name":"stdout","text":"(212404, 10)\nIndex(['Title', 'description', 'authors', 'image', 'previewLink', 'publisher',\n       'publishedDate', 'infoLink', 'categories', 'ratingsCount'],\n      dtype='object')\n","output_type":"stream"}],"execution_count":9},{"cell_type":"code","source":"print(f\"Number of books that have a ratings count in this dataset, {books_data[books_data['ratingsCount']>0].shape[0]}\")\nprint(books_data[books_data['Title'].str.contains('Hobbit',na=False)])\n\ngrouped_books = books_data.groupby(['authors']).count()\ngrouped_books[grouped_books['Title']>=5]","metadata":{"tags":[],"cell_id":"b83ca25bae0e4c1f9930ff3db9ac1ccd","source_hash":"c8f5456c","execution_start":1667316285809,"execution_millis":384,"deepnote_to_be_reexecuted":false,"deepnote_cell_type":"code"},"outputs":[{"name":"stdout","text":"Number of books that have a ratings count in this dataset, 49752\n                                                    Title  \\\n5970    The Hobbitt, or there and back again; illustra...   \n29057                                          The Hobbit   \n64705   The Lord of the Rings and The Hobbit (Cliffs N...   \n86754   Hobbits, Elves and Wizards: The Wonders and Wo...   \n89208   Hobbit and The Lord of the Rings, The (Barron'...   \n89771                The Hobbit; Or, There and Back Again   \n130707                 The Hobbit or There and Back Again   \n159000                    The Hobbit There and Back Again   \n176456                              Poems from The Hobbit   \n188737                              Poems from the Hobbit   \n189955  The Individuated Hobbit: Jung, Tolkien and the...   \n\n                                              description  \\\n5970    Bilbo Baggins, a respectable, well-to-do hobbi...   \n29057   Celebrating 75 years of one of the world's mos...   \n64705   Join the journey through Middle-earth in the s...   \n86754                                                 NaN   \n89208                                                 NaN   \n89771                                                 NaN   \n130707  Celebrating 75 years of one of the world's mos...   \n159000  The adventures of the well-to-do hobbit, Bilbo...   \n176456                                                NaN   \n188737  A collection of J.R.R. Tolkien's Hobbit poems ...   \n189955  Shows that the Lord of the Rings can be read i...   \n\n                              authors  \\\n5970             ['J. R. R. Tolkien']   \n29057            ['J. R. R. Tolkien']   \n64705                ['Gene B Hardy']   \n86754                             NaN   \n89208                             NaN   \n89771                             NaN   \n130707           ['J. R. R. Tolkien']   \n159000  ['John Ronald Reuel Tolkien']   \n176456                            NaN   \n188737              ['J R R Tolkien']   \n189955         [\"Timothy R. O'Neill\"]   \n\n                                       categories  ratingsCount  \n5970                                  ['Fiction']           NaN  \n29057                        ['Juvenile Fiction']        2580.0  \n64705                      ['Literary Criticism']           NaN  \n86754                                         NaN           NaN  \n89208                                         NaN           NaN  \n89771                                         NaN           NaN  \n130707                       ['Juvenile Fiction']        2580.0  \n159000                      ['Adventure stories']         139.0  \n176456                                        NaN           NaN  \n188737                ['Fantasy poetry, English']           NaN  \n189955  ['Archetype (Psychology) in literature.']           NaN  \n","output_type":"stream"},{"output_type":"execute_result","execution_count":10,"data":{"application/vnd.deepnote.dataframe.v3+json":{"column_count":4,"row_count":3102,"columns":[{"name":"Title","dtype":"int64","stats":{"unique_count":63,"nan_count":0,"min":"5","max":"236","histogram":[{"bin_start":5,"bin_end":28.1,"count":3008},{"bin_start":28.1,"bin_end":51.2,"count":64},{"bin_start":51.2,"bin_end":74.30000000000001,"count":20},{"bin_start":74.30000000000001,"bin_end":97.4,"count":4},{"bin_start":97.4,"bin_end":120.5,"count":0},{"bin_start":120.5,"bin_end":143.60000000000002,"count":3},{"bin_start":143.60000000000002,"bin_end":166.70000000000002,"count":0},{"bin_start":166.70000000000002,"bin_end":189.8,"count":1},{"bin_start":189.8,"bin_end":212.9,"count":1},{"bin_start":212.9,"bin_end":236,"count":1}]}},{"name":"description","dtype":"int64","stats":{"unique_count":57,"nan_count":0,"min":"0","max":"126","histogram":[{"bin_start":0,"bin_end":12.6,"count":2751},{"bin_start":12.6,"bin_end":25.2,"count":271},{"bin_start":25.2,"bin_end":37.8,"count":47},{"bin_start":37.8,"bin_end":50.4,"count":21},{"bin_start":50.4,"bin_end":63,"count":6},{"bin_start":63,"bin_end":75.6,"count":3},{"bin_start":75.6,"bin_end":88.2,"count":0},{"bin_start":88.2,"bin_end":100.8,"count":0},{"bin_start":100.8,"bin_end":113.39999999999999,"count":0},{"bin_start":113.39999999999999,"bin_end":126,"count":3}]}},{"name":"categories","dtype":"int64","stats":{"unique_count":65,"nan_count":0,"min":"0","max":"236","histogram":[{"bin_start":0,"bin_end":23.6,"count":2987},{"bin_start":23.6,"bin_end":47.2,"count":92},{"bin_start":47.2,"bin_end":70.80000000000001,"count":17},{"bin_start":70.80000000000001,"bin_end":94.4,"count":1},{"bin_start":94.4,"bin_end":118,"count":1},{"bin_start":118,"bin_end":141.60000000000002,"count":2},{"bin_start":141.60000000000002,"bin_end":165.20000000000002,"count":0},{"bin_start":165.20000000000002,"bin_end":188.8,"count":1},{"bin_start":188.8,"bin_end":212.4,"count":0},{"bin_start":212.4,"bin_end":236,"count":1}]}},{"name":"ratingsCount","dtype":"int64","stats":{"unique_count":46,"nan_count":0,"min":"0","max":"104","histogram":[{"bin_start":0,"bin_end":10.4,"count":2855},{"bin_start":10.4,"bin_end":20.8,"count":190},{"bin_start":20.8,"bin_end":31.200000000000003,"count":35},{"bin_start":31.200000000000003,"bin_end":41.6,"count":14},{"bin_start":41.6,"bin_end":52,"count":2},{"bin_start":52,"bin_end":62.400000000000006,"count":3},{"bin_start":62.400000000000006,"bin_end":72.8,"count":1},{"bin_start":72.8,"bin_end":83.2,"count":1},{"bin_start":83.2,"bin_end":93.60000000000001,"count":0},{"bin_start":93.60000000000001,"bin_end":104,"count":1}]}},{"name":"_deepnote_index_column","dtype":"object"}],"rows":[{"Title":"7","description":"7","categories":"7","ratingsCount":"3","_deepnote_index_column":"[\"America's Test Kitchen\"]"},{"Title":"5","description":"5","categories":"5","ratingsCount":"5","_deepnote_index_column":"[\"Bathroom Readers' Institute\"]"},{"Title":"12","description":"8","categories":"11","ratingsCount":"4","_deepnote_index_column":"[\"Eugene O'Neill\"]"},{"Title":"5","description":"5","categories":"5","ratingsCount":"0","_deepnote_index_column":"[\"Fodor's Travel Guides\"]"},{"Title":"5","description":"5","categories":"5","ratingsCount":"0","_deepnote_index_column":"[\"Fodor's Travel Publications, Inc. Staff\"]"},{"Title":"6","description":"6","categories":"6","ratingsCount":"0","_deepnote_index_column":"[\"Fodor's\"]"},{"Title":"6","description":"2","categories":"6","ratingsCount":"2","_deepnote_index_column":"[\"Jack O'Connor\"]"},{"Title":"5","description":"5","categories":"5","ratingsCount":"1","_deepnote_index_column":"[\"John 'Lofty' Wiseman\"]"},{"Title":"11","description":"7","categories":"8","ratingsCount":"4","_deepnote_index_column":"[\"John O'Hara\"]"},{"Title":"24","description":"24","categories":"24","ratingsCount":"1","_deepnote_index_column":"[\"Let's Go Inc.\"]"}]},"text/plain":"                                             Title  description  categories  \\\nauthors                                                                       \n[\"America's Test Kitchen\"]                       7            7           7   \n[\"Bathroom Readers' Institute\"]                  5            5           5   \n[\"Eugene O'Neill\"]                              12            8          11   \n[\"Fodor's Travel Guides\"]                        5            5           5   \n[\"Fodor's Travel Publications, Inc. Staff\"]      5            5           5   \n...                                            ...          ...         ...   \n['Zondervan,']                                  20           20          20   \n['Zora Neale Hurston']                          10           10          10   \n['bell hooks']                                  16           16          16   \n['graf Leo Tolstoy']                             5            3           4   \n['ʻAbduʼl-Bahá']                                 5            0           4   \n\n                                             ratingsCount  \nauthors                                                    \n[\"America's Test Kitchen\"]                              3  \n[\"Bathroom Readers' Institute\"]                         5  \n[\"Eugene O'Neill\"]                                      4  \n[\"Fodor's Travel Guides\"]                               0  \n[\"Fodor's Travel Publications, Inc. Staff\"]             0  \n...                                                   ...  \n['Zondervan,']                                         15  \n['Zora Neale Hurston']                                  5  \n['bell hooks']                                         10  \n['graf Leo Tolstoy']                                    1  \n['ʻAbduʼl-Bahá']                                        4  \n\n[3102 rows x 4 columns]","text/html":"<div>\n<style scoped>\n    .dataframe tbody tr th:only-of-type {\n        vertical-align: middle;\n    }\n\n    .dataframe tbody tr th {\n        vertical-align: top;\n    }\n\n    .dataframe thead th {\n        text-align: right;\n    }\n</style>\n<table border=\"1\" class=\"dataframe\">\n  <thead>\n    <tr style=\"text-align: right;\">\n      <th></th>\n      <th>Title</th>\n      <th>description</th>\n      <th>categories</th>\n      <th>ratingsCount</th>\n    </tr>\n    <tr>\n      <th>authors</th>\n      <th></th>\n      <th></th>\n      <th></th>\n      <th></th>\n    </tr>\n  </thead>\n  <tbody>\n    <tr>\n      <th>[\"America's Test Kitchen\"]</th>\n      <td>7</td>\n      <td>7</td>\n      <td>7</td>\n      <td>3</td>\n    </tr>\n    <tr>\n      <th>[\"Bathroom Readers' Institute\"]</th>\n      <td>5</td>\n      <td>5</td>\n      <td>5</td>\n      <td>5</td>\n    </tr>\n    <tr>\n      <th>[\"Eugene O'Neill\"]</th>\n      <td>12</td>\n      <td>8</td>\n      <td>11</td>\n      <td>4</td>\n    </tr>\n    <tr>\n      <th>[\"Fodor's Travel Guides\"]</th>\n      <td>5</td>\n      <td>5</td>\n      <td>5</td>\n      <td>0</td>\n    </tr>\n    <tr>\n      <th>[\"Fodor's Travel Publications, Inc. Staff\"]</th>\n      <td>5</td>\n      <td>5</td>\n      <td>5</td>\n      <td>0</td>\n    </tr>\n    <tr>\n      <th>...</th>\n      <td>...</td>\n      <td>...</td>\n      <td>...</td>\n      <td>...</td>\n    </tr>\n    <tr>\n      <th>['Zondervan,']</th>\n      <td>20</td>\n      <td>20</td>\n      <td>20</td>\n      <td>15</td>\n    </tr>\n    <tr>\n      <th>['Zora Neale Hurston']</th>\n      <td>10</td>\n      <td>10</td>\n      <td>10</td>\n      <td>5</td>\n    </tr>\n    <tr>\n      <th>['bell hooks']</th>\n      <td>16</td>\n      <td>16</td>\n      <td>16</td>\n      <td>10</td>\n    </tr>\n    <tr>\n      <th>['graf Leo Tolstoy']</th>\n      <td>5</td>\n      <td>3</td>\n      <td>4</td>\n      <td>1</td>\n    </tr>\n    <tr>\n      <th>['ʻAbduʼl-Bahá']</th>\n      <td>5</td>\n      <td>0</td>\n      <td>4</td>\n      <td>4</td>\n    </tr>\n  </tbody>\n</table>\n<p>3102 rows × 4 columns</p>\n</div>"},"metadata":{}}],"execution_count":null},{"cell_type":"code","source":"#check how many of the reviewed books are available in the book dataset by Title\nmerged_df = pd.merge(review_data, books_data, how='inner', on=['Title'])\nprint(merged_df.shape)\nmerged_df.head","metadata":{"tags":[],"cell_id":"e8fa2053695a474f986d9aca58cf3175","source_hash":"c38f66d9","execution_start":1667316286198,"execution_millis":743,"deepnote_to_be_reexecuted":false,"deepnote_cell_type":"code"},"outputs":[{"output_type":"error","ename":"KernelInterrupted","evalue":"Execution interrupted by the Jupyter kernel.","traceback":["\u001b[0;31m---------------------------------------------------------------------------\u001b[0m","\u001b[0;31mKernelInterrupted\u001b[0m: Execution interrupted by the Jupyter kernel."]}],"execution_count":1},{"cell_type":"markdown","source":"### Creating an item profile \nIn order to create an item profile, the authors and category are put into a ","metadata":{"tags":[],"cell_id":"d1c81f11574a4c0f80bf618010e4c5e3","deepnote_cell_type":"markdown"}},{"cell_type":"markdown","source":"Calculate the cosine distance between two matrices","metadata":{"tags":[],"cell_id":"a373da38480c45498e382100f8f7fb44","deepnote_cell_type":"markdown"}},{"cell_type":"code","source":"import numpy as np\nimport scipy.spatial.distance as distance\na = np.array([0.1, 0.2])\nb = np.array([0.3,0.4])\nc = 1 - distance.cosine(a, b)","metadata":{"tags":[],"cell_id":"508922802a6d4e9e8b036445874337be","source_hash":"d84d530d","execution_start":1667315736205,"execution_millis":62,"deepnote_to_be_reexecuted":false,"deepnote_cell_type":"code"},"outputs":[],"execution_count":8},{"cell_type":"markdown","source":"<a style='text-decoration:none;line-height:16px;display:flex;color:#5B5B62;padding:10px;justify-content:end;' href='https://deepnote.com?utm_source=created-in-deepnote-cell&projectId=2bef0313-5b70-4b06-8099-338e6f5003e4' target=\"_blank\">\n<img alt='Created in deepnote.com' style='display:inline;max-height:16px;margin:0px;margin-right:7.5px;' src='data:image/svg+xml;base64,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' > </img>\nCreated in <span style='font-weight:600;margin-left:4px;'>Deepnote</span></a>","metadata":{"tags":[],"created_in_deepnote_cell":true,"deepnote_cell_type":"markdown"}}],"nbformat":4,"nbformat_minor":0,"metadata":{"deepnote":{"is_reactive":false},"orig_nbformat":2,"deepnote_notebook_id":"09ac567bbc314a9c8a9cd448fd06574d","deepnote_execution_queue":[]}}
>>>>>>> de0bd99c11e630514191a6448758de93a823d882

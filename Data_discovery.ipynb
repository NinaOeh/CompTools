{
 "cells": [
  {
   "cell_type": "markdown",
   "source": [
    "## Data"
   ],
   "metadata": {
    "tags": [],
    "cell_id": "6cd958fcd0a5443298ac8c10d8eec733",
    "is_collapsed": false,
    "formattedRanges": [],
    "deepnote_cell_type": "text-cell-h2",
    "pycharm": {
     "name": "#%% md\n"
    }
   }
  },
  {
   "cell_type": "markdown",
   "source": [
    "Where does the data come from? -> provide source and background of data"
   ],
   "metadata": {
    "tags": [],
    "cell_id": "24d9104f88f8415a9d554b460376a805",
    "deepnote_cell_type": "markdown",
    "pycharm": {
     "name": "#%% md\n"
    }
   }
  },
  {
   "cell_type": "markdown",
   "source": [
    "### Data discovery"
   ],
   "metadata": {
    "tags": [],
    "cell_id": "ccbca39049d84b07b7d9ccd43afe96e9",
    "is_collapsed": false,
    "formattedRanges": [],
    "deepnote_cell_type": "text-cell-h3",
    "pycharm": {
     "name": "#%% md\n"
    }
   }
  },
  {
   "cell_type": "markdown",
   "source": [
    "Before the analysis and preprocessing of the data, the data is $/textit{discovered}$ in order to obtain an overview over what data is available at all."
   ],
   "metadata": {
    "tags": [],
    "cell_id": "00af2e73d834483ba9cfe1d4528a3104",
    "deepnote_cell_type": "markdown",
    "pycharm": {
     "name": "#%% md\n"
    }
   }
  },
  {
   "cell_type": "markdown",
   "source": [
    "Integration of necessary libraries and datasets into the notebook."
   ],
   "metadata": {
    "tags": [],
    "cell_id": "9b1c03d677484482be767cd8ccb3e450",
    "deepnote_cell_type": "markdown",
    "pycharm": {
     "name": "#%% md\n"
    }
   }
  },
  {
   "cell_type": "code",
   "source": [
    "!ls /datasets/computational-tools-for-dataanalysis-data\n",
    "import pandas as pd\n",
    "import matplotlib.pyplot as plt"
   ],
   "metadata": {
    "tags": [],
    "cell_id": "a7c26160915d44d5a9315c3d703e94f3",
    "source_hash": "f86d1653",
    "execution_start": 1667316404873,
    "execution_millis": 1125,
    "deepnote_to_be_reexecuted": false,
    "deepnote_cell_type": "code",
    "pycharm": {
     "name": "#%%\n"
    }
   },
   "outputs": [
    {
     "name": "stderr",
     "output_type": "stream",
     "text": [
      "Der Befehl \"ls\" ist entweder falsch geschrieben oder\n",
      "konnte nicht gefunden werden.\n"
     ]
    }
   ],
   "execution_count": 1
  },
  {
   "cell_type": "markdown",
   "source": [
    "#### Review data"
   ],
   "metadata": {
    "tags": [],
    "cell_id": "70aa48eee11f4f30bcdc87eb21a86af3",
    "deepnote_cell_type": "markdown",
    "pycharm": {
     "name": "#%% md\n"
    }
   }
  },
  {
   "cell_type": "markdown",
   "source": [
    "The first dataset contains the review data of the books, matching a user with a book and providing a rating that the user gave the book (from 1-5), as well a review description. The dataset contains 3 million book ratings."
   ],
   "metadata": {
    "tags": [],
    "cell_id": "3a31071d754842bfa7e869470c1e1311",
    "deepnote_cell_type": "markdown",
    "pycharm": {
     "name": "#%% md\n"
    }
   }
  },
  {
   "cell_type": "code",
   "source": [
    "#review_data = pd.read_csv(\"/datasets/computational-tools-for-dataanalysis-data/Books_rating.csv\")\n",
    "review_data = pd.read_csv(\"C:/Users/paulw/OneDrive - Danmarks Tekniske Universitet/02807 - Computational Tools for Data Science/project/Books_rating.csv\")\n",
    "review_data.head()"
   ],
   "metadata": {
    "tags": [],
    "cell_id": "2121cf658b1749f2831a4ca3b12879e0",
    "source_hash": "6d99dbaa",
    "execution_start": 1667316444593,
    "execution_millis": 121281,
    "deepnote_to_be_reexecuted": false,
    "deepnote_cell_type": "code",
    "pycharm": {
     "name": "#%%\n"
    }
   },
   "outputs": [
    {
     "data": {
      "text/plain": "           Id                           Title  Price         User_id  \\\n0  1882931173  Its Only Art If Its Well Hung!    NaN   AVCGYZL8FQQTD   \n1  0826414346        Dr. Seuss: American Icon    NaN  A30TK6U7DNS82R   \n2  0826414346        Dr. Seuss: American Icon    NaN  A3UH4UZ4RSVO82   \n3  0826414346        Dr. Seuss: American Icon    NaN  A2MVUWT453QH61   \n4  0826414346        Dr. Seuss: American Icon    NaN  A22X4XUPKF66MR   \n\n                          profileName review/helpfulness  review/score  \\\n0               Jim of Oz \"jim-of-oz\"                7/7           4.0   \n1                       Kevin Killian              10/10           5.0   \n2                        John Granger              10/11           5.0   \n3  Roy E. Perry \"amateur philosopher\"                7/7           4.0   \n4     D. H. Richards \"ninthwavestore\"                3/3           4.0   \n\n   review/time                                   review/summary  \\\n0    940636800           Nice collection of Julie Strain images   \n1   1095724800                                Really Enjoyed It   \n2   1078790400  Essential for every personal and Public Library   \n3   1090713600  Phlip Nel gives silly Seuss a serious treatment   \n4   1107993600                           Good academic overview   \n\n                                         review/text  \n0  This is only for Julie Strain fans. It's a col...  \n1  I don't care much for Dr. Seuss but after read...  \n2  If people become the books they read and if \"t...  \n3  Theodore Seuss Geisel (1904-1991), aka &quot;D...  \n4  Philip Nel - Dr. Seuss: American IconThis is b...  ",
      "text/html": "<div>\n<style scoped>\n    .dataframe tbody tr th:only-of-type {\n        vertical-align: middle;\n    }\n\n    .dataframe tbody tr th {\n        vertical-align: top;\n    }\n\n    .dataframe thead th {\n        text-align: right;\n    }\n</style>\n<table border=\"1\" class=\"dataframe\">\n  <thead>\n    <tr style=\"text-align: right;\">\n      <th></th>\n      <th>Id</th>\n      <th>Title</th>\n      <th>Price</th>\n      <th>User_id</th>\n      <th>profileName</th>\n      <th>review/helpfulness</th>\n      <th>review/score</th>\n      <th>review/time</th>\n      <th>review/summary</th>\n      <th>review/text</th>\n    </tr>\n  </thead>\n  <tbody>\n    <tr>\n      <th>0</th>\n      <td>1882931173</td>\n      <td>Its Only Art If Its Well Hung!</td>\n      <td>NaN</td>\n      <td>AVCGYZL8FQQTD</td>\n      <td>Jim of Oz \"jim-of-oz\"</td>\n      <td>7/7</td>\n      <td>4.0</td>\n      <td>940636800</td>\n      <td>Nice collection of Julie Strain images</td>\n      <td>This is only for Julie Strain fans. It's a col...</td>\n    </tr>\n    <tr>\n      <th>1</th>\n      <td>0826414346</td>\n      <td>Dr. Seuss: American Icon</td>\n      <td>NaN</td>\n      <td>A30TK6U7DNS82R</td>\n      <td>Kevin Killian</td>\n      <td>10/10</td>\n      <td>5.0</td>\n      <td>1095724800</td>\n      <td>Really Enjoyed It</td>\n      <td>I don't care much for Dr. Seuss but after read...</td>\n    </tr>\n    <tr>\n      <th>2</th>\n      <td>0826414346</td>\n      <td>Dr. Seuss: American Icon</td>\n      <td>NaN</td>\n      <td>A3UH4UZ4RSVO82</td>\n      <td>John Granger</td>\n      <td>10/11</td>\n      <td>5.0</td>\n      <td>1078790400</td>\n      <td>Essential for every personal and Public Library</td>\n      <td>If people become the books they read and if \"t...</td>\n    </tr>\n    <tr>\n      <th>3</th>\n      <td>0826414346</td>\n      <td>Dr. Seuss: American Icon</td>\n      <td>NaN</td>\n      <td>A2MVUWT453QH61</td>\n      <td>Roy E. Perry \"amateur philosopher\"</td>\n      <td>7/7</td>\n      <td>4.0</td>\n      <td>1090713600</td>\n      <td>Phlip Nel gives silly Seuss a serious treatment</td>\n      <td>Theodore Seuss Geisel (1904-1991), aka &amp;quot;D...</td>\n    </tr>\n    <tr>\n      <th>4</th>\n      <td>0826414346</td>\n      <td>Dr. Seuss: American Icon</td>\n      <td>NaN</td>\n      <td>A22X4XUPKF66MR</td>\n      <td>D. H. Richards \"ninthwavestore\"</td>\n      <td>3/3</td>\n      <td>4.0</td>\n      <td>1107993600</td>\n      <td>Good academic overview</td>\n      <td>Philip Nel - Dr. Seuss: American IconThis is b...</td>\n    </tr>\n  </tbody>\n</table>\n</div>"
     },
     "execution_count": 2,
     "metadata": {},
     "output_type": "execute_result"
    }
   ],
   "execution_count": 2
  },
  {
   "cell_type": "code",
   "source": [
    "#shape of the review dataset\n",
    "print(review_data.shape)\n",
    "#columns available in the review dataset\n",
    "print(review_data.columns)\n",
    "#remove unnecessary columns from dataset\n",
    "keep_columns = ['Id', 'Title', 'User_id', 'review/score', 'review/text']\n",
    "review_data = review_data[keep_columns]"
   ],
   "metadata": {
    "tags": [],
    "cell_id": "5ef40b11d7f64ebd89de4a885685da79",
    "source_hash": "e8bb6bb2",
    "execution_start": 1667316266774,
    "execution_millis": 209,
    "deepnote_to_be_reexecuted": false,
    "deepnote_cell_type": "code",
    "pycharm": {
     "name": "#%%\n"
    }
   },
   "outputs": [
    {
     "name": "stdout",
     "output_type": "stream",
     "text": [
      "(3000000, 10)\n",
      "Index(['Id', 'Title', 'Price', 'User_id', 'profileName', 'review/helpfulness',\n",
      "       'review/score', 'review/time', 'review/summary', 'review/text'],\n",
      "      dtype='object')\n"
     ]
    }
   ],
   "execution_count": 3
  },
  {
   "cell_type": "code",
   "source": [
    "grouped_reviews = review_data.groupby(['User_id']).count()\n",
    "print(f\"Number of individual users, {grouped_reviews.shape[0]}\")\n",
    "#check the maximal number of books a person has rated\n",
    "print(f\"Maximal number of reviews that a single user submitted, {max(grouped_reviews['Id'])}\")\n",
    "#check how many people have rated more than 1000 books\n",
    "print(f\"Number of people that have rated more than 1000 books, {grouped_reviews[grouped_reviews['Id']>=1000].shape[0]}\")\n",
    "#check how many people have rated more than 200 books\n",
    "print(f\"Number of people that have rated more than 200 books, {grouped_reviews[grouped_reviews['Id']>=200].shape[0]}\")\n",
    "#remove people that have judged more than 1000 books \n",
    "grouped_reviews = grouped_reviews[grouped_reviews['Id']<=1000]\n",
    "review_data=review_data[review_data['User_id'].isin(grouped_reviews.index)]\n",
    "#check number of people that rated only one book\n",
    "print(f\"Number of people that have rated only one book, {grouped_reviews[grouped_reviews['Id']==1].shape[0]}\")\n",
    "#check number of people that rated more than five books\n",
    "print(f\"Number of people that have rated more than 5 books, {grouped_reviews[grouped_reviews['Id']>=5].shape[0]}\")\n",
    "#show the distribution of rated books\n",
    "fig, ax = plt.subplots()\n",
    "ax.hist(grouped_reviews['Id'], log=True, bins=200)\n",
    "ax.set_ylabel('frequency')\n",
    "ax.set_xlabel('ratings per user')\n",
    "ax.set_title('Distribution of user ratings')\n",
    "fig.show()"
   ],
   "metadata": {
    "tags": [],
    "cell_id": "ef2977dea52b4e8eb93aa22c6305c7d5",
    "source_hash": "4582e2ff",
    "execution_start": 1667316267035,
    "execution_millis": 7226,
    "deepnote_to_be_reexecuted": false,
    "deepnote_cell_type": "code",
    "pycharm": {
     "name": "#%%\n"
    }
   },
   "outputs": [
    {
     "name": "stdout",
     "output_type": "stream",
     "text": [
      "Number of individual users, 1008972\n",
      "Maximal number of reviews that a single user submitted, 5795\n",
      "Number of people that have rated more than 1000 books, 10\n",
      "Number of people that have rated more than 200 books, 336\n",
      "Number of people that have rated only one book, 693716\n",
      "Number of people that have rated more than 5 books, 82795\n"
     ]
    },
    {
     "name": "stderr",
     "output_type": "stream",
     "text": [
      "C:\\Users\\paulw\\AppData\\Local\\Temp\\ipykernel_39468\\1150776213.py:22: UserWarning: Matplotlib is currently using module://matplotlib_inline.backend_inline, which is a non-GUI backend, so cannot show the figure.\n",
      "  fig.show()\n"
     ]
    },
    {
     "data": {
      "text/plain": "<Figure size 432x288 with 1 Axes>",
      "image/png": "[encoded data removed]"
     },
     "metadata": {
      "needs_background": "light"
     },
     "output_type": "display_data"
    }
   ],
   "execution_count": 4
  },
  {
   "cell_type": "markdown",
   "source": [
    "The dataset contains 1008972 unique users of which every user has rated 2.97 books in average. However, the majority of the users has only rated one book (68.75%), and only few users (8.21%) have rated more than 5 books. 10 users have rated more than 1000 books. These users were removed from the dataset as outliers, because it is assumed that their rating behaviour will not be valuable to make predictions to for other users."
   ],
   "metadata": {
    "tags": [],
    "cell_id": "7ba2567c1bd44a739d0c5a716da09181",
    "deepnote_cell_type": "markdown",
    "pycharm": {
     "name": "#%% md\n"
    }
   }
  },
  {
   "cell_type": "code",
   "source": [
    "grouped_books = review_data.groupby(['Title']).count()\n",
    "print(f\"Number of rated books, {grouped_books.shape[0]}\")\n",
    "print(f\"Number of books that have been rated once, {grouped_books[grouped_books['Id']==1].shape[0]}\")\n",
    "print(f\"Book with most ratings is '{review_data[review_data['Title']==grouped_books[grouped_books['Id']==max(grouped_books['Id'])].index[0]]['Title'].reset_index(drop=True)[0]}' with {max(grouped_books['Id'])} ratings.\")\n",
    "fig, ax = plt.subplots()\n",
    "ax.hist(grouped_books['Id'], log=True, bins=200)\n",
    "ax.set_ylabel('frequency')\n",
    "ax.set_xlabel('ratings per book')\n",
    "ax.set_title('Distribution of book ratings')\n",
    "fig.show()"
   ],
   "metadata": {
    "tags": [],
    "cell_id": "3b1776d8ec9b4d82b2ee43cb51e0e84c",
    "source_hash": "f0afaaa3",
    "execution_start": 1667316274392,
    "execution_millis": 2302,
    "deepnote_to_be_reexecuted": false,
    "deepnote_cell_type": "code",
    "pycharm": {
     "name": "#%%\n"
    }
   },
   "outputs": [
    {
     "name": "stdout",
     "output_type": "stream",
     "text": [
      "Number of rated books, 205047\n",
      "Number of books that have been rated once, 69558\n",
      "Book with most ratings is 'The Hobbit' with 18059 ratings.\n"
     ]
    },
    {
     "name": "stderr",
     "output_type": "stream",
     "text": [
      "C:\\Users\\paulw\\AppData\\Local\\Temp\\ipykernel_39468\\4094988773.py:10: UserWarning: Matplotlib is currently using module://matplotlib_inline.backend_inline, which is a non-GUI backend, so cannot show the figure.\n",
      "  fig.show()\n"
     ]
    },
    {
     "data": {
      "text/plain": "<Figure size 432x288 with 1 Axes>",
      "image/png": "[encoded data removed]"
     },
     "metadata": {
      "needs_background": "light"
     },
     "output_type": "display_data"
    }
   ],
   "execution_count": 5
  },
  {
   "cell_type": "markdown",
   "source": [
    "In total 205047 books have been rated, of which 33.92% have been rated once. The book with the most ratings is 'The Hobbit' with 18059 ratings."
   ],
   "metadata": {
    "tags": [],
    "cell_id": "40c61daeb86e4a4cb50d4464fab0169a",
    "deepnote_cell_type": "markdown",
    "pycharm": {
     "name": "#%% md\n"
    }
   }
  },
  {
   "cell_type": "code",
   "source": [
    "print(review_data[review_data['Title'].str.contains('Hobbit',na=False)])"
   ],
   "metadata": {
    "tags": [],
    "cell_id": "15049f70807340c29265a26b894d013b",
    "source_hash": "b415e973",
    "execution_start": 1667316276797,
    "execution_millis": 1088,
    "deepnote_to_be_reexecuted": false,
    "deepnote_cell_type": "code",
    "pycharm": {
     "name": "#%%\n"
    }
   },
   "outputs": [
    {
     "name": "stdout",
     "output_type": "stream",
     "text": [
      "                 Id                                              Title  \\\n",
      "86547    B000NWU3I4  The Hobbitt, or there and back again; illustra...   \n",
      "86548    B000NWU3I4  The Hobbitt, or there and back again; illustra...   \n",
      "86549    B000NWU3I4  The Hobbitt, or there and back again; illustra...   \n",
      "86550    B000NWU3I4  The Hobbitt, or there and back again; illustra...   \n",
      "86551    B000NWU3I4  The Hobbitt, or there and back again; illustra...   \n",
      "...             ...                                                ...   \n",
      "2978151  B000Q032UY                 The Hobbit or There and Back Again   \n",
      "2978152  B000Q032UY                 The Hobbit or There and Back Again   \n",
      "2978153  B000Q032UY                 The Hobbit or There and Back Again   \n",
      "2978154  B000Q032UY                 The Hobbit or There and Back Again   \n",
      "2978155  B000Q032UY                 The Hobbit or There and Back Again   \n",
      "\n",
      "                User_id  review/score  \\\n",
      "86547     AXX9R9P27CFFS           5.0   \n",
      "86548    A3VKLBHDXSJADC           5.0   \n",
      "86549    A3MZ7U03T9VQA4           5.0   \n",
      "86550    A2YSSBKYXXSM6W           5.0   \n",
      "86551    A317EU0ROFG09T           5.0   \n",
      "...                 ...           ...   \n",
      "2978151  A279AQACCA2L0K           4.0   \n",
      "2978152  A1BHMR3GPOODJR           4.0   \n",
      "2978153  A224BVW6YQS3VF           5.0   \n",
      "2978154   AXAOSQ8N0CM0M           5.0   \n",
      "2978155   A373U8EOPLTMJ           5.0   \n",
      "\n",
      "                                               review/text  \n",
      "86547    Beautiful book. Cover and art are incredible. ...  \n",
      "86548    This book is very reasonably priced. It will b...  \n",
      "86549    I bought the audio CD's about 5 years ago from...  \n",
      "86550    I read this book years ago, but never bought a...  \n",
      "86551    I bought this as a gift for someone and I am t...  \n",
      "...                                                    ...  \n",
      "2978151  The Hobbit is wonderful. It describes a lot. I...  \n",
      "2978152  I like the book, it is easy to read and makes ...  \n",
      "2978153  The Hobbit will always be a classic and this e...  \n",
      "2978154  It is easy to be swept away by the writings of...  \n",
      "2978155  It was a very adventurous book. I plan on read...  \n",
      "\n",
      "[32597 rows x 5 columns]\n"
     ]
    }
   ],
   "execution_count": 6
  },
  {
   "cell_type": "markdown",
   "source": [
    "#### Book data"
   ],
   "metadata": {
    "tags": [],
    "cell_id": "9c6e94e37aa94620afc5d3c95ea15e1a",
    "deepnote_cell_type": "markdown",
    "pycharm": {
     "name": "#%% md\n"
    }
   }
  },
  {
   "cell_type": "markdown",
   "source": [
    "The second dataset contains information about the books themselves. Including the book title and Id, the author a description of the book and a book category. Furthermore, the book dataset contains a column with the average user rating."
   ],
   "metadata": {
    "tags": [],
    "cell_id": "3fd1d1666b414b18973dc41b03cacc2c",
    "deepnote_cell_type": "markdown",
    "pycharm": {
     "name": "#%% md\n"
    }
   }
  },
  {
   "cell_type": "code",
   "source": [
    "#books_data = pd.read_csv(\"/datasets/computational-tools-for-dataanalysis-data/books_data.csv\")\n",
    "books_data = pd.read_csv(\"C:/Users/paulw/OneDrive - Danmarks Tekniske Universitet/02807 - Computational Tools for Data Science/project/books_data.csv\")\n",
    "books_data.head"
   ],
   "metadata": {
    "tags": [],
    "cell_id": "511cc70fbdc94ce99e1015aaefae5a3e",
    "source_hash": "3154b504",
    "execution_start": 1667316277929,
    "execution_millis": 7815,
    "deepnote_to_be_reexecuted": false,
    "deepnote_cell_type": "code",
    "pycharm": {
     "name": "#%%\n"
    }
   },
   "outputs": [
    {
     "data": {
      "text/plain": "<bound method NDFrame.head of                                                     Title  \\\n0                          Its Only Art If Its Well Hung!   \n1                                Dr. Seuss: American Icon   \n2                   Wonderful Worship in Smaller Churches   \n3                           Whispers of the Wicked Saints   \n4       Nation Dance: Religion, Identity and Cultural ...   \n...                                                   ...   \n212399  The Orphan Of Ellis Island (Time Travel Advent...   \n212400                            Red Boots for Christmas   \n212401                                              Mamaw   \n212402                                  The Autograph Man   \n212403  Student's Solutions Manual for Johnson/Mowry's...   \n\n                                              description  \\\n0                                                     NaN   \n1       Philip Nel takes a fascinating look into the k...   \n2       This resource includes twelve principles in un...   \n3       Julia Thomas finds her life spinning out of co...   \n4                                                     NaN   \n...                                                   ...   \n212399  During a school trip to Ellis Island, Dominick...   \n212400  Everyone in the village of Friedensdorf is hap...   \n212401  Give your Mamaw a useful, beautiful and though...   \n212402  Alex-Li Tandem sells autographs. His business ...   \n212403  Discover the many ways mathematics is relevant...   \n\n                                        authors  \\\n0                              ['Julie Strain']   \n1                                ['Philip Nel']   \n2                              ['David R. Ray']   \n3                           ['Veronica Haddon']   \n4                               ['Edward Long']   \n...                                         ...   \n212399                      ['Elvira Woodruff']   \n212400                                      NaN   \n212401                    ['Wild Wild Cabbage']   \n212402                          ['Zadie Smith']   \n212403  ['David B. Johnson', 'Thomas A. Mowry']   \n\n                                                    image  \\\n0       http://books.google.com/books/content?id=DykPA...   \n1       http://books.google.com/books/content?id=IjvHQ...   \n2       http://books.google.com/books/content?id=2tsDA...   \n3       http://books.google.com/books/content?id=aRSIg...   \n4                                                     NaN   \n...                                                   ...   \n212399  http://books.google.com/books/content?id=J7M-N...   \n212400  http://books.google.com/books/content?id=3n8k6...   \n212401                                                NaN   \n212402  http://books.google.com/books/content?id=JM6YV...   \n212403  http://books.google.com/books/content?id=dehfP...   \n\n                                              previewLink  \\\n0       http://books.google.nl/books?id=DykPAAAACAAJ&d...   \n1       http://books.google.nl/books?id=IjvHQsCn_pgC&p...   \n2       http://books.google.nl/books?id=2tsDAAAACAAJ&d...   \n3       http://books.google.nl/books?id=aRSIgJlq6JwC&d...   \n4       http://books.google.nl/books?id=399SPgAACAAJ&d...   \n...                                                   ...   \n212399  http://books.google.com/books?id=J7M-NwAACAAJ&...   \n212400  http://books.google.com/books?id=3n8k6wl4BbYC&...   \n212401  http://books.google.com/books?id=zytVswEACAAJ&...   \n212402  http://books.google.com/books?id=JM6YVPx_clMC&...   \n212403  http://books.google.com/books?id=dehfPgAACAAJ&...   \n\n                             publisher publishedDate  \\\n0                                  NaN          1996   \n1                            A&C Black    2005-01-01   \n2                                  NaN          2000   \n3                            iUniverse       2005-02   \n4                                  NaN    2003-03-01   \n...                                ...           ...   \n212399           Scholastic Paperbacks    2000-06-01   \n212400                             NaN          1995   \n212401                             NaN    2018-01-17   \n212402                         Vintage    2003-08-12   \n212403  Brooks/Cole Publishing Company    1998-01-01   \n\n                                                 infoLink  \\\n0       http://books.google.nl/books?id=DykPAAAACAAJ&d...   \n1       http://books.google.nl/books?id=IjvHQsCn_pgC&d...   \n2       http://books.google.nl/books?id=2tsDAAAACAAJ&d...   \n3       http://books.google.nl/books?id=aRSIgJlq6JwC&d...   \n4       http://books.google.nl/books?id=399SPgAACAAJ&d...   \n...                                                   ...   \n212399  http://books.google.com/books?id=J7M-NwAACAAJ&...   \n212400  http://books.google.com/books?id=3n8k6wl4BbYC&...   \n212401  http://books.google.com/books?id=zytVswEACAAJ&...   \n212402  https://play.google.com/store/books/details?id...   \n212403  http://books.google.com/books?id=dehfPgAACAAJ&...   \n\n                           categories  ratingsCount  \n0         ['Comics & Graphic Novels']           NaN  \n1       ['Biography & Autobiography']           NaN  \n2                        ['Religion']           NaN  \n3                         ['Fiction']           NaN  \n4                                 NaN           NaN  \n...                               ...           ...  \n212399           ['Juvenile Fiction']           2.0  \n212400           ['Juvenile Fiction']           NaN  \n212401                            NaN           NaN  \n212402                    ['Fiction']          19.0  \n212403                            NaN           NaN  \n\n[212404 rows x 10 columns]>"
     },
     "execution_count": 7,
     "metadata": {},
     "output_type": "execute_result"
    }
   ],
   "execution_count": 7
  },
  {
   "cell_type": "code",
   "source": [
    "#shape of the book dataset\n",
    "print(books_data.shape)\n",
    "#columns available in the review dataset\n",
    "print(books_data.columns)\n",
    "#remove unnecessary columns from dataset\n",
    "keep_columns = ['Title', 'description', 'authors', 'categories', 'ratingsCount']\n",
    "books_data = books_data[keep_columns]"
   ],
   "metadata": {
    "tags": [],
    "cell_id": "fc68483d7d0c45f7a29f2cc12b1a034f",
    "source_hash": "1ca3d0ff",
    "execution_start": 1667316285756,
    "execution_millis": 5,
    "deepnote_to_be_reexecuted": false,
    "deepnote_cell_type": "code",
    "pycharm": {
     "name": "#%%\n"
    }
   },
   "outputs": [
    {
     "name": "stdout",
     "output_type": "stream",
     "text": [
      "(212404, 10)\n",
      "Index(['Title', 'description', 'authors', 'image', 'previewLink', 'publisher',\n",
      "       'publishedDate', 'infoLink', 'categories', 'ratingsCount'],\n",
      "      dtype='object')\n"
     ]
    }
   ],
   "execution_count": 8
  },
  {
   "cell_type": "code",
   "source": [
    "print(f\"Number of books that have a ratings count in this dataset, {books_data[books_data['ratingsCount']>0].shape[0]}\")\n",
    "print(books_data[books_data['Title'].str.contains('Hobbit',na=False)])\n",
    "\n",
    "grouped_books = books_data.groupby(['authors']).count()\n",
    "grouped_books[grouped_books['Title']>=5]"
   ],
   "metadata": {
    "tags": [],
    "cell_id": "b83ca25bae0e4c1f9930ff3db9ac1ccd",
    "source_hash": "c8f5456c",
    "execution_start": 1667316285809,
    "execution_millis": 384,
    "deepnote_to_be_reexecuted": false,
    "deepnote_cell_type": "code",
    "pycharm": {
     "name": "#%%\n"
    }
   },
   "outputs": [
    {
     "name": "stdout",
     "output_type": "stream",
     "text": [
      "Number of books that have a ratings count in this dataset, 49752\n",
      "                                                    Title  \\\n",
      "5970    The Hobbitt, or there and back again; illustra...   \n",
      "29057                                          The Hobbit   \n",
      "64705   The Lord of the Rings and The Hobbit (Cliffs N...   \n",
      "86754   Hobbits, Elves and Wizards: The Wonders and Wo...   \n",
      "89208   Hobbit and The Lord of the Rings, The (Barron'...   \n",
      "89771                The Hobbit; Or, There and Back Again   \n",
      "130707                 The Hobbit or There and Back Again   \n",
      "159000                    The Hobbit There and Back Again   \n",
      "176456                              Poems from The Hobbit   \n",
      "188737                              Poems from the Hobbit   \n",
      "189955  The Individuated Hobbit: Jung, Tolkien and the...   \n",
      "\n",
      "                                              description  \\\n",
      "5970    Bilbo Baggins, a respectable, well-to-do hobbi...   \n",
      "29057   Celebrating 75 years of one of the world's mos...   \n",
      "64705   Join the journey through Middle-earth in the s...   \n",
      "86754                                                 NaN   \n",
      "89208                                                 NaN   \n",
      "89771                                                 NaN   \n",
      "130707  Celebrating 75 years of one of the world's mos...   \n",
      "159000  The adventures of the well-to-do hobbit, Bilbo...   \n",
      "176456                                                NaN   \n",
      "188737  A collection of J.R.R. Tolkien's Hobbit poems ...   \n",
      "189955  Shows that the Lord of the Rings can be read i...   \n",
      "\n",
      "                              authors  \\\n",
      "5970             ['J. R. R. Tolkien']   \n",
      "29057            ['J. R. R. Tolkien']   \n",
      "64705                ['Gene B Hardy']   \n",
      "86754                             NaN   \n",
      "89208                             NaN   \n",
      "89771                             NaN   \n",
      "130707           ['J. R. R. Tolkien']   \n",
      "159000  ['John Ronald Reuel Tolkien']   \n",
      "176456                            NaN   \n",
      "188737              ['J R R Tolkien']   \n",
      "189955         [\"Timothy R. O'Neill\"]   \n",
      "\n",
      "                                       categories  ratingsCount  \n",
      "5970                                  ['Fiction']           NaN  \n",
      "29057                        ['Juvenile Fiction']        2580.0  \n",
      "64705                      ['Literary Criticism']           NaN  \n",
      "86754                                         NaN           NaN  \n",
      "89208                                         NaN           NaN  \n",
      "89771                                         NaN           NaN  \n",
      "130707                       ['Juvenile Fiction']        2580.0  \n",
      "159000                      ['Adventure stories']         139.0  \n",
      "176456                                        NaN           NaN  \n",
      "188737                ['Fantasy poetry, English']           NaN  \n",
      "189955  ['Archetype (Psychology) in literature.']           NaN  \n"
     ]
    },
    {
     "data": {
      "text/plain": "                                             Title  description  categories  \\\nauthors                                                                       \n[\"America's Test Kitchen\"]                       7            7           7   \n[\"Bathroom Readers' Institute\"]                  5            5           5   \n[\"Eugene O'Neill\"]                              12            8          11   \n[\"Fodor's Travel Guides\"]                        5            5           5   \n[\"Fodor's Travel Publications, Inc. Staff\"]      5            5           5   \n...                                            ...          ...         ...   \n['Zondervan,']                                  20           20          20   \n['Zora Neale Hurston']                          10           10          10   \n['bell hooks']                                  16           16          16   \n['graf Leo Tolstoy']                             5            3           4   \n['ʻAbduʼl-Bahá']                                 5            0           4   \n\n                                             ratingsCount  \nauthors                                                    \n[\"America's Test Kitchen\"]                              3  \n[\"Bathroom Readers' Institute\"]                         5  \n[\"Eugene O'Neill\"]                                      4  \n[\"Fodor's Travel Guides\"]                               0  \n[\"Fodor's Travel Publications, Inc. Staff\"]             0  \n...                                                   ...  \n['Zondervan,']                                         15  \n['Zora Neale Hurston']                                  5  \n['bell hooks']                                         10  \n['graf Leo Tolstoy']                                    1  \n['ʻAbduʼl-Bahá']                                        4  \n\n[3102 rows x 4 columns]",
      "text/html": "<div>\n<style scoped>\n    .dataframe tbody tr th:only-of-type {\n        vertical-align: middle;\n    }\n\n    .dataframe tbody tr th {\n        vertical-align: top;\n    }\n\n    .dataframe thead th {\n        text-align: right;\n    }\n</style>\n<table border=\"1\" class=\"dataframe\">\n  <thead>\n    <tr style=\"text-align: right;\">\n      <th></th>\n      <th>Title</th>\n      <th>description</th>\n      <th>categories</th>\n      <th>ratingsCount</th>\n    </tr>\n    <tr>\n      <th>authors</th>\n      <th></th>\n      <th></th>\n      <th></th>\n      <th></th>\n    </tr>\n  </thead>\n  <tbody>\n    <tr>\n      <th>[\"America's Test Kitchen\"]</th>\n      <td>7</td>\n      <td>7</td>\n      <td>7</td>\n      <td>3</td>\n    </tr>\n    <tr>\n      <th>[\"Bathroom Readers' Institute\"]</th>\n      <td>5</td>\n      <td>5</td>\n      <td>5</td>\n      <td>5</td>\n    </tr>\n    <tr>\n      <th>[\"Eugene O'Neill\"]</th>\n      <td>12</td>\n      <td>8</td>\n      <td>11</td>\n      <td>4</td>\n    </tr>\n    <tr>\n      <th>[\"Fodor's Travel Guides\"]</th>\n      <td>5</td>\n      <td>5</td>\n      <td>5</td>\n      <td>0</td>\n    </tr>\n    <tr>\n      <th>[\"Fodor's Travel Publications, Inc. Staff\"]</th>\n      <td>5</td>\n      <td>5</td>\n      <td>5</td>\n      <td>0</td>\n    </tr>\n    <tr>\n      <th>...</th>\n      <td>...</td>\n      <td>...</td>\n      <td>...</td>\n      <td>...</td>\n    </tr>\n    <tr>\n      <th>['Zondervan,']</th>\n      <td>20</td>\n      <td>20</td>\n      <td>20</td>\n      <td>15</td>\n    </tr>\n    <tr>\n      <th>['Zora Neale Hurston']</th>\n      <td>10</td>\n      <td>10</td>\n      <td>10</td>\n      <td>5</td>\n    </tr>\n    <tr>\n      <th>['bell hooks']</th>\n      <td>16</td>\n      <td>16</td>\n      <td>16</td>\n      <td>10</td>\n    </tr>\n    <tr>\n      <th>['graf Leo Tolstoy']</th>\n      <td>5</td>\n      <td>3</td>\n      <td>4</td>\n      <td>1</td>\n    </tr>\n    <tr>\n      <th>['ʻAbduʼl-Bahá']</th>\n      <td>5</td>\n      <td>0</td>\n      <td>4</td>\n      <td>4</td>\n    </tr>\n  </tbody>\n</table>\n<p>3102 rows × 4 columns</p>\n</div>"
     },
     "execution_count": 9,
     "metadata": {},
     "output_type": "execute_result"
    }
   ],
   "execution_count": 9
  },
  {
   "cell_type": "code",
   "source": [
    "#check how many of the reviewed books are available in the book dataset by Title\n",
    "merged_df = pd.merge(review_data, books_data, how='inner', on=['Title'])\n",
    "print(merged_df.shape)\n",
    "merged_df.head()"
   ],
   "metadata": {
    "tags": [],
    "cell_id": "e8fa2053695a474f986d9aca58cf3175",
    "source_hash": "c38f66d9",
    "execution_start": 1667316286198,
    "execution_millis": 743,
    "deepnote_to_be_reexecuted": false,
    "deepnote_cell_type": "code",
    "pycharm": {
     "name": "#%%\n"
    }
   },
   "outputs": [
    {
     "name": "stdout",
     "output_type": "stream",
     "text": [
      "(2415682, 9)\n"
     ]
    },
    {
     "data": {
      "text/plain": "           Id                           Title         User_id  review/score  \\\n0  1882931173  Its Only Art If Its Well Hung!   AVCGYZL8FQQTD           4.0   \n1  0826414346        Dr. Seuss: American Icon  A30TK6U7DNS82R           5.0   \n2  0826414346        Dr. Seuss: American Icon  A3UH4UZ4RSVO82           5.0   \n3  0826414346        Dr. Seuss: American Icon  A2MVUWT453QH61           4.0   \n4  0826414346        Dr. Seuss: American Icon  A22X4XUPKF66MR           4.0   \n\n                                         review/text  \\\n0  This is only for Julie Strain fans. It's a col...   \n1  I don't care much for Dr. Seuss but after read...   \n2  If people become the books they read and if \"t...   \n3  Theodore Seuss Geisel (1904-1991), aka &quot;D...   \n4  Philip Nel - Dr. Seuss: American IconThis is b...   \n\n                                         description           authors  \\\n0                                                NaN  ['Julie Strain']   \n1  Philip Nel takes a fascinating look into the k...    ['Philip Nel']   \n2  Philip Nel takes a fascinating look into the k...    ['Philip Nel']   \n3  Philip Nel takes a fascinating look into the k...    ['Philip Nel']   \n4  Philip Nel takes a fascinating look into the k...    ['Philip Nel']   \n\n                      categories  ratingsCount  \n0    ['Comics & Graphic Novels']           NaN  \n1  ['Biography & Autobiography']           NaN  \n2  ['Biography & Autobiography']           NaN  \n3  ['Biography & Autobiography']           NaN  \n4  ['Biography & Autobiography']           NaN  ",
      "text/html": "<div>\n<style scoped>\n    .dataframe tbody tr th:only-of-type {\n        vertical-align: middle;\n    }\n\n    .dataframe tbody tr th {\n        vertical-align: top;\n    }\n\n    .dataframe thead th {\n        text-align: right;\n    }\n</style>\n<table border=\"1\" class=\"dataframe\">\n  <thead>\n    <tr style=\"text-align: right;\">\n      <th></th>\n      <th>Id</th>\n      <th>Title</th>\n      <th>User_id</th>\n      <th>review/score</th>\n      <th>review/text</th>\n      <th>description</th>\n      <th>authors</th>\n      <th>categories</th>\n      <th>ratingsCount</th>\n    </tr>\n  </thead>\n  <tbody>\n    <tr>\n      <th>0</th>\n      <td>1882931173</td>\n      <td>Its Only Art If Its Well Hung!</td>\n      <td>AVCGYZL8FQQTD</td>\n      <td>4.0</td>\n      <td>This is only for Julie Strain fans. It's a col...</td>\n      <td>NaN</td>\n      <td>['Julie Strain']</td>\n      <td>['Comics &amp; Graphic Novels']</td>\n      <td>NaN</td>\n    </tr>\n    <tr>\n      <th>1</th>\n      <td>0826414346</td>\n      <td>Dr. Seuss: American Icon</td>\n      <td>A30TK6U7DNS82R</td>\n      <td>5.0</td>\n      <td>I don't care much for Dr. Seuss but after read...</td>\n      <td>Philip Nel takes a fascinating look into the k...</td>\n      <td>['Philip Nel']</td>\n      <td>['Biography &amp; Autobiography']</td>\n      <td>NaN</td>\n    </tr>\n    <tr>\n      <th>2</th>\n      <td>0826414346</td>\n      <td>Dr. Seuss: American Icon</td>\n      <td>A3UH4UZ4RSVO82</td>\n      <td>5.0</td>\n      <td>If people become the books they read and if \"t...</td>\n      <td>Philip Nel takes a fascinating look into the k...</td>\n      <td>['Philip Nel']</td>\n      <td>['Biography &amp; Autobiography']</td>\n      <td>NaN</td>\n    </tr>\n    <tr>\n      <th>3</th>\n      <td>0826414346</td>\n      <td>Dr. Seuss: American Icon</td>\n      <td>A2MVUWT453QH61</td>\n      <td>4.0</td>\n      <td>Theodore Seuss Geisel (1904-1991), aka &amp;quot;D...</td>\n      <td>Philip Nel takes a fascinating look into the k...</td>\n      <td>['Philip Nel']</td>\n      <td>['Biography &amp; Autobiography']</td>\n      <td>NaN</td>\n    </tr>\n    <tr>\n      <th>4</th>\n      <td>0826414346</td>\n      <td>Dr. Seuss: American Icon</td>\n      <td>A22X4XUPKF66MR</td>\n      <td>4.0</td>\n      <td>Philip Nel - Dr. Seuss: American IconThis is b...</td>\n      <td>Philip Nel takes a fascinating look into the k...</td>\n      <td>['Philip Nel']</td>\n      <td>['Biography &amp; Autobiography']</td>\n      <td>NaN</td>\n    </tr>\n  </tbody>\n</table>\n</div>"
     },
     "execution_count": 11,
     "metadata": {},
     "output_type": "execute_result"
    }
   ],
   "execution_count": 11
  },
  {
   "cell_type": "markdown",
   "source": [
    "### Creating an item profile \n",
    "In order to create an item profile, the authors and category are put into a "
   ],
   "metadata": {
    "tags": [],
    "cell_id": "d1c81f11574a4c0f80bf618010e4c5e3",
    "deepnote_cell_type": "markdown",
    "pycharm": {
     "name": "#%% md\n"
    }
   }
  },
  {
   "cell_type": "markdown",
   "source": [
    "Calculate the cosine distance between two matrices"
   ],
   "metadata": {
    "tags": [],
    "cell_id": "a373da38480c45498e382100f8f7fb44",
    "deepnote_cell_type": "markdown",
    "pycharm": {
     "name": "#%% md\n"
    }
   }
  },
  {
   "cell_type": "code",
   "execution_count": 13,
   "outputs": [],
   "source": [
    "import numpy as np\n",
    "import scipy.spatial.distance as distance\n",
    "from scipy import sparse"
   ],
   "metadata": {
    "collapsed": false,
    "pycharm": {
     "name": "#%%\n"
    }
   }
  },
  {
   "cell_type": "code",
   "source": [
    "\n",
    "a = np.array([0.1, 0.2])\n",
    "b = np.array([0.3,0.4])\n",
    "c = 1 - distance.cosine(a, b)"
   ],
   "metadata": {
    "tags": [],
    "cell_id": "508922802a6d4e9e8b036445874337be",
    "source_hash": "d84d530d",
    "execution_start": 1667315736205,
    "execution_millis": 62,
    "deepnote_to_be_reexecuted": false,
    "deepnote_cell_type": "code",
    "pycharm": {
     "name": "#%%\n"
    }
   },
   "outputs": [],
   "execution_count": 8
  },
  {
   "cell_type": "markdown",
   "source": [
    "### Creating the normalized utility matrix\n",
    "If we had more than our local machines available, it would make sense to use distributed machines with map-reduce in order to handle this problem.\n",
    "The utility matrix already gets fairly big if we want to process it in a dense format."
   ],
   "metadata": {
    "collapsed": false,
    "pycharm": {
     "name": "#%% md\n"
    }
   }
  },
  {
   "cell_type": "code",
   "execution_count": 16,
   "outputs": [],
   "source": [
    "# Calculating the average rating of each user\n",
    "avg_rating = (merged_df[[\"User_id\", \"review/score\"]].\n",
    "groupby(\"User_id\").mean())"
   ],
   "metadata": {
    "collapsed": false,
    "pycharm": {
     "name": "#%%\n"
    }
   }
  },
  {
   "cell_type": "code",
   "execution_count": 55,
   "outputs": [
    {
     "name": "stdout",
     "output_type": "stream",
     "text": [
      "Number of books in the merged dataset 205048\n",
      "Number of users in the merged dataset 1008962\n"
     ]
    }
   ],
   "source": [
    "print(f\"Number of books in the merged dataset {len(merged_df['Title'].drop_duplicates())}\")\n",
    "print(f\"Number of users in the merged dataset {len(merged_df['User_id'].drop_duplicates())}\")"
   ],
   "metadata": {
    "collapsed": false,
    "pycharm": {
     "name": "#%%\n"
    }
   }
  },
  {
   "cell_type": "markdown",
   "source": [
    "This means our utility matrix will end up being 1008962x205048 - a very large matrix.\n",
    "In order to handle a matrix of this size, we need to look at sparse matrices (most entries will be empty anyways)"
   ],
   "metadata": {
    "collapsed": false,
    "pycharm": {
     "name": "#%% md\n"
    }
   }
  },
  {
   "cell_type": "code",
   "execution_count": 58,
   "outputs": [
    {
     "data": {
      "text/plain": "                                                     Title  \\\n1530761                  This Calder Range (Calder Saga's)   \n1125585                       The Queen of Harlem: A Novel   \n1510574                                       ATTITUDE 101   \n750686                          The Richest Man in Babylon   \n1357681                         The richest man in Babylon   \n...                                                    ...   \n1281294  Tactics of the Crescent Moon: Militant Muslim ...   \n1279708  The Tiger's Way: A U.S. Private's Best Chance ...   \n1895267                                                Out   \n1895413                                                Out   \n1288044  The Unofficial Guideto Starting a Small Busine...   \n\n                       User_id  review/score  \n1530761  A00109803PZJ91RLT7DPN           5.0  \n1125585  A00117421L76WVWG4UX95           5.0  \n1510574   A0015610VMNR0JC9XVL1           3.0  \n750686    A0015610VMNR0JC9XVL1           5.0  \n1357681   A0015610VMNR0JC9XVL1           5.0  \n...                        ...           ...  \n1281294          AZZZT14MS21I6           5.0  \n1279708          AZZZT14MS21I6           5.0  \n1895267          AZZZYCR4NZADZ           5.0  \n1895413          AZZZYCR4NZADZ           5.0  \n1288044          AZZZZW74AAX75           5.0  \n\n[2415682 rows x 3 columns]",
      "text/html": "<div>\n<style scoped>\n    .dataframe tbody tr th:only-of-type {\n        vertical-align: middle;\n    }\n\n    .dataframe tbody tr th {\n        vertical-align: top;\n    }\n\n    .dataframe thead th {\n        text-align: right;\n    }\n</style>\n<table border=\"1\" class=\"dataframe\">\n  <thead>\n    <tr style=\"text-align: right;\">\n      <th></th>\n      <th>Title</th>\n      <th>User_id</th>\n      <th>review/score</th>\n    </tr>\n  </thead>\n  <tbody>\n    <tr>\n      <th>1530761</th>\n      <td>This Calder Range (Calder Saga's)</td>\n      <td>A00109803PZJ91RLT7DPN</td>\n      <td>5.0</td>\n    </tr>\n    <tr>\n      <th>1125585</th>\n      <td>The Queen of Harlem: A Novel</td>\n      <td>A00117421L76WVWG4UX95</td>\n      <td>5.0</td>\n    </tr>\n    <tr>\n      <th>1510574</th>\n      <td>ATTITUDE 101</td>\n      <td>A0015610VMNR0JC9XVL1</td>\n      <td>3.0</td>\n    </tr>\n    <tr>\n      <th>750686</th>\n      <td>The Richest Man in Babylon</td>\n      <td>A0015610VMNR0JC9XVL1</td>\n      <td>5.0</td>\n    </tr>\n    <tr>\n      <th>1357681</th>\n      <td>The richest man in Babylon</td>\n      <td>A0015610VMNR0JC9XVL1</td>\n      <td>5.0</td>\n    </tr>\n    <tr>\n      <th>...</th>\n      <td>...</td>\n      <td>...</td>\n      <td>...</td>\n    </tr>\n    <tr>\n      <th>1281294</th>\n      <td>Tactics of the Crescent Moon: Militant Muslim ...</td>\n      <td>AZZZT14MS21I6</td>\n      <td>5.0</td>\n    </tr>\n    <tr>\n      <th>1279708</th>\n      <td>The Tiger's Way: A U.S. Private's Best Chance ...</td>\n      <td>AZZZT14MS21I6</td>\n      <td>5.0</td>\n    </tr>\n    <tr>\n      <th>1895267</th>\n      <td>Out</td>\n      <td>AZZZYCR4NZADZ</td>\n      <td>5.0</td>\n    </tr>\n    <tr>\n      <th>1895413</th>\n      <td>Out</td>\n      <td>AZZZYCR4NZADZ</td>\n      <td>5.0</td>\n    </tr>\n    <tr>\n      <th>1288044</th>\n      <td>The Unofficial Guideto Starting a Small Busine...</td>\n      <td>AZZZZW74AAX75</td>\n      <td>5.0</td>\n    </tr>\n  </tbody>\n</table>\n<p>2415682 rows × 3 columns</p>\n</div>"
     },
     "execution_count": 58,
     "metadata": {},
     "output_type": "execute_result"
    }
   ],
   "source": [
    "merged_df[[\"Title\", \"User_id\", \"review/score\"]].sort_values([\"User_id\", \"Title\"])\n",
    "# looking at this it looks as if some users rated the same book twice (the title only varies slightly)\n",
    "# look at id 750686 & 1357681]"
   ],
   "metadata": {
    "collapsed": false,
    "pycharm": {
     "name": "#%%\n"
    }
   }
  },
  {
   "cell_type": "code",
   "execution_count": 79,
   "outputs": [
    {
     "data": {
      "text/plain": "               Id Title         User_id  review/score  \\\n17063  B00005XZDV   NaN   AY44TQ8XGQ7RR           5.0   \n17064  0801841119   NaN  A3F19JZZ07PDX0           1.0   \n17065  0801841119   NaN  A1JO4MQFLXGYVS           5.0   \n17066  0595241034   NaN  A1ASFZRH6ZLCOE           4.0   \n17067  0595241034   NaN   AIY736C2LYMMB           3.0   \n...           ...   ...             ...           ...   \n17253  059528812X   NaN   A6SZZSMX7DQG1           5.0   \n17254  059528812X   NaN  A352HZ1YURWGVL           1.0   \n17255  059528812X   NaN  A2VPLBU4M5NUXV           5.0   \n17256  059528812X   NaN   AVDFWLRZRBTMI           5.0   \n17257  059528812X   NaN   APQYJLNR0V4IT           1.0   \n\n                                             review/text description  \\\n17063  In an era of other prolific writers such as Ja...         NaN   \n17064  You can't even really call this a translation;...         NaN   \n17065  Slavitt's translation of Virgil's Eclogues and...         NaN   \n17066  I can definitely relate to the story line in D...         NaN   \n17067  This new author has taken on a very sensitive ...         NaN   \n...                                                  ...         ...   \n17253  This is a great book about friendship, loyalty...         NaN   \n17254  I saw this title in my local library on the do...         NaN   \n17255  Justify The Means offers bone-deep emotional t...         NaN   \n17256  With keen prose and an extraordinary eye, Madi...         NaN   \n17257  This book is a total piece of trash written by...         NaN   \n\n                   authors categories  ratingsCount  \n17063  ['Maharshi Ramana']        NaN           1.0  \n17064  ['Maharshi Ramana']        NaN           1.0  \n17065  ['Maharshi Ramana']        NaN           1.0  \n17066  ['Maharshi Ramana']        NaN           1.0  \n17067  ['Maharshi Ramana']        NaN           1.0  \n...                    ...        ...           ...  \n17253  ['Maharshi Ramana']        NaN           1.0  \n17254  ['Maharshi Ramana']        NaN           1.0  \n17255  ['Maharshi Ramana']        NaN           1.0  \n17256  ['Maharshi Ramana']        NaN           1.0  \n17257  ['Maharshi Ramana']        NaN           1.0  \n\n[195 rows x 9 columns]",
      "text/html": "<div>\n<style scoped>\n    .dataframe tbody tr th:only-of-type {\n        vertical-align: middle;\n    }\n\n    .dataframe tbody tr th {\n        vertical-align: top;\n    }\n\n    .dataframe thead th {\n        text-align: right;\n    }\n</style>\n<table border=\"1\" class=\"dataframe\">\n  <thead>\n    <tr style=\"text-align: right;\">\n      <th></th>\n      <th>Id</th>\n      <th>Title</th>\n      <th>User_id</th>\n      <th>review/score</th>\n      <th>review/text</th>\n      <th>description</th>\n      <th>authors</th>\n      <th>categories</th>\n      <th>ratingsCount</th>\n    </tr>\n  </thead>\n  <tbody>\n    <tr>\n      <th>17063</th>\n      <td>B00005XZDV</td>\n      <td>NaN</td>\n      <td>AY44TQ8XGQ7RR</td>\n      <td>5.0</td>\n      <td>In an era of other prolific writers such as Ja...</td>\n      <td>NaN</td>\n      <td>['Maharshi Ramana']</td>\n      <td>NaN</td>\n      <td>1.0</td>\n    </tr>\n    <tr>\n      <th>17064</th>\n      <td>0801841119</td>\n      <td>NaN</td>\n      <td>A3F19JZZ07PDX0</td>\n      <td>1.0</td>\n      <td>You can't even really call this a translation;...</td>\n      <td>NaN</td>\n      <td>['Maharshi Ramana']</td>\n      <td>NaN</td>\n      <td>1.0</td>\n    </tr>\n    <tr>\n      <th>17065</th>\n      <td>0801841119</td>\n      <td>NaN</td>\n      <td>A1JO4MQFLXGYVS</td>\n      <td>5.0</td>\n      <td>Slavitt's translation of Virgil's Eclogues and...</td>\n      <td>NaN</td>\n      <td>['Maharshi Ramana']</td>\n      <td>NaN</td>\n      <td>1.0</td>\n    </tr>\n    <tr>\n      <th>17066</th>\n      <td>0595241034</td>\n      <td>NaN</td>\n      <td>A1ASFZRH6ZLCOE</td>\n      <td>4.0</td>\n      <td>I can definitely relate to the story line in D...</td>\n      <td>NaN</td>\n      <td>['Maharshi Ramana']</td>\n      <td>NaN</td>\n      <td>1.0</td>\n    </tr>\n    <tr>\n      <th>17067</th>\n      <td>0595241034</td>\n      <td>NaN</td>\n      <td>AIY736C2LYMMB</td>\n      <td>3.0</td>\n      <td>This new author has taken on a very sensitive ...</td>\n      <td>NaN</td>\n      <td>['Maharshi Ramana']</td>\n      <td>NaN</td>\n      <td>1.0</td>\n    </tr>\n    <tr>\n      <th>...</th>\n      <td>...</td>\n      <td>...</td>\n      <td>...</td>\n      <td>...</td>\n      <td>...</td>\n      <td>...</td>\n      <td>...</td>\n      <td>...</td>\n      <td>...</td>\n    </tr>\n    <tr>\n      <th>17253</th>\n      <td>059528812X</td>\n      <td>NaN</td>\n      <td>A6SZZSMX7DQG1</td>\n      <td>5.0</td>\n      <td>This is a great book about friendship, loyalty...</td>\n      <td>NaN</td>\n      <td>['Maharshi Ramana']</td>\n      <td>NaN</td>\n      <td>1.0</td>\n    </tr>\n    <tr>\n      <th>17254</th>\n      <td>059528812X</td>\n      <td>NaN</td>\n      <td>A352HZ1YURWGVL</td>\n      <td>1.0</td>\n      <td>I saw this title in my local library on the do...</td>\n      <td>NaN</td>\n      <td>['Maharshi Ramana']</td>\n      <td>NaN</td>\n      <td>1.0</td>\n    </tr>\n    <tr>\n      <th>17255</th>\n      <td>059528812X</td>\n      <td>NaN</td>\n      <td>A2VPLBU4M5NUXV</td>\n      <td>5.0</td>\n      <td>Justify The Means offers bone-deep emotional t...</td>\n      <td>NaN</td>\n      <td>['Maharshi Ramana']</td>\n      <td>NaN</td>\n      <td>1.0</td>\n    </tr>\n    <tr>\n      <th>17256</th>\n      <td>059528812X</td>\n      <td>NaN</td>\n      <td>AVDFWLRZRBTMI</td>\n      <td>5.0</td>\n      <td>With keen prose and an extraordinary eye, Madi...</td>\n      <td>NaN</td>\n      <td>['Maharshi Ramana']</td>\n      <td>NaN</td>\n      <td>1.0</td>\n    </tr>\n    <tr>\n      <th>17257</th>\n      <td>059528812X</td>\n      <td>NaN</td>\n      <td>APQYJLNR0V4IT</td>\n      <td>1.0</td>\n      <td>This book is a total piece of trash written by...</td>\n      <td>NaN</td>\n      <td>['Maharshi Ramana']</td>\n      <td>NaN</td>\n      <td>1.0</td>\n    </tr>\n  </tbody>\n</table>\n<p>195 rows × 9 columns</p>\n</div>"
     },
     "execution_count": 79,
     "metadata": {},
     "output_type": "execute_result"
    }
   ],
   "source": [
    "(merged_df[~merged_df[\"Title\"]\n",
    "    .apply(lambda x:isinstance(x, str))])"
   ],
   "metadata": {
    "collapsed": false,
    "pycharm": {
     "name": "#%%\n"
    }
   }
  },
  {
   "cell_type": "code",
   "execution_count": 82,
   "outputs": [],
   "source": [
    "# Drop NaN values and cast the title to lower case\n",
    "merged_df = merged_df.drop(merged_df[~merged_df[\"Title\"].apply(lambda x:isinstance(x, str))].index)\n",
    "merged_df[\"Title\"] = merged_df[\"Title\"].apply(lambda x:x.lower())"
   ],
   "metadata": {
    "collapsed": false,
    "pycharm": {
     "name": "#%%\n"
    }
   }
  },
  {
   "cell_type": "code",
   "execution_count": 92,
   "outputs": [
    {
     "name": "stdout",
     "output_type": "stream",
     "text": [
      "Unique reviews in the dataset considering Title and score per user: 2032945\n"
     ]
    }
   ],
   "source": [
    "print(f\"Unique reviews in the dataset considering Title and score per user: {merged_df[['Title', 'User_id', 'review/score']].drop_duplicates().shape[0]}\")\n",
    "print(f\"Unique reviews in the dataset considering only Title: {merged_df[['Title', 'User_id']].drop_duplicates().shape[0]}\")\n",
    "\n",
    "# We can see that approx. 2000 people have rated a book twice with and given it a different rating"
   ],
   "metadata": {
    "collapsed": false,
    "pycharm": {
     "name": "#%%\n"
    }
   }
  },
  {
   "cell_type": "code",
   "execution_count": 93,
   "outputs": [
    {
     "name": "stdout",
     "output_type": "stream",
     "text": [
      "Unique reviews in the dataset considering only Title: 2030641\n"
     ]
    }
   ],
   "source": [],
   "metadata": {
    "collapsed": false,
    "pycharm": {
     "name": "#%%\n"
    }
   }
  },
  {
   "cell_type": "markdown",
   "source": [
    "If we normalize the ratings by the average rating given from a user, we will essentially get rid of all the people that have only voted once"
   ],
   "metadata": {
    "collapsed": false,
    "pycharm": {
     "name": "#%% md\n"
    }
   }
  },
  {
   "cell_type": "code",
   "execution_count": null,
   "outputs": [],
   "source": [
    "#ratings_ = pd.merge(merged_df[\"review/score\"], avg_rating, how=\"outer\", left_index=True, right_index=True)\n",
    "#ratings_ = pd.merge(merged_df[\"review/score\"], avg_rating, how=\"inner\", left_index=True, right_index=True)"
   ],
   "metadata": {
    "collapsed": false,
    "pycharm": {
     "name": "#%%\n"
    }
   }
  },
  {
   "cell_type": "code",
   "execution_count": 189,
   "outputs": [],
   "source": [
    "avg_rtng = (ratings_.iloc[:,0]-ratings_.iloc[:,1]).values"
   ],
   "metadata": {
    "collapsed": false,
    "pycharm": {
     "name": "#%%\n"
    }
   }
  },
  {
   "cell_type": "code",
   "execution_count": 97,
   "outputs": [],
   "source": [
    "from sklearn.datasets import make_sparse_spd_matrix"
   ],
   "metadata": {
    "collapsed": false,
    "pycharm": {
     "name": "#%%\n"
    }
   }
  },
  {
   "cell_type": "code",
   "execution_count": 103,
   "outputs": [],
   "source": [
    "#https://towardsdatascience.com/working-with-sparse-data-sets-in-pandas-and-sklearn-d26c1cfbe067\n",
    "#ut_mat = pd.get_dummies(merged_df[['Title', 'User_id', 'review/score']], columns=[\"Title\", \"User_id\"], sparse=True)"
   ],
   "metadata": {
    "collapsed": false,
    "pycharm": {
     "name": "#%%\n"
    }
   }
  },
  {
   "cell_type": "code",
   "execution_count": null,
   "outputs": [],
   "source": [],
   "metadata": {
    "collapsed": false,
    "pycharm": {
     "name": "#%%\n"
    }
   }
  },
  {
   "cell_type": "code",
   "execution_count": 172,
   "outputs": [],
   "source": [
    "from sklearn.preprocessing import LabelEncoder\n",
    "\n",
    "le = LabelEncoder()\n",
    "merged_df[\"User_id\"] = le.fit_transform(merged_df[\"User_id\"])\n",
    "#merged_df[\"User_id\"] = merged_df[\"User_id\"].astype(\"category\")"
   ],
   "metadata": {
    "collapsed": false,
    "pycharm": {
     "name": "#%%\n"
    }
   }
  },
  {
   "cell_type": "code",
   "execution_count": 174,
   "outputs": [],
   "source": [
    "le2 = LabelEncoder()\n",
    "merged_df[\"Title\"] = le2.fit_transform(merged_df[\"Title\"])\n",
    "#merged_df[\"Title\"] = merged_df[\"Title\"].astype(\"category\")"
   ],
   "metadata": {
    "collapsed": false,
    "pycharm": {
     "name": "#%%\n"
    }
   }
  },
  {
   "cell_type": "code",
   "execution_count": 161,
   "outputs": [],
   "source": [],
   "metadata": {
    "collapsed": false,
    "pycharm": {
     "name": "#%%\n"
    }
   }
  },
  {
   "cell_type": "code",
   "execution_count": 203,
   "outputs": [],
   "source": [
    "sparse_matrix = sparse.csc_matrix((merged_df[\"review/score\"].values, (merged_df[\"User_id\"].values, merged_df[\"Title\"].values)), shape=(merged_df[\"User_id\"].nunique(), merged_df[\"Title\"].nunique()))"
   ],
   "metadata": {
    "collapsed": false,
    "pycharm": {
     "name": "#%%\n"
    }
   }
  },
  {
   "cell_type": "code",
   "execution_count": null,
   "outputs": [],
   "source": [
    "sparse_matrix = sparse.csc_matrix((avg_rtng, (merged_df[\"User_id\"].values, merged_df[\"Title\"].values)), shape=(merged_df[\"User_id\"].nunique(), merged_df[\"Title\"].nunique()))"
   ],
   "metadata": {
    "collapsed": false,
    "pycharm": {
     "name": "#%%\n"
    }
   }
  },
  {
   "cell_type": "code",
   "execution_count": 204,
   "outputs": [
    {
     "data": {
      "text/plain": "<1008951x202226 sparse matrix of type '<class 'numpy.float64'>'\n\twith 2030641 stored elements in Compressed Sparse Column format>"
     },
     "execution_count": 204,
     "metadata": {},
     "output_type": "execute_result"
    }
   ],
   "source": [
    "sparse_matrix"
   ],
   "metadata": {
    "collapsed": false,
    "pycharm": {
     "name": "#%%\n"
    }
   }
  },
  {
   "cell_type": "code",
   "execution_count": 205,
   "outputs": [
    {
     "name": "stdout",
     "output_type": "stream",
     "text": [
      "  (0, 16913)\t3.0\n",
      "  (0, 174257)\t20.0\n",
      "  (0, 174258)\t5.0\n"
     ]
    }
   ],
   "source": [
    "print(sparse_matrix[2])"
   ],
   "metadata": {
    "collapsed": false,
    "pycharm": {
     "name": "#%%\n"
    }
   }
  },
  {
   "cell_type": "code",
   "execution_count": 212,
   "outputs": [],
   "source": [
    "ratings_unique = merged_df[[\"Title\", \"User_id\", \"review/score\"]].groupby([\"Title\", \"User_id\"]).mean().reset_index()"
   ],
   "metadata": {
    "collapsed": false,
    "pycharm": {
     "name": "#%%\n"
    }
   }
  },
  {
   "cell_type": "code",
   "execution_count": 215,
   "outputs": [],
   "source": [
    "# Calculating the average rating of each user\n",
    "avg_rating = (ratings_unique[[\"User_id\", \"review/score\"]].\n",
    "groupby(\"User_id\").mean())"
   ],
   "metadata": {
    "collapsed": false,
    "pycharm": {
     "name": "#%%\n"
    }
   }
  },
  {
   "cell_type": "code",
   "execution_count": 234,
   "outputs": [],
   "source": [
    "ratings_ = pd.merge(ratings_unique[[\"review/score\", \"User_id\"]], avg_rating, how=\"outer\", left_on=\"User_id\", right_index=True)"
   ],
   "metadata": {
    "collapsed": false,
    "pycharm": {
     "name": "#%%\n"
    }
   }
  },
  {
   "cell_type": "code",
   "execution_count": 238,
   "outputs": [],
   "source": [
    "avg_rtng = (ratings_.iloc[:,0]-ratings_.iloc[:,2]).values"
   ],
   "metadata": {
    "collapsed": false,
    "pycharm": {
     "name": "#%%\n"
    }
   }
  },
  {
   "cell_type": "code",
   "execution_count": 244,
   "outputs": [
    {
     "data": {
      "text/plain": "(2030641,)"
     },
     "execution_count": 244,
     "metadata": {},
     "output_type": "execute_result"
    }
   ],
   "source": [
    "avg_rtng.shape"
   ],
   "metadata": {
    "collapsed": false,
    "pycharm": {
     "name": "#%%\n"
    }
   }
  },
  {
   "cell_type": "code",
   "execution_count": 246,
   "outputs": [],
   "source": [
    "sparse_matrix = sparse.csc_matrix((avg_rtng, (ratings_unique[\"User_id\"].values, ratings_unique[\"Title\"].values)), shape=(ratings_unique[\"User_id\"].nunique(), ratings_unique[\"Title\"].nunique()))"
   ],
   "metadata": {
    "collapsed": false,
    "pycharm": {
     "name": "#%%\n"
    }
   }
  },
  {
   "cell_type": "code",
   "execution_count": 255,
   "outputs": [
    {
     "name": "stdout",
     "output_type": "stream",
     "text": [
      "  (0, 16913)\t1.2857142857142856\n",
      "  (0, 174257)\t0.0\n",
      "  (0, 174258)\t0.0\n"
     ]
    }
   ],
   "source": [
    "print(sparse_matrix[2])"
   ],
   "metadata": {
    "collapsed": false,
    "pycharm": {
     "name": "#%%\n"
    }
   }
  },
  {
   "cell_type": "code",
   "execution_count": 254,
   "outputs": [
    {
     "data": {
      "text/plain": "<1008951x202226 sparse matrix of type '<class 'numpy.float64'>'\n\twith 2030641 stored elements in Compressed Sparse Column format>"
     },
     "execution_count": 254,
     "metadata": {},
     "output_type": "execute_result"
    }
   ],
   "source": [
    "sparse_matrix"
   ],
   "metadata": {
    "collapsed": false,
    "pycharm": {
     "name": "#%%\n"
    }
   }
  },
  {
   "cell_type": "code",
   "execution_count": 277,
   "outputs": [
    {
     "data": {
      "text/plain": "0.0"
     },
     "execution_count": 277,
     "metadata": {},
     "output_type": "execute_result"
    }
   ],
   "source": [
    "1-distance.cosine(sparse_matrix[5].todense(), sparse_matrix[2].todense())"
   ],
   "metadata": {
    "collapsed": false,
    "pycharm": {
     "name": "#%%\n"
    }
   }
  },
  {
   "cell_type": "code",
   "execution_count": 282,
   "outputs": [
    {
     "name": "stdout",
     "output_type": "stream",
     "text": [
      "  (49368, 0)\t0.0\n",
      "  (723042, 0)\t0.0\n"
     ]
    }
   ],
   "source": [
    "print(sparse_matrix[:,0])"
   ],
   "metadata": {
    "collapsed": false,
    "pycharm": {
     "name": "#%%\n"
    }
   }
  },
  {
   "cell_type": "code",
   "execution_count": 281,
   "outputs": [
    {
     "data": {
      "text/plain": "<1x202226 sparse matrix of type '<class 'numpy.float64'>'\n\twith 1 stored elements in Compressed Sparse Column format>"
     },
     "execution_count": 281,
     "metadata": {},
     "output_type": "execute_result"
    }
   ],
   "source": [
    "sparse_matrix[0]"
   ],
   "metadata": {
    "collapsed": false,
    "pycharm": {
     "name": "#%%\n"
    }
   }
  },
  {
   "cell_type": "code",
   "execution_count": 283,
   "outputs": [],
   "source": [
    "import copy"
   ],
   "metadata": {
    "collapsed": false,
    "pycharm": {
     "name": "#%%\n"
    }
   }
  },
  {
   "cell_type": "code",
   "execution_count": 284,
   "outputs": [],
   "source": [
    "sm_c = copy.deepcopy(sparse_matrix)"
   ],
   "metadata": {
    "collapsed": false,
    "pycharm": {
     "name": "#%%\n"
    }
   }
  },
  {
   "cell_type": "code",
   "execution_count": 286,
   "outputs": [],
   "source": [
    "sm_c.eliminate_zeros()"
   ],
   "metadata": {
    "collapsed": false,
    "pycharm": {
     "name": "#%%\n"
    }
   }
  },
  {
   "cell_type": "code",
   "execution_count": 288,
   "outputs": [
    {
     "data": {
      "text/plain": "<1008951x202226 sparse matrix of type '<class 'numpy.float64'>'\n\twith 818395 stored elements in Compressed Sparse Column format>"
     },
     "execution_count": 288,
     "metadata": {},
     "output_type": "execute_result"
    }
   ],
   "source": [
    "sm_c"
   ],
   "metadata": {
    "collapsed": false,
    "pycharm": {
     "name": "#%%\n"
    }
   }
  },
  {
   "cell_type": "code",
   "execution_count": 292,
   "outputs": [],
   "source": [
    "from sklearn.cluster import DBSCAN"
   ],
   "metadata": {
    "collapsed": false,
    "pycharm": {
     "name": "#%%\n"
    }
   }
  },
  {
   "cell_type": "code",
   "execution_count": 304,
   "outputs": [],
   "source": [
    "# Don't run this, it runs forever\n",
    "#dbscan = DBSCAN(eps = 0.001, metric=\"cosine\")\n",
    "#dbscan.fit(sm_c)"
   ],
   "metadata": {
    "collapsed": false,
    "pycharm": {
     "name": "#%%\n"
    }
   }
  },
  {
   "cell_type": "markdown",
   "source": [
    "Unfortunately the distance metrics in scipy can't work with sparse matrices, so we need to find an alternative\n",
    "https://docs.scipy.org/doc/scipy/reference/cluster.hierarchy.html#module-scipy.cluster.hierarchy"
   ],
   "metadata": {
    "collapsed": false,
    "pycharm": {
     "name": "#%% md\n"
    }
   }
  },
  {
   "cell_type": "code",
   "execution_count": 306,
   "outputs": [],
   "source": [
    "from sklearn.cluster import KMeans"
   ],
   "metadata": {
    "collapsed": false,
    "pycharm": {
     "name": "#%%\n"
    }
   }
  },
  {
   "cell_type": "code",
   "execution_count": 307,
   "outputs": [],
   "source": [
    "km = KMeans()"
   ],
   "metadata": {
    "collapsed": false,
    "pycharm": {
     "name": "#%%\n"
    }
   }
  },
  {
   "cell_type": "code",
   "execution_count": null,
   "outputs": [],
   "source": [
    "km.fit(sm_c)"
   ],
   "metadata": {
    "collapsed": false,
    "pycharm": {
     "name": "#%%\n"
    }
   }
  },
  {
   "cell_type": "code",
   "execution_count": null,
   "outputs": [],
   "source": [],
   "metadata": {
    "collapsed": false,
    "pycharm": {
     "name": "#%%\n"
    }
   }
  }
 ],
 "nbformat": 4,
 "nbformat_minor": 0,
 "metadata": {
  "deepnote": {
   "is_reactive": false
  },
  "orig_nbformat": 2,
  "deepnote_notebook_id": "09ac567bbc314a9c8a9cd448fd06574d",
  "deepnote_execution_queue": []
 }
}